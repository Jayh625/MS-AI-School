{
 "cells": [
  {
   "cell_type": "code",
   "execution_count": 1,
   "id": "41c3879f",
   "metadata": {},
   "outputs": [],
   "source": [
    "import torch\n",
    "import torch.nn as nn\n",
    "import torch.optim as optim\n",
    "import torchvision.datasets as dataset\n",
    "import torchvision.transforms as transforms\n",
    "import matplotlib.pyplot as plt"
   ]
  },
  {
   "attachments": {},
   "cell_type": "markdown",
   "id": "5a15b073",
   "metadata": {},
   "source": [
    "### 데이터셋 다운로드 하고 Dataloader 생성하기"
   ]
  },
  {
   "cell_type": "code",
   "execution_count": 2,
   "id": "3b7e40fa",
   "metadata": {},
   "outputs": [
    {
     "name": "stdout",
     "output_type": "stream",
     "text": [
      "Downloading http://fashion-mnist.s3-website.eu-central-1.amazonaws.com/train-images-idx3-ubyte.gz\n",
      "Downloading http://fashion-mnist.s3-website.eu-central-1.amazonaws.com/train-images-idx3-ubyte.gz to ./data\\FashionMNIST\\raw\\train-images-idx3-ubyte.gz\n"
     ]
    },
    {
     "name": "stderr",
     "output_type": "stream",
     "text": [
      "100.0%\n"
     ]
    },
    {
     "name": "stdout",
     "output_type": "stream",
     "text": [
      "Extracting ./data\\FashionMNIST\\raw\\train-images-idx3-ubyte.gz to ./data\\FashionMNIST\\raw\n",
      "\n",
      "Downloading http://fashion-mnist.s3-website.eu-central-1.amazonaws.com/train-labels-idx1-ubyte.gz\n",
      "Downloading http://fashion-mnist.s3-website.eu-central-1.amazonaws.com/train-labels-idx1-ubyte.gz to ./data\\FashionMNIST\\raw\\train-labels-idx1-ubyte.gz\n"
     ]
    },
    {
     "name": "stderr",
     "output_type": "stream",
     "text": [
      "100.6%\n"
     ]
    },
    {
     "name": "stdout",
     "output_type": "stream",
     "text": [
      "Extracting ./data\\FashionMNIST\\raw\\train-labels-idx1-ubyte.gz to ./data\\FashionMNIST\\raw\n",
      "\n",
      "Downloading http://fashion-mnist.s3-website.eu-central-1.amazonaws.com/t10k-images-idx3-ubyte.gz\n",
      "Downloading http://fashion-mnist.s3-website.eu-central-1.amazonaws.com/t10k-images-idx3-ubyte.gz to ./data\\FashionMNIST\\raw\\t10k-images-idx3-ubyte.gz\n"
     ]
    },
    {
     "name": "stderr",
     "output_type": "stream",
     "text": [
      "100.0%\n"
     ]
    },
    {
     "name": "stdout",
     "output_type": "stream",
     "text": [
      "Extracting ./data\\FashionMNIST\\raw\\t10k-images-idx3-ubyte.gz to ./data\\FashionMNIST\\raw\n",
      "\n",
      "Downloading http://fashion-mnist.s3-website.eu-central-1.amazonaws.com/t10k-labels-idx1-ubyte.gz\n",
      "Downloading http://fashion-mnist.s3-website.eu-central-1.amazonaws.com/t10k-labels-idx1-ubyte.gz to ./data\\FashionMNIST\\raw\\t10k-labels-idx1-ubyte.gz\n"
     ]
    },
    {
     "name": "stderr",
     "output_type": "stream",
     "text": [
      "119.3%"
     ]
    },
    {
     "name": "stdout",
     "output_type": "stream",
     "text": [
      "Extracting ./data\\FashionMNIST\\raw\\t10k-labels-idx1-ubyte.gz to ./data\\FashionMNIST\\raw\n",
      "\n"
     ]
    },
    {
     "name": "stderr",
     "output_type": "stream",
     "text": [
      "\n"
     ]
    }
   ],
   "source": [
    "# 데이터셋 다운로드 및 Dataloader 생성 \n",
    "train_dataset = dataset.FashionMNIST(root=\"./data\", train=True, transform=transforms.ToTensor(),download=True)\n",
    "test_dataset = dataset.FashionMNIST(root=\"./data\", train=False, transform=transforms.ToTensor(),download=True)\n",
    "\n",
    "# train Loader test Loader 설정 \n",
    "train_loader = torch.utils.data.DataLoader(dataset=train_dataset, batch_size = 100, shuffle=True)\n",
    "test_loader = torch.utils.data.DataLoader(dataset=test_dataset, batch_size = 1, shuffle=False)"
   ]
  },
  {
   "attachments": {},
   "cell_type": "markdown",
   "id": "6d299c13",
   "metadata": {},
   "source": [
    "### 모델 정의"
   ]
  },
  {
   "cell_type": "code",
   "execution_count": 3,
   "id": "fb7dc0c5",
   "metadata": {},
   "outputs": [],
   "source": [
    "class LogisticRegression(nn.Module) : \n",
    "    def __init__(self, input_size, num_classes) : \n",
    "        super(LogisticRegression, self).__init__() \n",
    "        self.linear = nn.Linear(input_size, num_classes)\n",
    "    \n",
    "    def forward(self, x) : \n",
    "        out = self.linear(x)\n",
    "        return out"
   ]
  },
  {
   "attachments": {},
   "cell_type": "markdown",
   "id": "7f5729ad",
   "metadata": {},
   "source": [
    "### 하이퍼 파라미터 설정 "
   ]
  },
  {
   "cell_type": "code",
   "execution_count": 4,
   "id": "2052fd9c",
   "metadata": {},
   "outputs": [],
   "source": [
    "input_size = 28 * 28\n",
    "num_classes = 10\n",
    "num_epochs = 10\n",
    "lr = 0.001\n",
    "\n",
    "total_step = len(train_loader)"
   ]
  },
  {
   "attachments": {},
   "cell_type": "markdown",
   "id": "4ff23d01",
   "metadata": {},
   "source": [
    "### 모델, Loss, 옵티마이저 정의"
   ]
  },
  {
   "cell_type": "code",
   "execution_count": 5,
   "id": "43dd7525",
   "metadata": {},
   "outputs": [
    {
     "name": "stdout",
     "output_type": "stream",
     "text": [
      "Using Device >> cpu\n"
     ]
    },
    {
     "data": {
      "text/plain": [
       "LogisticRegression(\n",
       "  (linear): Linear(in_features=784, out_features=10, bias=True)\n",
       ")"
      ]
     },
     "execution_count": 5,
     "metadata": {},
     "output_type": "execute_result"
    }
   ],
   "source": [
    "model = LogisticRegression(input_size=input_size, num_classes=num_classes)\n",
    "criterion = nn.CrossEntropyLoss()\n",
    "optimizer = optim.SGD(model.parameters(), lr=lr, momentum=0.9)\n",
    "\n",
    "device = torch.device('cuda' if torch.cuda.is_available() else 'cpu')\n",
    "print(\"Using Device >>\" , device)\n",
    "\n",
    "model.to(device)"
   ]
  },
  {
   "attachments": {},
   "cell_type": "markdown",
   "id": "23ead5f6",
   "metadata": {},
   "source": [
    "### train loop"
   ]
  },
  {
   "cell_type": "code",
   "execution_count": 6,
   "id": "dd7e06cf",
   "metadata": {},
   "outputs": [
    {
     "name": "stdout",
     "output_type": "stream",
     "text": [
      "Epoch [1/10], Step [100/600], Loss : 1.2962, Train ACC : 0.7100\n",
      "Epoch [1/10], Step [200/600], Loss : 0.9563, Train ACC : 0.7250\n",
      "Epoch [1/10], Step [300/600], Loss : 0.8812, Train ACC : 0.7200\n",
      "Epoch [1/10], Step [400/600], Loss : 0.9387, Train ACC : 0.7100\n",
      "Epoch [1/10], Step [500/600], Loss : 0.9039, Train ACC : 0.7000\n",
      "Epoch [1/10], Step [600/600], Loss : 0.6919, Train ACC : 0.7233\n",
      "Epoch [2/10], Step [100/600], Loss : 0.8423, Train ACC : 0.7200\n",
      "Epoch [2/10], Step [200/600], Loss : 0.7618, Train ACC : 0.7400\n",
      "Epoch [2/10], Step [300/600], Loss : 0.7389, Train ACC : 0.7533\n",
      "Epoch [2/10], Step [400/600], Loss : 0.8149, Train ACC : 0.7450\n",
      "Epoch [2/10], Step [500/600], Loss : 0.7313, Train ACC : 0.7600\n",
      "Epoch [2/10], Step [600/600], Loss : 0.5971, Train ACC : 0.7717\n",
      "Epoch [3/10], Step [100/600], Loss : 0.6831, Train ACC : 0.7400\n",
      "Epoch [3/10], Step [200/600], Loss : 0.6440, Train ACC : 0.7550\n",
      "Epoch [3/10], Step [300/600], Loss : 0.6648, Train ACC : 0.7700\n",
      "Epoch [3/10], Step [400/600], Loss : 0.5209, Train ACC : 0.7850\n",
      "Epoch [3/10], Step [500/600], Loss : 0.7117, Train ACC : 0.7800\n",
      "Epoch [3/10], Step [600/600], Loss : 0.5554, Train ACC : 0.7917\n",
      "Epoch [4/10], Step [100/600], Loss : 0.5046, Train ACC : 0.8100\n",
      "Epoch [4/10], Step [200/600], Loss : 0.5919, Train ACC : 0.8050\n",
      "Epoch [4/10], Step [300/600], Loss : 0.5980, Train ACC : 0.7967\n",
      "Epoch [4/10], Step [400/600], Loss : 0.6784, Train ACC : 0.7850\n",
      "Epoch [4/10], Step [500/600], Loss : 0.5966, Train ACC : 0.7940\n",
      "Epoch [4/10], Step [600/600], Loss : 0.5341, Train ACC : 0.8033\n",
      "Epoch [5/10], Step [100/600], Loss : 0.5807, Train ACC : 0.8300\n",
      "Epoch [5/10], Step [200/600], Loss : 0.6516, Train ACC : 0.8150\n",
      "Epoch [5/10], Step [300/600], Loss : 0.5537, Train ACC : 0.8167\n",
      "Epoch [5/10], Step [400/600], Loss : 0.4468, Train ACC : 0.8300\n",
      "Epoch [5/10], Step [500/600], Loss : 0.5331, Train ACC : 0.8300\n",
      "Epoch [5/10], Step [600/600], Loss : 0.5155, Train ACC : 0.8317\n",
      "Epoch [6/10], Step [100/600], Loss : 0.5203, Train ACC : 0.8800\n",
      "Epoch [6/10], Step [200/600], Loss : 0.4886, Train ACC : 0.8750\n",
      "Epoch [6/10], Step [300/600], Loss : 0.5018, Train ACC : 0.8633\n",
      "Epoch [6/10], Step [400/600], Loss : 0.7079, Train ACC : 0.8350\n",
      "Epoch [6/10], Step [500/600], Loss : 0.4906, Train ACC : 0.8300\n",
      "Epoch [6/10], Step [600/600], Loss : 0.5638, Train ACC : 0.8217\n",
      "Epoch [7/10], Step [100/600], Loss : 0.6412, Train ACC : 0.8100\n",
      "Epoch [7/10], Step [200/600], Loss : 0.6729, Train ACC : 0.8450\n",
      "Epoch [7/10], Step [300/600], Loss : 0.5555, Train ACC : 0.8333\n",
      "Epoch [7/10], Step [400/600], Loss : 0.5125, Train ACC : 0.8325\n",
      "Epoch [7/10], Step [500/600], Loss : 0.5431, Train ACC : 0.8320\n",
      "Epoch [7/10], Step [600/600], Loss : 0.5577, Train ACC : 0.8283\n",
      "Epoch [8/10], Step [100/600], Loss : 0.4652, Train ACC : 0.8800\n",
      "Epoch [8/10], Step [200/600], Loss : 0.7484, Train ACC : 0.7900\n",
      "Epoch [8/10], Step [300/600], Loss : 0.4912, Train ACC : 0.8100\n",
      "Epoch [8/10], Step [400/600], Loss : 0.5956, Train ACC : 0.8050\n",
      "Epoch [8/10], Step [500/600], Loss : 0.5134, Train ACC : 0.8060\n",
      "Epoch [8/10], Step [600/600], Loss : 0.7455, Train ACC : 0.8017\n",
      "Epoch [9/10], Step [100/600], Loss : 0.4604, Train ACC : 0.8400\n",
      "Epoch [9/10], Step [200/600], Loss : 0.5086, Train ACC : 0.8350\n",
      "Epoch [9/10], Step [300/600], Loss : 0.6052, Train ACC : 0.8167\n",
      "Epoch [9/10], Step [400/600], Loss : 0.5389, Train ACC : 0.8250\n",
      "Epoch [9/10], Step [500/600], Loss : 0.5680, Train ACC : 0.8260\n",
      "Epoch [9/10], Step [600/600], Loss : 0.4537, Train ACC : 0.8267\n",
      "Epoch [10/10], Step [100/600], Loss : 0.6033, Train ACC : 0.7900\n",
      "Epoch [10/10], Step [200/600], Loss : 0.5897, Train ACC : 0.7900\n",
      "Epoch [10/10], Step [300/600], Loss : 0.4557, Train ACC : 0.8067\n",
      "Epoch [10/10], Step [400/600], Loss : 0.5529, Train ACC : 0.8050\n",
      "Epoch [10/10], Step [500/600], Loss : 0.5424, Train ACC : 0.8180\n",
      "Epoch [10/10], Step [600/600], Loss : 0.6569, Train ACC : 0.8200\n"
     ]
    },
    {
     "data": {
      "image/png": "[encoded data removed]",
      "text/plain": [
       "<Figure size 640x480 with 1 Axes>"
      ]
     },
     "metadata": {},
     "output_type": "display_data"
    }
   ],
   "source": [
    "loss_list = []\n",
    "acc_list = []\n",
    "\n",
    "for epoch in range(num_epochs) :\n",
    "    correct = 0\n",
    "    total = 0 \n",
    "    for i, (images, labels) in enumerate(train_loader) : \n",
    "        images = images.reshape(-1, input_size).to(device)\n",
    "        labels = labels.to(device)\n",
    "        optimizer.zero_grad()\n",
    "        ouptuts = model(images)\n",
    "        loss = criterion(ouptuts, labels)\n",
    "        loss.backward()\n",
    "        optimizer.step()\n",
    "\n",
    "        if (i+1) % 100 == 0 :\n",
    "            loss_list.append(loss.item())\n",
    "            _, predicted = torch.max(ouptuts.data, 1)\n",
    "            total += labels.size(0)\n",
    "            correct += (predicted == labels).sum().item()\n",
    "            acc_list.append(correct / total)\n",
    "            \n",
    "            print(\"Epoch [{}/{}], Step [{}/{}], Loss : {:.4f}, Train ACC : {:.4f}\".format(\n",
    "                epoch+1, num_epochs, i+1, total_step, loss.item(), acc_list[-1]))"
   ]
  },
  {
   "cell_type": "code",
   "execution_count": null,
   "id": "b3b10668",
   "metadata": {},
   "outputs": [],
   "source": [
    "plt.plot(loss_list, label=\"Train loss\")\n",
    "plt.plot(acc_list, label=\"Train acc\")\n",
    "plt.xlabel('Iterations')\n",
    "plt.ylabel('Loss / Accuracy')\n",
    "plt.legend()\n",
    "plt.show()"
   ]
  }
 ],
 "metadata": {
  "kernelspec": {
   "display_name": "Pytorch",
   "language": "python",
   "name": "python3"
  },
  "language_info": {
   "codemirror_mode": {
    "name": "ipython",
    "version": 3
   },
   "file_extension": ".py",
   "mimetype": "text/x-python",
   "name": "python",
   "nbconvert_exporter": "python",
   "pygments_lexer": "ipython3",
   "version": "3.8.16"
  }
 },
 "nbformat": 4,
 "nbformat_minor": 5
}
