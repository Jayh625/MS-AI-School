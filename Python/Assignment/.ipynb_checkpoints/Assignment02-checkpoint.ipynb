{
 "cells": [
  {
   "cell_type": "markdown",
   "id": "2a5eae29",
   "metadata": {},
   "source": [
    "# 비모수검정과제\n",
    "\n",
    "- 간단하게 그룹1,그룹2 랜덤하게 100개씩 데이터를 만들어서 Wilcoxon signed-rank test 실시하고 결과를 해석하고 보고서 제출 \n",
    "- 보고서: 데이터 생성 사진,결과 사진,해석 \n",
    "- 제출 양식: 한글, 워드 작성 후 PDF로 변환하여 제출 \n",
    "- 참고: Wilcoxon signed-rank test는 정규분포를 따르지않는 데이터에 대해 두 집단의 차이가 있는지 검정하는 비모수 검정 방법중 하나입니다. 예를 들어, 한 집단의 대응되는 다른 집단과의 차이를 검정하거나, 두 집단의 독립적인 샘플들간의 차이를 검정하는 경우에 사용할 수 있습니다."
   ]
  },
  {
   "cell_type": "code",
   "execution_count": 1,
   "id": "a788b3d1",
   "metadata": {},
   "outputs": [],
   "source": [
    "import pandas as dp\n",
    "import numpy as np \n",
    "import scipy.stats as stats\n",
    "np.random.seed(42)"
   ]
  },
  {
   "cell_type": "code",
   "execution_count": 2,
   "id": "3e5a4465",
   "metadata": {},
   "outputs": [
    {
     "data": {
      "text/plain": [
       "WilcoxonResult(statistic=2268.5, pvalue=0.4710266669440364)"
      ]
     },
     "execution_count": 2,
     "metadata": {},
     "output_type": "execute_result"
    }
   ],
   "source": [
    "group1 = np.random.randint(1,100, size=100)\n",
    "group2 = np.random.randint(1,100, size=100)\n",
    "stats.wilcoxon(group1, group2)"
   ]
  },
  {
   "cell_type": "code",
   "execution_count": 3,
   "id": "835d57f9",
   "metadata": {},
   "outputs": [
    {
     "name": "stdout",
     "output_type": "stream",
     "text": [
      "Statistic : 2268.5\n",
      "p-value : 0.4710266669440364\n",
      "Same distribution\n"
     ]
    }
   ],
   "source": [
    "stat, p = stats.wilcoxon(group1, group2)\n",
    "print('Statistic :', stat)\n",
    "print('p-value :', p)\n",
    "alpha = 0.05\n",
    "if p > alpha : \n",
    "    print(\"Same distribution\")\n",
    "else : \n",
    "    print(\"Different distribution\")"
   ]
  },
  {
   "cell_type": "markdown",
   "id": "b7efdd96",
   "metadata": {},
   "source": [
    "유의 확률(p-value)이 0.47이 나온것으로 보아 유의 확률로 설정한 0.05보다 크다. \n",
    "그러므로 귀무가설을 기각하지 않는다\n",
    "효과의 존재에 대한 충분한 증거가 제공되지 않았으므로 두 집단간에는 유의한 차이가 없다"
   ]
  }
 ],
 "metadata": {
  "kernelspec": {
   "display_name": "AI",
   "language": "python",
   "name": "ai"
  },
  "language_info": {
   "codemirror_mode": {
    "name": "ipython",
    "version": 3
   },
   "file_extension": ".py",
   "mimetype": "text/x-python",
   "name": "python",
   "nbconvert_exporter": "python",
   "pygments_lexer": "ipython3",
   "version": "3.8.16"
  }
 },
 "nbformat": 4,
 "nbformat_minor": 5
}
