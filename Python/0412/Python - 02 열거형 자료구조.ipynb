{
  "nbformat": 4,
  "nbformat_minor": 0,
  "metadata": {
    "colab": {
      "provenance": []
    },
    "kernelspec": {
      "name": "python3",
      "display_name": "Python 3"
    },
    "language_info": {
      "name": "python"
    }
  },
  "cells": [
    {
      "cell_type": "markdown",
      "source": [
        "# Python - 02 열거형 자료구조\n"
      ],
      "metadata": {
        "id": "Kgoy08NdvOBm"
      }
    },
    {
      "cell_type": "code",
      "execution_count": 1,
      "metadata": {
        "colab": {
          "base_uri": "https://localhost:8080/"
        },
        "id": "2sT2Ugf7vIZ5",
        "outputId": "941f02be-c6aa-4359-d5ac-c9aee934c078"
      },
      "outputs": [
        {
          "output_type": "stream",
          "name": "stdout",
          "text": [
            "['red', 'green', 'gold']\n",
            "<class 'list'>\n"
          ]
        }
      ],
      "source": [
        "# List \n",
        "colors = ['red', 'green', 'gold']\n",
        "print(colors)\n",
        "print(type(colors))"
      ]
    },
    {
      "cell_type": "code",
      "source": [
        "colors.append('blue')\n",
        "colors"
      ],
      "metadata": {
        "colab": {
          "base_uri": "https://localhost:8080/"
        },
        "id": "OjnEfeu5wQR0",
        "outputId": "b0a78fa6-0ced-4266-ef6a-1368ac3aa19c"
      },
      "execution_count": 2,
      "outputs": [
        {
          "output_type": "execute_result",
          "data": {
            "text/plain": [
              "['red', 'green', 'gold', 'blue']"
            ]
          },
          "metadata": {},
          "execution_count": 2
        }
      ]
    },
    {
      "cell_type": "code",
      "source": [
        "colors.insert(1, 'black')\n",
        "colors"
      ],
      "metadata": {
        "id": "xcL92Cl2wjT0",
        "colab": {
          "base_uri": "https://localhost:8080/"
        },
        "outputId": "b81bb998-1894-43cd-9fb2-c27ce725fcad"
      },
      "execution_count": 3,
      "outputs": [
        {
          "output_type": "execute_result",
          "data": {
            "text/plain": [
              "['red', 'black', 'green', 'gold', 'blue']"
            ]
          },
          "metadata": {},
          "execution_count": 3
        }
      ]
    },
    {
      "cell_type": "code",
      "source": [
        "colors.extend(['white','gray'])\n",
        "colors"
      ],
      "metadata": {
        "colab": {
          "base_uri": "https://localhost:8080/"
        },
        "id": "GWHE8-MNxO3j",
        "outputId": "4c58e9fe-0399-4845-bc8b-0393985e009d"
      },
      "execution_count": 4,
      "outputs": [
        {
          "output_type": "execute_result",
          "data": {
            "text/plain": [
              "['red', 'black', 'green', 'gold', 'blue', 'white', 'gray']"
            ]
          },
          "metadata": {},
          "execution_count": 4
        }
      ]
    },
    {
      "cell_type": "code",
      "source": [
        "colors += ['red']\n",
        "print(colors)"
      ],
      "metadata": {
        "colab": {
          "base_uri": "https://localhost:8080/"
        },
        "id": "s4NUtNLhxUy1",
        "outputId": "ab2b4c3f-c5c2-4164-dfad-7c1030943998"
      },
      "execution_count": 5,
      "outputs": [
        {
          "output_type": "stream",
          "name": "stdout",
          "text": [
            "['red', 'black', 'green', 'gold', 'blue', 'white', 'gray', 'red']\n"
          ]
        }
      ]
    },
    {
      "cell_type": "code",
      "source": [
        "colors += 'red'\n",
        "print(colors)"
      ],
      "metadata": {
        "colab": {
          "base_uri": "https://localhost:8080/"
        },
        "id": "BJCvALfoy3e_",
        "outputId": "7b6080f9-79e3-4c11-c928-8caa2fb0a262"
      },
      "execution_count": 6,
      "outputs": [
        {
          "output_type": "stream",
          "name": "stdout",
          "text": [
            "['red', 'black', 'green', 'gold', 'blue', 'white', 'gray', 'red', 'r', 'e', 'd']\n"
          ]
        }
      ]
    },
    {
      "cell_type": "code",
      "source": [
        "print(colors.index('red'))\n",
        "print(colors.index('red',1))\n",
        "print(colors.count('red'))"
      ],
      "metadata": {
        "colab": {
          "base_uri": "https://localhost:8080/"
        },
        "id": "ScZPIA2_yrIv",
        "outputId": "f5124d0b-51fa-49f4-bb21-5caa536ed209"
      },
      "execution_count": 7,
      "outputs": [
        {
          "output_type": "stream",
          "name": "stdout",
          "text": [
            "0\n",
            "7\n",
            "2\n"
          ]
        }
      ]
    },
    {
      "cell_type": "code",
      "source": [
        "colors.pop()"
      ],
      "metadata": {
        "colab": {
          "base_uri": "https://localhost:8080/",
          "height": 35
        },
        "id": "-pCxn_Skyt8g",
        "outputId": "91d7aacc-221d-499f-b233-fd9ba94a9ba5"
      },
      "execution_count": 8,
      "outputs": [
        {
          "output_type": "execute_result",
          "data": {
            "text/plain": [
              "'d'"
            ],
            "application/vnd.google.colaboratory.intrinsic+json": {
              "type": "string"
            }
          },
          "metadata": {},
          "execution_count": 8
        }
      ]
    },
    {
      "cell_type": "code",
      "source": [
        "colors.pop()"
      ],
      "metadata": {
        "colab": {
          "base_uri": "https://localhost:8080/",
          "height": 35
        },
        "id": "txiL9Tn864zM",
        "outputId": "05f6f67d-bc3c-46f7-d139-8b268dca4891"
      },
      "execution_count": 9,
      "outputs": [
        {
          "output_type": "execute_result",
          "data": {
            "text/plain": [
              "'e'"
            ],
            "application/vnd.google.colaboratory.intrinsic+json": {
              "type": "string"
            }
          },
          "metadata": {},
          "execution_count": 9
        }
      ]
    },
    {
      "cell_type": "code",
      "source": [
        "colors.pop(1)"
      ],
      "metadata": {
        "colab": {
          "base_uri": "https://localhost:8080/",
          "height": 35
        },
        "id": "5Ed3JK3x67Ma",
        "outputId": "260d3e7d-3f05-4fa8-dbb6-676ea8ca1752"
      },
      "execution_count": 10,
      "outputs": [
        {
          "output_type": "execute_result",
          "data": {
            "text/plain": [
              "'black'"
            ],
            "application/vnd.google.colaboratory.intrinsic+json": {
              "type": "string"
            }
          },
          "metadata": {},
          "execution_count": 10
        }
      ]
    },
    {
      "cell_type": "code",
      "source": [
        "print(colors)"
      ],
      "metadata": {
        "colab": {
          "base_uri": "https://localhost:8080/"
        },
        "id": "VgF1EvW1681K",
        "outputId": "03dff2dc-a16e-45a8-bb46-45f5a88c66da"
      },
      "execution_count": 11,
      "outputs": [
        {
          "output_type": "stream",
          "name": "stdout",
          "text": [
            "['red', 'green', 'gold', 'blue', 'white', 'gray', 'red', 'r']\n"
          ]
        }
      ]
    },
    {
      "cell_type": "code",
      "source": [
        "# remove는 해당 값을 삭제할 수 있습니다.\n",
        "colors.remove('gold')\n",
        "print(colors)"
      ],
      "metadata": {
        "colab": {
          "base_uri": "https://localhost:8080/"
        },
        "id": "RwA-2x7T6-Gr",
        "outputId": "1acf4c1f-b24b-4761-96f5-b1e8a355703d"
      },
      "execution_count": 12,
      "outputs": [
        {
          "output_type": "stream",
          "name": "stdout",
          "text": [
            "['red', 'green', 'blue', 'white', 'gray', 'red', 'r']\n"
          ]
        }
      ]
    },
    {
      "cell_type": "code",
      "source": [
        "colors.sort()\n",
        "print(colors)\n",
        "colors.reverse()\n",
        "print(colors)"
      ],
      "metadata": {
        "colab": {
          "base_uri": "https://localhost:8080/"
        },
        "id": "MQ_4arg37ZWU",
        "outputId": "0b7f12bb-e70f-4917-ed7c-36c630068f26"
      },
      "execution_count": 13,
      "outputs": [
        {
          "output_type": "stream",
          "name": "stdout",
          "text": [
            "['blue', 'gray', 'green', 'r', 'red', 'red', 'white']\n",
            "['white', 'red', 'red', 'r', 'green', 'gray', 'blue']\n"
          ]
        }
      ]
    },
    {
      "cell_type": "code",
      "source": [
        "# 세트(set)\n",
        "a = {1,2,3}\n",
        "b = {3,4,5}"
      ],
      "metadata": {
        "id": "LTBzGUsZ7mp6"
      },
      "execution_count": 14,
      "outputs": []
    },
    {
      "cell_type": "code",
      "source": [
        "print(a,b)\n",
        "print(type(a))"
      ],
      "metadata": {
        "colab": {
          "base_uri": "https://localhost:8080/"
        },
        "id": "GtUGRZXH8X2A",
        "outputId": "5d4873db-cd04-48ec-e045-f802339f020e"
      },
      "execution_count": 15,
      "outputs": [
        {
          "output_type": "stream",
          "name": "stdout",
          "text": [
            "{1, 2, 3} {3, 4, 5}\n",
            "<class 'set'>\n"
          ]
        }
      ]
    },
    {
      "cell_type": "code",
      "source": [
        "# 합집합, 교집합을 구할 수 있다.\n",
        "print(a.union(b)) # 합집합\n",
        "print(a.intersection(b)) # 교집합"
      ],
      "metadata": {
        "colab": {
          "base_uri": "https://localhost:8080/"
        },
        "id": "zfYv_kMy8ZPT",
        "outputId": "4e7d1bfa-7a9f-4929-f85d-5c19cbaa1939"
      },
      "execution_count": 16,
      "outputs": [
        {
          "output_type": "stream",
          "name": "stdout",
          "text": [
            "{1, 2, 3, 4, 5}\n",
            "{3}\n"
          ]
        }
      ]
    },
    {
      "cell_type": "code",
      "source": [
        "print(a-b) # 차집합\n",
        "print(a | b) # 합집합\n",
        "print(a & b) # 교집합"
      ],
      "metadata": {
        "colab": {
          "base_uri": "https://localhost:8080/"
        },
        "id": "_CmeWmJD8yxg",
        "outputId": "1b423a6d-407e-4602-a998-514fec5f1d7c"
      },
      "execution_count": 17,
      "outputs": [
        {
          "output_type": "stream",
          "name": "stdout",
          "text": [
            "{1, 2}\n",
            "{1, 2, 3, 4, 5}\n",
            "{3}\n"
          ]
        }
      ]
    },
    {
      "cell_type": "code",
      "source": [
        "# 튜플 (tuple)\n",
        "t = (1,2,3)\n",
        "print(type(t))"
      ],
      "metadata": {
        "colab": {
          "base_uri": "https://localhost:8080/"
        },
        "id": "V4rUz1Ml9d0Q",
        "outputId": "14f3bf2c-0de8-413e-da28-d8df2b18021e"
      },
      "execution_count": 18,
      "outputs": [
        {
          "output_type": "stream",
          "name": "stdout",
          "text": [
            "<class 'tuple'>\n"
          ]
        }
      ]
    },
    {
      "cell_type": "code",
      "source": [
        "(a,b) = (1,2)\n",
        "print(a,b)"
      ],
      "metadata": {
        "colab": {
          "base_uri": "https://localhost:8080/"
        },
        "id": "PXZNkEkn-P43",
        "outputId": "3a00435a-23a9-44e7-c4d7-65cfaa0e42c0"
      },
      "execution_count": 19,
      "outputs": [
        {
          "output_type": "stream",
          "name": "stdout",
          "text": [
            "1 2\n"
          ]
        }
      ]
    },
    {
      "cell_type": "code",
      "source": [
        "a = 10\n",
        "b = 20 \n",
        "print(a, b)\n",
        "(a,b) = (b,a)\n",
        "print(a, b)"
      ],
      "metadata": {
        "colab": {
          "base_uri": "https://localhost:8080/"
        },
        "id": "6J3Tq0Md-jeQ",
        "outputId": "46b89277-5815-4f91-f46f-8f59a4b0eec6"
      },
      "execution_count": 20,
      "outputs": [
        {
          "output_type": "stream",
          "name": "stdout",
          "text": [
            "10 20\n",
            "20 10\n"
          ]
        }
      ]
    },
    {
      "cell_type": "code",
      "source": [
        "a = set((1,2,3))\n",
        "print(a, type(a))\n",
        "b = list(a)\n",
        "print(b, type(b))\n",
        "c = tuple(b)\n",
        "print(c, type(c))\n",
        "d = set(c)\n",
        "print(d, type(d))"
      ],
      "metadata": {
        "colab": {
          "base_uri": "https://localhost:8080/"
        },
        "id": "JWTDMc6a_e-o",
        "outputId": "36f00374-5a7f-44aa-f71e-516dacb44386"
      },
      "execution_count": 21,
      "outputs": [
        {
          "output_type": "stream",
          "name": "stdout",
          "text": [
            "{1, 2, 3} <class 'set'>\n",
            "[1, 2, 3] <class 'list'>\n",
            "(1, 2, 3) <class 'tuple'>\n",
            "{1, 2, 3} <class 'set'>\n"
          ]
        }
      ]
    },
    {
      "cell_type": "code",
      "source": [
        "# in 연산자를 통해서 해당 값이 있는지 확인 가능하다 \n",
        "a = set((1,2,3))\n",
        "print(1 in a)\n",
        "b = set((1,'2',3))\n",
        "print(b)\n",
        "print(2 in b)"
      ],
      "metadata": {
        "colab": {
          "base_uri": "https://localhost:8080/"
        },
        "id": "-sviZZHRAmre",
        "outputId": "ffdc6965-b349-49d9-b8ab-a932af45415b"
      },
      "execution_count": 22,
      "outputs": [
        {
          "output_type": "stream",
          "name": "stdout",
          "text": [
            "True\n",
            "{1, 3, '2'}\n",
            "False\n"
          ]
        }
      ]
    },
    {
      "cell_type": "code",
      "source": [
        "# 사전 (Dictionary)\n",
        "\n",
        "d = dict(a=1, b=2, c=3)\n",
        "print(d)\n",
        "print(type(d))"
      ],
      "metadata": {
        "colab": {
          "base_uri": "https://localhost:8080/"
        },
        "id": "kvzn1OmPBEBq",
        "outputId": "56111c90-d713-4332-9609-be6595be5d23"
      },
      "execution_count": 23,
      "outputs": [
        {
          "output_type": "stream",
          "name": "stdout",
          "text": [
            "{'a': 1, 'b': 2, 'c': 3}\n",
            "<class 'dict'>\n"
          ]
        }
      ]
    },
    {
      "cell_type": "code",
      "source": [
        "color = {'apple':'red', 'banana':'yellow'}\n",
        "print(color)"
      ],
      "metadata": {
        "colab": {
          "base_uri": "https://localhost:8080/"
        },
        "id": "WrSMi1VmExwl",
        "outputId": "cf38b40a-3f73-4ff4-98cd-e943869f0f63"
      },
      "execution_count": 24,
      "outputs": [
        {
          "output_type": "stream",
          "name": "stdout",
          "text": [
            "{'apple': 'red', 'banana': 'yellow'}\n"
          ]
        }
      ]
    },
    {
      "cell_type": "code",
      "source": [
        "print(color['apple'])\n",
        "# print(color[0]) # dict 타입은 인덱스 없음\n",
        "# print(color['cherry']) # 없는것을 물어도 예외 발생"
      ],
      "metadata": {
        "colab": {
          "base_uri": "https://localhost:8080/"
        },
        "id": "_xK1DtRHFPee",
        "outputId": "999998b4-16a4-452b-ca74-d1fa0b59e166"
      },
      "execution_count": 25,
      "outputs": [
        {
          "output_type": "stream",
          "name": "stdout",
          "text": [
            "red\n"
          ]
        }
      ]
    },
    {
      "cell_type": "code",
      "source": [
        "color['cherry'] = 'red'\n",
        "print(color)"
      ],
      "metadata": {
        "colab": {
          "base_uri": "https://localhost:8080/"
        },
        "id": "9CcyBp7bFjkf",
        "outputId": "d55651fc-247b-4ffe-8539-6d0298f666a2"
      },
      "execution_count": 26,
      "outputs": [
        {
          "output_type": "stream",
          "name": "stdout",
          "text": [
            "{'apple': 'red', 'banana': 'yellow', 'cherry': 'red'}\n"
          ]
        }
      ]
    },
    {
      "cell_type": "code",
      "source": [
        "color['apple'] = 'green'\n",
        "print(color)"
      ],
      "metadata": {
        "colab": {
          "base_uri": "https://localhost:8080/"
        },
        "id": "pR5UGMwPGb-q",
        "outputId": "4ad3e330-d800-46b4-944a-02fb10508073"
      },
      "execution_count": 27,
      "outputs": [
        {
          "output_type": "stream",
          "name": "stdout",
          "text": [
            "{'apple': 'green', 'banana': 'yellow', 'cherry': 'red'}\n"
          ]
        }
      ]
    },
    {
      "cell_type": "code",
      "source": [
        "print(color.keys())\n",
        "print(color.values())\n",
        "print(color.items())"
      ],
      "metadata": {
        "colab": {
          "base_uri": "https://localhost:8080/"
        },
        "id": "dBgVhxnsGtzi",
        "outputId": "271669dc-f16d-4a61-b08f-c9b25e5186a7"
      },
      "execution_count": 28,
      "outputs": [
        {
          "output_type": "stream",
          "name": "stdout",
          "text": [
            "dict_keys(['apple', 'banana', 'cherry'])\n",
            "dict_values(['green', 'yellow', 'red'])\n",
            "dict_items([('apple', 'green'), ('banana', 'yellow'), ('cherry', 'red')])\n"
          ]
        }
      ]
    },
    {
      "cell_type": "code",
      "source": [
        "for k in color.keys():\n",
        "    print(k)\n",
        "for tmp in color.values():\n",
        "  print(tmp)\n",
        "for i in color.items():\n",
        "  print(i)\n",
        "for (k,v)  in color.items():\n",
        "  print('key :',k,\"value :\", v)"
      ],
      "metadata": {
        "id": "hRdwkzrNHe0y",
        "colab": {
          "base_uri": "https://localhost:8080/"
        },
        "outputId": "a0924c38-f486-4866-9458-07e678cbec54"
      },
      "execution_count": 29,
      "outputs": [
        {
          "output_type": "stream",
          "name": "stdout",
          "text": [
            "apple\n",
            "banana\n",
            "cherry\n",
            "green\n",
            "yellow\n",
            "red\n",
            "('apple', 'green')\n",
            "('banana', 'yellow')\n",
            "('cherry', 'red')\n",
            "key : apple value : green\n",
            "key : banana value : yellow\n",
            "key : cherry value : red\n"
          ]
        }
      ]
    },
    {
      "cell_type": "code",
      "source": [
        "# Dict에서 불필요한 아이템의 삭제\n",
        "del color['cherry'] \n",
        "color"
      ],
      "metadata": {
        "colab": {
          "base_uri": "https://localhost:8080/"
        },
        "id": "b2ggI8fPJZ3g",
        "outputId": "4395848f-16e1-44ef-8779-a8799c9f11b7"
      },
      "execution_count": 30,
      "outputs": [
        {
          "output_type": "execute_result",
          "data": {
            "text/plain": [
              "{'apple': 'green', 'banana': 'yellow'}"
            ]
          },
          "metadata": {},
          "execution_count": 30
        }
      ]
    },
    {
      "cell_type": "code",
      "source": [
        "# 전체 삭제\n",
        "color.clear()\n",
        "print(color)"
      ],
      "metadata": {
        "colab": {
          "base_uri": "https://localhost:8080/"
        },
        "id": "9_6jhg_NK7uo",
        "outputId": "e2f006fc-b54e-42b0-a0f8-6934746f62cd"
      },
      "execution_count": 31,
      "outputs": [
        {
          "output_type": "stream",
          "name": "stdout",
          "text": [
            "{}\n"
          ]
        }
      ]
    },
    {
      "cell_type": "code",
      "source": [
        "# 데이터 타입은 서로 혼용해서 사용하는 것이 가능하다\n",
        "d = {'age':40.5, 'job':[1,2,3], 'name':{'Kim':2, 'Cho':1}}\n",
        "print(d)"
      ],
      "metadata": {
        "colab": {
          "base_uri": "https://localhost:8080/"
        },
        "id": "RkdZUhtrLUhV",
        "outputId": "a43675db-d4e7-40f1-f1b1-a23063f57965"
      },
      "execution_count": 32,
      "outputs": [
        {
          "output_type": "stream",
          "name": "stdout",
          "text": [
            "{'age': 40.5, 'job': [1, 2, 3], 'name': {'Kim': 2, 'Cho': 1}}\n"
          ]
        }
      ]
    },
    {
      "cell_type": "code",
      "source": [
        "d['name']"
      ],
      "metadata": {
        "colab": {
          "base_uri": "https://localhost:8080/"
        },
        "id": "L8RFfQi1NQzr",
        "outputId": "670124f7-a831-450b-e94b-ccb75844fd26"
      },
      "execution_count": 33,
      "outputs": [
        {
          "output_type": "execute_result",
          "data": {
            "text/plain": [
              "{'Kim': 2, 'Cho': 1}"
            ]
          },
          "metadata": {},
          "execution_count": 33
        }
      ]
    },
    {
      "cell_type": "code",
      "source": [
        "# bool 타입 \n",
        "isRight = False\n",
        "print(type(isRight))"
      ],
      "metadata": {
        "colab": {
          "base_uri": "https://localhost:8080/"
        },
        "id": "zzsQjfTkNeyr",
        "outputId": "a13d1cda-2be6-4cf7-9c37-beca8447386f"
      },
      "execution_count": 34,
      "outputs": [
        {
          "output_type": "stream",
          "name": "stdout",
          "text": [
            "<class 'bool'>\n"
          ]
        }
      ]
    },
    {
      "cell_type": "code",
      "source": [
        "print(1<2)\n",
        "print(1==2)\n",
        "print(1!=2)"
      ],
      "metadata": {
        "colab": {
          "base_uri": "https://localhost:8080/"
        },
        "id": "iI-cATcSN2Uj",
        "outputId": "ea2776d3-343e-431b-e4c7-101f54692ca5"
      },
      "execution_count": 35,
      "outputs": [
        {
          "output_type": "stream",
          "name": "stdout",
          "text": [
            "True\n",
            "False\n",
            "True\n"
          ]
        }
      ]
    },
    {
      "cell_type": "code",
      "source": [
        "# 논리 연산자\n",
        "print(True and False) # 둘다 true 일때만 True\n",
        "print(True & False)\n",
        "print(True or False)\n",
        "print(True | False)\n",
        "print(not True)"
      ],
      "metadata": {
        "colab": {
          "base_uri": "https://localhost:8080/"
        },
        "id": "NibJramXN8O3",
        "outputId": "8421e507-4222-4ce2-bebe-4071a4691e62"
      },
      "execution_count": 36,
      "outputs": [
        {
          "output_type": "stream",
          "name": "stdout",
          "text": [
            "False\n",
            "False\n",
            "True\n",
            "True\n",
            "False\n"
          ]
        }
      ]
    },
    {
      "cell_type": "code",
      "source": [
        "# 얕은 복사와 깊은 복사\n",
        "a = [1,2,3]\n",
        "b = a \n",
        "print(b)"
      ],
      "metadata": {
        "colab": {
          "base_uri": "https://localhost:8080/"
        },
        "id": "PgG3Z2JFTRdI",
        "outputId": "c633ef92-d3f1-4f7a-e5fb-510fe7552e5c"
      },
      "execution_count": 37,
      "outputs": [
        {
          "output_type": "stream",
          "name": "stdout",
          "text": [
            "[1, 2, 3]\n"
          ]
        }
      ]
    },
    {
      "cell_type": "code",
      "source": [
        "a[0] = 38\n",
        "print(a)\n",
        "print(b) \n",
        "# b는 a의 주소(참조 복사)만 카피하므로 a의 값을 바꾸면 b의값은 a의 값을 따라간다"
      ],
      "metadata": {
        "colab": {
          "base_uri": "https://localhost:8080/"
        },
        "id": "80NGwai7Tc4E",
        "outputId": "9ecabb4a-c929-4491-f4e4-57f538c62870"
      },
      "execution_count": 38,
      "outputs": [
        {
          "output_type": "stream",
          "name": "stdout",
          "text": [
            "[38, 2, 3]\n",
            "[38, 2, 3]\n"
          ]
        }
      ]
    },
    {
      "cell_type": "code",
      "source": [
        "# call by value - 값만 복사해옴\n",
        "a = [1,2,3]\n",
        "b = a[:]\n",
        "a[0] = 38\n",
        "print(a)\n",
        "print(b) "
      ],
      "metadata": {
        "colab": {
          "base_uri": "https://localhost:8080/"
        },
        "id": "ZksvPgY8Ty3i",
        "outputId": "40efa6d9-e679-48ae-8f12-31cdcb54a1b9"
      },
      "execution_count": 39,
      "outputs": [
        {
          "output_type": "stream",
          "name": "stdout",
          "text": [
            "[38, 2, 3]\n",
            "[1, 2, 3]\n"
          ]
        }
      ]
    },
    {
      "cell_type": "code",
      "source": [
        "# copy module을 사용하는 법\n",
        "import copy\n",
        "a = [1,2,3]\n",
        "b = copy.deepcopy(a)\n",
        "a[0] = 38\n",
        "print(a,b)"
      ],
      "metadata": {
        "colab": {
          "base_uri": "https://localhost:8080/"
        },
        "id": "6g2Vw5Z8VKxg",
        "outputId": "5cdb7a9c-a4f1-4e13-ddee-8e260abedd00"
      },
      "execution_count": 40,
      "outputs": [
        {
          "output_type": "stream",
          "name": "stdout",
          "text": [
            "[38, 2, 3] [1, 2, 3]\n"
          ]
        }
      ]
    }
  ]
}