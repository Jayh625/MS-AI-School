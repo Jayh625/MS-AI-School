{
  "nbformat": 4,
  "nbformat_minor": 0,
  "metadata": {
    "colab": {
      "provenance": []
    },
    "kernelspec": {
      "name": "python3",
      "display_name": "Python 3"
    },
    "language_info": {
      "name": "python"
    }
  },
  "cells": [
    {
      "cell_type": "markdown",
      "source": [
        "# Function"
      ],
      "metadata": {
        "id": "aCNwdhQaXlRh"
      }
    },
    {
      "cell_type": "code",
      "execution_count": 1,
      "metadata": {
        "id": "OKYz-Y6QW-cc"
      },
      "outputs": [],
      "source": [
        "def Times(a,b):\n",
        "  result = a*b\n",
        "  return result"
      ]
    },
    {
      "cell_type": "code",
      "source": [
        "print(Times) # 16진수로 표현된 주소"
      ],
      "metadata": {
        "colab": {
          "base_uri": "https://localhost:8080/"
        },
        "id": "Nv_RvRPUXgZE",
        "outputId": "3f8f0172-f3f8-4081-b1b3-25185a9c7fda"
      },
      "execution_count": 2,
      "outputs": [
        {
          "output_type": "stream",
          "name": "stdout",
          "text": [
            "<function Times at 0x7f45301a7b80>\n"
          ]
        }
      ]
    },
    {
      "cell_type": "code",
      "source": [
        "print(Times(10,20))"
      ],
      "metadata": {
        "colab": {
          "base_uri": "https://localhost:8080/"
        },
        "id": "pWX4ESCoXhj_",
        "outputId": "95701b54-50fb-4f97-aad7-9335a44dde7c"
      },
      "execution_count": 3,
      "outputs": [
        {
          "output_type": "stream",
          "name": "stdout",
          "text": [
            "200\n"
          ]
        }
      ]
    },
    {
      "cell_type": "code",
      "source": [
        "# 메모리 주소를 확인하는 명령\n",
        "print(id(Times)) # 10진수로 표현된 주소"
      ],
      "metadata": {
        "colab": {
          "base_uri": "https://localhost:8080/"
        },
        "id": "dA-j-zVlXjyZ",
        "outputId": "31bbd040-4177-4b5f-9eb1-31bea7700c2e"
      },
      "execution_count": 4,
      "outputs": [
        {
          "output_type": "stream",
          "name": "stdout",
          "text": [
            "139935136512896\n"
          ]
        }
      ]
    },
    {
      "cell_type": "code",
      "source": [
        "globals() # 메모리에 올라와있는 함수 목록"
      ],
      "metadata": {
        "colab": {
          "base_uri": "https://localhost:8080/"
        },
        "id": "QUAkoYuSX6jd",
        "outputId": "cf3602d9-a1f6-4132-b0a8-8498d9b6edcf"
      },
      "execution_count": 5,
      "outputs": [
        {
          "output_type": "execute_result",
          "data": {
            "text/plain": [
              "{'__name__': '__main__',\n",
              " '__doc__': 'Automatically created module for IPython interactive environment',\n",
              " '__package__': None,\n",
              " '__loader__': None,\n",
              " '__spec__': None,\n",
              " '__builtin__': <module 'builtins' (built-in)>,\n",
              " '__builtins__': <module 'builtins' (built-in)>,\n",
              " '_ih': ['',\n",
              "  'def Times(a,b):\\n  result = a*b\\n  return result',\n",
              "  'print(Times) # 16진수로 표현된 주소',\n",
              "  'print(Times(10,20))',\n",
              "  '# 메모리 주소를 확인하는 명령\\nprint(id(Times)) # 10진수로 표현된 주소',\n",
              "  'globals() # 메모리에 올라와있는 함수 목록'],\n",
              " '_oh': {},\n",
              " '_dh': ['/content'],\n",
              " 'In': ['',\n",
              "  'def Times(a,b):\\n  result = a*b\\n  return result',\n",
              "  'print(Times) # 16진수로 표현된 주소',\n",
              "  'print(Times(10,20))',\n",
              "  '# 메모리 주소를 확인하는 명령\\nprint(id(Times)) # 10진수로 표현된 주소',\n",
              "  'globals() # 메모리에 올라와있는 함수 목록'],\n",
              " 'Out': {},\n",
              " 'get_ipython': <bound method InteractiveShell.get_ipython of <google.colab._shell.Shell object at 0x7f454c1abf10>>,\n",
              " 'exit': <IPython.core.autocall.ZMQExitAutocall at 0x7f454bda5340>,\n",
              " 'quit': <IPython.core.autocall.ZMQExitAutocall at 0x7f454bda5340>,\n",
              " '_': '',\n",
              " '__': '',\n",
              " '___': '',\n",
              " '_i': '# 메모리 주소를 확인하는 명령\\nprint(id(Times)) # 10진수로 표현된 주소',\n",
              " '_ii': 'print(Times(10,20))',\n",
              " '_iii': 'print(Times) # 16진수로 표현된 주소',\n",
              " '_i1': 'def Times(a,b):\\n  result = a*b\\n  return result',\n",
              " 'Times': <function __main__.Times(a, b)>,\n",
              " '_i2': 'print(Times) # 16진수로 표현된 주소',\n",
              " '_i3': 'print(Times(10,20))',\n",
              " '_i4': '# 메모리 주소를 확인하는 명령\\nprint(id(Times)) # 10진수로 표현된 주소',\n",
              " '_i5': 'globals() # 메모리에 올라와있는 함수 목록'}"
            ]
          },
          "metadata": {},
          "execution_count": 5
        }
      ]
    },
    {
      "cell_type": "code",
      "source": [
        "myTimes = Times\n",
        "print(myTimes(10,20))"
      ],
      "metadata": {
        "colab": {
          "base_uri": "https://localhost:8080/"
        },
        "id": "5IpINWpKYTPA",
        "outputId": "0125583d-1515-4c13-fd10-1178924082da"
      },
      "execution_count": 6,
      "outputs": [
        {
          "output_type": "stream",
          "name": "stdout",
          "text": [
            "200\n"
          ]
        }
      ]
    },
    {
      "cell_type": "code",
      "source": [
        "print(id(myTimes))\n",
        "print(id(Times))\n",
        "# 메모리 주소만 복사 "
      ],
      "metadata": {
        "colab": {
          "base_uri": "https://localhost:8080/"
        },
        "id": "688BJ6X0YjqG",
        "outputId": "af7fec19-1a13-4adf-f5ef-b1e483db354e"
      },
      "execution_count": 7,
      "outputs": [
        {
          "output_type": "stream",
          "name": "stdout",
          "text": [
            "139935136512896\n",
            "139935136512896\n"
          ]
        }
      ]
    },
    {
      "cell_type": "code",
      "source": [
        "a = 10\n",
        "b = 20 \n",
        "def sum1(x,y) :\n",
        "  return x+y"
      ],
      "metadata": {
        "id": "54NRzbw0Yyts"
      },
      "execution_count": 8,
      "outputs": []
    },
    {
      "cell_type": "code",
      "source": [
        "print(sum1(a,b))"
      ],
      "metadata": {
        "colab": {
          "base_uri": "https://localhost:8080/"
        },
        "id": "5_PRazEpaS_n",
        "outputId": "d185a375-eaab-410e-85d8-0bfbdebff669"
      },
      "execution_count": 9,
      "outputs": [
        {
          "output_type": "stream",
          "name": "stdout",
          "text": [
            "30\n"
          ]
        }
      ]
    },
    {
      "cell_type": "code",
      "source": [
        "# 변수의 범위\n",
        "x = 10 \n",
        "def sum2(x,y) :\n",
        "  x = 1\n",
        "  return x+y\n",
        "print(sum2(x,20)) # 함수안의 변수는 함수안에서만 저장\n",
        "print(x)"
      ],
      "metadata": {
        "colab": {
          "base_uri": "https://localhost:8080/"
        },
        "id": "6kvRp7tpaUf7",
        "outputId": "ee05de5c-bb98-4909-dafe-532e24b5a470"
      },
      "execution_count": 10,
      "outputs": [
        {
          "output_type": "stream",
          "name": "stdout",
          "text": [
            "21\n",
            "10\n"
          ]
        }
      ]
    },
    {
      "cell_type": "code",
      "source": [
        "g = 20 \n",
        "def sum3(x,y) :\n",
        "  global g\n",
        "  g += 1\n",
        "  return x,y\n",
        "print(sum3(g,20)) \n",
        "print(g)"
      ],
      "metadata": {
        "colab": {
          "base_uri": "https://localhost:8080/"
        },
        "id": "rgDvg9UAavcj",
        "outputId": "46c635e8-7519-43d1-d9b1-4dbb1f151e6d"
      },
      "execution_count": 11,
      "outputs": [
        {
          "output_type": "stream",
          "name": "stdout",
          "text": [
            "(20, 20)\n",
            "21\n"
          ]
        }
      ]
    },
    {
      "cell_type": "code",
      "source": [
        "# 함수의 인자 (Parameter)\n",
        "def Times(a=10, b=20):\n",
        "  return a*b\n",
        "print(Times(100,200))\n",
        "print(Times(100))\n",
        "print(Times())\n",
        "print(Times(b=200))"
      ],
      "metadata": {
        "colab": {
          "base_uri": "https://localhost:8080/"
        },
        "id": "e0kOcV-Wb2g2",
        "outputId": "ae8f3853-ae2b-4b5c-abea-dd979b0593c2"
      },
      "execution_count": 12,
      "outputs": [
        {
          "output_type": "stream",
          "name": "stdout",
          "text": [
            "20000\n",
            "2000\n",
            "200\n",
            "2000\n"
          ]
        }
      ]
    },
    {
      "cell_type": "code",
      "source": [
        "def connectURL(protocol='https', server='naver.com', port='80'):\n",
        "  address = protocol + \"://\" + server + \":\" + port\n",
        "  return address\n",
        "print(connectURL('http','naver.com','80'))  \n",
        "print(connectURL(server='microsoft.com',port='80'))  \n",
        "print(connectURL(port='8080'))  "
      ],
      "metadata": {
        "colab": {
          "base_uri": "https://localhost:8080/"
        },
        "id": "Xibmf8zIdGkh",
        "outputId": "cedd967a-4da3-448f-b031-274cc7f2238f"
      },
      "execution_count": 13,
      "outputs": [
        {
          "output_type": "stream",
          "name": "stdout",
          "text": [
            "http://naver.com:80\n",
            "https://microsoft.com:80\n",
            "https://naver.com:8080\n"
          ]
        }
      ]
    },
    {
      "cell_type": "code",
      "source": [
        "# 가변인자 함수 \n",
        "def test(*args):\n",
        "  print(args)\n",
        "\n",
        "test(1,2,3,4,5)\n",
        "test(1,2,3)"
      ],
      "metadata": {
        "colab": {
          "base_uri": "https://localhost:8080/"
        },
        "id": "aN0uc5bueUnq",
        "outputId": "1e2c75b5-c16d-4e6a-9a13-c2f5a36a2f99"
      },
      "execution_count": 14,
      "outputs": [
        {
          "output_type": "stream",
          "name": "stdout",
          "text": [
            "(1, 2, 3, 4, 5)\n",
            "(1, 2, 3)\n"
          ]
        }
      ]
    }
  ]
}