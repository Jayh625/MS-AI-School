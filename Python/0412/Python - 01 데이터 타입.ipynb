{
  "cells": [
    {
      "attachments": {},
      "cell_type": "markdown",
      "metadata": {
        "id": "6ak4z5b0FCpy"
      },
      "source": [
        "# Python - 01 데이터 타입 \n",
        "<!-- ### 단락 구분자 '#' -->\n",
        "<!-- ![사진] (https://upload.wikimedia.org/wikipedia/commons/thumb/c/c3/Python-logo-notext.svg/1200px-Python-logo-notext.svg.png) -->"
      ]
    },
    {
      "cell_type": "code",
      "execution_count": 12,
      "metadata": {
        "colab": {
          "base_uri": "https://localhost:8080/"
        },
        "id": "4tPXHQkgDMMY",
        "outputId": "fc9e67d4-b880-4e04-e270-2195813f9571"
      },
      "outputs": [
        {
          "name": "stdout",
          "output_type": "stream",
          "text": [
            "hello world\n"
          ]
        }
      ],
      "source": [
        "print(\"hello world\")"
      ]
    },
    {
      "cell_type": "code",
      "execution_count": 13,
      "metadata": {
        "colab": {
          "base_uri": "https://localhost:8080/"
        },
        "id": "150Mo6ynEOuv",
        "outputId": "1800a669-6878-40b8-9a28-292fb6094acb"
      },
      "outputs": [
        {
          "name": "stdout",
          "output_type": "stream",
          "text": [
            "2 100\n"
          ]
        }
      ],
      "source": [
        "# 변수 규칙\n",
        "a = 1\n",
        "b = 2 \n",
        "# 2a = 3 항상 변수는 알파벳으로 시작해야한다\n",
        "student_cnt = 100 # 가급적 풀 워드로 짓는다 \n",
        "address = '' # 가급적 정확한 영어로 짓는다\n",
        "print(a * b, student_cnt)"
      ]
    },
    {
      "cell_type": "code",
      "execution_count": 14,
      "metadata": {
        "colab": {
          "base_uri": "https://localhost:8080/"
        },
        "id": "xeI9LOEEK4GF",
        "outputId": "445da4f8-eb51-4fc3-8190-8f2f91e1ee58"
      },
      "outputs": [
        {
          "name": "stdout",
          "output_type": "stream",
          "text": [
            "1\n"
          ]
        }
      ],
      "source": [
        "# 대소문자를 구별한다.\n",
        "friend = 1\n",
        "Friend = 10 \n",
        "print(friend)"
      ]
    },
    {
      "cell_type": "code",
      "execution_count": 15,
      "metadata": {
        "id": "f_zPWqDiQAyV"
      },
      "outputs": [],
      "source": [
        "# 예약어는 사용할 수 없다\n",
        "# for = 1"
      ]
    },
    {
      "cell_type": "code",
      "execution_count": 23,
      "metadata": {
        "colab": {
          "base_uri": "https://localhost:8080/"
        },
        "id": "_cy2XoeRRC_z",
        "outputId": "cf454b0d-9f97-423c-ca64-5930495ea9bf"
      },
      "outputs": [
        {
          "name": "stdout",
          "output_type": "stream",
          "text": [
            "<class 'int'>\n",
            "2023 / 4\n"
          ]
        }
      ],
      "source": [
        "# 숫자형\n",
        "year = 2023\n",
        "print(type(year))\n",
        "month = 4\n",
        "print(year,\"/\",month)"
      ]
    },
    {
      "cell_type": "code",
      "execution_count": 26,
      "metadata": {
        "colab": {
          "base_uri": "https://localhost:8080/"
        },
        "id": "cvmWMLEiRQHw",
        "outputId": "56ebf512-c47b-4d67-d287-2a1954e27e59"
      },
      "outputs": [
        {
          "name": "stdout",
          "output_type": "stream",
          "text": [
            "<class 'int'>\n",
            "<class 'str'>\n"
          ]
        }
      ],
      "source": [
        "year = 2023\n",
        "print(type(year)) # type() 데이터의 타입을 확인하는 함수\n",
        "year = '2023'\n",
        "print(type(year))"
      ]
    },
    {
      "cell_type": "code",
      "execution_count": 29,
      "metadata": {
        "colab": {
          "base_uri": "https://localhost:8080/"
        },
        "id": "sJZJdzHMRayc",
        "outputId": "ff362eb0-6e9d-4b0e-f691-431e49e76f5a"
      },
      "outputs": [
        {
          "name": "stdout",
          "output_type": "stream",
          "text": [
            "8\n",
            "2\n",
            "16\n"
          ]
        }
      ],
      "source": [
        "# 8진수\n",
        "# 정수 앞에 0o를 붙이면 8진수가 된다\n",
        "print(0o10)\n",
        "# 정수 앞에 0b를 붙이면 2진수가 된다\n",
        "print(0b10)\n",
        "# 정수 앞에 0x를 붙이면 2진수가 된다\n",
        "print(0x10)"
      ]
    },
    {
      "cell_type": "code",
      "execution_count": 32,
      "metadata": {
        "colab": {
          "base_uri": "https://localhost:8080/"
        },
        "id": "7fDj8tMlSZ44",
        "outputId": "24c424ca-d244-433d-9f42-bbbe64816c18"
      },
      "outputs": [
        {
          "name": "stdout",
          "output_type": "stream",
          "text": [
            "0o46\n",
            "0x26\n",
            "0b100110\n"
          ]
        }
      ],
      "source": [
        "# 다음은 10진수를 받아서 각 진수로 변환하는 방법 (결과가 문자형)\n",
        "print(oct(38)) # 10진수 38을 8진수로 변환\n",
        "print(hex(38)) # 10진수 38을 16진수로 변환\n",
        "print(bin(38)) # 10진수 38을 2진수로 변환"
      ]
    },
    {
      "cell_type": "code",
      "execution_count": 44,
      "metadata": {
        "colab": {
          "base_uri": "https://localhost:8080/"
        },
        "id": "fTJtdrk4Tn0Y",
        "outputId": "d866df49-8fb9-4cf8-faec-d470177ebda4"
      },
      "outputs": [
        {
          "name": "stdout",
          "output_type": "stream",
          "text": [
            "1 <class 'int'>\n",
            "2147483648 <class 'int'>\n"
          ]
        }
      ],
      "source": [
        "# 파이썬의 정수 타입\n",
        "print(1, type(1)) # int\n",
        "print(2**31, type(2**31)) # 2의 31승 파이썬 3.0 int형으로 정수형 통합|"
      ]
    },
    {
      "cell_type": "code",
      "execution_count": 45,
      "metadata": {
        "colab": {
          "base_uri": "https://localhost:8080/"
        },
        "id": "9v6gFzwDUi-O",
        "outputId": "59decd99-e9d8-4f34-afb9-616c2b214c90"
      },
      "outputs": [
        {
          "name": "stdout",
          "output_type": "stream",
          "text": [
            "3.14 <class 'float'>\n",
            "3.14 <class 'float'>\n",
            "<class 'complex'>\n",
            "-4.0\n",
            "3.0\n",
            "(3+4j)\n"
          ]
        }
      ],
      "source": [
        "# 실수의 표현 \n",
        "print(3.14, type(3.14))\n",
        "print(314e-2, type(314e-2)) # float\n",
        "print(type(3-4j)) # 복소수\n",
        "\n",
        "x = 3 - 4j\n",
        "print(x.imag)\n",
        "print(x.real)\n",
        "print(x.conjugate())"
      ]
    },
    {
      "cell_type": "code",
      "execution_count": 47,
      "metadata": {
        "colab": {
          "base_uri": "https://localhost:8080/"
        },
        "id": "WShmFyIpVC_y",
        "outputId": "e53cd45d-8c6e-4a30-ab7f-270a25f09d2f"
      },
      "outputs": [
        {
          "name": "stdout",
          "output_type": "stream",
          "text": [
            "12.56\n",
            "6.0\n"
          ]
        }
      ],
      "source": [
        "# 원의 넓이와 삼각형 넓이 구하기 \n",
        "r = 2 \n",
        "circle_area = (r ** 2) * 3.14\n",
        "print(circle_area)\n",
        "\n",
        "x = 3\n",
        "y = 4 \n",
        "triangle_area = x * y / 2\n",
        "print(triangle_area)"
      ]
    },
    {
      "cell_type": "code",
      "execution_count": 48,
      "metadata": {
        "colab": {
          "base_uri": "https://localhost:8080/"
        },
        "id": "nldz4ZsSXisZ",
        "outputId": "536bba43-aeb5-4366-8dda-945152efa098"
      },
      "outputs": [
        {
          "name": "stdout",
          "output_type": "stream",
          "text": [
            "Hello World\n",
            "Hello World\n"
          ]
        }
      ],
      "source": [
        "# 문자형 실습\n",
        "print('Hello World')\n",
        "print(\"Hello World\")"
      ]
    },
    {
      "cell_type": "code",
      "execution_count": 50,
      "metadata": {
        "colab": {
          "base_uri": "https://localhost:8080/"
        },
        "id": "Qe2QuDNUpXuf",
        "outputId": "2c47de34-fdb2-46c5-bd36-4f66574257a1"
      },
      "outputs": [
        {
          "name": "stdout",
          "output_type": "stream",
          "text": [
            "\n",
            "항상 태양을 바라보아라 .\n",
            "그리하면 너는 그림자를 볼 수 없을 것이다.\n",
            "      - 헬렌켈러-\n",
            "      \n"
          ]
        }
      ],
      "source": [
        "print('''\n",
        "항상 태양을 바라보아라 .\n",
        "그리하면 너는 그림자를 볼 수 없을 것이다.\n",
        "      - 헬렌켈러-\n",
        "      ''')"
      ]
    },
    {
      "cell_type": "code",
      "execution_count": 51,
      "metadata": {
        "colab": {
          "base_uri": "https://localhost:8080/"
        },
        "id": "9jQPFJ9ZqJMf",
        "outputId": "a1cf78a3-e2ac-4042-e97d-4cc0b7f23314"
      },
      "outputs": [
        {
          "name": "stdout",
          "output_type": "stream",
          "text": [
            "\t탭 \n",
            "다음줄\n"
          ]
        }
      ],
      "source": [
        "print('\\t탭 \\n다음줄')"
      ]
    },
    {
      "cell_type": "code",
      "execution_count": 53,
      "metadata": {
        "colab": {
          "base_uri": "https://localhost:8080/"
        },
        "id": "PRbbj4uMqOQz",
        "outputId": "afe68bd1-2035-42f2-fa35-c0f21f2507c6"
      },
      "outputs": [
        {
          "name": "stdout",
          "output_type": "stream",
          "text": [
            "python\n",
            "python\n"
          ]
        }
      ],
      "source": [
        "print('py' 'thon')\n",
        "print('py' + 'thon')"
      ]
    },
    {
      "cell_type": "code",
      "execution_count": 54,
      "metadata": {
        "colab": {
          "base_uri": "https://localhost:8080/"
        },
        "id": "ugNJitg7qjog",
        "outputId": "bd778ce8-8026-4986-c2d9-eca2856ee1a4"
      },
      "outputs": [
        {
          "name": "stdout",
          "output_type": "stream",
          "text": [
            "pypypy\n"
          ]
        }
      ],
      "source": [
        "print('py'*3)"
      ]
    },
    {
      "cell_type": "code",
      "execution_count": 55,
      "metadata": {
        "colab": {
          "base_uri": "https://localhost:8080/"
        },
        "id": "B1TToxxNrEYK",
        "outputId": "e767cf96-8552-44c7-d71a-a7ece2b76268"
      },
      "outputs": [
        {
          "name": "stdout",
          "output_type": "stream",
          "text": [
            "python\n"
          ]
        }
      ],
      "source": [
        "a = 'python'\n",
        "print(a)"
      ]
    },
    {
      "cell_type": "code",
      "execution_count": 58,
      "metadata": {
        "colab": {
          "base_uri": "https://localhost:8080/"
        },
        "id": "ZMPq4cNQrGkq",
        "outputId": "567463b6-80ba-4faa-e798-911a37bc9915"
      },
      "outputs": [
        {
          "name": "stdout",
          "output_type": "stream",
          "text": [
            "p\n",
            "y\n",
            "t\n"
          ]
        }
      ],
      "source": [
        "print(a[0])\n",
        "print(a[0+1])\n",
        "print(a[2])"
      ]
    },
    {
      "cell_type": "code",
      "execution_count": 63,
      "metadata": {
        "colab": {
          "base_uri": "https://localhost:8080/"
        },
        "id": "hM7RYiRZrt_2",
        "outputId": "ca7c2aa7-976c-4e2a-c1c1-0c0fb1a2ab81"
      },
      "outputs": [
        {
          "name": "stdout",
          "output_type": "stream",
          "text": [
            "python\n",
            "p\n",
            "yth\n",
            "py\n",
            "thon\n",
            "python\n",
            "pto\n"
          ]
        }
      ],
      "source": [
        "# index를 이용해서 범위를 설정할 수 있다\n",
        "print(a)\n",
        "print(a[0:1])\n",
        "print(a[1:4])\n",
        "print(a[:2]) # 생략은 해당 방향의 끝을 나타낸다\n",
        "print(a[2:])\n",
        "print(a[:])\n",
        "print(a[::2])"
      ]
    },
    {
      "cell_type": "code",
      "execution_count": 67,
      "metadata": {
        "colab": {
          "base_uri": "https://localhost:8080/"
        },
        "id": "QNGXS67msCaj",
        "outputId": "bb3d1534-9a29-474c-c20d-f33a9c36e6af"
      },
      "outputs": [
        {
          "name": "stdout",
          "output_type": "stream",
          "text": [
            "<class 'str'>\n",
            "<class 'int'>\n",
            "23.0 <class 'float'>\n"
          ]
        }
      ],
      "source": [
        "# 데이터 타입의 변환 \n",
        "print(type(str(3.14))) # 문자형으로 변환\n",
        "print(type(int('49'))) # 정수형으로 변환\n",
        "print(float(23), type(float(23))) # 실수형으로 변환"
      ]
    },
    {
      "cell_type": "code",
      "execution_count": null,
      "metadata": {
        "id": "NFHNxsAPukKI"
      },
      "outputs": [],
      "source": []
    }
  ],
  "metadata": {
    "colab": {
      "provenance": []
    },
    "kernelspec": {
      "display_name": "Python 3",
      "name": "python3"
    },
    "language_info": {
      "name": "python"
    }
  },
  "nbformat": 4,
  "nbformat_minor": 0
}
