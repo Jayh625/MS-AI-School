{
  "nbformat": 4,
  "nbformat_minor": 0,
  "metadata": {
    "colab": {
      "provenance": []
    },
    "kernelspec": {
      "name": "python3",
      "display_name": "Python 3"
    },
    "language_info": {
      "name": "python"
    }
  },
  "cells": [
    {
      "cell_type": "code",
      "execution_count": 1,
      "metadata": {
        "id": "TP8Co3F0kDcC",
        "colab": {
          "base_uri": "https://localhost:8080/"
        },
        "outputId": "7afec859-bb8f-42bb-90f8-765b5bd40b2b"
      },
      "outputs": [
        {
          "output_type": "stream",
          "name": "stdout",
          "text": [
            "value is bigger than 5\n"
          ]
        }
      ],
      "source": [
        "# 조건에 따라서 다른 결과를 얻기 위해서 사용하는 것\n",
        "value = 10\n",
        "if value > 5 :\n",
        "  print(\"value is bigger than 5\")"
      ]
    },
    {
      "cell_type": "code",
      "source": [
        "money = 10 \n",
        "if money > 100:\n",
        "  item = 'apple'\n",
        "else:\n",
        "  item = 'banana'\n",
        "\n",
        "print(item)"
      ],
      "metadata": {
        "colab": {
          "base_uri": "https://localhost:8080/"
        },
        "id": "pc1AAmMRkhn4",
        "outputId": "2b2c1fbd-da0a-475d-cf82-21628e4de90e"
      },
      "execution_count": 2,
      "outputs": [
        {
          "output_type": "stream",
          "name": "stdout",
          "text": [
            "banana\n"
          ]
        }
      ]
    },
    {
      "cell_type": "code",
      "source": [
        "score = int(input('Input your scroe : '))\n",
        "if 90 <= score <= 100:\n",
        "  grade = 'A'\n",
        "elif 80 <= score < 90:\n",
        "  grade = 'B'\n",
        "elif 70 <= score < 80:\n",
        "  grade = 'C'\n",
        "elif 60 <= score < 70:\n",
        "  grade = 'D'\n",
        "else: \n",
        "  grade = 'F'\n",
        "print(\"Your score is \" + str(score) + \"\\nYour grade is \"+ grade)"
      ],
      "metadata": {
        "colab": {
          "base_uri": "https://localhost:8080/"
        },
        "id": "tuZs8NiilM8q",
        "outputId": "d9a7c276-f087-44a5-db27-86cf963b25fa"
      },
      "execution_count": 3,
      "outputs": [
        {
          "output_type": "stream",
          "name": "stdout",
          "text": [
            "Input your scroe : 100\n",
            "Your score is 100\n",
            "Your grade is A\n"
          ]
        }
      ]
    },
    {
      "cell_type": "code",
      "source": [
        "# 조건식의 참과 거짓\n",
        "print(bool(True))\n",
        "print(bool(False))\n",
        "print(bool(123))\n",
        "print(bool(0))\n",
        "print(bool(-1))\n",
        "print(bool('apple'))\n",
        "print(bool(''))\n",
        "print(bool())"
      ],
      "metadata": {
        "colab": {
          "base_uri": "https://localhost:8080/"
        },
        "id": "cpI1gKrblS08",
        "outputId": "20f79e09-de02-4113-d450-c72f84926448"
      },
      "execution_count": 4,
      "outputs": [
        {
          "output_type": "stream",
          "name": "stdout",
          "text": [
            "True\n",
            "False\n",
            "True\n",
            "False\n",
            "True\n",
            "True\n",
            "False\n",
            "False\n"
          ]
        }
      ]
    },
    {
      "cell_type": "code",
      "source": [
        "# 반복문(while)\n",
        "value = 5\n",
        "while value > 0:\n",
        "  print(value)\n",
        "  value -= 1\n"
      ],
      "metadata": {
        "colab": {
          "base_uri": "https://localhost:8080/"
        },
        "id": "u4gLrFxdnGeb",
        "outputId": "1f68e2e1-4339-4a50-a985-aaea03c9a36b"
      },
      "execution_count": 5,
      "outputs": [
        {
          "output_type": "stream",
          "name": "stdout",
          "text": [
            "5\n",
            "4\n",
            "3\n",
            "2\n",
            "1\n"
          ]
        }
      ]
    },
    {
      "cell_type": "code",
      "source": [
        "# 반복문(for)\n",
        "l = ['Apple', 100, 15.23]\n",
        "for i in l:\n",
        "  print(i)"
      ],
      "metadata": {
        "colab": {
          "base_uri": "https://localhost:8080/"
        },
        "id": "GSrF1tBYoFtc",
        "outputId": "2b7241f4-0f85-4783-9498-377d7d8e47ac"
      },
      "execution_count": 6,
      "outputs": [
        {
          "output_type": "stream",
          "name": "stdout",
          "text": [
            "Apple\n",
            "100\n",
            "15.23\n"
          ]
        }
      ]
    },
    {
      "cell_type": "code",
      "source": [
        "loop1 = [2,3,4,5,6,7,8,9]\n",
        "loop2 = [1,2,3,4,5,6,7,8,9]\n",
        "for i in loop2:\n",
        "  print((\"2 * {} = {}\").format(i,i*2))\n",
        "  # print(\"2 * \" + str(i) + \" = \" + str(2*i))"
      ],
      "metadata": {
        "colab": {
          "base_uri": "https://localhost:8080/"
        },
        "id": "nR7Qk66Hoc9I",
        "outputId": "23c6aded-46ac-41ae-9f87-6e150be663ba"
      },
      "execution_count": 7,
      "outputs": [
        {
          "output_type": "stream",
          "name": "stdout",
          "text": [
            "2 * 1 = 2\n",
            "2 * 2 = 4\n",
            "2 * 3 = 6\n",
            "2 * 4 = 8\n",
            "2 * 5 = 10\n",
            "2 * 6 = 12\n",
            "2 * 7 = 14\n",
            "2 * 8 = 16\n",
            "2 * 9 = 18\n"
          ]
        }
      ]
    },
    {
      "cell_type": "code",
      "source": [
        "for i in loop1:\n",
        "  for j in loop2:\n",
        "    print((\"{} * {} = {}\").format(i,j,i*j))  "
      ],
      "metadata": {
        "colab": {
          "base_uri": "https://localhost:8080/"
        },
        "id": "Br-fwA7mpMe9",
        "outputId": "9f991b3a-3936-4170-825d-be8b67272f9d"
      },
      "execution_count": 8,
      "outputs": [
        {
          "output_type": "stream",
          "name": "stdout",
          "text": [
            "2 * 1 = 2\n",
            "2 * 2 = 4\n",
            "2 * 3 = 6\n",
            "2 * 4 = 8\n",
            "2 * 5 = 10\n",
            "2 * 6 = 12\n",
            "2 * 7 = 14\n",
            "2 * 8 = 16\n",
            "2 * 9 = 18\n",
            "3 * 1 = 3\n",
            "3 * 2 = 6\n",
            "3 * 3 = 9\n",
            "3 * 4 = 12\n",
            "3 * 5 = 15\n",
            "3 * 6 = 18\n",
            "3 * 7 = 21\n",
            "3 * 8 = 24\n",
            "3 * 9 = 27\n",
            "4 * 1 = 4\n",
            "4 * 2 = 8\n",
            "4 * 3 = 12\n",
            "4 * 4 = 16\n",
            "4 * 5 = 20\n",
            "4 * 6 = 24\n",
            "4 * 7 = 28\n",
            "4 * 8 = 32\n",
            "4 * 9 = 36\n",
            "5 * 1 = 5\n",
            "5 * 2 = 10\n",
            "5 * 3 = 15\n",
            "5 * 4 = 20\n",
            "5 * 5 = 25\n",
            "5 * 6 = 30\n",
            "5 * 7 = 35\n",
            "5 * 8 = 40\n",
            "5 * 9 = 45\n",
            "6 * 1 = 6\n",
            "6 * 2 = 12\n",
            "6 * 3 = 18\n",
            "6 * 4 = 24\n",
            "6 * 5 = 30\n",
            "6 * 6 = 36\n",
            "6 * 7 = 42\n",
            "6 * 8 = 48\n",
            "6 * 9 = 54\n",
            "7 * 1 = 7\n",
            "7 * 2 = 14\n",
            "7 * 3 = 21\n",
            "7 * 4 = 28\n",
            "7 * 5 = 35\n",
            "7 * 6 = 42\n",
            "7 * 7 = 49\n",
            "7 * 8 = 56\n",
            "7 * 9 = 63\n",
            "8 * 1 = 8\n",
            "8 * 2 = 16\n",
            "8 * 3 = 24\n",
            "8 * 4 = 32\n",
            "8 * 5 = 40\n",
            "8 * 6 = 48\n",
            "8 * 7 = 56\n",
            "8 * 8 = 64\n",
            "8 * 9 = 72\n",
            "9 * 1 = 9\n",
            "9 * 2 = 18\n",
            "9 * 3 = 27\n",
            "9 * 4 = 36\n",
            "9 * 5 = 45\n",
            "9 * 6 = 54\n",
            "9 * 7 = 63\n",
            "9 * 8 = 72\n",
            "9 * 9 = 81\n"
          ]
        }
      ]
    },
    {
      "cell_type": "code",
      "source": [],
      "metadata": {
        "id": "wu96s_cEpxrr"
      },
      "execution_count": 8,
      "outputs": []
    }
  ]
}