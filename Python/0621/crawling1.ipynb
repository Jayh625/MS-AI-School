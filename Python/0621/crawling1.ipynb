{
 "cells": [
  {
   "cell_type": "code",
   "execution_count": 1,
   "id": "0eae10e2",
   "metadata": {},
   "outputs": [
    {
     "name": "stdout",
     "output_type": "stream",
     "text": [
      "다운받을 목록 개수를 입력하세요: 1\n",
      "목록 1 입력하세요: mango\n",
      "목록 : ['mango']\n",
      "다운받을 이미지 개수를 입력하세요: 100\n",
      "Download starts..\n"
     ]
    },
    {
     "name": "stderr",
     "output_type": "stream",
     "text": [
      " 32%|█████████████████████████▌                                                      | 128/400 [07:58<16:56,  3.74s/it]\n"
     ]
    },
    {
     "name": "stdout",
     "output_type": "stream",
     "text": [
      "Download completed\n"
     ]
    }
   ],
   "source": [
    "from selenium import webdriver\n",
    "from selenium.webdriver.common.keys import Keys\n",
    "from selenium.webdriver.chrome.service import Service\n",
    "from selenium.webdriver.common.by import By\n",
    "\n",
    "from re import I\n",
    "import time\n",
    "import os \n",
    "import urllib, requests\n",
    "from tqdm import tqdm\n",
    "\n",
    "def google_crawling(search_words, counts) :\n",
    "    print(\"Download starts..\")\n",
    "    service = Service('./chromedriver.exe')\n",
    "    driver = webdriver.Chrome(service=service)\n",
    "    driver.implicitly_wait(3)\n",
    "    driver.get(\"https://www.google.co.kr/imghp?h1=ko\")\n",
    "    os.makedirs('./imgs/original', exist_ok=True)\n",
    "    current_path = os.getcwd()\n",
    "    current_path += '\\\\imgs\\\\original\\\\'\n",
    "    for search_word in search_words:\n",
    "        elem = driver.find_element(By.NAME, value=\"q\")\n",
    "        elem.clear()\n",
    "        elem.send_keys(search_word)\n",
    "        elem.send_keys(Keys.RETURN)\n",
    "        SCROLL_PAUSE_TIME = 1\n",
    "        last_height = driver.execute_script(\"return document.body.scrollHeight\") \n",
    "\n",
    "        while True:\n",
    "            driver.execute_script(\"window.scrollTo(0, document.body.scrollHeight);\")  \n",
    "            time.sleep(SCROLL_PAUSE_TIME)  \n",
    "            new_height = driver.execute_script(\"return document.body.scrollHeight\")\n",
    "            if new_height == last_height:  \n",
    "                try:\n",
    "                    driver.find_elements(By.CSS_SELECTOR, value=\".mye4qd\").click()  \n",
    "                except:\n",
    "                    break\n",
    "            last_height = new_height\n",
    "            \n",
    "        images = driver.find_elements(By.CSS_SELECTOR, value=\".rg_i.Q4LuWd\")\n",
    "        folder_name = search_word\n",
    "        if not os.path.isdir(current_path +folder_name):  \n",
    "            os.makedirs(current_path +folder_name, exist_ok=True)\n",
    "            \n",
    "        count = 1\n",
    "        for image in tqdm(images):\n",
    "            if count > counts:\n",
    "                break\n",
    "            try:\n",
    "                image.click()\n",
    "                time.sleep(3)\n",
    "                imgUrl = driver.find_element(By.XPATH, value='//*[@id=\"Sva75c\"]/div[2]/div/div[2]/div[2]/div[2]/c-wiz/div/div/div/div[3]/div[1]/a/img[1]').get_attribute(\"src\")\n",
    "                urllib.request.urlretrieve(\n",
    "                    imgUrl,\n",
    "                    current_path  + folder_name + \"/\" + str(count).zfill(3)+ \"_\" + search_word + \".png\")\n",
    "                count += 1\n",
    "            except:\n",
    "                pass\n",
    "    \n",
    "        driver.back()\n",
    "    print(\"Download completed\")\n",
    "    driver.close()\n",
    "\n",
    "input_count = int(input(\"다운받을 목록 개수를 입력하세요: \"))\n",
    "input_list = []\n",
    "for i in range(input_count):\n",
    "    input_value = input(\"목록 {} 입력하세요: \".format(i + 1))\n",
    "    input_list.append(input_value)\n",
    "print(\"목록 :\", input_list)\n",
    "counts = int(input(\"다운받을 이미지 개수를 입력하세요: \"))\n",
    "google_crawling(input_list, counts)"
   ]
  },
  {
   "cell_type": "code",
   "execution_count": null,
   "id": "cc4e45b0",
   "metadata": {},
   "outputs": [],
   "source": []
  },
  {
   "cell_type": "code",
   "execution_count": null,
   "id": "55212839",
   "metadata": {},
   "outputs": [],
   "source": []
  }
 ],
 "metadata": {
  "kernelspec": {
   "display_name": "AI",
   "language": "python",
   "name": "ai"
  },
  "language_info": {
   "codemirror_mode": {
    "name": "ipython",
    "version": 3
   },
   "file_extension": ".py",
   "mimetype": "text/x-python",
   "name": "python",
   "nbconvert_exporter": "python",
   "pygments_lexer": "ipython3",
   "version": "3.8.16"
  }
 },
 "nbformat": 4,
 "nbformat_minor": 5
}
