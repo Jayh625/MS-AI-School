{
 "cells": [
  {
   "cell_type": "code",
   "execution_count": 3,
   "id": "0eae10e2",
   "metadata": {},
   "outputs": [
    {
     "name": "stdout",
     "output_type": "stream",
     "text": [
      "다운받을 목록 개수를 입력하세요: 1\n",
      "목록 1 입력하세요: 배\n",
      "목록 : ['배']\n",
      "다운받을 이미지 개수를 입력하세요: 5\n",
      "Download starts..\n"
     ]
    },
    {
     "name": "stderr",
     "output_type": "stream",
     "text": [
      "100%|████████████████████████████████████████████████████████████████████████████████| 400/400 [00:09<00:00, 40.90it/s]\n"
     ]
    },
    {
     "ename": "NoSuchWindowException",
     "evalue": "Message: no such window: target window already closed\nfrom unknown error: web view not found\n  (Session info: chrome=114.0.5735.134)\nStacktrace:\nBacktrace:\n\tGetHandleVerifier [0x0079A813+48355]\n\t(No symbol) [0x0072C4B1]\n\t(No symbol) [0x00635358]\n\t(No symbol) [0x0061D293]\n\t(No symbol) [0x0067E37B]\n\t(No symbol) [0x0068C473]\n\t(No symbol) [0x0067A536]\n\t(No symbol) [0x006582DC]\n\t(No symbol) [0x006593DD]\n\tGetHandleVerifier [0x009FAABD+2539405]\n\tGetHandleVerifier [0x00A3A78F+2800735]\n\tGetHandleVerifier [0x00A3456C+2775612]\n\tGetHandleVerifier [0x008251E0+616112]\n\t(No symbol) [0x00735F8C]\n\t(No symbol) [0x00732328]\n\t(No symbol) [0x0073240B]\n\t(No symbol) [0x00724FF7]\n\tBaseThreadInitThunk [0x750900C9+25]\n\tRtlGetAppContainerNamedObjectPath [0x77147B4E+286]\n\tRtlGetAppContainerNamedObjectPath [0x77147B1E+238]\n",
     "output_type": "error",
     "traceback": [
      "\u001b[1;31m---------------------------------------------------------------------------\u001b[0m",
      "\u001b[1;31mNoSuchWindowException\u001b[0m                     Traceback (most recent call last)",
      "Cell \u001b[1;32mIn[3], line 71\u001b[0m\n\u001b[0;32m     69\u001b[0m \u001b[38;5;28mprint\u001b[39m(\u001b[38;5;124m\"\u001b[39m\u001b[38;5;124m목록 :\u001b[39m\u001b[38;5;124m\"\u001b[39m, input_list)\n\u001b[0;32m     70\u001b[0m counts \u001b[38;5;241m=\u001b[39m \u001b[38;5;28mint\u001b[39m(\u001b[38;5;28minput\u001b[39m(\u001b[38;5;124m\"\u001b[39m\u001b[38;5;124m다운받을 이미지 개수를 입력하세요: \u001b[39m\u001b[38;5;124m\"\u001b[39m))\n\u001b[1;32m---> 71\u001b[0m \u001b[43mgoogle_crawling\u001b[49m\u001b[43m(\u001b[49m\u001b[43minput_list\u001b[49m\u001b[43m,\u001b[49m\u001b[43m \u001b[49m\u001b[43mcounts\u001b[49m\u001b[43m)\u001b[49m\n",
      "Cell \u001b[1;32mIn[3], line 60\u001b[0m, in \u001b[0;36mgoogle_crawling\u001b[1;34m(search_words, counts)\u001b[0m\n\u001b[0;32m     57\u001b[0m         \u001b[38;5;28;01mexcept\u001b[39;00m:\n\u001b[0;32m     58\u001b[0m             \u001b[38;5;28;01mpass\u001b[39;00m\n\u001b[1;32m---> 60\u001b[0m     \u001b[43mdriver\u001b[49m\u001b[38;5;241;43m.\u001b[39;49m\u001b[43mback\u001b[49m\u001b[43m(\u001b[49m\u001b[43m)\u001b[49m\n\u001b[0;32m     61\u001b[0m \u001b[38;5;28mprint\u001b[39m(\u001b[38;5;124m\"\u001b[39m\u001b[38;5;124mDownload completed\u001b[39m\u001b[38;5;124m\"\u001b[39m)\n\u001b[0;32m     62\u001b[0m driver\u001b[38;5;241m.\u001b[39mclose()\n",
      "File \u001b[1;32m~\\anaconda3\\envs\\AI\\lib\\site-packages\\selenium\\webdriver\\remote\\webdriver.py:1045\u001b[0m, in \u001b[0;36mWebDriver.back\u001b[1;34m(self)\u001b[0m\n\u001b[0;32m   1036\u001b[0m \u001b[38;5;28;01mdef\u001b[39;00m \u001b[38;5;21mback\u001b[39m(\u001b[38;5;28mself\u001b[39m) \u001b[38;5;241m-\u001b[39m\u001b[38;5;241m>\u001b[39m \u001b[38;5;28;01mNone\u001b[39;00m:\n\u001b[0;32m   1037\u001b[0m \u001b[38;5;250m    \u001b[39m\u001b[38;5;124;03m\"\"\"\u001b[39;00m\n\u001b[0;32m   1038\u001b[0m \u001b[38;5;124;03m    Goes one step backward in the browser history.\u001b[39;00m\n\u001b[0;32m   1039\u001b[0m \n\u001b[1;32m   (...)\u001b[0m\n\u001b[0;32m   1043\u001b[0m \u001b[38;5;124;03m            driver.back()\u001b[39;00m\n\u001b[0;32m   1044\u001b[0m \u001b[38;5;124;03m    \"\"\"\u001b[39;00m\n\u001b[1;32m-> 1045\u001b[0m     \u001b[38;5;28;43mself\u001b[39;49m\u001b[38;5;241;43m.\u001b[39;49m\u001b[43mexecute\u001b[49m\u001b[43m(\u001b[49m\u001b[43mCommand\u001b[49m\u001b[38;5;241;43m.\u001b[39;49m\u001b[43mGO_BACK\u001b[49m\u001b[43m)\u001b[49m\n",
      "File \u001b[1;32m~\\anaconda3\\envs\\AI\\lib\\site-packages\\selenium\\webdriver\\remote\\webdriver.py:430\u001b[0m, in \u001b[0;36mWebDriver.execute\u001b[1;34m(self, driver_command, params)\u001b[0m\n\u001b[0;32m    428\u001b[0m response \u001b[38;5;241m=\u001b[39m \u001b[38;5;28mself\u001b[39m\u001b[38;5;241m.\u001b[39mcommand_executor\u001b[38;5;241m.\u001b[39mexecute(driver_command, params)\n\u001b[0;32m    429\u001b[0m \u001b[38;5;28;01mif\u001b[39;00m response:\n\u001b[1;32m--> 430\u001b[0m     \u001b[38;5;28;43mself\u001b[39;49m\u001b[38;5;241;43m.\u001b[39;49m\u001b[43merror_handler\u001b[49m\u001b[38;5;241;43m.\u001b[39;49m\u001b[43mcheck_response\u001b[49m\u001b[43m(\u001b[49m\u001b[43mresponse\u001b[49m\u001b[43m)\u001b[49m\n\u001b[0;32m    431\u001b[0m     response[\u001b[38;5;124m'\u001b[39m\u001b[38;5;124mvalue\u001b[39m\u001b[38;5;124m'\u001b[39m] \u001b[38;5;241m=\u001b[39m \u001b[38;5;28mself\u001b[39m\u001b[38;5;241m.\u001b[39m_unwrap_value(\n\u001b[0;32m    432\u001b[0m         response\u001b[38;5;241m.\u001b[39mget(\u001b[38;5;124m'\u001b[39m\u001b[38;5;124mvalue\u001b[39m\u001b[38;5;124m'\u001b[39m, \u001b[38;5;28;01mNone\u001b[39;00m))\n\u001b[0;32m    433\u001b[0m     \u001b[38;5;28;01mreturn\u001b[39;00m response\n",
      "File \u001b[1;32m~\\anaconda3\\envs\\AI\\lib\\site-packages\\selenium\\webdriver\\remote\\errorhandler.py:247\u001b[0m, in \u001b[0;36mErrorHandler.check_response\u001b[1;34m(self, response)\u001b[0m\n\u001b[0;32m    245\u001b[0m         alert_text \u001b[38;5;241m=\u001b[39m value[\u001b[38;5;124m'\u001b[39m\u001b[38;5;124malert\u001b[39m\u001b[38;5;124m'\u001b[39m]\u001b[38;5;241m.\u001b[39mget(\u001b[38;5;124m'\u001b[39m\u001b[38;5;124mtext\u001b[39m\u001b[38;5;124m'\u001b[39m)\n\u001b[0;32m    246\u001b[0m     \u001b[38;5;28;01mraise\u001b[39;00m exception_class(message, screen, stacktrace, alert_text)  \u001b[38;5;66;03m# type: ignore[call-arg]  # mypy is not smart enough here\u001b[39;00m\n\u001b[1;32m--> 247\u001b[0m \u001b[38;5;28;01mraise\u001b[39;00m exception_class(message, screen, stacktrace)\n",
      "\u001b[1;31mNoSuchWindowException\u001b[0m: Message: no such window: target window already closed\nfrom unknown error: web view not found\n  (Session info: chrome=114.0.5735.134)\nStacktrace:\nBacktrace:\n\tGetHandleVerifier [0x0079A813+48355]\n\t(No symbol) [0x0072C4B1]\n\t(No symbol) [0x00635358]\n\t(No symbol) [0x0061D293]\n\t(No symbol) [0x0067E37B]\n\t(No symbol) [0x0068C473]\n\t(No symbol) [0x0067A536]\n\t(No symbol) [0x006582DC]\n\t(No symbol) [0x006593DD]\n\tGetHandleVerifier [0x009FAABD+2539405]\n\tGetHandleVerifier [0x00A3A78F+2800735]\n\tGetHandleVerifier [0x00A3456C+2775612]\n\tGetHandleVerifier [0x008251E0+616112]\n\t(No symbol) [0x00735F8C]\n\t(No symbol) [0x00732328]\n\t(No symbol) [0x0073240B]\n\t(No symbol) [0x00724FF7]\n\tBaseThreadInitThunk [0x750900C9+25]\n\tRtlGetAppContainerNamedObjectPath [0x77147B4E+286]\n\tRtlGetAppContainerNamedObjectPath [0x77147B1E+238]\n"
     ]
    }
   ],
   "source": [
    "from selenium import webdriver\n",
    "from selenium.webdriver.common.keys import Keys\n",
    "from selenium.webdriver.chrome.service import Service\n",
    "from selenium.webdriver.common.by import By\n",
    "\n",
    "from re import I\n",
    "import time\n",
    "import os \n",
    "import urllib, requests\n",
    "from tqdm import tqdm\n",
    "\n",
    "def google_crawling(search_words, counts) :\n",
    "    print(\"Download starts..\")\n",
    "    service = Service('./chromedriver.exe')\n",
    "    driver = webdriver.Chrome(service=service)\n",
    "    driver.implicitly_wait(3)\n",
    "    driver.get(\"https://www.google.co.kr/imghp?h1=ko\")\n",
    "    os.makedirs('./imgs/', exist_ok=True)\n",
    "    current_path = os.getcwd()\n",
    "    current_path += '\\\\imgs\\\\'\n",
    "    for search_word in search_words:\n",
    "        elem = driver.find_element(By.NAME, value=\"q\")\n",
    "        elem.clear()\n",
    "        elem.send_keys(search_word)\n",
    "        elem.send_keys(Keys.RETURN)\n",
    "        SCROLL_PAUSE_TIME = 1\n",
    "        last_height = driver.execute_script(\"return document.body.scrollHeight\") \n",
    "\n",
    "        while True:\n",
    "            driver.execute_script(\"window.scrollTo(0, document.body.scrollHeight);\")  \n",
    "            time.sleep(SCROLL_PAUSE_TIME)  \n",
    "            new_height = driver.execute_script(\"return document.body.scrollHeight\")\n",
    "            if new_height == last_height:  \n",
    "                try:\n",
    "                    driver.find_elements(By.CSS_SELECTOR, value=\".mye4qd\").click()  \n",
    "                except:\n",
    "                    break\n",
    "            last_height = new_height\n",
    "            \n",
    "        images = driver.find_elements(By.CSS_SELECTOR, value=\".rg_i.Q4LuWd\")\n",
    "        folder_name = search_word\n",
    "        if not os.path.isdir(current_path +folder_name):  \n",
    "            os.makedirs(current_path +folder_name, exist_ok=True)\n",
    "            \n",
    "        count = 1\n",
    "        for image in tqdm(images):\n",
    "            if count > counts:\n",
    "                break\n",
    "            try:\n",
    "                image.click()\n",
    "                time.sleep(3)\n",
    "                imgUrl = driver.find_element(By.XPATH, value='//*[@id=\"Sva75c\"]/div[2]/div/div[2]/div[2]/div[2]/c-wiz/div/div/div/div[3]/div[1]/a/img[1]').get_attribute(\"src\")\n",
    "                urllib.request.urlretrieve(\n",
    "                    imgUrl,\n",
    "                    current_path  + folder_name + \"/\" + str(count).zfill(3)+ \"_\" + search_word + \".png\")\n",
    "                count += 1\n",
    "            except:\n",
    "                pass\n",
    "    \n",
    "        driver.back()\n",
    "    print(\"Download completed\")\n",
    "    driver.close()\n",
    "\n",
    "input_count = int(input(\"다운받을 목록 개수를 입력하세요: \"))\n",
    "input_list = []\n",
    "for i in range(input_count):\n",
    "    input_value = input(\"목록 {} 입력하세요: \".format(i + 1))\n",
    "    input_list.append(input_value)\n",
    "print(\"목록 :\", input_list)\n",
    "counts = int(input(\"다운받을 이미지 개수를 입력하세요: \"))\n",
    "google_crawling(input_list, counts)"
   ]
  },
  {
   "cell_type": "code",
   "execution_count": null,
   "id": "cc4e45b0",
   "metadata": {},
   "outputs": [],
   "source": []
  }
 ],
 "metadata": {
  "kernelspec": {
   "display_name": "AI",
   "language": "python",
   "name": "ai"
  },
  "language_info": {
   "codemirror_mode": {
    "name": "ipython",
    "version": 3
   },
   "file_extension": ".py",
   "mimetype": "text/x-python",
   "name": "python",
   "nbconvert_exporter": "python",
   "pygments_lexer": "ipython3",
   "version": "3.8.16"
  }
 },
 "nbformat": 4,
 "nbformat_minor": 5
}
