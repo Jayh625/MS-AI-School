{
 "cells": [
  {
   "cell_type": "markdown",
   "id": "3b84d91e",
   "metadata": {},
   "source": [
    "## 이미지 폴더에 있는 파일 가져오기"
   ]
  },
  {
   "cell_type": "code",
   "execution_count": 1,
   "id": "c3447e7d",
   "metadata": {},
   "outputs": [],
   "source": [
    "import os\n",
    "import glob\n",
    "from natsort import natsort"
   ]
  },
  {
   "cell_type": "code",
   "execution_count": 2,
   "id": "e52d7834",
   "metadata": {
    "scrolled": true
   },
   "outputs": [
    {
     "name": "stdout",
     "output_type": "stream",
     "text": [
      "['0_apple.png', '100_apple.png', '101_apple.png', '102_apple.png', '103_apple.png', '104_apple.png', '105_apple.png', '106_apple.png', '107_apple.png', '108_apple.png', '109_apple.png', '10_apple.png', '110_apple.png', '111_apple.png', '112_apple.png', '113_apple.png', '114_apple.png', '115_apple.png', '116_apple.png', '117_apple.png', '118_apple.png', '121_apple.png', '122_apple.png', '123_apple.png', '124_apple.png', '125_apple.png', '126_apple.png', '127_apple.png', '128_apple.png', '129_apple.png', '12_apple.png', '130_apple.png', '131_apple.png', '135_apple.png', '136_apple.png', '137_apple.png', '13_apple.png', '140_apple.png', '141_apple.png', '142_apple.png', '143_apple.png', '148_apple.png', '149_apple.png', '14_apple.png', '150_apple.png', '151_apple.png', '152_apple.png', '153_apple.png', '154_apple.png', '155_apple.png', '156_apple.png', '157_apple.png', '158_apple.png', '159_apple.png', '160_apple.png', '161_apple.png', '162_apple.png', '163_apple.png', '164_apple.png', '165_apple.png', '166_apple.png', '167_apple.png', '168_apple.png', '16_apple.png', '170_apple.png', '171_apple.png', '172_apple.png', '173_apple.png', '174_apple.png', '175_apple.png', '176_apple.png', '177_apple.png', '178_apple.png', '179_apple.png', '17_apple.png', '180_apple.png', '181_apple.png', '182_apple.png', '183_apple.png', '184_apple.png', '185_apple.png', '188_apple.png', '189_apple.png', '18_apple.png', '190_apple.png', '191_apple.png', '192_apple.png', '193_apple.png', '194_apple.png', '195_apple.png', '196_apple.png', '197_apple.png', '198_apple.png', '19_apple.png', '1_apple.png', '200_apple.png', '201_apple.png', '202_apple.png', '203_apple.png', '204_apple.png', '206_apple.png', '207_apple.png', '208_apple.png', '209_apple.png', '20_apple.png', '210_apple.png', '211_apple.png', '212_apple.png', '213_apple.png', '214_apple.png', '215_apple.png', '216_apple.png', '217_apple.png', '218_apple.png', '219_apple.png', '21_apple.png', '220_apple.png', '221_apple.png', '223_apple.png', '224_apple.png', '225_apple.png', '227_apple.png', '228_apple.png', '22_apple.png', '230_apple.png', '231_apple.png', '232_apple.png', '233_apple.png', '236_apple.png', '237_apple.png', '239_apple.png', '23_apple.png', '240_apple.png', '242_apple.png', '243_apple.png', '247_apple.png', '249_apple.png', '24_apple.png', '251_apple.png', '253_apple.png', '254_apple.png', '255_apple.png', '256_apple.png', '25_apple.png', '260_apple.png', '262_apple.png', '263_apple.png', '264_apple.png', '265_apple.png', '267_apple.png', '269_apple.png', '26_apple.png', '271_apple.png', '272_apple.png', '276_apple.png', '277_apple.png', '278_apple.png', '279_apple.png', '27_apple.png', '281_apple.png', '282_apple.png', '284_apple.png', '285_apple.png', '286_apple.png', '287_apple.png', '288_apple.png', '289_apple.png', '28_apple.png', '290_apple.png', '291_apple.png', '292_apple.png', '293_apple.png', '295_apple.png', '296_apple.png', '297_apple.png', '298_apple.png', '299_apple.png', '29_apple.png', '2_apple.png', '300_apple.png', '301_apple.png', '304_apple.png', '305_apple.png', '306_apple.png', '308_apple.png', '30_apple.png', '310_apple.png', '311_apple.png', '315_apple.png', '316_apple.png', '317_apple.png', '318_apple.png', '31_apple.png', '320_apple.png', '322_apple.png', '325_apple.png', '326_apple.png', '327_apple.png', '328_apple.png', '329_apple.png', '32_apple.png', '330_apple.png', '331_apple.png', '332_apple.png', '334_apple.png', '335_apple.png', '336_apple.png', '337_apple.png', '338_apple.png', '339_apple.png', '33_apple.png', '341_apple.png', '342_apple.png', '344_apple.png', '348_apple.png', '34_apple.png', '350_apple.png', '352_apple.png', '353_apple.png', '355_apple.png', '358_apple.png', '359_apple.png', '35_apple.png', '364_apple.png', '365_apple.png', '366_apple.png', '367_apple.png', '369_apple.png', '36_apple.png', '371_apple.png', '372_apple.png', '373_apple.png', '375_apple.png', '376_apple.png', '378_apple.png', '379_apple.png', '380_apple.png', '381_apple.png', '382_apple.png', '383_apple.png', '384_apple.png', '387_apple.png', '390_apple.png', '391_apple.png', '394_apple.png', '39_apple.png', '3_apple.png', '401_apple.png', '40_apple.png', '410_apple.png', '413_apple.png', '414_apple.png', '415_apple.png', '417_apple.png', '421_apple.png', '422_apple.png', '425_apple.png', '42_apple.png', '431_apple.png', '432_apple.png', '434_apple.png', '438_apple.png', '439_apple.png', '43_apple.png', '440_apple.png', '449_apple.png', '44_apple.png', '450_apple.png', '454_apple.png', '456_apple.png', '457_apple.png', '458_apple.png', '459_apple.png', '460_apple.png', '461_apple.png', '462_apple.png', '46_apple.png', '470_apple.png', '472_apple.png', '483_apple.png', '48_apple.png', '495_apple.png', '509_apple.png', '50_apple.png', '511_apple.png', '513_apple.png', '514_apple.png', '51_apple.png', '526_apple.png', '528_apple.png', '52_apple.png', '53_apple.png', '54_apple.png', '55_apple.png', '56_apple.png', '57_apple.png', '58_apple.png', '5_apple.png', '60_apple.png', '61_apple.png', '62_apple.png', '64_apple.png', '67_apple.png', '68_apple.png', '69_apple.png', '6_apple.png', '70_apple.png', '71_apple.png', '73_apple.png', '74_apple.png', '75_apple.png', '76_apple.png', '78_apple.png', '79_apple.png', '7_apple.png', '81_apple.png', '82_apple.png', '84_apple.png', '85_apple.png', '88_apple.png', '89_apple.png', '90_apple.png', '91_apple.png', '92_apple.png', '93_apple.png', '94_apple.png', '95_apple.png', '96_apple.png', '97_apple.png', '98_apple.png', '99_apple.png', '9_apple.png']\n"
     ]
    }
   ],
   "source": [
    "# 이미지가 저장되어 있는 폴더 경로\n",
    "img_dir = './data/'\n",
    "\n",
    "# 디렉토리 내 모든 파일 목록 가져오기\n",
    "file_list = os.listdir(img_dir)\n",
    "print(file_list)"
   ]
  },
  {
   "cell_type": "markdown",
   "id": "43751824",
   "metadata": {},
   "source": [
    "### 정렬하기"
   ]
  },
  {
   "cell_type": "code",
   "execution_count": 3,
   "id": "5bbdb4a9",
   "metadata": {
    "scrolled": true
   },
   "outputs": [
    {
     "name": "stdout",
     "output_type": "stream",
     "text": [
      "['0_apple.png', '100_apple.png', '101_apple.png', '102_apple.png', '103_apple.png', '104_apple.png', '105_apple.png', '106_apple.png', '107_apple.png', '108_apple.png', '109_apple.png', '10_apple.png', '110_apple.png', '111_apple.png', '112_apple.png', '113_apple.png', '114_apple.png', '115_apple.png', '116_apple.png', '117_apple.png', '118_apple.png', '121_apple.png', '122_apple.png', '123_apple.png', '124_apple.png', '125_apple.png', '126_apple.png', '127_apple.png', '128_apple.png', '129_apple.png', '12_apple.png', '130_apple.png', '131_apple.png', '135_apple.png', '136_apple.png', '137_apple.png', '13_apple.png', '140_apple.png', '141_apple.png', '142_apple.png', '143_apple.png', '148_apple.png', '149_apple.png', '14_apple.png', '150_apple.png', '151_apple.png', '152_apple.png', '153_apple.png', '154_apple.png', '155_apple.png', '156_apple.png', '157_apple.png', '158_apple.png', '159_apple.png', '160_apple.png', '161_apple.png', '162_apple.png', '163_apple.png', '164_apple.png', '165_apple.png', '166_apple.png', '167_apple.png', '168_apple.png', '16_apple.png', '170_apple.png', '171_apple.png', '172_apple.png', '173_apple.png', '174_apple.png', '175_apple.png', '176_apple.png', '177_apple.png', '178_apple.png', '179_apple.png', '17_apple.png', '180_apple.png', '181_apple.png', '182_apple.png', '183_apple.png', '184_apple.png', '185_apple.png', '188_apple.png', '189_apple.png', '18_apple.png', '190_apple.png', '191_apple.png', '192_apple.png', '193_apple.png', '194_apple.png', '195_apple.png', '196_apple.png', '197_apple.png', '198_apple.png', '19_apple.png', '1_apple.png', '200_apple.png', '201_apple.png', '202_apple.png', '203_apple.png', '204_apple.png', '206_apple.png', '207_apple.png', '208_apple.png', '209_apple.png', '20_apple.png', '210_apple.png', '211_apple.png', '212_apple.png', '213_apple.png', '214_apple.png', '215_apple.png', '216_apple.png', '217_apple.png', '218_apple.png', '219_apple.png', '21_apple.png', '220_apple.png', '221_apple.png', '223_apple.png', '224_apple.png', '225_apple.png', '227_apple.png', '228_apple.png', '22_apple.png', '230_apple.png', '231_apple.png', '232_apple.png', '233_apple.png', '236_apple.png', '237_apple.png', '239_apple.png', '23_apple.png', '240_apple.png', '242_apple.png', '243_apple.png', '247_apple.png', '249_apple.png', '24_apple.png', '251_apple.png', '253_apple.png', '254_apple.png', '255_apple.png', '256_apple.png', '25_apple.png', '260_apple.png', '262_apple.png', '263_apple.png', '264_apple.png', '265_apple.png', '267_apple.png', '269_apple.png', '26_apple.png', '271_apple.png', '272_apple.png', '276_apple.png', '277_apple.png', '278_apple.png', '279_apple.png', '27_apple.png', '281_apple.png', '282_apple.png', '284_apple.png', '285_apple.png', '286_apple.png', '287_apple.png', '288_apple.png', '289_apple.png', '28_apple.png', '290_apple.png', '291_apple.png', '292_apple.png', '293_apple.png', '295_apple.png', '296_apple.png', '297_apple.png', '298_apple.png', '299_apple.png', '29_apple.png', '2_apple.png', '300_apple.png', '301_apple.png', '304_apple.png', '305_apple.png', '306_apple.png', '308_apple.png', '30_apple.png', '310_apple.png', '311_apple.png', '315_apple.png', '316_apple.png', '317_apple.png', '318_apple.png', '31_apple.png', '320_apple.png', '322_apple.png', '325_apple.png', '326_apple.png', '327_apple.png', '328_apple.png', '329_apple.png', '32_apple.png', '330_apple.png', '331_apple.png', '332_apple.png', '334_apple.png', '335_apple.png', '336_apple.png', '337_apple.png', '338_apple.png', '339_apple.png', '33_apple.png', '341_apple.png', '342_apple.png', '344_apple.png', '348_apple.png', '34_apple.png', '350_apple.png', '352_apple.png', '353_apple.png', '355_apple.png', '358_apple.png', '359_apple.png', '35_apple.png', '364_apple.png', '365_apple.png', '366_apple.png', '367_apple.png', '369_apple.png', '36_apple.png', '371_apple.png', '372_apple.png', '373_apple.png', '375_apple.png', '376_apple.png', '378_apple.png', '379_apple.png', '380_apple.png', '381_apple.png', '382_apple.png', '383_apple.png', '384_apple.png', '387_apple.png', '390_apple.png', '391_apple.png', '394_apple.png', '39_apple.png', '3_apple.png', '401_apple.png', '40_apple.png', '410_apple.png', '413_apple.png', '414_apple.png', '415_apple.png', '417_apple.png', '421_apple.png', '422_apple.png', '425_apple.png', '42_apple.png', '431_apple.png', '432_apple.png', '434_apple.png', '438_apple.png', '439_apple.png', '43_apple.png', '440_apple.png', '449_apple.png', '44_apple.png', '450_apple.png', '454_apple.png', '456_apple.png', '457_apple.png', '458_apple.png', '459_apple.png', '460_apple.png', '461_apple.png', '462_apple.png', '46_apple.png', '470_apple.png', '472_apple.png', '483_apple.png', '48_apple.png', '495_apple.png', '509_apple.png', '50_apple.png', '511_apple.png', '513_apple.png', '514_apple.png', '51_apple.png', '526_apple.png', '528_apple.png', '52_apple.png', '53_apple.png', '54_apple.png', '55_apple.png', '56_apple.png', '57_apple.png', '58_apple.png', '5_apple.png', '60_apple.png', '61_apple.png', '62_apple.png', '64_apple.png', '67_apple.png', '68_apple.png', '69_apple.png', '6_apple.png', '70_apple.png', '71_apple.png', '73_apple.png', '74_apple.png', '75_apple.png', '76_apple.png', '78_apple.png', '79_apple.png', '7_apple.png', '81_apple.png', '82_apple.png', '84_apple.png', '85_apple.png', '88_apple.png', '89_apple.png', '90_apple.png', '91_apple.png', '92_apple.png', '93_apple.png', '94_apple.png', '95_apple.png', '96_apple.png', '97_apple.png', '98_apple.png', '99_apple.png', '9_apple.png']\n"
     ]
    }
   ],
   "source": [
    "sorted_list = sorted(file_list)\n",
    "print(sorted_list)"
   ]
  },
  {
   "cell_type": "markdown",
   "id": "4c289b8d",
   "metadata": {},
   "source": [
    "### natsort"
   ]
  },
  {
   "cell_type": "code",
   "execution_count": 4,
   "id": "ace671a6",
   "metadata": {
    "scrolled": true
   },
   "outputs": [
    {
     "name": "stdout",
     "output_type": "stream",
     "text": [
      "['0_apple.png', '1_apple.png', '2_apple.png', '3_apple.png', '5_apple.png', '6_apple.png', '7_apple.png', '9_apple.png', '10_apple.png', '12_apple.png', '13_apple.png', '14_apple.png', '16_apple.png', '17_apple.png', '18_apple.png', '19_apple.png', '20_apple.png', '21_apple.png', '22_apple.png', '23_apple.png', '24_apple.png', '25_apple.png', '26_apple.png', '27_apple.png', '28_apple.png', '29_apple.png', '30_apple.png', '31_apple.png', '32_apple.png', '33_apple.png', '34_apple.png', '35_apple.png', '36_apple.png', '39_apple.png', '40_apple.png', '42_apple.png', '43_apple.png', '44_apple.png', '46_apple.png', '48_apple.png', '50_apple.png', '51_apple.png', '52_apple.png', '53_apple.png', '54_apple.png', '55_apple.png', '56_apple.png', '57_apple.png', '58_apple.png', '60_apple.png', '61_apple.png', '62_apple.png', '64_apple.png', '67_apple.png', '68_apple.png', '69_apple.png', '70_apple.png', '71_apple.png', '73_apple.png', '74_apple.png', '75_apple.png', '76_apple.png', '78_apple.png', '79_apple.png', '81_apple.png', '82_apple.png', '84_apple.png', '85_apple.png', '88_apple.png', '89_apple.png', '90_apple.png', '91_apple.png', '92_apple.png', '93_apple.png', '94_apple.png', '95_apple.png', '96_apple.png', '97_apple.png', '98_apple.png', '99_apple.png', '100_apple.png', '101_apple.png', '102_apple.png', '103_apple.png', '104_apple.png', '105_apple.png', '106_apple.png', '107_apple.png', '108_apple.png', '109_apple.png', '110_apple.png', '111_apple.png', '112_apple.png', '113_apple.png', '114_apple.png', '115_apple.png', '116_apple.png', '117_apple.png', '118_apple.png', '121_apple.png', '122_apple.png', '123_apple.png', '124_apple.png', '125_apple.png', '126_apple.png', '127_apple.png', '128_apple.png', '129_apple.png', '130_apple.png', '131_apple.png', '135_apple.png', '136_apple.png', '137_apple.png', '140_apple.png', '141_apple.png', '142_apple.png', '143_apple.png', '148_apple.png', '149_apple.png', '150_apple.png', '151_apple.png', '152_apple.png', '153_apple.png', '154_apple.png', '155_apple.png', '156_apple.png', '157_apple.png', '158_apple.png', '159_apple.png', '160_apple.png', '161_apple.png', '162_apple.png', '163_apple.png', '164_apple.png', '165_apple.png', '166_apple.png', '167_apple.png', '168_apple.png', '170_apple.png', '171_apple.png', '172_apple.png', '173_apple.png', '174_apple.png', '175_apple.png', '176_apple.png', '177_apple.png', '178_apple.png', '179_apple.png', '180_apple.png', '181_apple.png', '182_apple.png', '183_apple.png', '184_apple.png', '185_apple.png', '188_apple.png', '189_apple.png', '190_apple.png', '191_apple.png', '192_apple.png', '193_apple.png', '194_apple.png', '195_apple.png', '196_apple.png', '197_apple.png', '198_apple.png', '200_apple.png', '201_apple.png', '202_apple.png', '203_apple.png', '204_apple.png', '206_apple.png', '207_apple.png', '208_apple.png', '209_apple.png', '210_apple.png', '211_apple.png', '212_apple.png', '213_apple.png', '214_apple.png', '215_apple.png', '216_apple.png', '217_apple.png', '218_apple.png', '219_apple.png', '220_apple.png', '221_apple.png', '223_apple.png', '224_apple.png', '225_apple.png', '227_apple.png', '228_apple.png', '230_apple.png', '231_apple.png', '232_apple.png', '233_apple.png', '236_apple.png', '237_apple.png', '239_apple.png', '240_apple.png', '242_apple.png', '243_apple.png', '247_apple.png', '249_apple.png', '251_apple.png', '253_apple.png', '254_apple.png', '255_apple.png', '256_apple.png', '260_apple.png', '262_apple.png', '263_apple.png', '264_apple.png', '265_apple.png', '267_apple.png', '269_apple.png', '271_apple.png', '272_apple.png', '276_apple.png', '277_apple.png', '278_apple.png', '279_apple.png', '281_apple.png', '282_apple.png', '284_apple.png', '285_apple.png', '286_apple.png', '287_apple.png', '288_apple.png', '289_apple.png', '290_apple.png', '291_apple.png', '292_apple.png', '293_apple.png', '295_apple.png', '296_apple.png', '297_apple.png', '298_apple.png', '299_apple.png', '300_apple.png', '301_apple.png', '304_apple.png', '305_apple.png', '306_apple.png', '308_apple.png', '310_apple.png', '311_apple.png', '315_apple.png', '316_apple.png', '317_apple.png', '318_apple.png', '320_apple.png', '322_apple.png', '325_apple.png', '326_apple.png', '327_apple.png', '328_apple.png', '329_apple.png', '330_apple.png', '331_apple.png', '332_apple.png', '334_apple.png', '335_apple.png', '336_apple.png', '337_apple.png', '338_apple.png', '339_apple.png', '341_apple.png', '342_apple.png', '344_apple.png', '348_apple.png', '350_apple.png', '352_apple.png', '353_apple.png', '355_apple.png', '358_apple.png', '359_apple.png', '364_apple.png', '365_apple.png', '366_apple.png', '367_apple.png', '369_apple.png', '371_apple.png', '372_apple.png', '373_apple.png', '375_apple.png', '376_apple.png', '378_apple.png', '379_apple.png', '380_apple.png', '381_apple.png', '382_apple.png', '383_apple.png', '384_apple.png', '387_apple.png', '390_apple.png', '391_apple.png', '394_apple.png', '401_apple.png', '410_apple.png', '413_apple.png', '414_apple.png', '415_apple.png', '417_apple.png', '421_apple.png', '422_apple.png', '425_apple.png', '431_apple.png', '432_apple.png', '434_apple.png', '438_apple.png', '439_apple.png', '440_apple.png', '449_apple.png', '450_apple.png', '454_apple.png', '456_apple.png', '457_apple.png', '458_apple.png', '459_apple.png', '460_apple.png', '461_apple.png', '462_apple.png', '470_apple.png', '472_apple.png', '483_apple.png', '495_apple.png', '509_apple.png', '511_apple.png', '513_apple.png', '514_apple.png', '526_apple.png', '528_apple.png']\n"
     ]
    }
   ],
   "source": [
    "file_list_temp01 = natsort.natsorted(os.listdir(img_dir))\n",
    "print(file_list_temp01)"
   ]
  },
  {
   "cell_type": "markdown",
   "id": "5e3200e1",
   "metadata": {},
   "source": [
    "### glob"
   ]
  },
  {
   "cell_type": "code",
   "execution_count": 5,
   "id": "149b4ada",
   "metadata": {
    "scrolled": true
   },
   "outputs": [
    {
     "name": "stdout",
     "output_type": "stream",
     "text": [
      "['./data\\\\0_apple.png', './data\\\\1_apple.png', './data\\\\2_apple.png', './data\\\\3_apple.png', './data\\\\5_apple.png', './data\\\\6_apple.png', './data\\\\7_apple.png', './data\\\\9_apple.png', './data\\\\10_apple.png', './data\\\\12_apple.png', './data\\\\13_apple.png', './data\\\\14_apple.png', './data\\\\16_apple.png', './data\\\\17_apple.png', './data\\\\18_apple.png', './data\\\\19_apple.png', './data\\\\20_apple.png', './data\\\\21_apple.png', './data\\\\22_apple.png', './data\\\\23_apple.png', './data\\\\24_apple.png', './data\\\\25_apple.png', './data\\\\26_apple.png', './data\\\\27_apple.png', './data\\\\28_apple.png', './data\\\\29_apple.png', './data\\\\30_apple.png', './data\\\\31_apple.png', './data\\\\32_apple.png', './data\\\\33_apple.png', './data\\\\34_apple.png', './data\\\\35_apple.png', './data\\\\36_apple.png', './data\\\\39_apple.png', './data\\\\40_apple.png', './data\\\\42_apple.png', './data\\\\43_apple.png', './data\\\\44_apple.png', './data\\\\46_apple.png', './data\\\\48_apple.png', './data\\\\50_apple.png', './data\\\\51_apple.png', './data\\\\52_apple.png', './data\\\\53_apple.png', './data\\\\54_apple.png', './data\\\\55_apple.png', './data\\\\56_apple.png', './data\\\\57_apple.png', './data\\\\58_apple.png', './data\\\\60_apple.png', './data\\\\61_apple.png', './data\\\\62_apple.png', './data\\\\64_apple.png', './data\\\\67_apple.png', './data\\\\68_apple.png', './data\\\\69_apple.png', './data\\\\70_apple.png', './data\\\\71_apple.png', './data\\\\73_apple.png', './data\\\\74_apple.png', './data\\\\75_apple.png', './data\\\\76_apple.png', './data\\\\78_apple.png', './data\\\\79_apple.png', './data\\\\81_apple.png', './data\\\\82_apple.png', './data\\\\84_apple.png', './data\\\\85_apple.png', './data\\\\88_apple.png', './data\\\\89_apple.png', './data\\\\90_apple.png', './data\\\\91_apple.png', './data\\\\92_apple.png', './data\\\\93_apple.png', './data\\\\94_apple.png', './data\\\\95_apple.png', './data\\\\96_apple.png', './data\\\\97_apple.png', './data\\\\98_apple.png', './data\\\\99_apple.png', './data\\\\100_apple.png', './data\\\\101_apple.png', './data\\\\102_apple.png', './data\\\\103_apple.png', './data\\\\104_apple.png', './data\\\\105_apple.png', './data\\\\106_apple.png', './data\\\\107_apple.png', './data\\\\108_apple.png', './data\\\\109_apple.png', './data\\\\110_apple.png', './data\\\\111_apple.png', './data\\\\112_apple.png', './data\\\\113_apple.png', './data\\\\114_apple.png', './data\\\\115_apple.png', './data\\\\116_apple.png', './data\\\\117_apple.png', './data\\\\118_apple.png', './data\\\\121_apple.png', './data\\\\122_apple.png', './data\\\\123_apple.png', './data\\\\124_apple.png', './data\\\\125_apple.png', './data\\\\126_apple.png', './data\\\\127_apple.png', './data\\\\128_apple.png', './data\\\\129_apple.png', './data\\\\130_apple.png', './data\\\\131_apple.png', './data\\\\135_apple.png', './data\\\\136_apple.png', './data\\\\137_apple.png', './data\\\\140_apple.png', './data\\\\141_apple.png', './data\\\\142_apple.png', './data\\\\143_apple.png', './data\\\\148_apple.png', './data\\\\149_apple.png', './data\\\\150_apple.png', './data\\\\151_apple.png', './data\\\\152_apple.png', './data\\\\153_apple.png', './data\\\\154_apple.png', './data\\\\155_apple.png', './data\\\\156_apple.png', './data\\\\157_apple.png', './data\\\\158_apple.png', './data\\\\159_apple.png', './data\\\\160_apple.png', './data\\\\161_apple.png', './data\\\\162_apple.png', './data\\\\163_apple.png', './data\\\\164_apple.png', './data\\\\165_apple.png', './data\\\\166_apple.png', './data\\\\167_apple.png', './data\\\\168_apple.png', './data\\\\170_apple.png', './data\\\\171_apple.png', './data\\\\172_apple.png', './data\\\\173_apple.png', './data\\\\174_apple.png', './data\\\\175_apple.png', './data\\\\176_apple.png', './data\\\\177_apple.png', './data\\\\178_apple.png', './data\\\\179_apple.png', './data\\\\180_apple.png', './data\\\\181_apple.png', './data\\\\182_apple.png', './data\\\\183_apple.png', './data\\\\184_apple.png', './data\\\\185_apple.png', './data\\\\188_apple.png', './data\\\\189_apple.png', './data\\\\190_apple.png', './data\\\\191_apple.png', './data\\\\192_apple.png', './data\\\\193_apple.png', './data\\\\194_apple.png', './data\\\\195_apple.png', './data\\\\196_apple.png', './data\\\\197_apple.png', './data\\\\198_apple.png', './data\\\\200_apple.png', './data\\\\201_apple.png', './data\\\\202_apple.png', './data\\\\203_apple.png', './data\\\\204_apple.png', './data\\\\206_apple.png', './data\\\\207_apple.png', './data\\\\208_apple.png', './data\\\\209_apple.png', './data\\\\210_apple.png', './data\\\\211_apple.png', './data\\\\212_apple.png', './data\\\\213_apple.png', './data\\\\214_apple.png', './data\\\\215_apple.png', './data\\\\216_apple.png', './data\\\\217_apple.png', './data\\\\218_apple.png', './data\\\\219_apple.png', './data\\\\220_apple.png', './data\\\\221_apple.png', './data\\\\223_apple.png', './data\\\\224_apple.png', './data\\\\225_apple.png', './data\\\\227_apple.png', './data\\\\228_apple.png', './data\\\\230_apple.png', './data\\\\231_apple.png', './data\\\\232_apple.png', './data\\\\233_apple.png', './data\\\\236_apple.png', './data\\\\237_apple.png', './data\\\\239_apple.png', './data\\\\240_apple.png', './data\\\\242_apple.png', './data\\\\243_apple.png', './data\\\\247_apple.png', './data\\\\249_apple.png', './data\\\\251_apple.png', './data\\\\253_apple.png', './data\\\\254_apple.png', './data\\\\255_apple.png', './data\\\\256_apple.png', './data\\\\260_apple.png', './data\\\\262_apple.png', './data\\\\263_apple.png', './data\\\\264_apple.png', './data\\\\265_apple.png', './data\\\\267_apple.png', './data\\\\269_apple.png', './data\\\\271_apple.png', './data\\\\272_apple.png', './data\\\\276_apple.png', './data\\\\277_apple.png', './data\\\\278_apple.png', './data\\\\279_apple.png', './data\\\\281_apple.png', './data\\\\282_apple.png', './data\\\\284_apple.png', './data\\\\285_apple.png', './data\\\\286_apple.png', './data\\\\287_apple.png', './data\\\\288_apple.png', './data\\\\289_apple.png', './data\\\\290_apple.png', './data\\\\291_apple.png', './data\\\\292_apple.png', './data\\\\293_apple.png', './data\\\\295_apple.png', './data\\\\296_apple.png', './data\\\\297_apple.png', './data\\\\298_apple.png', './data\\\\299_apple.png', './data\\\\300_apple.png', './data\\\\301_apple.png', './data\\\\304_apple.png', './data\\\\305_apple.png', './data\\\\306_apple.png', './data\\\\308_apple.png', './data\\\\310_apple.png', './data\\\\311_apple.png', './data\\\\315_apple.png', './data\\\\316_apple.png', './data\\\\317_apple.png', './data\\\\318_apple.png', './data\\\\320_apple.png', './data\\\\322_apple.png', './data\\\\325_apple.png', './data\\\\326_apple.png', './data\\\\327_apple.png', './data\\\\328_apple.png', './data\\\\329_apple.png', './data\\\\330_apple.png', './data\\\\331_apple.png', './data\\\\332_apple.png', './data\\\\334_apple.png', './data\\\\335_apple.png', './data\\\\336_apple.png', './data\\\\337_apple.png', './data\\\\338_apple.png', './data\\\\339_apple.png', './data\\\\341_apple.png', './data\\\\342_apple.png', './data\\\\344_apple.png', './data\\\\348_apple.png', './data\\\\350_apple.png', './data\\\\352_apple.png', './data\\\\353_apple.png', './data\\\\355_apple.png', './data\\\\358_apple.png', './data\\\\359_apple.png', './data\\\\364_apple.png', './data\\\\365_apple.png', './data\\\\366_apple.png', './data\\\\367_apple.png', './data\\\\369_apple.png', './data\\\\371_apple.png', './data\\\\372_apple.png', './data\\\\373_apple.png', './data\\\\375_apple.png', './data\\\\376_apple.png', './data\\\\378_apple.png', './data\\\\379_apple.png', './data\\\\380_apple.png', './data\\\\381_apple.png', './data\\\\382_apple.png', './data\\\\383_apple.png', './data\\\\384_apple.png', './data\\\\387_apple.png', './data\\\\390_apple.png', './data\\\\391_apple.png', './data\\\\394_apple.png', './data\\\\401_apple.png', './data\\\\410_apple.png', './data\\\\413_apple.png', './data\\\\414_apple.png', './data\\\\415_apple.png', './data\\\\417_apple.png', './data\\\\421_apple.png', './data\\\\422_apple.png', './data\\\\425_apple.png', './data\\\\431_apple.png', './data\\\\432_apple.png', './data\\\\434_apple.png', './data\\\\438_apple.png', './data\\\\439_apple.png', './data\\\\440_apple.png', './data\\\\449_apple.png', './data\\\\450_apple.png', './data\\\\454_apple.png', './data\\\\456_apple.png', './data\\\\457_apple.png', './data\\\\458_apple.png', './data\\\\459_apple.png', './data\\\\460_apple.png', './data\\\\461_apple.png', './data\\\\462_apple.png', './data\\\\470_apple.png', './data\\\\472_apple.png', './data\\\\483_apple.png', './data\\\\495_apple.png', './data\\\\509_apple.png', './data\\\\511_apple.png', './data\\\\513_apple.png', './data\\\\514_apple.png', './data\\\\526_apple.png', './data\\\\528_apple.png']\n"
     ]
    }
   ],
   "source": [
    "file_list_temp = natsort.natsorted(glob.glob(os.path.join(img_dir, '*.png')))\n",
    "print(file_list_temp)"
   ]
  },
  {
   "cell_type": "markdown",
   "id": "d533f1c8",
   "metadata": {},
   "source": [
    "### os.walk"
   ]
  },
  {
   "cell_type": "code",
   "execution_count": 6,
   "id": "219eca23",
   "metadata": {
    "scrolled": true
   },
   "outputs": [
    {
     "name": "stdout",
     "output_type": "stream",
     "text": [
      "['./data/0_apple.png', './data/100_apple.png', './data/101_apple.png', './data/102_apple.png', './data/103_apple.png', './data/104_apple.png', './data/105_apple.png', './data/106_apple.png', './data/107_apple.png', './data/108_apple.png', './data/109_apple.png', './data/10_apple.png', './data/110_apple.png', './data/111_apple.png', './data/112_apple.png', './data/113_apple.png', './data/114_apple.png', './data/115_apple.png', './data/116_apple.png', './data/117_apple.png', './data/118_apple.png', './data/121_apple.png', './data/122_apple.png', './data/123_apple.png', './data/124_apple.png', './data/125_apple.png', './data/126_apple.png', './data/127_apple.png', './data/128_apple.png', './data/129_apple.png', './data/12_apple.png', './data/130_apple.png', './data/131_apple.png', './data/135_apple.png', './data/136_apple.png', './data/137_apple.png', './data/13_apple.png', './data/140_apple.png', './data/141_apple.png', './data/142_apple.png', './data/143_apple.png', './data/148_apple.png', './data/149_apple.png', './data/14_apple.png', './data/150_apple.png', './data/151_apple.png', './data/152_apple.png', './data/153_apple.png', './data/154_apple.png', './data/155_apple.png', './data/156_apple.png', './data/157_apple.png', './data/158_apple.png', './data/159_apple.png', './data/160_apple.png', './data/161_apple.png', './data/162_apple.png', './data/163_apple.png', './data/164_apple.png', './data/165_apple.png', './data/166_apple.png', './data/167_apple.png', './data/168_apple.png', './data/16_apple.png', './data/170_apple.png', './data/171_apple.png', './data/172_apple.png', './data/173_apple.png', './data/174_apple.png', './data/175_apple.png', './data/176_apple.png', './data/177_apple.png', './data/178_apple.png', './data/179_apple.png', './data/17_apple.png', './data/180_apple.png', './data/181_apple.png', './data/182_apple.png', './data/183_apple.png', './data/184_apple.png', './data/185_apple.png', './data/188_apple.png', './data/189_apple.png', './data/18_apple.png', './data/190_apple.png', './data/191_apple.png', './data/192_apple.png', './data/193_apple.png', './data/194_apple.png', './data/195_apple.png', './data/196_apple.png', './data/197_apple.png', './data/198_apple.png', './data/19_apple.png', './data/1_apple.png', './data/200_apple.png', './data/201_apple.png', './data/202_apple.png', './data/203_apple.png', './data/204_apple.png', './data/206_apple.png', './data/207_apple.png', './data/208_apple.png', './data/209_apple.png', './data/20_apple.png', './data/210_apple.png', './data/211_apple.png', './data/212_apple.png', './data/213_apple.png', './data/214_apple.png', './data/215_apple.png', './data/216_apple.png', './data/217_apple.png', './data/218_apple.png', './data/219_apple.png', './data/21_apple.png', './data/220_apple.png', './data/221_apple.png', './data/223_apple.png', './data/224_apple.png', './data/225_apple.png', './data/227_apple.png', './data/228_apple.png', './data/22_apple.png', './data/230_apple.png', './data/231_apple.png', './data/232_apple.png', './data/233_apple.png', './data/236_apple.png', './data/237_apple.png', './data/239_apple.png', './data/23_apple.png', './data/240_apple.png', './data/242_apple.png', './data/243_apple.png', './data/247_apple.png', './data/249_apple.png', './data/24_apple.png', './data/251_apple.png', './data/253_apple.png', './data/254_apple.png', './data/255_apple.png', './data/256_apple.png', './data/25_apple.png', './data/260_apple.png', './data/262_apple.png', './data/263_apple.png', './data/264_apple.png', './data/265_apple.png', './data/267_apple.png', './data/269_apple.png', './data/26_apple.png', './data/271_apple.png', './data/272_apple.png', './data/276_apple.png', './data/277_apple.png', './data/278_apple.png', './data/279_apple.png', './data/27_apple.png', './data/281_apple.png', './data/282_apple.png', './data/284_apple.png', './data/285_apple.png', './data/286_apple.png', './data/287_apple.png', './data/288_apple.png', './data/289_apple.png', './data/28_apple.png', './data/290_apple.png', './data/291_apple.png', './data/292_apple.png', './data/293_apple.png', './data/295_apple.png', './data/296_apple.png', './data/297_apple.png', './data/298_apple.png', './data/299_apple.png', './data/29_apple.png', './data/2_apple.png', './data/300_apple.png', './data/301_apple.png', './data/304_apple.png', './data/305_apple.png', './data/306_apple.png', './data/308_apple.png', './data/30_apple.png', './data/310_apple.png', './data/311_apple.png', './data/315_apple.png', './data/316_apple.png', './data/317_apple.png', './data/318_apple.png', './data/31_apple.png', './data/320_apple.png', './data/322_apple.png', './data/325_apple.png', './data/326_apple.png', './data/327_apple.png', './data/328_apple.png', './data/329_apple.png', './data/32_apple.png', './data/330_apple.png', './data/331_apple.png', './data/332_apple.png', './data/334_apple.png', './data/335_apple.png', './data/336_apple.png', './data/337_apple.png', './data/338_apple.png', './data/339_apple.png', './data/33_apple.png', './data/341_apple.png', './data/342_apple.png', './data/344_apple.png', './data/348_apple.png', './data/34_apple.png', './data/350_apple.png', './data/352_apple.png', './data/353_apple.png', './data/355_apple.png', './data/358_apple.png', './data/359_apple.png', './data/35_apple.png', './data/364_apple.png', './data/365_apple.png', './data/366_apple.png', './data/367_apple.png', './data/369_apple.png', './data/36_apple.png', './data/371_apple.png', './data/372_apple.png', './data/373_apple.png', './data/375_apple.png', './data/376_apple.png', './data/378_apple.png', './data/379_apple.png', './data/380_apple.png', './data/381_apple.png', './data/382_apple.png', './data/383_apple.png', './data/384_apple.png', './data/387_apple.png', './data/390_apple.png', './data/391_apple.png', './data/394_apple.png', './data/39_apple.png', './data/3_apple.png', './data/401_apple.png', './data/40_apple.png', './data/410_apple.png', './data/413_apple.png', './data/414_apple.png', './data/415_apple.png', './data/417_apple.png', './data/421_apple.png', './data/422_apple.png', './data/425_apple.png', './data/42_apple.png', './data/431_apple.png', './data/432_apple.png', './data/434_apple.png', './data/438_apple.png', './data/439_apple.png', './data/43_apple.png', './data/440_apple.png', './data/449_apple.png', './data/44_apple.png', './data/450_apple.png', './data/454_apple.png', './data/456_apple.png', './data/457_apple.png', './data/458_apple.png', './data/459_apple.png', './data/460_apple.png', './data/461_apple.png', './data/462_apple.png', './data/46_apple.png', './data/470_apple.png', './data/472_apple.png', './data/483_apple.png', './data/48_apple.png', './data/495_apple.png', './data/509_apple.png', './data/50_apple.png', './data/511_apple.png', './data/513_apple.png', './data/514_apple.png', './data/51_apple.png', './data/526_apple.png', './data/528_apple.png', './data/52_apple.png', './data/53_apple.png', './data/54_apple.png', './data/55_apple.png', './data/56_apple.png', './data/57_apple.png', './data/58_apple.png', './data/5_apple.png', './data/60_apple.png', './data/61_apple.png', './data/62_apple.png', './data/64_apple.png', './data/67_apple.png', './data/68_apple.png', './data/69_apple.png', './data/6_apple.png', './data/70_apple.png', './data/71_apple.png', './data/73_apple.png', './data/74_apple.png', './data/75_apple.png', './data/76_apple.png', './data/78_apple.png', './data/79_apple.png', './data/7_apple.png', './data/81_apple.png', './data/82_apple.png', './data/84_apple.png', './data/85_apple.png', './data/88_apple.png', './data/89_apple.png', './data/90_apple.png', './data/91_apple.png', './data/92_apple.png', './data/93_apple.png', './data/94_apple.png', './data/95_apple.png', './data/96_apple.png', './data/97_apple.png', './data/98_apple.png', './data/99_apple.png', './data/9_apple.png']\n"
     ]
    }
   ],
   "source": [
    "def get_img_path(root_path) :\n",
    "    file_paths = []\n",
    "    for (path, dir, files) in os.walk('./data/') :\n",
    "        for file in files :\n",
    "            ext = os.path.splitext(file)[-1].lower()\n",
    "            formats_list = ['.bmp', '.jpg', '.jpeg', '.png', '.tif', '.gif', '.dng', '.tiff']\n",
    "            if ext in formats_list : \n",
    "                file_path = os.path.join(path, file)\n",
    "                file_paths.append(file_path)\n",
    "    return file_paths\n",
    "            \n",
    "file_paths = get_img_path(img_dir)\n",
    "print(file_paths)"
   ]
  }
 ],
 "metadata": {
  "kernelspec": {
   "display_name": "AI",
   "language": "python",
   "name": "ai"
  },
  "language_info": {
   "codemirror_mode": {
    "name": "ipython",
    "version": 3
   },
   "file_extension": ".py",
   "mimetype": "text/x-python",
   "name": "python",
   "nbconvert_exporter": "python",
   "pygments_lexer": "ipython3",
   "version": "3.8.16"
  }
 },
 "nbformat": 4,
 "nbformat_minor": 5
}
