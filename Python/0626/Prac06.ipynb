{
 "cells": [
  {
   "attachments": {},
   "cell_type": "markdown",
   "id": "54e04984",
   "metadata": {},
   "source": [
    "# 공개되어 있는 데이터를 가지고 로지스틱 회귀 진행 실습\n",
    "\n",
    "- 각 이미지 크기는 28 x 28 / 흑백 이미지 / 총 10개의 클래스 "
   ]
  },
  {
   "cell_type": "code",
   "execution_count": 1,
   "id": "41c3879f",
   "metadata": {},
   "outputs": [],
   "source": [
    "\"\"\"\n",
    "Fashion-MNIST 라벨 구성 요소\n",
    "0 - 티셔츠 \n",
    "1 - 바지\n",
    "2 - 스웨터 \n",
    "3 - 드레스 \n",
    "4 - 코트 \n",
    "5 - 샌들 \n",
    "6 - 셔츠 \n",
    "7 - 운동화 \n",
    "8 - 가방\n",
    "9 - 앵글 부츠 \n",
    "\"\"\"\n",
    "\n",
    "import torch\n",
    "import torch.nn as nn\n",
    "import torch.optim as optim\n",
    "import torchvision.datasets as dataset\n",
    "import torchvision.transforms as transforms\n",
    "import matplotlib.pyplot as plt"
   ]
  },
  {
   "attachments": {},
   "cell_type": "markdown",
   "id": "5a15b073",
   "metadata": {},
   "source": [
    "### 데이터셋 다운로드 하고 Dataloader 생성하기"
   ]
  },
  {
   "cell_type": "code",
   "execution_count": 2,
   "id": "3b7e40fa",
   "metadata": {},
   "outputs": [],
   "source": [
    "# 데이터셋 다운로드 및 Dataloader 생성 \n",
    "train_dataset = dataset.FashionMNIST(root=\"./data\", train=True, transform=transforms.ToTensor(),download=False)\n",
    "test_dataset = dataset.FashionMNIST(root=\"./data\", train=False, transform=transforms.ToTensor(),download=False)\n",
    "\n",
    "# train Loader test Loader 설정 \n",
    "train_loader = torch.utils.data.DataLoader(dataset=train_dataset, batch_size = 100, shuffle=True)\n",
    "test_loader = torch.utils.data.DataLoader(dataset=test_dataset, batch_size = 1, shuffle=False)"
   ]
  },
  {
   "attachments": {},
   "cell_type": "markdown",
   "id": "6d299c13",
   "metadata": {},
   "source": [
    "### 모델 정의"
   ]
  },
  {
   "cell_type": "code",
   "execution_count": 3,
   "id": "fb7dc0c5",
   "metadata": {},
   "outputs": [],
   "source": [
    "class LogisticRegression(nn.Module) : \n",
    "    def __init__(self, input_size, num_classes) : \n",
    "        super(LogisticRegression, self).__init__() \n",
    "        self.linear = nn.Linear(input_size, num_classes)\n",
    "    \n",
    "    def forward(self, x) : \n",
    "        out = self.linear(x)\n",
    "        return out"
   ]
  },
  {
   "attachments": {},
   "cell_type": "markdown",
   "id": "7f5729ad",
   "metadata": {},
   "source": [
    "### 하이퍼 파라미터 설정 "
   ]
  },
  {
   "cell_type": "code",
   "execution_count": 4,
   "id": "2052fd9c",
   "metadata": {},
   "outputs": [],
   "source": [
    "input_size = 28 * 28\n",
    "num_classes = 10\n",
    "num_epochs = 10\n",
    "lr = 0.001\n",
    "\n",
    "total_step = len(train_loader)"
   ]
  },
  {
   "attachments": {},
   "cell_type": "markdown",
   "id": "4ff23d01",
   "metadata": {},
   "source": [
    "### 모델, Loss, 옵티마이저 정의"
   ]
  },
  {
   "cell_type": "code",
   "execution_count": 5,
   "id": "43dd7525",
   "metadata": {},
   "outputs": [
    {
     "name": "stdout",
     "output_type": "stream",
     "text": [
      "Using Device >> cpu\n"
     ]
    },
    {
     "data": {
      "text/plain": [
       "LogisticRegression(\n",
       "  (linear): Linear(in_features=784, out_features=10, bias=True)\n",
       ")"
      ]
     },
     "execution_count": 5,
     "metadata": {},
     "output_type": "execute_result"
    }
   ],
   "source": [
    "model = LogisticRegression(input_size=input_size, num_classes=num_classes)\n",
    "# print(model)\n",
    "criterion = nn.CrossEntropyLoss()\n",
    "optimizer = optim.SGD(model.parameters(), lr=lr, momentum=0.9)\n",
    "\n",
    "# device setting \n",
    "device = torch.device('cuda' if torch.cuda.is_available() else 'cpu')\n",
    "print(\"Using Device >>\" , device)\n",
    "\n",
    "model.to(device)"
   ]
  },
  {
   "attachments": {},
   "cell_type": "markdown",
   "id": "23ead5f6",
   "metadata": {},
   "source": [
    "### train loop"
   ]
  },
  {
   "cell_type": "code",
   "execution_count": 6,
   "id": "dd7e06cf",
   "metadata": {},
   "outputs": [
    {
     "name": "stdout",
     "output_type": "stream",
     "text": [
      "Epoch [1/10], Step [100/600], Loss : 1.2906, Train ACC : 0.7200\n",
      "Epoch [1/10], Step [200/600], Loss : 1.1438, Train ACC : 0.6650\n",
      "Epoch [1/10], Step [300/600], Loss : 0.9591, Train ACC : 0.6833\n",
      "Epoch [1/10], Step [400/600], Loss : 0.8880, Train ACC : 0.6975\n",
      "Epoch [1/10], Step [500/600], Loss : 0.8850, Train ACC : 0.7140\n",
      "Epoch [1/10], Step [600/600], Loss : 0.9328, Train ACC : 0.7150\n",
      "Epoch [2/10], Step [100/600], Loss : 0.7336, Train ACC : 0.7600\n",
      "Epoch [2/10], Step [200/600], Loss : 0.6655, Train ACC : 0.7850\n",
      "Epoch [2/10], Step [300/600], Loss : 0.7585, Train ACC : 0.7767\n",
      "Epoch [2/10], Step [400/600], Loss : 0.8807, Train ACC : 0.7575\n",
      "Epoch [2/10], Step [500/600], Loss : 0.7777, Train ACC : 0.7580\n",
      "Epoch [2/10], Step [600/600], Loss : 0.6652, Train ACC : 0.7617\n",
      "Epoch [3/10], Step [100/600], Loss : 0.6501, Train ACC : 0.8300\n",
      "Epoch [3/10], Step [200/600], Loss : 0.6196, Train ACC : 0.8200\n",
      "Epoch [3/10], Step [300/600], Loss : 0.7111, Train ACC : 0.8033\n",
      "Epoch [3/10], Step [400/600], Loss : 0.6848, Train ACC : 0.8050\n",
      "Epoch [3/10], Step [500/600], Loss : 0.5750, Train ACC : 0.8220\n",
      "Epoch [3/10], Step [600/600], Loss : 0.6620, Train ACC : 0.8100\n",
      "Epoch [4/10], Step [100/600], Loss : 0.7460, Train ACC : 0.7500\n",
      "Epoch [4/10], Step [200/600], Loss : 0.6023, Train ACC : 0.7850\n",
      "Epoch [4/10], Step [300/600], Loss : 0.7306, Train ACC : 0.7700\n",
      "Epoch [4/10], Step [400/600], Loss : 0.6214, Train ACC : 0.7800\n",
      "Epoch [4/10], Step [500/600], Loss : 0.5789, Train ACC : 0.7820\n",
      "Epoch [4/10], Step [600/600], Loss : 0.4855, Train ACC : 0.7933\n",
      "Epoch [5/10], Step [100/600], Loss : 0.5319, Train ACC : 0.8200\n",
      "Epoch [5/10], Step [200/600], Loss : 0.7443, Train ACC : 0.7900\n",
      "Epoch [5/10], Step [300/600], Loss : 0.6267, Train ACC : 0.7833\n",
      "Epoch [5/10], Step [400/600], Loss : 0.6088, Train ACC : 0.7975\n",
      "Epoch [5/10], Step [500/600], Loss : 0.6246, Train ACC : 0.7960\n",
      "Epoch [5/10], Step [600/600], Loss : 0.6006, Train ACC : 0.7900\n",
      "Epoch [6/10], Step [100/600], Loss : 0.5262, Train ACC : 0.8600\n",
      "Epoch [6/10], Step [200/600], Loss : 0.4379, Train ACC : 0.8450\n",
      "Epoch [6/10], Step [300/600], Loss : 0.5388, Train ACC : 0.8467\n",
      "Epoch [6/10], Step [400/600], Loss : 0.5085, Train ACC : 0.8450\n",
      "Epoch [6/10], Step [500/600], Loss : 0.5429, Train ACC : 0.8280\n",
      "Epoch [6/10], Step [600/600], Loss : 0.5667, Train ACC : 0.8283\n",
      "Epoch [7/10], Step [100/600], Loss : 0.6398, Train ACC : 0.8300\n",
      "Epoch [7/10], Step [200/600], Loss : 0.4977, Train ACC : 0.8350\n",
      "Epoch [7/10], Step [300/600], Loss : 0.4119, Train ACC : 0.8500\n",
      "Epoch [7/10], Step [400/600], Loss : 0.4545, Train ACC : 0.8550\n",
      "Epoch [7/10], Step [500/600], Loss : 0.5443, Train ACC : 0.8500\n",
      "Epoch [7/10], Step [600/600], Loss : 0.5503, Train ACC : 0.8417\n",
      "Epoch [8/10], Step [100/600], Loss : 0.6287, Train ACC : 0.7700\n",
      "Epoch [8/10], Step [200/600], Loss : 0.5983, Train ACC : 0.7900\n",
      "Epoch [8/10], Step [300/600], Loss : 0.7110, Train ACC : 0.7600\n",
      "Epoch [8/10], Step [400/600], Loss : 0.5760, Train ACC : 0.7725\n",
      "Epoch [8/10], Step [500/600], Loss : 0.6637, Train ACC : 0.7680\n",
      "Epoch [8/10], Step [600/600], Loss : 0.5595, Train ACC : 0.7733\n",
      "Epoch [9/10], Step [100/600], Loss : 0.4770, Train ACC : 0.8700\n",
      "Epoch [9/10], Step [200/600], Loss : 0.5880, Train ACC : 0.8350\n",
      "Epoch [9/10], Step [300/600], Loss : 0.5484, Train ACC : 0.8267\n",
      "Epoch [9/10], Step [400/600], Loss : 0.4659, Train ACC : 0.8350\n",
      "Epoch [9/10], Step [500/600], Loss : 0.5120, Train ACC : 0.8360\n",
      "Epoch [9/10], Step [600/600], Loss : 0.5394, Train ACC : 0.8333\n",
      "Epoch [10/10], Step [100/600], Loss : 0.5183, Train ACC : 0.8300\n",
      "Epoch [10/10], Step [200/600], Loss : 0.4759, Train ACC : 0.8200\n",
      "Epoch [10/10], Step [300/600], Loss : 0.6263, Train ACC : 0.8100\n",
      "Epoch [10/10], Step [400/600], Loss : 0.5379, Train ACC : 0.8075\n",
      "Epoch [10/10], Step [500/600], Loss : 0.4984, Train ACC : 0.8080\n",
      "Epoch [10/10], Step [600/600], Loss : 0.4878, Train ACC : 0.8133\n"
     ]
    },
    {
     "data": {
      "image/png": "[encoded data removed]",
      "text/plain": [
       "<Figure size 640x480 with 1 Axes>"
      ]
     },
     "metadata": {},
     "output_type": "display_data"
    }
   ],
   "source": [
    "loss_list = []\n",
    "acc_list = []\n",
    "\n",
    "for epoch in range(num_epochs) :\n",
    "    correct = 0\n",
    "    total = 0 \n",
    "    for i, (images, labels) in enumerate(train_loader) : \n",
    "        # 데이터 로드 \n",
    "        images = images.reshape(-1, input_size).to(device)\n",
    "        labels = labels.to(device)\n",
    "        \n",
    "        optimizer.zero_grad()\n",
    "        \n",
    "        # 순전파 및 Loss 계산 \n",
    "        ouptuts = model(images)\n",
    "        loss = criterion(ouptuts, labels)\n",
    "        \n",
    "        # 역전파 및 가중치 업데이트 \n",
    "        loss.backward()\n",
    "        optimizer.step()\n",
    "        \n",
    "        # 로그 출력 \n",
    "        if (i+1) % 100 == 0 :\n",
    "            loss_list.append(loss.item())\n",
    "            _, predicted = torch.max(ouptuts.data, 1)\n",
    "            total += labels.size(0)\n",
    "            correct += (predicted == labels).sum().item()\n",
    "            acc_list.append(correct / total)\n",
    "            \n",
    "            print(\"Epoch [{}/{}], Step [{}/{}], Loss : {:.4f}, Train ACC : {:.4f}\".format(\n",
    "                epoch+1, num_epochs, i+1, total_step, loss.item(), acc_list[-1]))\n",
    "            \n",
    "            \n",
    "# 손실 및 정확도 그래프 출력 \n",
    "plt.plot(loss_list, label=\"Train loss\")\n",
    "plt.plot(acc_list, label=\"Train acc\")\n",
    "plt.xlabel('Iterations')\n",
    "plt.ylabel('Loss / ACC')\n",
    "plt.legend()\n",
    "plt.show()"
   ]
  }
 ],
 "metadata": {
  "kernelspec": {
   "display_name": "Pytorch",
   "language": "python",
   "name": "python3"
  },
  "language_info": {
   "codemirror_mode": {
    "name": "ipython",
    "version": 3
   },
   "file_extension": ".py",
   "mimetype": "text/x-python",
   "name": "python",
   "nbconvert_exporter": "python",
   "pygments_lexer": "ipython3",
   "version": "3.8.16"
  }
 },
 "nbformat": 4,
 "nbformat_minor": 5
}
