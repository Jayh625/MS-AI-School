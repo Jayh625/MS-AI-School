{
 "cells": [
  {
   "attachments": {},
   "cell_type": "markdown",
   "metadata": {},
   "source": [
    "### 다중 선형 실습 : 경사 하강법을 이용한 다중 선형 회귀 구현"
   ]
  },
  {
   "cell_type": "code",
   "execution_count": 1,
   "metadata": {},
   "outputs": [],
   "source": [
    "import numpy as np"
   ]
  },
  {
   "attachments": {},
   "cell_type": "markdown",
   "metadata": {},
   "source": [
    "#### 데이터 생성"
   ]
  },
  {
   "cell_type": "code",
   "execution_count": 2,
   "metadata": {},
   "outputs": [],
   "source": [
    "x1 = np.array([1,2,3,4,5])\n",
    "x2 = np.array([0,1,0,1,0])\n",
    "\n",
    "y = np.array([3,5,7,9,11])"
   ]
  },
  {
   "cell_type": "code",
   "execution_count": 3,
   "metadata": {},
   "outputs": [],
   "source": [
    "def gradient_descent(x1, x2, y, lr, iterations) :\n",
    "    # 초기값 설정\n",
    "    n = len(y)\n",
    "    beta_0 = 0\n",
    "    beta_1 = 0\n",
    "    beta_2 = 0\n",
    "\n",
    "    # 경사하강법 수행\n",
    "    for i in range(iterations) :\n",
    "        y_pred = beta_0 + beta_1 * x1 + beta_2 * x2\n",
    "        error = y_pred - y\n",
    "        beta_0 -= lr * (1/n) * np.sum(error)\n",
    "        beta_1 -= lr * (1/n) * np.sum(error * x1)\n",
    "        beta_2 -= lr * (1/n) * np.sum(error * x2)\n",
    "    return beta_0, beta_1, beta_2"
   ]
  },
  {
   "cell_type": "code",
   "execution_count": 4,
   "metadata": {},
   "outputs": [
    {
     "name": "stdout",
     "output_type": "stream",
     "text": [
      "beta_0 : 0.6329438095222969\n",
      "beta_1 : 2.0787134098915354\n",
      "beta_2 : 0.20466169435522205\n"
     ]
    }
   ],
   "source": [
    "beta_0, beta_1, beta_2 = gradient_descent(x1, x2 , y, 0.1, 10)\n",
    "print(f\"beta_0 : {beta_0}\")\n",
    "print(f\"beta_1 : {beta_1}\")\n",
    "print(f\"beta_2 : {beta_2}\")"
   ]
  },
  {
   "cell_type": "code",
   "execution_count": 5,
   "metadata": {},
   "outputs": [
    {
     "name": "stdout",
     "output_type": "stream",
     "text": [
      "y_pred : 6.8690840391969035\n"
     ]
    }
   ],
   "source": [
    "x1_new = 3\n",
    "x2_new = 0 \n",
    "y_pred_temp = beta_0 + beta_1 * x1_new + beta_2 * x2_new\n",
    "print(f\"y_pred : {y_pred_temp}\")"
   ]
  }
 ],
 "metadata": {
  "kernelspec": {
   "display_name": "Pytorch",
   "language": "python",
   "name": "python3"
  },
  "language_info": {
   "codemirror_mode": {
    "name": "ipython",
    "version": 3
   },
   "file_extension": ".py",
   "mimetype": "text/x-python",
   "name": "python",
   "nbconvert_exporter": "python",
   "pygments_lexer": "ipython3",
   "version": "3.8.16"
  },
  "orig_nbformat": 4
 },
 "nbformat": 4,
 "nbformat_minor": 2
}
