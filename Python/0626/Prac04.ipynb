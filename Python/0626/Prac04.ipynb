{
 "cells": [
  {
   "attachments": {},
   "cell_type": "markdown",
   "metadata": {},
   "source": [
    "### 선형 회귀 모델의 학습에서 다양한 옵티마이저를 적용해보기"
   ]
  },
  {
   "cell_type": "code",
   "execution_count": 1,
   "metadata": {},
   "outputs": [],
   "source": [
    "import pandas as pd\n",
    "import numpy as np\n",
    "import matplotlib.pyplot as plt\n",
    "\n",
    "import torch\n",
    "import torch.nn as nn\n",
    "import torch.optim as optim\n",
    "\n",
    "from adamp import AdamP\n",
    "from adamp import SGDP\n",
    "\n",
    "from sklearn.datasets import load_boston\n",
    "from sklearn.model_selection import train_test_split\n",
    "from sklearn.preprocessing import StandardScaler\n",
    "\n",
    "import warnings\n",
    "warnings.filterwarnings('ignore')"
   ]
  },
  {
   "attachments": {},
   "cell_type": "markdown",
   "metadata": {},
   "source": [
    "#### Boston data load"
   ]
  },
  {
   "cell_type": "code",
   "execution_count": 2,
   "metadata": {},
   "outputs": [
    {
     "name": "stdout",
     "output_type": "stream",
     "text": [
      "455 51 455 51\n"
     ]
    }
   ],
   "source": [
    "boston = load_boston()\n",
    "X = boston.data\n",
    "y = boston.target\n",
    "\n",
    "# 데이터 스케일링\n",
    "scaler = StandardScaler()\n",
    "X = scaler.fit_transform(X)\n",
    "\n",
    "# 데이터 분할\n",
    "X_train, X_test, y_train, y_test = train_test_split(X, y, test_size=0.1, random_state=42)\n",
    "print(len(X_train), len(X_test), len(y_train), len(y_test))"
   ]
  },
  {
   "attachments": {},
   "cell_type": "markdown",
   "metadata": {},
   "source": [
    "#### 모델 생성 및 하이퍼파라미터 설정"
   ]
  },
  {
   "cell_type": "code",
   "execution_count": 3,
   "metadata": {},
   "outputs": [],
   "source": [
    "# 하이퍼파라미터 설정\n",
    "input_dim = X.shape[1]\n",
    "output_dim = 1\n",
    "lr = 0.00000000005\n",
    "epochs = 1000\n",
    "\n",
    "# 모델 생성\n",
    "model = nn.Linear(input_dim, output_dim)"
   ]
  },
  {
   "attachments": {},
   "cell_type": "markdown",
   "metadata": {},
   "source": [
    "#### 다양한 옵티마이저 설정"
   ]
  },
  {
   "cell_type": "code",
   "execution_count": 4,
   "metadata": {},
   "outputs": [],
   "source": [
    "optimizers = {'SGD' : optim.SGD(model.parameters(), lr=lr),\n",
    "              'Momentum' : optim.SGD(model.parameters(), lr=lr, momentum=0.9),\n",
    "              'Adagrad' : optim.Adagrad(model.parameters(), lr=lr),\n",
    "              'RMSprop' : optim.RMSprop(model.parameters(), lr=lr),\n",
    "              'Adam' : optim.Adam(model.parameters(), lr=lr),\n",
    "              'AdamP' : AdamP(model.parameters(), lr=lr, betas=(0.9, 0.999), weight_decay=1e-2),\n",
    "              'SGDP' : SGDP(model.parameters(), lr=lr, weight_decay=1e-5, momentum=0.9, nesterov=True)}"
   ]
  },
  {
   "cell_type": "code",
   "execution_count": 5,
   "metadata": {},
   "outputs": [
    {
     "name": "stdout",
     "output_type": "stream",
     "text": [
      "SGD - Epoch [100 / 1000, Loss : 594.3737]\n",
      "SGD - Epoch [200 / 1000, Loss : 594.3721]\n",
      "SGD - Epoch [300 / 1000, Loss : 594.3696]\n",
      "SGD - Epoch [400 / 1000, Loss : 594.3660]\n",
      "SGD - Epoch [500 / 1000, Loss : 594.3615]\n",
      "SGD - Epoch [600 / 1000, Loss : 594.3559]\n",
      "SGD - Epoch [700 / 1000, Loss : 594.3492]\n",
      "SGD - Epoch [800 / 1000, Loss : 594.3417]\n",
      "SGD - Epoch [900 / 1000, Loss : 594.3329]\n",
      "SGD - Epoch [1000 / 1000, Loss : 594.3234]\n",
      "Momentum - Epoch [100 / 1000, Loss : 594.3190]\n",
      "Momentum - Epoch [200 / 1000, Loss : 594.3047]\n",
      "Momentum - Epoch [300 / 1000, Loss : 594.2803]\n",
      "Momentum - Epoch [400 / 1000, Loss : 594.2456]\n",
      "Momentum - Epoch [500 / 1000, Loss : 594.2008]\n",
      "Momentum - Epoch [600 / 1000, Loss : 594.1458]\n",
      "Momentum - Epoch [700 / 1000, Loss : 594.0806]\n",
      "Momentum - Epoch [800 / 1000, Loss : 594.0053]\n",
      "Momentum - Epoch [900 / 1000, Loss : 593.9199]\n",
      "Momentum - Epoch [1000 / 1000, Loss : 593.8242]\n",
      "Adagrad - Epoch [100 / 1000, Loss : 593.8232]\n",
      "Adagrad - Epoch [200 / 1000, Loss : 593.8232]\n",
      "Adagrad - Epoch [300 / 1000, Loss : 593.8232]\n",
      "Adagrad - Epoch [400 / 1000, Loss : 593.8232]\n",
      "Adagrad - Epoch [500 / 1000, Loss : 593.8232]\n",
      "Adagrad - Epoch [600 / 1000, Loss : 593.8232]\n",
      "Adagrad - Epoch [700 / 1000, Loss : 593.8232]\n",
      "Adagrad - Epoch [800 / 1000, Loss : 593.8232]\n",
      "Adagrad - Epoch [900 / 1000, Loss : 593.8232]\n",
      "Adagrad - Epoch [1000 / 1000, Loss : 593.8232]\n",
      "RMSprop - Epoch [100 / 1000, Loss : 593.8232]\n",
      "RMSprop - Epoch [200 / 1000, Loss : 593.8232]\n",
      "RMSprop - Epoch [300 / 1000, Loss : 593.8232]\n",
      "RMSprop - Epoch [400 / 1000, Loss : 593.8232]\n",
      "RMSprop - Epoch [500 / 1000, Loss : 593.8232]\n",
      "RMSprop - Epoch [600 / 1000, Loss : 593.8232]\n",
      "RMSprop - Epoch [700 / 1000, Loss : 593.8232]\n",
      "RMSprop - Epoch [800 / 1000, Loss : 593.8232]\n",
      "RMSprop - Epoch [900 / 1000, Loss : 593.8232]\n",
      "RMSprop - Epoch [1000 / 1000, Loss : 593.8232]\n",
      "Adam - Epoch [100 / 1000, Loss : 593.8232]\n",
      "Adam - Epoch [200 / 1000, Loss : 593.8232]\n",
      "Adam - Epoch [300 / 1000, Loss : 593.8232]\n",
      "Adam - Epoch [400 / 1000, Loss : 593.8232]\n",
      "Adam - Epoch [500 / 1000, Loss : 593.8232]\n",
      "Adam - Epoch [600 / 1000, Loss : 593.8232]\n",
      "Adam - Epoch [700 / 1000, Loss : 593.8232]\n",
      "Adam - Epoch [800 / 1000, Loss : 593.8232]\n",
      "Adam - Epoch [900 / 1000, Loss : 593.8232]\n",
      "Adam - Epoch [1000 / 1000, Loss : 593.8232]\n",
      "AdamP - Epoch [100 / 1000, Loss : 593.8232]\n",
      "AdamP - Epoch [200 / 1000, Loss : 593.8232]\n",
      "AdamP - Epoch [300 / 1000, Loss : 593.8232]\n",
      "AdamP - Epoch [400 / 1000, Loss : 593.8232]\n",
      "AdamP - Epoch [500 / 1000, Loss : 593.8232]\n",
      "AdamP - Epoch [600 / 1000, Loss : 593.8232]\n",
      "AdamP - Epoch [700 / 1000, Loss : 593.8232]\n",
      "AdamP - Epoch [800 / 1000, Loss : 593.8232]\n",
      "AdamP - Epoch [900 / 1000, Loss : 593.8232]\n",
      "AdamP - Epoch [1000 / 1000, Loss : 593.8232]\n",
      "SGDP - Epoch [100 / 1000, Loss : 593.8188]\n",
      "SGDP - Epoch [200 / 1000, Loss : 593.8045]\n",
      "SGDP - Epoch [300 / 1000, Loss : 593.7800]\n",
      "SGDP - Epoch [400 / 1000, Loss : 593.7453]\n",
      "SGDP - Epoch [500 / 1000, Loss : 593.7004]\n",
      "SGDP - Epoch [600 / 1000, Loss : 593.6454]\n",
      "SGDP - Epoch [700 / 1000, Loss : 593.5802]\n",
      "SGDP - Epoch [800 / 1000, Loss : 593.5048]\n",
      "SGDP - Epoch [900 / 1000, Loss : 593.4194]\n",
      "SGDP - Epoch [1000 / 1000, Loss : 593.3237]\n"
     ]
    }
   ],
   "source": [
    "for optimizer_name, optimizer in optimizers.items():\n",
    "    # print(optimizer_name, optimizer)\n",
    "    criterion = nn.MSELoss()\n",
    "    optimizer.zero_grad()\n",
    "\n",
    "    for epoch in range(epochs):\n",
    "        inputs = torch.tensor(X_train, dtype=torch.float32)\n",
    "        labels = torch.tensor(y_train, dtype=torch.float32)\n",
    "\n",
    "        # Forward pass\n",
    "        outputs = model(inputs)\n",
    "        loss = criterion(outputs, labels)\n",
    "\n",
    "        # Backward and optimize\n",
    "        loss.backward()\n",
    "        optimizer.step()\n",
    "\n",
    "        # print progress\n",
    "        if (epoch + 1) % 100 == 0 :\n",
    "            print(f\"{optimizer_name} - Epoch [{epoch+1} / {epochs}, Loss : {loss.item():.4f}]\")\n",
    "\n"
   ]
  }
 ],
 "metadata": {
  "kernelspec": {
   "display_name": "Pytorch",
   "language": "python",
   "name": "python3"
  },
  "language_info": {
   "codemirror_mode": {
    "name": "ipython",
    "version": 3
   },
   "file_extension": ".py",
   "mimetype": "text/x-python",
   "name": "python",
   "nbconvert_exporter": "python",
   "pygments_lexer": "ipython3",
   "version": "3.8.16"
  },
  "orig_nbformat": 4
 },
 "nbformat": 4,
 "nbformat_minor": 2
}
