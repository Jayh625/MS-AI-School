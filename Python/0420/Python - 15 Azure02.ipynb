{
  "cells": [
    {
      "cell_type": "code",
      "execution_count": null,
      "metadata": {
        "id": "Ofq_Cvzh8u4j"
      },
      "outputs": [],
      "source": [
        "!pip install azure-storage-file"
      ]
    },
    {
      "cell_type": "code",
      "execution_count": 2,
      "metadata": {
        "id": "vIpnOYOX9ODu"
      },
      "outputs": [],
      "source": [
        "from azure.storage.file import FileService\n",
        "file_service = FileService(account_name='',account_key='')"
      ]
    },
    {
      "cell_type": "code",
      "execution_count": 3,
      "metadata": {
        "colab": {
          "base_uri": "https://localhost:8080/"
        },
        "id": "Jg3yHuizA5Te",
        "outputId": "092f8608-8568-4e49-ebae-bfc0b9fa6b1f"
      },
      "outputs": [
        {
          "data": {
            "text/plain": [
              "True"
            ]
          },
          "execution_count": 3,
          "metadata": {},
          "output_type": "execute_result"
        }
      ],
      "source": [
        "file_service.create_share('myshare')"
      ]
    },
    {
      "cell_type": "code",
      "execution_count": 4,
      "metadata": {
        "colab": {
          "base_uri": "https://localhost:8080/"
        },
        "id": "JOqUU5jiHmzE",
        "outputId": "76ab6014-bbe2-49cf-a690-68a715a9024d"
      },
      "outputs": [
        {
          "data": {
            "text/plain": [
              "True"
            ]
          },
          "execution_count": 4,
          "metadata": {},
          "output_type": "execute_result"
        }
      ],
      "source": [
        "file_service.create_directory('myshare','sampledir')"
      ]
    },
    {
      "cell_type": "code",
      "execution_count": 6,
      "metadata": {
        "id": "sjjOy5xkHs6e"
      },
      "outputs": [],
      "source": [
        "from azure.storage.file import ContentSettings\n",
        "file_service.create_file_from_path(\n",
        "    'myshare',\n",
        "    'sampledir',\n",
        "    'myfile.jpg',\n",
        "    'iu.jpg'\n",
        ")"
      ]
    },
    {
      "cell_type": "code",
      "execution_count": 7,
      "metadata": {
        "colab": {
          "base_uri": "https://localhost:8080/"
        },
        "id": "zeBdcpyDJgGP",
        "outputId": "5e4100fa-d2a2-4fd6-ae19-f75c4dc702ea"
      },
      "outputs": [
        {
          "name": "stdout",
          "output_type": "stream",
          "text": [
            "myfile\n",
            "sampledir\n"
          ]
        }
      ],
      "source": [
        "# directory 내용의 확인 \n",
        "generator = file_service.list_directories_and_files('myshare')\n",
        "for file_or_dir in generator:\n",
        "  print(file_or_dir.name)"
      ]
    },
    {
      "cell_type": "code",
      "execution_count": 8,
      "metadata": {
        "colab": {
          "base_uri": "https://localhost:8080/"
        },
        "id": "mAu2fY1hLNXk",
        "outputId": "b172038c-baba-471b-94d9-a429067df010"
      },
      "outputs": [
        {
          "data": {
            "text/plain": [
              "<azure.storage.file.models.File at 0x7fc2dca648b0>"
            ]
          },
          "execution_count": 8,
          "metadata": {},
          "output_type": "execute_result"
        }
      ],
      "source": [
        "# 파일을 가져오는 코드\n",
        "file_service.get_file_to_path('myshare',None,'myfile','IU_DOWNLOAD.jpeg')"
      ]
    },
    {
      "cell_type": "code",
      "execution_count": 9,
      "metadata": {
        "id": "QqWamiYRLy7B"
      },
      "outputs": [],
      "source": [
        "# snapshot \n",
        "metadata = {'foo':'bar'}\n",
        "snapshot = file_service.snapshot_share('myshare',metadata=metadata)"
      ]
    },
    {
      "cell_type": "code",
      "execution_count": 11,
      "metadata": {
        "id": "7jVnG-1BNTks"
      },
      "outputs": [],
      "source": [
        "share = list(file_service.list_shares(include_snapshots=True))"
      ]
    },
    {
      "cell_type": "code",
      "execution_count": 17,
      "metadata": {
        "colab": {
          "base_uri": "https://localhost:8080/"
        },
        "id": "TAjuq7ohRvQY",
        "outputId": "838a9b28-9278-4120-d246-7fbee12e5d2b"
      },
      "outputs": [
        {
          "name": "stdout",
          "output_type": "stream",
          "text": [
            "myfile\n",
            "README.md\n",
            "sampledir\n"
          ]
        }
      ],
      "source": [
        "directories_and_file = list(file_service.list_directories_and_files('myshare'))\n",
        "for file_or_dir in directories_and_file:\n",
        "  print(file_or_dir.name)"
      ]
    },
    {
      "cell_type": "code",
      "execution_count": 20,
      "metadata": {
        "colab": {
          "base_uri": "https://localhost:8080/"
        },
        "id": "lgmh5DdeUzwj",
        "outputId": "e3d79208-6301-4cf4-f5e9-d258f79eda24"
      },
      "outputs": [
        {
          "name": "stdout",
          "output_type": "stream",
          "text": [
            "myfile\n",
            "README.md\n",
            "sampledir\n"
          ]
        }
      ],
      "source": [
        "directories_and_file = list(file_service.list_directories_and_files('myshare'))\n",
        "for file_or_dir in directories_and_file:\n",
        "  print(file_or_dir.name)"
      ]
    },
    {
      "cell_type": "code",
      "execution_count": 21,
      "metadata": {
        "colab": {
          "base_uri": "https://localhost:8080/"
        },
        "id": "aW1YDZMrSHbS",
        "outputId": "a527e5b9-1153-45c4-eb62-823940067016"
      },
      "outputs": [
        {
          "name": "stdout",
          "output_type": "stream",
          "text": [
            "myfile\n",
            "sampledir\n"
          ]
        }
      ],
      "source": [
        "directories_and_file = list(file_service.list_directories_and_files('myshare',snapshot=''))\n",
        "for file_or_dir in directories_and_file:\n",
        "  print(file_or_dir.name)"
      ]
    },
    {
      "cell_type": "code",
      "execution_count": 22,
      "metadata": {
        "colab": {
          "base_uri": "https://localhost:8080/"
        },
        "id": "wj1XKmG9UcDL",
        "outputId": "de37c9c3-8951-44c1-caef-73264c871e74"
      },
      "outputs": [
        {
          "data": {
            "text/plain": [
              "True"
            ]
          },
          "execution_count": 22,
          "metadata": {},
          "output_type": "execute_result"
        }
      ],
      "source": [
        "file_service.delete_share('myshare',snapshot='')"
      ]
    },
    {
      "cell_type": "code",
      "execution_count": 23,
      "metadata": {
        "colab": {
          "base_uri": "https://localhost:8080/"
        },
        "id": "zin88yRiVKHd",
        "outputId": "1e9bb1b1-a428-455e-ed62-a7ed39a0e1ab"
      },
      "outputs": [
        {
          "data": {
            "text/plain": [
              "True"
            ]
          },
          "execution_count": 23,
          "metadata": {},
          "output_type": "execute_result"
        }
      ],
      "source": [
        " # 스냅샷을 모두 삭제후 삭제 가능\n",
        "file_service.delete_share('myshare')"
      ]
    }
  ],
  "metadata": {
    "colab": {
      "provenance": []
    },
    "kernelspec": {
      "display_name": "Python 3",
      "name": "python3"
    },
    "language_info": {
      "name": "python"
    }
  },
  "nbformat": 4,
  "nbformat_minor": 0
}
