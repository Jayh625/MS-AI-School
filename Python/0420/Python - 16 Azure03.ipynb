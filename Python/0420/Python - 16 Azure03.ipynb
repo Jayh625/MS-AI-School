{
  "cells": [
    {
      "cell_type": "code",
      "execution_count": null,
      "metadata": {
        "id": "JEgwqByOW2r_"
      },
      "outputs": [],
      "source": [
        "!pip install azure-storage-queue==2.1.0"
      ]
    },
    {
      "cell_type": "code",
      "execution_count": 2,
      "metadata": {
        "id": "PGItijG3XqTs"
      },
      "outputs": [],
      "source": [
        "from azure.storage.queue import QueueService, QueueMessageFormat"
      ]
    },
    {
      "cell_type": "code",
      "execution_count": 4,
      "metadata": {
        "colab": {
          "base_uri": "https://localhost:8080/"
        },
        "id": "WWUg4_YAXwOD",
        "outputId": "544d4129-38c5-44f5-86d0-8cd0b1ac1fdd"
      },
      "outputs": [
        {
          "data": {
            "text/plain": [
              "True"
            ]
          },
          "execution_count": 4,
          "metadata": {},
          "output_type": "execute_result"
        }
      ],
      "source": [
        "connect_str = ''\n",
        "queue_name = 'queue-myqueue'\n",
        "queue_service = QueueService(connection_string=connect_str)\n",
        "\n",
        "queue_service.create_queue(queue_name)"
      ]
    },
    {
      "cell_type": "code",
      "execution_count": 9,
      "metadata": {
        "id": "nm9OMWmoY33P"
      },
      "outputs": [],
      "source": [
        "queue_service.encode_function = QueueMessageFormat.binary_base64encode\n",
        "queue_service.decode_function = QueueMessageFormat.binary_base64decode"
      ]
    },
    {
      "cell_type": "code",
      "execution_count": 11,
      "metadata": {
        "colab": {
          "base_uri": "https://localhost:8080/"
        },
        "id": "J-C-LlPFcu0d",
        "outputId": "08564fab-8936-470e-f69f-ab768bfb3973"
      },
      "outputs": [
        {
          "name": "stdout",
          "output_type": "stream",
          "text": [
            "Adding message: Hello World1\n"
          ]
        },
        {
          "data": {
            "text/plain": [
              "<azure.storage.queue.models.QueueMessage at 0x7f5197a26eb0>"
            ]
          },
          "execution_count": 11,
          "metadata": {},
          "output_type": "execute_result"
        }
      ],
      "source": [
        "import base64\n",
        "message = 'Hello World1'\n",
        "print('Adding message: ' + message)\n",
        "\n",
        "message = base64.b64encode(message.encode('utf-8'))\n",
        "queue_service.put_message(queue_name, message)"
      ]
    },
    {
      "cell_type": "code",
      "execution_count": 16,
      "metadata": {
        "colab": {
          "base_uri": "https://localhost:8080/"
        },
        "id": "mQ-KxYrzhK05",
        "outputId": "be9b906d-4762-419c-d666-48bf7cff37f1"
      },
      "outputs": [
        {
          "name": "stdout",
          "output_type": "stream",
          "text": [
            "Peeked message : Hello World2\n"
          ]
        }
      ],
      "source": [
        "messages = queue_service.peek_messages(queue_name)\n",
        "for peeked_message in messages:\n",
        "  message = base64.b64decode(peeked_message.content)\n",
        "  print('Peeked message : ' + message.decode('utf-8'))"
      ]
    },
    {
      "cell_type": "code",
      "execution_count": 18,
      "metadata": {
        "colab": {
          "base_uri": "https://localhost:8080/"
        },
        "id": "gHRdYjMUhqTU",
        "outputId": "8fa13183-79da-476c-9cf4-37fd53e7adcb"
      },
      "outputs": [
        {
          "name": "stdout",
          "output_type": "stream",
          "text": [
            "Got message: Hello World1\n"
          ]
        }
      ],
      "source": [
        "# 들어간 순서대로 나온다\n",
        "messages = queue_service.get_messages(queue_name)\n",
        "\n",
        "for msg in messages:\n",
        "  message = base64.b64decode(msg.content)\n",
        "  print('Got message: ' + message.decode('utf-8'))"
      ]
    },
    {
      "cell_type": "code",
      "execution_count": 19,
      "metadata": {
        "colab": {
          "base_uri": "https://localhost:8080/"
        },
        "id": "EZzI3iE3jPm9",
        "outputId": "cc6878d3-296a-49f9-fdde-ec3a2380cf5f"
      },
      "outputs": [
        {
          "data": {
            "text/plain": [
              "True"
            ]
          },
          "execution_count": 19,
          "metadata": {},
          "output_type": "execute_result"
        }
      ],
      "source": [
        "queue_service.delete_queue(queue_name)"
      ]
    }
  ],
  "metadata": {
    "colab": {
      "provenance": []
    },
    "kernelspec": {
      "display_name": "Python 3",
      "name": "python3"
    },
    "language_info": {
      "name": "python"
    }
  },
  "nbformat": 4,
  "nbformat_minor": 0
}
