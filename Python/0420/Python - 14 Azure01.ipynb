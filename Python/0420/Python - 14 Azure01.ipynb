{
  "cells": [
    {
      "cell_type": "code",
      "execution_count": null,
      "metadata": {
        "id": "i9WUUozbV8mU"
      },
      "outputs": [],
      "source": [
        "!pip install azure-storage-blob azure-identity"
      ]
    },
    {
      "cell_type": "code",
      "execution_count": 2,
      "metadata": {
        "id": "zVt42dopl55B"
      },
      "outputs": [],
      "source": [
        "import os, uuid\n",
        "from azure.identity import DefaultAzureCredential\n",
        "from azure.storage.blob import BlobServiceClient, BlobClient, ContainerClient"
      ]
    },
    {
      "cell_type": "code",
      "execution_count": 3,
      "metadata": {
        "id": "jliQLArVm-AQ"
      },
      "outputs": [],
      "source": [
        "# Blob Services에 접속\n",
        "connect_str = ''\n",
        "blob_service_client = BlobServiceClient.from_connection_string(connect_str)"
      ]
    },
    {
      "cell_type": "code",
      "execution_count": 4,
      "metadata": {
        "id": "HjK2M-TPpSDn"
      },
      "outputs": [],
      "source": [
        "container_name = 'test2container'\n",
        "\n",
        "container_client = blob_service_client.create_container(container_name)"
      ]
    },
    {
      "cell_type": "code",
      "execution_count": 5,
      "metadata": {
        "id": "eA_doRLepSVJ"
      },
      "outputs": [],
      "source": [
        "# Create a local directory to hold blob data\n",
        "local_path = './data'\n",
        "os.mkdir(local_path)\n",
        "\n",
        "# Create a file in the local data directory to upload and download\n",
        "local_file_name = 'welcome' + '.txt'\n",
        "upload_file_path = os.path.join(local_path,local_file_name)\n",
        "\n",
        "# Write text to the file\n",
        "file = open(upload_file_path, mode='w')\n",
        "file.write('Welcome to Python')\n",
        "file.close()"
      ]
    },
    {
      "cell_type": "code",
      "execution_count": 6,
      "metadata": {
        "id": "5IcVwm5GrLwd"
      },
      "outputs": [],
      "source": [
        "blob_client = blob_service_client.get_blob_client(\n",
        "                                    container=container_name,\n",
        "                                    blob=local_file_name\n",
        ")\n",
        "with open(file=upload_file_path, mode='rb') as data:\n",
        "  blob_client.upload_blob(data)"
      ]
    },
    {
      "cell_type": "code",
      "execution_count": 7,
      "metadata": {
        "colab": {
          "base_uri": "https://localhost:8080/"
        },
        "id": "TqWkqbg6IwMn",
        "outputId": "dd833a4e-db29-4591-deeb-23f0a2ff22a3"
      },
      "outputs": [
        {
          "name": "stdout",
          "output_type": "stream",
          "text": [
            "\n",
            "Listing blobs\n",
            "\twelcome.txt\n"
          ]
        }
      ],
      "source": [
        "# blob 파일의 리스트를 확인한다\n",
        "print('\\nListing blobs')\n",
        "blob_list = container_client.list_blobs()\n",
        "for blob in blob_list:\n",
        "  print('\\t' + blob.name)"
      ]
    },
    {
      "cell_type": "code",
      "execution_count": 8,
      "metadata": {
        "colab": {
          "base_uri": "https://localhost:8080/"
        },
        "id": "mjubjI7TPTHr",
        "outputId": "476617da-206f-439a-92ea-02975a987010"
      },
      "outputs": [
        {
          "name": "stdout",
          "output_type": "stream",
          "text": [
            "./data/welcome_DOWNLOAD.txt\n"
          ]
        }
      ],
      "source": [
        "# Download the blob to a local file\n",
        "# Add 'DOWNLOAD' before the .txt extension so you can see both files in the data directory\n",
        "download_file_path = os.path.join(local_path, str.replace(local_file_name,'.txt','_DOWNLOAD.txt'))\n",
        "print(download_file_path)\n",
        "container_client = blob_service_client.get_container_client(container=container_name)\n",
        "with open(file=download_file_path, mode='wb') as download_file:\n",
        "  download_file.write(container_client.download_blob(blob.name).readall())"
      ]
    },
    {
      "cell_type": "code",
      "execution_count": 10,
      "metadata": {
        "colab": {
          "base_uri": "https://localhost:8080/"
        },
        "id": "cFXOskgJR4Pn",
        "outputId": "209fd95b-971d-4783-a8f6-f0f4f1450da5"
      },
      "outputs": [
        {
          "name": "stdout",
          "output_type": "stream",
          "text": [
            "\n",
            "Press yes to clean up\n",
            "yes\n",
            "Deleting blob container...\n",
            "Deleting the local source and downloaded files...\n",
            "Done!\n"
          ]
        }
      ],
      "source": [
        "# Clean up\n",
        "print('\\nPress yes to clean up')\n",
        "if input() == 'yes':\n",
        "  print('Deleting blob container...')\n",
        "  container_client.delete_container()\n",
        "\n",
        "  print('Deleting the local source and downloaded files...')\n",
        "  os.remove(upload_file_path)\n",
        "  os.remove(download_file_path)\n",
        "  os.rmdir(local_path)\n",
        "\n",
        "  print('Done!')"
      ]
    }
  ],
  "metadata": {
    "colab": {
      "provenance": []
    },
    "kernelspec": {
      "display_name": "Python 3",
      "name": "python3"
    },
    "language_info": {
      "name": "python"
    }
  },
  "nbformat": 4,
  "nbformat_minor": 0
}
