{
  "cells": [
    {
      "cell_type": "code",
      "execution_count": null,
      "metadata": {
        "id": "i9WUUozbV8mU"
      },
      "outputs": [],
      "source": [
        "!pip install azure-storage-blob azure-identity"
      ]
    },
    {
      "cell_type": "code",
      "execution_count": 4,
      "metadata": {
        "id": "zVt42dopl55B"
      },
      "outputs": [],
      "source": [
        "import os, uuid\n",
        "from azure.identity import DefaultAzureCredential\n",
        "from azure.storage.blob import BlobServiceClient, BlobClient, ContainerClient"
      ]
    },
    {
      "cell_type": "code",
      "execution_count": 5,
      "metadata": {
        "id": "jliQLArVm-AQ"
      },
      "outputs": [],
      "source": [
        "# Blob Services에 접속\n",
        "connect_str = ''\n",
        "blob_service_client = BlobServiceClient.from_connection_string(connect_str)"
      ]
    },
    {
      "cell_type": "code",
      "execution_count": 6,
      "metadata": {
        "id": "HjK2M-TPpSDn"
      },
      "outputs": [],
      "source": [
        "container_name = 'test2container'\n",
        "\n",
        "container_client = blob_service_client.create_container(container_name)"
      ]
    },
    {
      "cell_type": "code",
      "execution_count": 10,
      "metadata": {
        "id": "eA_doRLepSVJ"
      },
      "outputs": [],
      "source": [
        "# Create a local directory to hold blob data\n",
        "local_path = './data'\n",
        "# os.mkdir(local_path)\n",
        "\n",
        "# Create a file in the local data directory to upload and download\n",
        "local_file_name = 'welcome' + '.txt'\n",
        "upload_file_path = os.path.join(local_path,local_file_name)\n",
        "\n",
        "# Write text to the file\n",
        "file = open(upload_file_path, mode='w')\n",
        "file.write('Welcome to Python')\n",
        "file.close()"
      ]
    },
    {
      "cell_type": "code",
      "execution_count": 13,
      "metadata": {
        "id": "5IcVwm5GrLwd"
      },
      "outputs": [],
      "source": [
        "blob_client = blob_service_client.get_blob_client(\n",
        "                                    container=container_name,\n",
        "                                    blob=local_file_name\n",
        ")\n",
        "with open(file=upload_file_path, mode='rb') as data:\n",
        "  blob_client.upload_blob(data)"
      ]
    }
  ],
  "metadata": {
    "colab": {
      "provenance": []
    },
    "kernelspec": {
      "display_name": "Python 3",
      "name": "python3"
    },
    "language_info": {
      "name": "python"
    }
  },
  "nbformat": 4,
  "nbformat_minor": 0
}
