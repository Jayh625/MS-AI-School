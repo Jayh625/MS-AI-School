{
 "cells": [
  {
   "cell_type": "code",
   "execution_count": null,
   "id": "33e21713",
   "metadata": {},
   "outputs": [],
   "source": [
    "import cv2\n",
    "import numpy as np\n",
    "import matplotlib.pyplot as plt\n",
    "\n",
    "# 이미지 파일 불러오기\n",
    "image = cv2.imread('./data/image02.jpeg')\n",
    "image = cv2.cvtColor(image, cv2.COLOR_BGR2RGB)\n",
    "\n",
    "# 잘라낼 영역의 좌표와 크기 설정\n",
    "x, y, w, h = 100, 100, 200, 200\n",
    "\n",
    "# 영역 잘라내기\n",
    "crop_img = image[y:y+h, x:x+w]\n",
    "\n",
    "# 원본 이미지\n",
    "plt.imshow(image)\n",
    "plt.show()\n",
    "\n",
    "# 이미지 자르기\n",
    "plt.imshow(crop_img)\n",
    "plt.show()"
   ]
  }
 ],
 "metadata": {
  "kernelspec": {
   "display_name": "AI",
   "language": "python",
   "name": "ai"
  },
  "language_info": {
   "codemirror_mode": {
    "name": "ipython",
    "version": 3
   },
   "file_extension": ".py",
   "mimetype": "text/x-python",
   "name": "python",
   "nbconvert_exporter": "python",
   "pygments_lexer": "ipython3",
   "version": "3.8.16"
  }
 },
 "nbformat": 4,
 "nbformat_minor": 5
}
