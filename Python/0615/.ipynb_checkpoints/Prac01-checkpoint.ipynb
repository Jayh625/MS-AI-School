{
 "cells": [
  {
   "cell_type": "code",
   "execution_count": 1,
   "id": "de4c9895",
   "metadata": {},
   "outputs": [],
   "source": [
    "import os \n",
    "import cv2\n",
    "import matplotlib.pyplot as plt \n",
    "from xml.etree.ElementTree import parse"
   ]
  },
  {
   "cell_type": "code",
   "execution_count": 2,
   "id": "867b13eb",
   "metadata": {},
   "outputs": [
    {
     "name": "stdout",
     "output_type": "stream",
     "text": [
      "Pascal_xyxy to YOLO : 1, 0.865625, 0.45, 0.26875, 0.5166666666666667\n",
      "Pascal_xyxy to YOLO : 0, 0.16171875, 0.6041666666666666, 0.3140625, 0.44583333333333336\n"
     ]
    }
   ],
   "source": [
    "label_number_dict = {'cat' : 0, 'dog' : 1}\n",
    "def xml_read(xml_path) : \n",
    "    root = parse(xml_path).getroot()\n",
    "    image_info = root.findall('image')\n",
    "    for image in image_info :\n",
    "        bbox = image.findall('box')\n",
    "        image_width = image.attrib['width']\n",
    "        image_height= image.attrib['height']\n",
    "        \n",
    "        # image name and path \n",
    "        image_name = image.attrib['name']\n",
    "        image_name_temp = image_name\n",
    "        image_name = os.path.join('./data/', image_name)\n",
    "        \n",
    "        # image read\n",
    "        image = cv2.imread(image_name)\n",
    "        # image BGR2RGB\n",
    "        image = cv2.cvtColor(image, cv2.COLOR_BGR2RGB)\n",
    "        \n",
    "        for box_info in bbox : \n",
    "            label = box_info.attrib['label']\n",
    "            \n",
    "            # 값 -> string\n",
    "            xtl = int(float(box_info.attrib['xtl']))\n",
    "            ytl = int(float(box_info.attrib['ytl']))\n",
    "            xbr = int(float(box_info.attrib['xbr']))\n",
    "            ybr = int(float(box_info.attrib['ybr']))\n",
    "            \n",
    "            # xtl=\"468.94\" ytl=\"92.01\" xbr=\"640.00\" ybr=\"340.46\"\n",
    "            # xtl=\"3.96\" ytl=\"183.38\" xbr=\"204.84\" ybr=\"397.41\"\n",
    "            \n",
    "            # 이미지 사이즈가 필요 위에 있는 image_width, image_height 경우는 string 타입 형변환 필요 int\n",
    "            image_width = int(image_width)\n",
    "            image_height = int(image_height)\n",
    "            \n",
    "            # Pascal_xyxy to YOLO center_x center_y yolo_w yolo_h\n",
    "            center_x = ((xtl+xbr) / (2*image_width))\n",
    "            center_y = ((ytl+ybr) / (2*image_height))\n",
    "            yolo_w = (xbr-xtl) / image_width\n",
    "            yolo_h = (ybr-ytl) / image_height\n",
    "            \n",
    "            # file_name\n",
    "            image_name_temp = image_name_temp.replace('.jpg', '')\n",
    "            \n",
    "            # label cat, dog -> 0, 1 로 변경\n",
    "            label_number = label_number_dict[label]\n",
    "            print(f\"Pascal_xyxy to YOLO : {label_number}, {center_x}, {center_y}, {yolo_w}, {yolo_h}\")\n",
    "            \n",
    "            # 텍스트로 저장하기\n",
    "            with open(f\"{image_name_temp}.txt\", \"a\") as f :\n",
    "                f.write(f\"{label_number}, {center_x}, {center_y}, {yolo_w}, {yolo_h}\\n\")\n",
    "xml_read('./data/annotations.xml')"
   ]
  }
 ],
 "metadata": {
  "kernelspec": {
   "display_name": "AI",
   "language": "python",
   "name": "ai"
  },
  "language_info": {
   "codemirror_mode": {
    "name": "ipython",
    "version": 3
   },
   "file_extension": ".py",
   "mimetype": "text/x-python",
   "name": "python",
   "nbconvert_exporter": "python",
   "pygments_lexer": "ipython3",
   "version": "3.8.16"
  }
 },
 "nbformat": 4,
 "nbformat_minor": 5
}
