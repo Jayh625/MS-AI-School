{
 "cells": [
  {
   "cell_type": "code",
   "execution_count": 1,
   "id": "4143e6c0",
   "metadata": {},
   "outputs": [],
   "source": [
    "import os\n",
    "import glob\n",
    "import albumentations as A \n",
    "import cv2\n",
    "\n",
    "from torch.utils.data import Dataset, DataLoader"
   ]
  },
  {
   "cell_type": "code",
   "execution_count": 2,
   "id": "b3605d89",
   "metadata": {},
   "outputs": [],
   "source": [
    "class mycustomdataset(Dataset):\n",
    "    def __init__(self, image_path, transform) : \n",
    "        # 이미지 경로 정의\n",
    "        self.image_paths = glob.glob(os.path.join(image_path, \"*\", \"*\", \"*.png\"))\n",
    "        \n",
    "        # 이미지 변환 aug 정의\n",
    "        self.transform = transform\n",
    "        \n",
    "        # 라벨 dict\n",
    "        self.label_dict = {\"Stealing_Courier\" : 0}\n",
    "    \n",
    "    def __getitem__(self, index) :\n",
    "        # 이미지 경로 지정하고 이미지 읽기\n",
    "        image_path = self.image_paths[index]\n",
    "        image = cv2.imread(image_path)\n",
    "        image = cv2.cvtColor(image, cv2.COLOR_BGR2RGB)\n",
    "        \n",
    "        # 라벨 지정\n",
    "        label_temp = image_path.split(\"/\")[2]\n",
    "        label = self.label_dict[label_temp]\n",
    "        print(label)\n",
    "        \n",
    "        # transform 처리\n",
    "        if self.transform :\n",
    "            image = self.transform(image)['image']\n",
    "        \n",
    "        return image, label\n",
    "    \n",
    "    def __len__(self) :\n",
    "        return len(self.image_paths)\n",
    "\n",
    "test = mycustomdataset(\"./AI_hub_final_data/\", transform=None)\n",
    "for i in test :\n",
    "    pass"
   ]
  }
 ],
 "metadata": {
  "kernelspec": {
   "display_name": "AI",
   "language": "python",
   "name": "ai"
  },
  "language_info": {
   "codemirror_mode": {
    "name": "ipython",
    "version": 3
   },
   "file_extension": ".py",
   "mimetype": "text/x-python",
   "name": "python",
   "nbconvert_exporter": "python",
   "pygments_lexer": "ipython3",
   "version": "3.8.16"
  }
 },
 "nbformat": 4,
 "nbformat_minor": 5
}
