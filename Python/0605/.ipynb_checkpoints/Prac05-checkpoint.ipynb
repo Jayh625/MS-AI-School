{
 "cells": [
  {
   "cell_type": "markdown",
   "id": "89fa22df",
   "metadata": {},
   "source": [
    "### 순서가 없는 범주형 데이터 처리"
   ]
  },
  {
   "cell_type": "code",
   "execution_count": 1,
   "id": "bf5abaaf",
   "metadata": {},
   "outputs": [],
   "source": [
    "import pandas as pd\n",
    "import numpy as np\n",
    "from sklearn.preprocessing import LabelBinarizer, MultiLabelBinarizer\n",
    "from sklearn.preprocessing import OneHotEncoder\n",
    "from sklearn.preprocessing import OrdinalEncoder\n",
    "from sklearn.feature_extraction import DictVectorizer\n",
    "from sklearn.neighbors import KNeighborsClassifier\n",
    "from sklearn.impute import SimpleImputer"
   ]
  },
  {
   "cell_type": "code",
   "execution_count": 2,
   "id": "df0ccda4",
   "metadata": {},
   "outputs": [
    {
     "name": "stdout",
     "output_type": "stream",
     "text": [
      "[['가나다라']\n",
      " ['가나다라']\n",
      " ['아바하자']\n",
      " ['카나다사']]\n",
      "['가나다라' '아바하자' '카나다사']\n"
     ]
    }
   ],
   "source": [
    "feature = np.array((['가나다라'],\n",
    "                    ['가나다라'],\n",
    "                    ['아바하자'],\n",
    "                    ['카나다사']))\n",
    "print(feature)\n",
    "\n",
    "# 원-핫 인코더 생성\n",
    "ont_hot = LabelBinarizer()\n",
    "ont_hot.fit_transform(feature) # 특성을 원-핫 인코딩 변환\n",
    "# 특성 클래스 확인\n",
    "print(ont_hot.classes_)"
   ]
  },
  {
   "cell_type": "markdown",
   "id": "04a15bb6",
   "metadata": {},
   "source": [
    "### 다중 클래스 특성에 대한 처리"
   ]
  },
  {
   "cell_type": "code",
   "execution_count": 3,
   "id": "460c9100",
   "metadata": {},
   "outputs": [
    {
     "name": "stdout",
     "output_type": "stream",
     "text": [
      "['가나다라마' '아마자나가' '아자바하나' '아카나다하' '자다가나라' '자다나타하']\n"
     ]
    }
   ],
   "source": [
    "multiclass_feature = [('가나다라마','아자바하나'),\n",
    "                      ('자다가나라','자다나타하'),\n",
    "                      ('가나다라마','아자바하나'),\n",
    "                      ('아마자나가','아카나다하'),\n",
    "                      ('가나다라마','아자바하나')]\n",
    "ont_hot_mult = MultiLabelBinarizer()\n",
    "ont_hot_mult.fit_transform(multiclass_feature)\n",
    "print(ont_hot_mult.classes_)"
   ]
  },
  {
   "cell_type": "markdown",
   "id": "7ce08b39",
   "metadata": {},
   "source": [
    "### 문자열 타깃 데이터 원-핫 인코딩"
   ]
  },
  {
   "cell_type": "code",
   "execution_count": 4,
   "id": "56312e5f",
   "metadata": {},
   "outputs": [
    {
     "name": "stdout",
     "output_type": "stream",
     "text": [
      "[array(['안녕', '저녁', '점심'], dtype=object), array([1, 2, 3], dtype=object)]\n"
     ]
    }
   ],
   "source": [
    "str_feature = ([['안녕', 1],\n",
    "                ['저녁', 2],\n",
    "                ['안녕', 1],\n",
    "                ['점심', 3]\n",
    "               ])\n",
    "one_hot_encoder = OneHotEncoder(sparse_output=False)\n",
    "# One hot encoder -> 입력 특성 배열을 모두 범주형\n",
    "one_hot_encoder.fit_transform(str_feature)\n",
    "print(one_hot_encoder.categories_)"
   ]
  },
  {
   "cell_type": "markdown",
   "id": "d2322fc0",
   "metadata": {},
   "source": [
    "### 1-1 순서가 있는 범주형 특성 인코딩\n",
    "\n",
    "- 순서가 있는 클래스는 순서 개념을 가진 수치값으로 변환\n",
    "- 딕셔너리 사용해서 -> 특성"
   ]
  },
  {
   "cell_type": "code",
   "execution_count": 5,
   "id": "cb0e7151",
   "metadata": {},
   "outputs": [
    {
     "name": "stdout",
     "output_type": "stream",
     "text": [
      "    Score\n",
      "0     Low\n",
      "1     Low\n",
      "2  Medium\n",
      "3    High\n"
     ]
    }
   ],
   "source": [
    "# 특성 데이터 생성\n",
    "dataframe = pd.DataFrame({\n",
    "    'Score' : ['Low', 'Low', 'Medium', 'High']\n",
    "})\n",
    "print(dataframe)"
   ]
  },
  {
   "cell_type": "code",
   "execution_count": 6,
   "id": "f6054ec2",
   "metadata": {},
   "outputs": [
    {
     "name": "stdout",
     "output_type": "stream",
     "text": [
      "{'Low': 1, 'Medium': 2, 'High': 3}\n"
     ]
    }
   ],
   "source": [
    "# 매핑 딕셔너리 생성\n",
    "scale_mapper = {\n",
    "    'Low' : 1,\n",
    "    'Medium' : 2,\n",
    "    'High' : 3\n",
    "}\n",
    "print(scale_mapper)"
   ]
  },
  {
   "cell_type": "code",
   "execution_count": 7,
   "id": "a063799a",
   "metadata": {},
   "outputs": [
    {
     "name": "stdout",
     "output_type": "stream",
     "text": [
      "0    1\n",
      "1    1\n",
      "2    2\n",
      "3    3\n",
      "Name: Score, dtype: int64\n"
     ]
    }
   ],
   "source": [
    "data = dataframe['Score'].replace(scale_mapper)\n",
    "print(data)"
   ]
  },
  {
   "cell_type": "markdown",
   "id": "6adb6241",
   "metadata": {},
   "source": [
    "### 1-2 순서가 있는 범주형 특성 인코딩"
   ]
  },
  {
   "cell_type": "code",
   "execution_count": 8,
   "id": "bc2c8de6",
   "metadata": {},
   "outputs": [
    {
     "name": "stdout",
     "output_type": "stream",
     "text": [
      "[array(['High', 'Low', 'Medium'], dtype='<U11'), array(['10', '3', '40'], dtype='<U11')]\n"
     ]
    }
   ],
   "source": [
    "feature_array = np.array((['Low', 10],\n",
    "                          ['High', 40], \n",
    "                          ['Medium', 3]))\n",
    "ordinal_encoder = OrdinalEncoder()\n",
    "ordinal_encoder.fit_transform(feature_array)\n",
    "print(ordinal_encoder.categories_)"
   ]
  },
  {
   "cell_type": "markdown",
   "id": "b029e48d",
   "metadata": {},
   "source": [
    "### 1-3 순서가 있는 범주형 특성 인코딩\n",
    "- 특성 딕셔너리 인코딩"
   ]
  },
  {
   "cell_type": "code",
   "execution_count": 9,
   "id": "66d0b06f",
   "metadata": {},
   "outputs": [
    {
     "name": "stdout",
     "output_type": "stream",
     "text": [
      "[[4. 2. 0. 0.]\n",
      " [0. 2. 0. 3.]\n",
      " [0. 1. 2. 0.]\n",
      " [0. 1. 2. 0.]]\n",
      "['Blue' 'Red' 'Yellow' 'blue']\n",
      "   Blue  Red  Yellow  blue\n",
      "0   4.0  2.0     0.0   0.0\n",
      "1   0.0  2.0     0.0   3.0\n",
      "2   0.0  1.0     2.0   0.0\n",
      "3   0.0  1.0     2.0   0.0\n"
     ]
    }
   ],
   "source": [
    "# 딕셔너리 생성\n",
    "data_dict = [{'Red' : 2, 'Blue' : 4}, \n",
    "             {'Red' : 2, 'blue' : 3}, \n",
    "             {'Red' : 1, 'Yellow' : 2}, \n",
    "             {'Red' : 1, 'Yellow' : 2}]\n",
    "dictVectorizer = DictVectorizer(sparse=False)\n",
    "feature_dict = dictVectorizer.fit_transform(data_dict)\n",
    "print(feature_dict)\n",
    "\n",
    "feature_dict_name = dictVectorizer.get_feature_names_out()\n",
    "print(feature_dict_name)\n",
    "\n",
    "dict_data = pd.DataFrame(feature_dict, columns=feature_dict_name)\n",
    "print(dict_data)"
   ]
  },
  {
   "cell_type": "markdown",
   "id": "e2f285f0",
   "metadata": {},
   "source": [
    "### 범주형 데이터 - 누락된 클래스 값 대처하기 01"
   ]
  },
  {
   "cell_type": "code",
   "execution_count": 10,
   "id": "da3af59f",
   "metadata": {},
   "outputs": [
    {
     "name": "stdout",
     "output_type": "stream",
     "text": [
      "[[ 2.1   1.48]\n",
      " [ 1.18  1.33]\n",
      " [ 1.22  1.27]\n",
      " [-0.2  -1.15]]\n",
      "[0. 1. 0. 1.]\n"
     ]
    }
   ],
   "source": [
    "x = np.array([[0,2.10,1.48], \n",
    "              [1,1.18,1.33], \n",
    "              [0,1.22,1.27], \n",
    "              [1,-0.20, -1.15]])\n",
    "x_with_nan = np.array([[np.nan,0.87,1.33], [np.nan,-0.67,-0.22]])\n",
    "clf = KNeighborsClassifier(3, weights='distance')\n",
    "\n",
    "print(x[:,1:])\n",
    "print(x[:,0])"
   ]
  },
  {
   "cell_type": "code",
   "execution_count": 11,
   "id": "db5280d6",
   "metadata": {},
   "outputs": [
    {
     "name": "stdout",
     "output_type": "stream",
     "text": [
      "[[ 0.    0.87  1.33]\n",
      " [ 1.   -0.67 -0.22]\n",
      " [ 0.    2.1   1.48]\n",
      " [ 1.    1.18  1.33]\n",
      " [ 0.    1.22  1.27]\n",
      " [ 1.   -0.2  -1.15]]\n"
     ]
    }
   ],
   "source": [
    "train_model = clf.fit(x[:, 1:], x[:, 0])\n",
    "imputer_values = train_model.predict(x_with_nan[:, 1:]) # 누락된 값의 클래스 예측\n",
    "x_with_imputer = np.hstack((imputer_values.reshape(-1,1), x_with_nan[:, 1:]))\n",
    "data = np.vstack((x_with_imputer, x))\n",
    "print(data)"
   ]
  },
  {
   "cell_type": "markdown",
   "id": "8231d112",
   "metadata": {},
   "source": [
    "### 누락된 클래스 값 대처하기 02\n",
    "- 누락된 값을 특성에서 가장 자주 등장하는 값으로 채우기"
   ]
  },
  {
   "cell_type": "code",
   "execution_count": 12,
   "id": "8b5ffbc8",
   "metadata": {},
   "outputs": [
    {
     "name": "stdout",
     "output_type": "stream",
     "text": [
      "[[ 0.    0.87  1.33]\n",
      " [ 0.   -0.67 -0.22]\n",
      " [ 0.    2.1   1.48]\n",
      " [ 1.    1.18  1.33]\n",
      " [ 0.    1.22  1.27]\n",
      " [ 1.   -0.2  -1.15]]\n"
     ]
    }
   ],
   "source": [
    "x_complete = np.vstack((x_with_nan, x))\n",
    "impute = SimpleImputer(strategy='most_frequent')\n",
    "data_impute = impute.fit_transform(x_complete)\n",
    "print(data_impute)"
   ]
  }
 ],
 "metadata": {
  "kernelspec": {
   "display_name": "AI",
   "language": "python",
   "name": "ai"
  },
  "language_info": {
   "codemirror_mode": {
    "name": "ipython",
    "version": 3
   },
   "file_extension": ".py",
   "mimetype": "text/x-python",
   "name": "python",
   "nbconvert_exporter": "python",
   "pygments_lexer": "ipython3",
   "version": "3.8.16"
  }
 },
 "nbformat": 4,
 "nbformat_minor": 5
}
