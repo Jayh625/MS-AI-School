{
 "cells": [
  {
   "cell_type": "markdown",
   "id": "41fb9f09",
   "metadata": {},
   "source": [
    "## Scikit-learn 손글씨 데이터를 활용하여 주성분 줄이기 차이 (결과값 비교)"
   ]
  },
  {
   "cell_type": "code",
   "execution_count": 1,
   "id": "fd5aa7cb",
   "metadata": {},
   "outputs": [],
   "source": [
    "from sklearn.preprocessing import StandardScaler\n",
    "from sklearn.datasets import load_digits\n",
    "from sklearn.model_selection import train_test_split\n",
    "from sklearn.linear_model import LogisticRegression\n",
    "from sklearn.metrics import accuracy_score"
   ]
  },
  {
   "cell_type": "markdown",
   "id": "bf80402a",
   "metadata": {},
   "source": [
    "### 데이터 불러오기"
   ]
  },
  {
   "cell_type": "code",
   "execution_count": 2,
   "id": "814c2d7b",
   "metadata": {},
   "outputs": [
    {
     "name": "stdout",
     "output_type": "stream",
     "text": [
      "1437 360 1437 360\n"
     ]
    }
   ],
   "source": [
    "digits = load_digits()\n",
    "\n",
    "# 진짜 차이가 있는지 체크 하기 위해서 -> 정규화 하지 않은 데이터로 분류 모델 훈련\n",
    "X_train, X_test, y_train, y_test = train_test_split(digits.data, digits.target, test_size=0.2, random_state=777)\n",
    "\n",
    "print(len(X_train), len(X_test), len(y_train), len(y_test))"
   ]
  },
  {
   "cell_type": "markdown",
   "id": "55568901",
   "metadata": {},
   "source": [
    "### 모델 불러오기 "
   ]
  },
  {
   "cell_type": "code",
   "execution_count": 3,
   "id": "dd95a241",
   "metadata": {},
   "outputs": [
    {
     "name": "stdout",
     "output_type": "stream",
     "text": [
      "Accuracy without normalization : 0.9472222222222222\n"
     ]
    }
   ],
   "source": [
    "model = LogisticRegression(max_iter=10000)\n",
    "model.fit(X_train, y_train)\n",
    "y_pred = model.predict(X_test)\n",
    "no_standard_Scaler_acc_score = accuracy_score(y_test, y_pred) # 예측 정확도 \n",
    "print(f\"Accuracy without normalization : {no_standard_Scaler_acc_score}\")"
   ]
  },
  {
   "cell_type": "markdown",
   "id": "db938152",
   "metadata": {},
   "source": [
    "### StandardScaler 적용후 - > ACC"
   ]
  },
  {
   "cell_type": "code",
   "execution_count": 4,
   "id": "3ba962c0",
   "metadata": {},
   "outputs": [
    {
     "name": "stdout",
     "output_type": "stream",
     "text": [
      "Accuracy with normalization : 0.95\n"
     ]
    }
   ],
   "source": [
    "scaler = StandardScaler()\n",
    "x_train_norm = scaler.fit_transform(X_train)\n",
    "x_test_norm = scaler.transform(X_test)\n",
    "model_norm = LogisticRegression(max_iter=10000)\n",
    "model_norm.fit(x_train_norm, y_train)\n",
    "y_pred_norm = model_norm.predict(x_test_norm)\n",
    "Standard_Scaler_acc_score = accuracy_score(y_test, y_pred_norm) \n",
    "print(f\"Accuracy with normalization : {Standard_Scaler_acc_score}\")"
   ]
  }
 ],
 "metadata": {
  "kernelspec": {
   "display_name": "AI",
   "language": "python",
   "name": "ai"
  },
  "language_info": {
   "codemirror_mode": {
    "name": "ipython",
    "version": 3
   },
   "file_extension": ".py",
   "mimetype": "text/x-python",
   "name": "python",
   "nbconvert_exporter": "python",
   "pygments_lexer": "ipython3",
   "version": "3.8.16"
  }
 },
 "nbformat": 4,
 "nbformat_minor": 5
}
