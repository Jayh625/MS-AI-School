{
 "cells": [
  {
   "cell_type": "code",
   "execution_count": 1,
   "id": "ce2200a1",
   "metadata": {},
   "outputs": [
    {
     "name": "stdout",
     "output_type": "stream",
     "text": [
      "pygame 2.4.0 (SDL 2.26.4, Python 3.8.16)\n",
      "Hello from the pygame community. https://www.pygame.org/contribute.html\n"
     ]
    }
   ],
   "source": [
    "import pandas as pd\n",
    "import numpy as np\n",
    "from sklearn.feature_extraction.text import TfidfVectorizer\n",
    "import re \n",
    "import sys\n",
    "import unicodedata\n",
    "from nltk.tokenize import sent_tokenize\n",
    "from nltk.tokenize import word_tokenize\n",
    "import nltk\n",
    "from nltk.corpus import stopwords\n",
    "from nltk.stem.porter import PorterStemmer\n",
    "from nltk import pos_tag\n",
    "import pytagcloud\n",
    "import webbrowser"
   ]
  },
  {
   "cell_type": "code",
   "execution_count": 2,
   "id": "15c9a704",
   "metadata": {},
   "outputs": [],
   "source": [
    "# 텍스트 정제\n",
    "text_data = [\" import re 모듈은 파이썬에서 정규 표현식을 사용하기 위해 제공되는 내장 모듈입니다. ????\",\n",
    "             \" 정규 표현식은 문자열 패턴을 검색, 추출, 대체 또는 분할하는 데 사용됩니다. !!!!\"]"
   ]
  },
  {
   "cell_type": "code",
   "execution_count": 3,
   "id": "beb2fc92",
   "metadata": {
    "scrolled": true
   },
   "outputs": [
    {
     "name": "stdout",
     "output_type": "stream",
     "text": [
      "['import re 모듈은 파이썬에서 정규 표현식을 사용하기 위해 제공되는 내장 모듈입니다. ????', '정규 표현식은 문자열 패턴을 검색, 추출, 대체 또는 분할하는 데 사용됩니다. !!!!']\n"
     ]
    }
   ],
   "source": [
    "# 공백 문자 제거\n",
    "strip_whitespace = [string.strip() for string in text_data] # 공백 문자 제거 \n",
    "print(strip_whitespace)"
   ]
  },
  {
   "cell_type": "code",
   "execution_count": 4,
   "id": "c6ad32fa",
   "metadata": {},
   "outputs": [
    {
     "name": "stdout",
     "output_type": "stream",
     "text": [
      "['import re 모듈은 파이썬에서 정규 표현식을 사용하기 위해 제공되는 내장 모듈입니다 ????', '정규 표현식은 문자열 패턴을 검색, 추출, 대체 또는 분할하는 데 사용됩니다 !!!!']\n"
     ]
    }
   ],
   "source": [
    "# 마침표 제거\n",
    "remove_periods = [string.replace(\".\",\"\") for string in strip_whitespace]\n",
    "print(remove_periods)"
   ]
  },
  {
   "cell_type": "code",
   "execution_count": 5,
   "id": "b342ce41",
   "metadata": {},
   "outputs": [
    {
     "name": "stdout",
     "output_type": "stream",
     "text": [
      "['import re 모듈은 파이썬에서 정규 표현식을 사용하기 위해 제공되는 내장 모듈입니다 ', '정규 표현식은 문자열 패턴을 검색 추출 대체 또는 분할하는 데 사용됩니다 ']\n"
     ]
    }
   ],
   "source": [
    "# 구두점 삭제\n",
    "temp = dict.fromkeys(i for i in range(sys.maxunicode) if unicodedata.category(chr(i)).startswith('P'))\n",
    "data = [string.translate(temp) for string in remove_periods]\n",
    "print(data)"
   ]
  },
  {
   "cell_type": "markdown",
   "id": "dc8aff02",
   "metadata": {},
   "source": [
    "### 텍스트 토큰화\n",
    "- 텍스트를 개별 단어로 나누기"
   ]
  },
  {
   "cell_type": "code",
   "execution_count": 6,
   "id": "f71a0e00",
   "metadata": {},
   "outputs": [
    {
     "name": "stderr",
     "output_type": "stream",
     "text": [
      "[nltk_data] Downloading package punkt to\n",
      "[nltk_data]     C:\\Users\\Jay\\AppData\\Roaming\\nltk_data...\n",
      "[nltk_data]   Package punkt is already up-to-date!\n"
     ]
    },
    {
     "data": {
      "text/plain": [
       "True"
      ]
     },
     "execution_count": 6,
     "metadata": {},
     "output_type": "execute_result"
    }
   ],
   "source": [
    "# 구두점 데이터 다운로드\n",
    "nltk.download('punkt')"
   ]
  },
  {
   "cell_type": "code",
   "execution_count": 7,
   "id": "7415f049",
   "metadata": {},
   "outputs": [
    {
     "name": "stdout",
     "output_type": "stream",
     "text": [
      "['모듈은', '정규', '표현식을', '사용하여', '문자열에서', '패턴을', '찾고', '조작하는', '데', '사용되는', '파이썬', '내장', '모듈입니다', '.']\n"
     ]
    }
   ],
   "source": [
    "string = \"모듈은 정규 표현식을 사용하여 문자열에서 패턴을 찾고 조작하는 데 사용되는 파이썬 내장 모듈입니다.\"\n",
    "word_data = word_tokenize(string)\n",
    "print(word_data)"
   ]
  },
  {
   "cell_type": "code",
   "execution_count": 8,
   "id": "407bd2dd",
   "metadata": {},
   "outputs": [
    {
     "name": "stdout",
     "output_type": "stream",
     "text": [
      "['모듈은 정규 표현식을 사용하여 문자열에서 패턴을 찾고 조작하는 데 사용되는 파이썬 내장 모듈입니다.', '정규 표현식을 사용하여 문자열에서 패턴을 찾고 조작하는 데 사용되는 파이썬 내장 모듈입니다.']\n"
     ]
    }
   ],
   "source": [
    "sent_string = \"모듈은 정규 표현식을 사용하여 문자열에서 패턴을 찾고 조작하는 데 사용되는 파이썬 내장 모듈입니다. 정규 표현식을 사용하여 문자열에서 패턴을 찾고 조작하는 데 사용되는 파이썬 내장 모듈입니다.\"\n",
    "sent_data = sent_tokenize(sent_string)\n",
    "print(sent_data)"
   ]
  },
  {
   "cell_type": "markdown",
   "id": "cb79dc92",
   "metadata": {},
   "source": [
    "### 불용어 삭제"
   ]
  },
  {
   "cell_type": "code",
   "execution_count": 9,
   "id": "66e04920",
   "metadata": {},
   "outputs": [
    {
     "name": "stderr",
     "output_type": "stream",
     "text": [
      "[nltk_data] Downloading package stopwords to\n",
      "[nltk_data]     C:\\Users\\Jay\\AppData\\Roaming\\nltk_data...\n",
      "[nltk_data]   Package stopwords is already up-to-date!\n"
     ]
    },
    {
     "data": {
      "text/plain": [
       "True"
      ]
     },
     "execution_count": 9,
     "metadata": {},
     "output_type": "execute_result"
    }
   ],
   "source": [
    "# 불용어 데이터 다운로드\n",
    "nltk.download('stopwords')  "
   ]
  },
  {
   "cell_type": "code",
   "execution_count": 10,
   "id": "dd63f121",
   "metadata": {},
   "outputs": [
    {
     "name": "stdout",
     "output_type": "stream",
     "text": [
      "불용어 리스트 : ['i', 'me', 'my', 'myself', 'we', 'our', 'ours', 'ourselves', 'you', \"you're\", \"you've\", \"you'll\", \"you'd\", 'your', 'yours', 'yourself', 'yourselves', 'he', 'him', 'his', 'himself', 'she', \"she's\", 'her', 'hers', 'herself', 'it', \"it's\", 'its', 'itself', 'they', 'them', 'their', 'theirs', 'themselves', 'what', 'which', 'who', 'whom', 'this', 'that', \"that'll\", 'these', 'those', 'am', 'is', 'are', 'was', 'were', 'be', 'been', 'being', 'have', 'has', 'had', 'having', 'do', 'does', 'did', 'doing', 'a', 'an', 'the', 'and', 'but', 'if', 'or', 'because', 'as', 'until', 'while', 'of', 'at', 'by', 'for', 'with', 'about', 'against', 'between', 'into', 'through', 'during', 'before', 'after', 'above', 'below', 'to', 'from', 'up', 'down', 'in', 'out', 'on', 'off', 'over', 'under', 'again', 'further', 'then', 'once', 'here', 'there', 'when', 'where', 'why', 'how', 'all', 'any', 'both', 'each', 'few', 'more', 'most', 'other', 'some', 'such', 'no', 'nor', 'not', 'only', 'own', 'same', 'so', 'than', 'too', 'very', 's', 't', 'can', 'will', 'just', 'don', \"don't\", 'should', \"should've\", 'now', 'd', 'll', 'm', 'o', 're', 've', 'y', 'ain', 'aren', \"aren't\", 'couldn', \"couldn't\", 'didn', \"didn't\", 'doesn', \"doesn't\", 'hadn', \"hadn't\", 'hasn', \"hasn't\", 'haven', \"haven't\", 'isn', \"isn't\", 'ma', 'mightn', \"mightn't\", 'mustn', \"mustn't\", 'needn', \"needn't\", 'shan', \"shan't\", 'shouldn', \"shouldn't\", 'wasn', \"wasn't\", 'weren', \"weren't\", 'won', \"won't\", 'wouldn', \"wouldn't\"]\n",
      "불용어가 삭제된 결과 : ['going', 'go', 'store', 'park']\n"
     ]
    }
   ],
   "source": [
    "tokenized_words = ['i', 'am', 'going', 'to', 'go', 'to', 'the', 'store', 'and', 'park']\n",
    "stop_words = stopwords.words('english')\n",
    "\n",
    "# 불용어 삭제\n",
    "filtered_words = [word for word in tokenized_words if word not in stop_words]\n",
    "\n",
    "# 불용어 확인\n",
    "stop_data = stop_words\n",
    "print(f\"불용어 리스트 : {stop_data}\")\n",
    "print(f\"불용어가 삭제된 결과 : {filtered_words}\")"
   ]
  },
  {
   "cell_type": "markdown",
   "id": "7a595036",
   "metadata": {},
   "source": [
    "### 어간 추출"
   ]
  },
  {
   "cell_type": "code",
   "execution_count": 11,
   "id": "97588e4d",
   "metadata": {},
   "outputs": [
    {
     "name": "stdout",
     "output_type": "stream",
     "text": [
      "['i', 'am', 'go', 'to', 'go', 'to', 'the', 'store', 'and', 'park']\n"
     ]
    }
   ],
   "source": [
    "tokenized_words_temp = ['i', 'am', 'going', 'to', 'go', 'to', 'the', 'store', 'and', 'park']\n",
    "\n",
    "# 어간 추출기 생성\n",
    "porter = PorterStemmer()\n",
    "word_list_temp = []\n",
    "for word in tokenized_words_temp : \n",
    "    word_list_temp.append(porter.stem(word))\n",
    "print(word_list_temp)"
   ]
  },
  {
   "cell_type": "markdown",
   "id": "be0d93b0",
   "metadata": {},
   "source": [
    "### 품사 태깅"
   ]
  },
  {
   "cell_type": "code",
   "execution_count": 12,
   "id": "04198021",
   "metadata": {},
   "outputs": [
    {
     "name": "stderr",
     "output_type": "stream",
     "text": [
      "[nltk_data] Downloading package averaged_perceptron_tagger to\n",
      "[nltk_data]     C:\\Users\\Jay\\AppData\\Roaming\\nltk_data...\n",
      "[nltk_data]   Package averaged_perceptron_tagger is already up-to-\n",
      "[nltk_data]       date!\n"
     ]
    },
    {
     "data": {
      "text/plain": [
       "True"
      ]
     },
     "execution_count": 12,
     "metadata": {},
     "output_type": "execute_result"
    }
   ],
   "source": [
    "nltk.download('averaged_perceptron_tagger')"
   ]
  },
  {
   "cell_type": "code",
   "execution_count": 13,
   "id": "daca4882",
   "metadata": {},
   "outputs": [
    {
     "name": "stdout",
     "output_type": "stream",
     "text": [
      "[('Chris', 'NNP'), ('loved', 'VBD'), ('outdoor', 'RP'), ('running', 'VBG')]\n"
     ]
    }
   ],
   "source": [
    "text_data_tag = \"Chris loved outdoor running\"\n",
    "text_tagger = pos_tag(word_tokenize(text_data_tag))\n",
    "print(text_tagger)"
   ]
  },
  {
   "cell_type": "markdown",
   "id": "6ffd1dc0",
   "metadata": {},
   "source": [
    "### 단어 중요도에 가중치 부여하기"
   ]
  },
  {
   "cell_type": "code",
   "execution_count": 14,
   "id": "7796a867",
   "metadata": {},
   "outputs": [
    {
     "name": "stdout",
     "output_type": "stream",
     "text": [
      "  (0, 3)\t0.8944271909999159\n",
      "  (0, 6)\t0.4472135954999579\n",
      "  (1, 1)\t0.5773502691896257\n",
      "  (1, 5)\t0.5773502691896257\n",
      "  (1, 7)\t0.5773502691896257\n",
      "  (2, 2)\t0.5773502691896257\n",
      "  (2, 0)\t0.5773502691896257\n",
      "  (2, 4)\t0.5773502691896257\n",
      "{'love': 6, 'brazil': 3, 'sweden': 7, 'is': 5, 'best': 1, 'germany': 4, 'beats': 0, 'both': 2}\n"
     ]
    }
   ],
   "source": [
    "text_data_01 = np.array(([\n",
    "    \"I love Brazil. Brazil !\",\n",
    "    \"Sweden is best\",\n",
    "    \"Germany beats both\"\n",
    "]))\n",
    "\n",
    "# tf-idf 특성 행렬\n",
    "tfidf = TfidfVectorizer()\n",
    "feature_matrix = tfidf.fit_transform(text_data_01)\n",
    "print(feature_matrix)\n",
    "\n",
    "# tf-idf 특성 행렬을 밀집 배열 확인\n",
    "feature_matrix.toarray()\n",
    "tf = tfidf.vocabulary_\n",
    "print(tf)"
   ]
  },
  {
   "cell_type": "markdown",
   "id": "5234e618",
   "metadata": {},
   "source": [
    "### Word Cloud 단어 뭉치를 가시화"
   ]
  },
  {
   "cell_type": "code",
   "execution_count": 15,
   "id": "87b74f76",
   "metadata": {},
   "outputs": [
    {
     "data": {
      "text/plain": [
       "True"
      ]
     },
     "execution_count": 15,
     "metadata": {},
     "output_type": "execute_result"
    }
   ],
   "source": [
    "tag = [('Hello', 100), ('World', 80), ('Python', 200)]\n",
    "tag_list = pytagcloud.make_tags(tag, maxsize=50)\n",
    "pytagcloud.create_tag_image(tag_list, 'word_cloud.jpg', size=(900,600), rectangular=False)\n",
    "webbrowser.open('word_cloud.jpg')"
   ]
  }
 ],
 "metadata": {
  "kernelspec": {
   "display_name": "AI",
   "language": "python",
   "name": "ai"
  },
  "language_info": {
   "codemirror_mode": {
    "name": "ipython",
    "version": 3
   },
   "file_extension": ".py",
   "mimetype": "text/x-python",
   "name": "python",
   "nbconvert_exporter": "python",
   "pygments_lexer": "ipython3",
   "version": "3.8.16"
  }
 },
 "nbformat": 4,
 "nbformat_minor": 5
}
