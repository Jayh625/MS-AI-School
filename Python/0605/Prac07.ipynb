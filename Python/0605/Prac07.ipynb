{
 "cells": [
  {
   "cell_type": "markdown",
   "id": "c5ae0f21",
   "metadata": {},
   "source": [
    "## 문자열을 날짜로 변환"
   ]
  },
  {
   "cell_type": "code",
   "execution_count": 1,
   "id": "7f2b55b6",
   "metadata": {},
   "outputs": [],
   "source": [
    "import pandas as pd\n",
    "import numpy as np\n",
    "import pytz\n",
    "from pytz import all_timezones"
   ]
  },
  {
   "cell_type": "code",
   "execution_count": 2,
   "id": "2b595a34",
   "metadata": {},
   "outputs": [],
   "source": [
    "date_string = np.array(['03-04-2023 11:20 PM', '05-04-2023 09:20 PM', '07-04-2023 02:20 AM'])"
   ]
  },
  {
   "cell_type": "markdown",
   "id": "0bc2018c",
   "metadata": {},
   "source": [
    "### Time Stamp 객체로 변경"
   ]
  },
  {
   "cell_type": "code",
   "execution_count": 3,
   "id": "5a28cba2",
   "metadata": {},
   "outputs": [
    {
     "name": "stdout",
     "output_type": "stream",
     "text": [
      "2023-04-03 23:20:00\n",
      "2023-04-05 21:20:00\n",
      "2023-04-07 02:20:00\n",
      "2023-04-03 23:20:00\n",
      "2023-04-05 21:20:00\n",
      "2023-04-07 02:20:00\n"
     ]
    }
   ],
   "source": [
    "for data in date_string : \n",
    "    temp = pd.to_datetime(data, format='%d-%m-%Y %I:%M %p')\n",
    "    print(temp)\n",
    "\n",
    "for data in date_string : \n",
    "    temp_value = pd.to_datetime(data, format='%d-%m-%Y %I:%M %p', errors='ignore')\n",
    "    print(temp_value)"
   ]
  },
  {
   "cell_type": "markdown",
   "id": "db1e8584",
   "metadata": {},
   "source": [
    "### 시간대 데이터 처리"
   ]
  },
  {
   "cell_type": "code",
   "execution_count": 4,
   "id": "7752b026",
   "metadata": {},
   "outputs": [
    {
     "name": "stdout",
     "output_type": "stream",
     "text": [
      "2023-04-20 06:00:00\n"
     ]
    }
   ],
   "source": [
    "pd.Timestamp('2023-01-01 06:00:00', tz='Europe/London')\n",
    "data_temp = pd.Timestamp('2023-04-20 06:00:00')\n",
    "print(data_temp)"
   ]
  },
  {
   "cell_type": "code",
   "execution_count": 5,
   "id": "204634b1",
   "metadata": {},
   "outputs": [
    {
     "name": "stdout",
     "output_type": "stream",
     "text": [
      "2023-04-20 06:00:00+01:00\n"
     ]
    }
   ],
   "source": [
    "# 시간대를 지정\n",
    "date_in_london = data_temp.tz_localize('Europe/London')\n",
    "print(date_in_london)"
   ]
  },
  {
   "cell_type": "code",
   "execution_count": 6,
   "id": "a04af41e",
   "metadata": {},
   "outputs": [
    {
     "name": "stdout",
     "output_type": "stream",
     "text": [
      "0   2023-02-28 00:00:00+00:00\n",
      "1   2023-03-31 00:00:00+00:00\n",
      "2   2023-04-30 00:00:00+00:00\n",
      "dtype: datetime64[ns, Africa/Abidjan]\n"
     ]
    }
   ],
   "source": [
    "# 시간대를 변환\n",
    "date_in_london.tz_convert('Africa/Abidjan')\n",
    "\n",
    "# 세 개의 날짜를 만들기\n",
    "dates_temp = pd.Series(pd.date_range('2/2/2023', periods=3, freq='M'))\n",
    "temp_dates = dates_temp.dt.tz_localize('Africa/Abidjan')\n",
    "print(temp_dates)"
   ]
  },
  {
   "cell_type": "markdown",
   "id": "ef910a93",
   "metadata": {},
   "source": [
    "### 시간대 데이터 처리 01"
   ]
  },
  {
   "cell_type": "code",
   "execution_count": 7,
   "id": "3c1bab66",
   "metadata": {},
   "outputs": [
    {
     "data": {
      "text/plain": [
       "['Africa/Abidjan',\n",
       " 'Africa/Accra',\n",
       " 'Africa/Addis_Ababa',\n",
       " 'Africa/Algiers',\n",
       " 'Africa/Asmara',\n",
       " 'Africa/Asmera',\n",
       " 'Africa/Bamako',\n",
       " 'Africa/Bangui',\n",
       " 'Africa/Banjul',\n",
       " 'Africa/Bissau',\n",
       " 'Africa/Blantyre',\n",
       " 'Africa/Brazzaville',\n",
       " 'Africa/Bujumbura',\n",
       " 'Africa/Cairo',\n",
       " 'Africa/Casablanca',\n",
       " 'Africa/Ceuta',\n",
       " 'Africa/Conakry',\n",
       " 'Africa/Dakar',\n",
       " 'Africa/Dar_es_Salaam',\n",
       " 'Africa/Djibouti',\n",
       " 'Africa/Douala',\n",
       " 'Africa/El_Aaiun',\n",
       " 'Africa/Freetown',\n",
       " 'Africa/Gaborone',\n",
       " 'Africa/Harare',\n",
       " 'Africa/Johannesburg',\n",
       " 'Africa/Juba',\n",
       " 'Africa/Kampala',\n",
       " 'Africa/Khartoum',\n",
       " 'Africa/Kigali']"
      ]
     },
     "execution_count": 7,
     "metadata": {},
     "output_type": "execute_result"
    }
   ],
   "source": [
    "all_timezones[0:30]"
   ]
  },
  {
   "cell_type": "code",
   "execution_count": 8,
   "id": "0286ffb7",
   "metadata": {},
   "outputs": [
    {
     "data": {
      "text/plain": [
       "0   2023-02-28 00:00:00+09:00\n",
       "1   2023-03-31 00:00:00+09:00\n",
       "2   2023-04-30 00:00:00+09:00\n",
       "dtype: datetime64[ns, tzfile('ROK')]"
      ]
     },
     "execution_count": 8,
     "metadata": {},
     "output_type": "execute_result"
    }
   ],
   "source": [
    "dates_temp.dt.tz_localize('dateutil/Asia/Seoul')"
   ]
  },
  {
   "cell_type": "code",
   "execution_count": 9,
   "id": "6d9233b7",
   "metadata": {},
   "outputs": [
    {
     "name": "stdout",
     "output_type": "stream",
     "text": [
      "0   2023-02-28 00:00:00+09:00\n",
      "1   2023-03-31 00:00:00+09:00\n",
      "2   2023-04-30 00:00:00+09:00\n",
      "dtype: datetime64[ns, Asia/Seoul]\n"
     ]
    }
   ],
   "source": [
    "tz_temp = pytz.timezone('Asia/Seoul')\n",
    "temp_01 = dates_temp.dt.tz_localize(tz_temp)\n",
    "print(temp_01)"
   ]
  },
  {
   "cell_type": "markdown",
   "id": "7ac4be19",
   "metadata": {},
   "source": [
    "### 날짜와 시간 선택하기"
   ]
  },
  {
   "cell_type": "code",
   "execution_count": 10,
   "id": "fa12a802",
   "metadata": {},
   "outputs": [
    {
     "name": "stdout",
     "output_type": "stream",
     "text": [
      "                   date\n",
      "0   2023-01-01 00:00:00\n",
      "1   2023-01-01 01:00:00\n",
      "2   2023-01-01 02:00:00\n",
      "3   2023-01-01 03:00:00\n",
      "4   2023-01-01 04:00:00\n",
      "..                  ...\n",
      "995 2023-02-11 11:00:00\n",
      "996 2023-02-11 12:00:00\n",
      "997 2023-02-11 13:00:00\n",
      "998 2023-02-11 14:00:00\n",
      "999 2023-02-11 15:00:00\n",
      "\n",
      "[1000 rows x 1 columns]\n"
     ]
    }
   ],
   "source": [
    "dateframe = pd.DataFrame()\n",
    "dateframe['date'] = pd.date_range('1/1/2023', periods=1000, freq='H')\n",
    "print(dateframe)"
   ]
  },
  {
   "cell_type": "code",
   "execution_count": 11,
   "id": "f2acc42c",
   "metadata": {},
   "outputs": [
    {
     "name": "stdout",
     "output_type": "stream",
     "text": [
      "                                   date\n",
      "date                                   \n",
      "2023-01-01 00:00:00 2023-01-01 00:00:00\n",
      "2023-01-01 01:00:00 2023-01-01 01:00:00\n",
      "2023-01-01 02:00:00 2023-01-01 02:00:00\n",
      "2023-01-01 03:00:00 2023-01-01 03:00:00\n",
      "2023-01-01 04:00:00 2023-01-01 04:00:00\n",
      "...                                 ...\n",
      "2023-02-11 11:00:00 2023-02-11 11:00:00\n",
      "2023-02-11 12:00:00 2023-02-11 12:00:00\n",
      "2023-02-11 13:00:00 2023-02-11 13:00:00\n",
      "2023-02-11 14:00:00 2023-02-11 14:00:00\n",
      "2023-02-11 15:00:00 2023-02-11 15:00:00\n",
      "\n",
      "[1000 rows x 1 columns]\n",
      "                                   date\n",
      "date                                   \n",
      "2023-01-01 01:00:00 2023-01-01 01:00:00\n",
      "2023-01-01 02:00:00 2023-01-01 02:00:00\n",
      "2023-01-01 03:00:00 2023-01-01 03:00:00\n",
      "2023-01-01 04:00:00 2023-01-01 04:00:00\n"
     ]
    }
   ],
   "source": [
    "# 두 datetime 사이의 샘플을 선택합니다.\n",
    "dateframe[(dateframe['date'] > '2021-1-1 01:00:00') &\n",
    "         (dateframe['date'] <= '2023-1-1 04:00:00 ')]\n",
    "dateframe = dateframe.set_index(dateframe['date'])\n",
    "print(dateframe)\n",
    "\n",
    "temp_02 = dateframe.loc['2023-1-1 01:00:00' : '2023-1-1 04:00:00']\n",
    "print(temp_02)"
   ]
  }
 ],
 "metadata": {
  "kernelspec": {
   "display_name": "AI",
   "language": "python",
   "name": "ai"
  },
  "language_info": {
   "codemirror_mode": {
    "name": "ipython",
    "version": 3
   },
   "file_extension": ".py",
   "mimetype": "text/x-python",
   "name": "python",
   "nbconvert_exporter": "python",
   "pygments_lexer": "ipython3",
   "version": "3.8.16"
  }
 },
 "nbformat": 4,
 "nbformat_minor": 5
}
