{
 "cells": [
  {
   "attachments": {},
   "cell_type": "markdown",
   "metadata": {},
   "source": [
    "### Resnet"
   ]
  },
  {
   "cell_type": "code",
   "execution_count": 1,
   "metadata": {},
   "outputs": [],
   "source": [
    "import torch\n",
    "import torch.nn as nn"
   ]
  },
  {
   "attachments": {},
   "cell_type": "markdown",
   "metadata": {},
   "source": [
    "expansion = 1\n",
    "- expansion : 확장 비율 변수 -> Resnet block 채널수를 확장하는 경우에 필요에 의해서 숫자를 늘려줄수 있다\n",
    "\n",
    "self.conv1 = nn.Conv2d(in_channels, out_channels, kernel_size=3, stride=stride, padding=1, bias=True)\n",
    "- in_channels : 입력 특징 맵의 채널 수\n",
    "- out_channels : 출력 특징 맵의 채널 수\n",
    "- kernel_size : 컨볼루션 커널의 크기\n",
    "- stride : 컨볼루션 보폭 크기\n",
    "- bias : 편향값을 사용할지에 대한 여부\n",
    "- padding=1 : 입력과 출력의 공간적인 크기를 보존 가능\n",
    "- bias=True : 편향값을 컨볼루션 레이어에 값을 추가 -> 모델을 좀 더 유연하게 학습 시키기 위함 \n",
    "\n",
    "self.bn1 = nn.BatchNorm2d(out_channels)\n",
    "- 딥러닝에서 모델 학습시 안정적인 학습을 하기위한 기법 -> Gradient Vanishing 문제를 해결 가능\n",
    "- 입력의 각 채널에 대해서 평균, 분산 계산하고 정규화된 출력을 생성\n",
    "\n",
    "self.shortcut = nn.Sequential()\n",
    "- 전차연결(residual connection) -> 초기화\n",
    "\n",
    "if stride != 1 or in_channels != self.expansion * out_channels :\n",
    "    self.shortcut = nn.Sequential(\n",
    "                nn.Conv2d(in_channels, self.expansion * out_channels, kernel_size=1, stride=stride, bias=False),\n",
    "                nn.BatchNorm2d(self.expansion * out_channels)\n",
    "            )\n",
    "- in_channels와 self.expansion * out_channels사이의 차이를 보상하기 위해서 1x1 컨볼루션 진행 -> 입력의 공간적인 차원 조정"
   ]
  },
  {
   "attachments": {},
   "cell_type": "markdown",
   "metadata": {},
   "source": [
    "#### BasicBlock 정의"
   ]
  },
  {
   "cell_type": "code",
   "execution_count": 2,
   "metadata": {},
   "outputs": [],
   "source": [
    "class BasicBlock(nn.Module) :\n",
    "    expansion = 1 \n",
    "    def __init__(self, in_channels, out_channels, stride=1) :\n",
    "        super(BasicBlock, self).__init__()\n",
    "        self.conv1 = nn.Conv2d(in_channels, out_channels, kernel_size=3, stride=stride, padding=1, bias=True)\n",
    "        self.bn1 = nn.BatchNorm2d(out_channels)\n",
    "        self.relu = nn.ReLU(inplace=True)\n",
    "        self.conv2 = nn.Conv2d(out_channels, out_channels, kernel_size=3, stride=1, padding=1, bias=True)\n",
    "        self.bn2 = nn.BatchNorm2d(out_channels)\n",
    "        self.shortcut = nn.Sequential()\n",
    "\n",
    "        if stride != 1 or in_channels != self.expansion * out_channels :\n",
    "            self.shortcut = nn.Sequential(\n",
    "                nn.Conv2d(in_channels, self.expansion * out_channels, kernel_size=1, stride=stride, bias=False),\n",
    "                nn.BatchNorm2d(self.expansion * out_channels)\n",
    "            )\n",
    "    def forward(self, x) :\n",
    "        # 전차 구성하기 위한 변수\n",
    "        residual = x\n",
    "        # 기본 블럭 내에서 컨볼루션과 정규화를 거치는 일반적인 연산 구간\n",
    "        out = self.conv1(x)\n",
    "        out = self.bn1(out)\n",
    "        out = self.relu(out)\n",
    "\n",
    "        out = self.conv2(out)\n",
    "        out = self.bn2(out)\n",
    "\n",
    "        # x + residual -> 전차 수행 -> 입력과 출력 크기 일정하게 만들어주고 정규화\n",
    "        out += self.shortcut(residual)\n",
    "        out = self.relu(out) # 정규화 -> relu 적용\n",
    "        return out"
   ]
  },
  {
   "attachments": {},
   "cell_type": "markdown",
   "metadata": {},
   "source": [
    "#### ResNet 모델 정의"
   ]
  },
  {
   "cell_type": "code",
   "execution_count": 3,
   "metadata": {},
   "outputs": [],
   "source": [
    "class ResNet(nn.Module) :\n",
    "    def __init__(self, block, layers, num_classes=1000) :\n",
    "        super(ResNet, self).__init__()\n",
    "        self.in_Channels = 64\n",
    "        \n",
    "        # conv -> bn -> 활성화함수 -> maxpool\n",
    "        self.conv1 = nn.Conv2d(3, 64, kernel_size=7, stride=2, padding=3, bias=False)\n",
    "        self.bn1 = nn.BatchNorm2d(64)\n",
    "        self.relu = nn.ReLU(inplace=True)\n",
    "        self.maxpool = nn.MaxPool2d(kernel_size=3, stride=2, padding=1)\n",
    "\n",
    "        self.layer1 = self._make_layer(block, 64, layers[0], stride=1)\n",
    "        self.layer2 = self._make_layer(block, 128, layers[1], stride=2)\n",
    "        self.layer3 = self._make_layer(block, 256, layers[2], stride=2)\n",
    "        self.layer4 = self._make_layer(block, 512, layers[3], stride=2)\n",
    "\n",
    "        self.avgpool = nn.AdaptiveAvgPool2d((1,1))  \n",
    "        self.fc = nn.Linear(512 * block.expansion, num_classes)\n",
    "\n",
    "    # _로 시작하는 것은 내부 메서드 -> ResNet 내에서 반복적으로 사용되는 레이어 블록 구성 역할을 수행\n",
    "    def _make_layer(self, block, out_channels, blocks, stride=1) :\n",
    "        # 레이어를 담을 리스트\n",
    "        layers = []\n",
    "        layers.append(block(self.in_Channels, out_channels, stride))\n",
    "        self.in_Channels = out_channels * block.expansion\n",
    "\n",
    "        for _ in range(1, blocks) :\n",
    "            # in_Channels : 이전 설정한 출력채널 / out_channels\n",
    "            layers.append(block(self.in_Channels, out_channels))\n",
    "        # 모델을 구성하기 위한 컨테이너 클래스 -> 순차적으로 레이어 추가\n",
    "        return nn.Sequential(*layers)\n",
    "    \n",
    "    def forward(self, x) :\n",
    "        x = self.conv1(x)\n",
    "        x = self.bn1(x)\n",
    "        x = self.relu(x)\n",
    "        x = self.maxpool(x)\n",
    "        \n",
    "        x = self.layer1(x)\n",
    "        x = self.layer2(x)\n",
    "        x = self.layer3(x)\n",
    "        x = self.layer4(x)\n",
    "\n",
    "        x = self.avgpool(x)\n",
    "        x = torch.flatten(x, 1)\n",
    "        x = self.fc(x)\n",
    "        \n",
    "        return x"
   ]
  },
  {
   "cell_type": "code",
   "execution_count": 4,
   "metadata": {},
   "outputs": [
    {
     "name": "stdout",
     "output_type": "stream",
     "text": [
      "torch.Size([1, 1000])\n"
     ]
    }
   ],
   "source": [
    "def resnet34(num_classes=1000):\n",
    "    return ResNet(BasicBlock, [3,4,6,3], num_classes)\n",
    "model = resnet34(1000)\n",
    "inputs = torch.randn(1,3,224,224)\n",
    "output = model(inputs)\n",
    "print(output.shape)"
   ]
  }
 ],
 "metadata": {
  "kernelspec": {
   "display_name": "Pytorch",
   "language": "python",
   "name": "python3"
  },
  "language_info": {
   "codemirror_mode": {
    "name": "ipython",
    "version": 3
   },
   "file_extension": ".py",
   "mimetype": "text/x-python",
   "name": "python",
   "nbconvert_exporter": "python",
   "pygments_lexer": "ipython3",
   "version": "3.8.16"
  },
  "orig_nbformat": 4
 },
 "nbformat": 4,
 "nbformat_minor": 2
}
