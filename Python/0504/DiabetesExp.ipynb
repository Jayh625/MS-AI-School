{
  "cells": [
    {
      "cell_type": "code",
      "source": [
        "import pandas as pd\r\n",
        "import numpy as np \r\n",
        "import seaborn as sns\r\n",
        "import matplotlib.pyplot as plt\r\n",
        "\r\n",
        "from azureml.core import Workspace\r\n",
        "ws = Workspace.from_config()\r\n",
        "print(\"Workspace Name: {}\\nResource Group : {}\\nAzure Region: {}\\nSubscription ID : {}\".format(ws.name, ws.resource_group, ws.location, ws.subscription_id))"
      ],
      "outputs": [
        {
          "output_type": "stream",
          "name": "stdout",
          "text": "Workspace Name: labuser92ml\nResource Group : rg92\nAzure Region: koreacentral\nSubscription ID : 27db5ec6-d206-4028-b5e1-6004dca5eeef\n"
        }
      ],
      "execution_count": 1,
      "metadata": {
        "gather": {
          "logged": 1683184590308
        }
      }
    },
    {
      "cell_type": "code",
      "source": [
        "# 실험공간을 준비\r\n",
        "from azureml.core import Experiment\r\n",
        "experiment = Experiment(workspace=ws, name='diabetes-experiment')"
      ],
      "outputs": [],
      "execution_count": 2,
      "metadata": {
        "jupyter": {
          "source_hidden": false,
          "outputs_hidden": false
        },
        "nteract": {
          "transient": {
            "deleting": false
          }
        },
        "gather": {
          "logged": 1683184590748
        }
      }
    },
    {
      "cell_type": "code",
      "source": [
        "# 데이터를 준비\r\n",
        "from azureml.opendatasets import Diabetes\r\n",
        "from sklearn.model_selection import train_test_split\r\n",
        "\r\n",
        "diabetes = Diabetes.get_tabular_dataset()\r\n",
        "df = diabetes.to_pandas_dataframe()\r\n",
        "\r\n",
        "df.head()"
      ],
      "outputs": [
        {
          "output_type": "execute_result",
          "execution_count": 3,
          "data": {
            "text/plain": "   AGE  SEX   BMI     BP   S1     S2    S3   S4      S5  S6    Y\n0   59    2  32.1  101.0  157   93.2  38.0  4.0  4.8598  87  151\n1   48    1  21.6   87.0  183  103.2  70.0  3.0  3.8918  69   75\n2   72    2  30.5   93.0  156   93.6  41.0  4.0  4.6728  85  141\n3   24    1  25.3   84.0  198  131.4  40.0  5.0  4.8903  89  206\n4   50    1  23.0  101.0  192  125.4  52.0  4.0  4.2905  80  135",
            "text/html": "<div>\n<style scoped>\n    .dataframe tbody tr th:only-of-type {\n        vertical-align: middle;\n    }\n\n    .dataframe tbody tr th {\n        vertical-align: top;\n    }\n\n    .dataframe thead th {\n        text-align: right;\n    }\n</style>\n<table border=\"1\" class=\"dataframe\">\n  <thead>\n    <tr style=\"text-align: right;\">\n      <th></th>\n      <th>AGE</th>\n      <th>SEX</th>\n      <th>BMI</th>\n      <th>BP</th>\n      <th>S1</th>\n      <th>S2</th>\n      <th>S3</th>\n      <th>S4</th>\n      <th>S5</th>\n      <th>S6</th>\n      <th>Y</th>\n    </tr>\n  </thead>\n  <tbody>\n    <tr>\n      <th>0</th>\n      <td>59</td>\n      <td>2</td>\n      <td>32.1</td>\n      <td>101.0</td>\n      <td>157</td>\n      <td>93.2</td>\n      <td>38.0</td>\n      <td>4.0</td>\n      <td>4.8598</td>\n      <td>87</td>\n      <td>151</td>\n    </tr>\n    <tr>\n      <th>1</th>\n      <td>48</td>\n      <td>1</td>\n      <td>21.6</td>\n      <td>87.0</td>\n      <td>183</td>\n      <td>103.2</td>\n      <td>70.0</td>\n      <td>3.0</td>\n      <td>3.8918</td>\n      <td>69</td>\n      <td>75</td>\n    </tr>\n    <tr>\n      <th>2</th>\n      <td>72</td>\n      <td>2</td>\n      <td>30.5</td>\n      <td>93.0</td>\n      <td>156</td>\n      <td>93.6</td>\n      <td>41.0</td>\n      <td>4.0</td>\n      <td>4.6728</td>\n      <td>85</td>\n      <td>141</td>\n    </tr>\n    <tr>\n      <th>3</th>\n      <td>24</td>\n      <td>1</td>\n      <td>25.3</td>\n      <td>84.0</td>\n      <td>198</td>\n      <td>131.4</td>\n      <td>40.0</td>\n      <td>5.0</td>\n      <td>4.8903</td>\n      <td>89</td>\n      <td>206</td>\n    </tr>\n    <tr>\n      <th>4</th>\n      <td>50</td>\n      <td>1</td>\n      <td>23.0</td>\n      <td>101.0</td>\n      <td>192</td>\n      <td>125.4</td>\n      <td>52.0</td>\n      <td>4.0</td>\n      <td>4.2905</td>\n      <td>80</td>\n      <td>135</td>\n    </tr>\n  </tbody>\n</table>\n</div>"
          },
          "metadata": {}
        }
      ],
      "execution_count": 3,
      "metadata": {
        "jupyter": {
          "source_hidden": false,
          "outputs_hidden": false
        },
        "nteract": {
          "transient": {
            "deleting": false
          }
        },
        "gather": {
          "logged": 1683184596005
        }
      }
    },
    {
      "cell_type": "code",
      "source": [
        "df.info()"
      ],
      "outputs": [
        {
          "output_type": "stream",
          "name": "stdout",
          "text": "<class 'pandas.core.frame.DataFrame'>\nRangeIndex: 442 entries, 0 to 441\nData columns (total 11 columns):\n #   Column  Non-Null Count  Dtype  \n---  ------  --------------  -----  \n 0   AGE     442 non-null    int64  \n 1   SEX     442 non-null    int64  \n 2   BMI     442 non-null    float64\n 3   BP      442 non-null    float64\n 4   S1      442 non-null    int64  \n 5   S2      442 non-null    float64\n 6   S3      442 non-null    float64\n 7   S4      442 non-null    float64\n 8   S5      442 non-null    float64\n 9   S6      442 non-null    int64  \n 10  Y       442 non-null    int64  \ndtypes: float64(6), int64(5)\nmemory usage: 38.1 KB\n"
        }
      ],
      "execution_count": 4,
      "metadata": {
        "jupyter": {
          "source_hidden": false,
          "outputs_hidden": false
        },
        "nteract": {
          "transient": {
            "deleting": false
          }
        },
        "gather": {
          "logged": 1683184596085
        }
      }
    },
    {
      "cell_type": "code",
      "source": [
        "sns.heatmap(df.corr())\r\n",
        "plt.show()\r\n",
        "print(df.corr()['Y'])"
      ],
      "outputs": [
        {
          "output_type": "display_data",
          "data": {
            "text/plain": "<Figure size 640x480 with 2 Axes>",
            "image/png": "[encoded data removed]"
          },
          "metadata": {}
        },
        {
          "output_type": "stream",
          "name": "stdout",
          "text": "AGE    0.187889\nSEX    0.043062\nBMI    0.586450\nBP     0.441482\nS1     0.212022\nS2     0.174054\nS3    -0.394789\nS4     0.430453\nS5     0.565883\nS6     0.382483\nY      1.000000\nName: Y, dtype: float64\n"
        }
      ],
      "execution_count": 5,
      "metadata": {
        "jupyter": {
          "source_hidden": false,
          "outputs_hidden": false
        },
        "nteract": {
          "transient": {
            "deleting": false
          }
        },
        "gather": {
          "logged": 1683184596322
        }
      }
    },
    {
      "cell_type": "code",
      "source": [
        "y = df.pop('Y')"
      ],
      "outputs": [],
      "execution_count": 6,
      "metadata": {
        "jupyter": {
          "source_hidden": false,
          "outputs_hidden": false
        },
        "nteract": {
          "transient": {
            "deleting": false
          }
        },
        "gather": {
          "logged": 1683184596402
        }
      }
    },
    {
      "cell_type": "code",
      "source": [
        "X_train, X_test, y_train, y_test = train_test_split(df,y, test_size=0.2)\r\n",
        "print(X_train.shape, X_test.shape, y_train.shape, y_test.shape)"
      ],
      "outputs": [
        {
          "output_type": "stream",
          "name": "stdout",
          "text": "(353, 10) (89, 10) (353,) (89,)\n"
        }
      ],
      "execution_count": 7,
      "metadata": {
        "jupyter": {
          "source_hidden": false,
          "outputs_hidden": false
        },
        "nteract": {
          "transient": {
            "deleting": false
          }
        },
        "gather": {
          "logged": 1683184596492
        }
      }
    },
    {
      "cell_type": "code",
      "source": [
        "# 모델 훈련, 로그, 모델 파일 관리\r\n",
        "from sklearn.linear_model import Ridge\r\n",
        "from sklearn.metrics import mean_squared_error\r\n",
        "from sklearn.externals import joblib\r\n",
        "import math\r\n",
        "\r\n",
        "alphas = [0.1,0.2,0.3,0.4,0.5,0.6,0.7,0.8,0.9,1]\r\n",
        "for alpha in alphas:\r\n",
        "    # 실험의 기록\r\n",
        "    run = experiment.start_logging()\r\n",
        "    run.log('alpha_value',alpha)\r\n",
        "    model = Ridge(alpha=alpha)\r\n",
        "    model.fit(X_train,y_train)\r\n",
        "    y_pred = model.predict(X_test)\r\n",
        "    mse = mean_squared_error(y_test,y_pred)\r\n",
        "    run.log('mse', mse)\r\n",
        "    rmse = math.sqrt(mean_squared_error(y_test,y_pred))\r\n",
        "    run.log('rmse', rmse)\r\n",
        "\r\n",
        "    print('model_alpha : {}, Ridge MSE : {}, Ridge RMSE : {}'.format(alpha,mse,rmse))\r\n",
        "    \r\n",
        "    # 모델을 파일로 저장하는 부분\r\n",
        "    model_name = 'model_alpha_' + str(alpha) + '.pkl'\r\n",
        "    filename = 'outputs/' + model_name\r\n",
        "    joblib.dump(value=model, filename=filename)\r\n",
        "\r\n",
        "    # Azure ML Service에 모델 파일을 업로드하는 부분\r\n",
        "    run.upload_file(name=model_name, path_or_stream=filename)\r\n",
        "\r\n",
        "    run.complete()\r\n",
        "    print(f\"{alpha} experiment completed\")\r\n",
        "    "
      ],
      "outputs": [
        {
          "output_type": "stream",
          "name": "stdout",
          "text": "model_alpha : 0.1, Ridge MSE : 2557.602271209292, Ridge RMSE : 50.57274237382517\n0.1 experiment completed\nmodel_alpha : 0.2, Ridge MSE : 2559.9356649121514, Ridge RMSE : 50.59580679179008\n0.2 experiment completed\nmodel_alpha : 0.3, Ridge MSE : 2562.2378257036157, Ridge RMSE : 50.61855218893184\n0.3 experiment completed\nmodel_alpha : 0.4, Ridge MSE : 2564.5091337855397, Ridge RMSE : 50.640982749010114\n0.4 experiment completed\nmodel_alpha : 0.5, Ridge MSE : 2566.749978438473, Ridge RMSE : 50.66310273205218\n0.5 experiment completed\nmodel_alpha : 0.6, Ridge MSE : 2568.9607563181453, Ridge RMSE : 50.68491645764197\n0.6 experiment completed\nmodel_alpha : 0.7, Ridge MSE : 2571.1418699285528, Ridge RMSE : 50.70642828999645\n0.7 experiment completed\nmodel_alpha : 0.8, Ridge MSE : 2573.2937262543023, Ridge RMSE : 50.72764262465093\n0.8 experiment completed\nmodel_alpha : 0.9, Ridge MSE : 2575.4167355365917, Ridge RMSE : 50.74856387659253\n0.9 experiment completed\nmodel_alpha : 1, Ridge MSE : 2577.511310178816, Ridge RMSE : 50.7691964696982\n1 experiment completed\n"
        }
      ],
      "execution_count": 9,
      "metadata": {
        "jupyter": {
          "source_hidden": false,
          "outputs_hidden": false
        },
        "nteract": {
          "transient": {
            "deleting": false
          }
        },
        "gather": {
          "logged": 1683185631167
        }
      }
    },
    {
      "cell_type": "code",
      "source": [
        "experiment"
      ],
      "outputs": [
        {
          "output_type": "execute_result",
          "execution_count": 10,
          "data": {
            "text/plain": "Experiment(Name: diabetes-experiment,\nWorkspace: labuser92ml)",
            "text/html": "<table style=\"width:100%\"><tr><th>Name</th><th>Workspace</th><th>Report Page</th><th>Docs Page</th></tr><tr><td>diabetes-experiment</td><td>labuser92ml</td><td><a href=\"https://ml.azure.com/experiments/id/591b4484-cc9e-40c8-8745-689d26ba9ffe?wsid=/subscriptions/27db5ec6-d206-4028-b5e1-6004dca5eeef/resourcegroups/rg92/workspaces/labuser92ml&amp;tid=5fb256f0-fbf2-40d2-81d5-bac1b32c419d\" target=\"_blank\" rel=\"noopener\">Link to Azure Machine Learning studio</a></td><td><a href=\"https://docs.microsoft.com/en-us/python/api/azureml-core/azureml.core.experiment.Experiment?view=azure-ml-py\" target=\"_blank\" rel=\"noopener\">Link to Documentation</a></td></tr></table>"
          },
          "metadata": {}
        }
      ],
      "execution_count": 10,
      "metadata": {
        "jupyter": {
          "source_hidden": false,
          "outputs_hidden": false
        },
        "nteract": {
          "transient": {
            "deleting": false
          }
        },
        "gather": {
          "logged": 1683186356394
        }
      }
    },
    {
      "cell_type": "code",
      "source": [
        "# Best Model을 탐색 후 다운로드\r\n",
        "minimum_rmse = None\r\n",
        "minimum_rmse_runid = None\r\n",
        "\r\n",
        "for exp in experiment.get_runs():\r\n",
        "    run_metrics = exp.get_metrics();\r\n",
        "    run_details = exp.get_details();\r\n",
        "\r\n",
        "    run_rmse = run_metrics['rmse']\r\n",
        "    run_id = run_details['runId']\r\n",
        "\r\n",
        "    # 가장 낮은 RMSE값을 가진 실행 ID를 구하는 부분\r\n",
        "    if minimum_rmse is None:\r\n",
        "        minimum_rmse = run_rmse\r\n",
        "        minimum_rmse_runid = run_id\r\n",
        "    else:\r\n",
        "        if run_rmse < minimum_rmse:\r\n",
        "            minimum_rmse = run_rmse\r\n",
        "            minimum_rmse_runid = run_id\r\n",
        "print('Best run_id: ' + minimum_rmse_runid)\r\n",
        "print('Best RMSE:', minimum_rmse)\r\n"
      ],
      "outputs": [
        {
          "output_type": "stream",
          "name": "stdout",
          "text": "Best run_id: da71bd57-25dc-407e-b4d4-ace1d807e737\nBest RMSE: 50.57274237382517\n"
        }
      ],
      "execution_count": 17,
      "metadata": {
        "jupyter": {
          "source_hidden": false,
          "outputs_hidden": false
        },
        "nteract": {
          "transient": {
            "deleting": false
          }
        },
        "gather": {
          "logged": 1683188072078
        }
      }
    },
    {
      "cell_type": "code",
      "source": [
        "# 파일명 확인\r\n",
        "from azureml.core import Run\r\n",
        "best_run = Run(experiment=experiment, run_id=minimum_rmse_runid)\r\n",
        "print(best_run.get_file_names())\r\n",
        "\r\n",
        "best_run.download_file(name=str(best_run.get_file_names()[0]))"
      ],
      "outputs": [
        {
          "output_type": "stream",
          "name": "stdout",
          "text": "['model_alpha_0.1.pkl', 'outputs/model_alpha_0.1.pkl']\n"
        }
      ],
      "execution_count": 20,
      "metadata": {
        "jupyter": {
          "source_hidden": false,
          "outputs_hidden": false
        },
        "nteract": {
          "transient": {
            "deleting": false
          }
        },
        "gather": {
          "logged": 1683188772085
        }
      }
    }
  ],
  "metadata": {
    "kernelspec": {
      "name": "python38-azureml",
      "language": "python",
      "display_name": "Python 3.8 - AzureML"
    },
    "language_info": {
      "name": "python",
      "version": "3.8.5",
      "mimetype": "text/x-python",
      "codemirror_mode": {
        "name": "ipython",
        "version": 3
      },
      "pygments_lexer": "ipython3",
      "nbconvert_exporter": "python",
      "file_extension": ".py"
    },
    "microsoft": {
      "ms_spell_check": {
        "ms_spell_check_language": "en"
      },
      "host": {
        "AzureML": {
          "notebookHasBeenCompleted": true
        }
      }
    },
    "kernel_info": {
      "name": "python38-azureml"
    },
    "nteract": {
      "version": "nteract-front-end@1.0.0"
    }
  },
  "nbformat": 4,
  "nbformat_minor": 2
}