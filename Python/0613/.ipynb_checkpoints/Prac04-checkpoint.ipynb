{
 "cells": [
  {
   "cell_type": "code",
   "execution_count": 1,
   "id": "57a0b325",
   "metadata": {},
   "outputs": [
    {
     "name": "stdout",
     "output_type": "stream",
     "text": [
      "['배', '복숭아', '사과', '참외']\n",
      "['배_1.jpg', '배_10.jpg', '배_2.jpg', '배_3.jpg', '배_4.jpg', '배_5.jpg', '배_6.jpg', '배_7.jpg', '배_8.jpg', '배_9.jpg']\n",
      "['복숭아_1.jpg', '복숭아_10.jpg', '복숭아_2.jpg', '복숭아_3.jpg', '복숭아_4.jpg', '복숭아_5.jpg', '복숭아_6.jpg', '복숭아_7.jpg', '복숭아_8.jpg', '복숭아_9.jpg']\n",
      "['사과_1.jpg', '사과_10.jpg', '사과_2.jpg', '사과_3.jpg', '사과_4.jpg', '사과_5.jpg', '사과_6.jpg', '사과_7.jpg', '사과_8.jpg', '사과_9.jpg']\n",
      "['참외_1.jpg', '참외_10.jpg', '참외_2.jpg', '참외_3.jpg', '참외_4.jpg', '참외_5.jpg', '참외_6.jpg', '참외_7.jpg', '참외_8.jpg', '참외_9.jpg']\n"
     ]
    }
   ],
   "source": [
    "import os\n",
    "import glob\n",
    "from natsort import natsort\n",
    "\n",
    "folder = './imgs/'\n",
    "folder_list = os.listdir(folder)\n",
    "print(folder_list)\n",
    "\n",
    "for i in range(len(folder_list)):\n",
    "    globals()[f\"img{1+1}_dir\"] =  sorted(os.listdir(os.path.join(folder, folder_list[i])))\n",
    "    print(globals()[f\"img{1+1}_dir\"])"
   ]
  }
 ],
 "metadata": {
  "kernelspec": {
   "display_name": "AI",
   "language": "python",
   "name": "ai"
  },
  "language_info": {
   "codemirror_mode": {
    "name": "ipython",
    "version": 3
   },
   "file_extension": ".py",
   "mimetype": "text/x-python",
   "name": "python",
   "nbconvert_exporter": "python",
   "pygments_lexer": "ipython3",
   "version": "3.8.16"
  }
 },
 "nbformat": 4,
 "nbformat_minor": 5
}
