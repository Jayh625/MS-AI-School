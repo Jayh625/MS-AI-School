{
 "cells": [
  {
   "cell_type": "markdown",
   "id": "7108c1ee",
   "metadata": {},
   "source": [
    "## 웹크롤링 Requests, Beautifulsoup 라이브러리 사용해서 크롤링 해보기"
   ]
  },
  {
   "cell_type": "markdown",
   "id": "2dde5e90",
   "metadata": {},
   "source": [
    "pip install requests\n",
    "\n",
    "pip install beautifulsoup4==4.11.1"
   ]
  },
  {
   "cell_type": "code",
   "execution_count": 1,
   "id": "99fb7c84",
   "metadata": {},
   "outputs": [],
   "source": [
    "import requests\n",
    "from bs4 import BeautifulSoup\n",
    "import os"
   ]
  },
  {
   "cell_type": "code",
   "execution_count": 2,
   "id": "8bbb18f2",
   "metadata": {},
   "outputs": [],
   "source": [
    "# 키워드\n",
    "query = \"고양이\"\n",
    "url = f\"https://www.google.com/search?q={query}&source-lnms&tbm=isch\"\n",
    "header = {\n",
    "    \"User-Agent\": \"Mozilla/5.0 (Windows NT 10.0; Win64; x64) AppleWebKit/537.36 (KHTML, like Gecko) Chrome/58.0.3029.110 Safari/537.3\"\n",
    "}\n",
    "response = requests.get(url, headers=header)\n",
    "soup = BeautifulSoup(response.text, \"html.parser\")\n",
    "img_tags = soup.find_all(\"img\")\n",
    "url_lists = []\n",
    "for img_tag in img_tags :\n",
    "    try :\n",
    "        url_lists.append(img_tag['src'])\n",
    "    except KeyError :\n",
    "        try :\n",
    "            url_lists.append(img_tag['data-src'])\n",
    "        except KeyError :\n",
    "            try : \n",
    "                url_lists(img_tag['data-iurl'])\n",
    "            except KeyError :\n",
    "                pass\n",
    "\n",
    "# 이미지 저장\n",
    "os.makedirs('./imgs/', exist_ok=True)\n",
    "\n",
    "for i, url in enumerate(url_lists) :\n",
    "    try : \n",
    "        img_data = requests.get(url, headers=header).content\n",
    "        file_path = f\"./imgs/cat_{i}.png\"\n",
    "        with open(file_path, \"wb\") as f :\n",
    "            f.write(img_data)\n",
    "        if os.path.getsize(file_path) == 0 :\n",
    "            os.remove(file_path)\n",
    "    except :\n",
    "        pass"
   ]
  }
 ],
 "metadata": {
  "kernelspec": {
   "display_name": "AI",
   "language": "python",
   "name": "ai"
  },
  "language_info": {
   "codemirror_mode": {
    "name": "ipython",
    "version": 3
   },
   "file_extension": ".py",
   "mimetype": "text/x-python",
   "name": "python",
   "nbconvert_exporter": "python",
   "pygments_lexer": "ipython3",
   "version": "3.8.16"
  }
 },
 "nbformat": 4,
 "nbformat_minor": 5
}
