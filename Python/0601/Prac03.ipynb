{
 "cells": [
  {
   "cell_type": "code",
   "execution_count": 1,
   "id": "cdd407c1",
   "metadata": {},
   "outputs": [],
   "source": [
    "import pandas as pd\n",
    "import numpy as np\n",
    "from statsmodels.tsa.arima.model import ARIMA\n",
    "import warnings\n",
    "warnings.filterwarnings('ignore')"
   ]
  },
  {
   "cell_type": "code",
   "execution_count": 2,
   "id": "e86796d2",
   "metadata": {},
   "outputs": [],
   "source": [
    "# 시계열 데이터 생성\n",
    "np.random.seed(0)\n",
    "n = 100\n",
    "data = np.random.normal(0,1,n)\n",
    "\n",
    "# 최적의 BIC, order 초기화\n",
    "best_bic = np.inf\n",
    "best_order = None"
   ]
  },
  {
   "cell_type": "code",
   "execution_count": 3,
   "id": "5510f86e",
   "metadata": {},
   "outputs": [
    {
     "name": "stdout",
     "output_type": "stream",
     "text": [
      "Best BIC : 291.29585422078907\n",
      "Best Order : (0, 1, 1)\n"
     ]
    }
   ],
   "source": [
    "# 모델 차수 탐색\n",
    "for p in range(3) :\n",
    "    for d in range(2) :\n",
    "        for q in range(3) :\n",
    "            order = (p,d,q)\n",
    "            try :\n",
    "                model = ARIMA(data, order = order)\n",
    "                results = model.fit()\n",
    "                bic = results.bic\n",
    "                if bic < best_bic :\n",
    "                    best_bic = bic\n",
    "                    best_order = order\n",
    "            except :\n",
    "                continue\n",
    "\n",
    "# 최적 모델 BIC 출력                \n",
    "print(\"Best BIC :\", best_bic)\n",
    "print(\"Best Order :\", best_order)"
   ]
  }
 ],
 "metadata": {
  "kernelspec": {
   "display_name": "AI",
   "language": "python",
   "name": "ai"
  },
  "language_info": {
   "codemirror_mode": {
    "name": "ipython",
    "version": 3
   },
   "file_extension": ".py",
   "mimetype": "text/x-python",
   "name": "python",
   "nbconvert_exporter": "python",
   "pygments_lexer": "ipython3",
   "version": "3.8.16"
  }
 },
 "nbformat": 4,
 "nbformat_minor": 5
}
