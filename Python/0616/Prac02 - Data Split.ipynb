{
 "cells": [
  {
   "cell_type": "markdown",
   "id": "6dd4cc97",
   "metadata": {},
   "source": [
    "## 정형 데이터셋 나누기 간단 실습"
   ]
  },
  {
   "cell_type": "code",
   "execution_count": 1,
   "id": "6b173e60",
   "metadata": {},
   "outputs": [],
   "source": [
    "import pandas as pd\n",
    "from sklearn.model_selection import train_test_split"
   ]
  },
  {
   "cell_type": "code",
   "execution_count": 2,
   "id": "825142fa",
   "metadata": {},
   "outputs": [
    {
     "name": "stdout",
     "output_type": "stream",
     "text": [
      "               id             date     price  bedrooms  bathrooms   \n",
      "0      7129300520  20141013T000000  221900.0         3       1.00  \\\n",
      "1      6414100192  20141209T000000  538000.0         3       2.25   \n",
      "2      5631500400  20150225T000000  180000.0         2       1.00   \n",
      "3      2487200875  20141209T000000  604000.0         4       3.00   \n",
      "4      1954400510  20150218T000000  510000.0         3       2.00   \n",
      "...           ...              ...       ...       ...        ...   \n",
      "21608   263000018  20140521T000000  360000.0         3       2.50   \n",
      "21609  6600060120  20150223T000000  400000.0         4       2.50   \n",
      "21610  1523300141  20140623T000000  402101.0         2       0.75   \n",
      "21611   291310100  20150116T000000  400000.0         3       2.50   \n",
      "21612  1523300157  20141015T000000  325000.0         2       0.75   \n",
      "\n",
      "       sqft_living  sqft_lot  floors  waterfront  view  ...  grade   \n",
      "0             1180      5650     1.0           0     0  ...      7  \\\n",
      "1             2570      7242     2.0           0     0  ...      7   \n",
      "2              770     10000     1.0           0     0  ...      6   \n",
      "3             1960      5000     1.0           0     0  ...      7   \n",
      "4             1680      8080     1.0           0     0  ...      8   \n",
      "...            ...       ...     ...         ...   ...  ...    ...   \n",
      "21608         1530      1131     3.0           0     0  ...      8   \n",
      "21609         2310      5813     2.0           0     0  ...      8   \n",
      "21610         1020      1350     2.0           0     0  ...      7   \n",
      "21611         1600      2388     2.0           0     0  ...      8   \n",
      "21612         1020      1076     2.0           0     0  ...      7   \n",
      "\n",
      "       sqft_above  sqft_basement  yr_built  yr_renovated  zipcode      lat   \n",
      "0            1180              0      1955             0    98178  47.5112  \\\n",
      "1            2170            400      1951          1991    98125  47.7210   \n",
      "2             770              0      1933             0    98028  47.7379   \n",
      "3            1050            910      1965             0    98136  47.5208   \n",
      "4            1680              0      1987             0    98074  47.6168   \n",
      "...           ...            ...       ...           ...      ...      ...   \n",
      "21608        1530              0      2009             0    98103  47.6993   \n",
      "21609        2310              0      2014             0    98146  47.5107   \n",
      "21610        1020              0      2009             0    98144  47.5944   \n",
      "21611        1600              0      2004             0    98027  47.5345   \n",
      "21612        1020              0      2008             0    98144  47.5941   \n",
      "\n",
      "          long  sqft_living15  sqft_lot15  \n",
      "0     -122.257           1340        5650  \n",
      "1     -122.319           1690        7639  \n",
      "2     -122.233           2720        8062  \n",
      "3     -122.393           1360        5000  \n",
      "4     -122.045           1800        7503  \n",
      "...        ...            ...         ...  \n",
      "21608 -122.346           1530        1509  \n",
      "21609 -122.362           1830        7200  \n",
      "21610 -122.299           1020        2007  \n",
      "21611 -122.069           1410        1287  \n",
      "21612 -122.299           1020        1357  \n",
      "\n",
      "[21613 rows x 21 columns]\n"
     ]
    }
   ],
   "source": [
    "url = 'https://raw.githubusercontent.com/mGalarnyk/Tutorial_Data/master/King_County/kingCountyHouseData.csv'\n",
    "df = pd.read_csv(url)\n",
    "print(df)"
   ]
  },
  {
   "cell_type": "markdown",
   "id": "34f77304",
   "metadata": {},
   "source": [
    "### 정형 데이터 학습 중간 평가 테스트"
   ]
  },
  {
   "cell_type": "code",
   "execution_count": 3,
   "id": "08d5aa07",
   "metadata": {},
   "outputs": [
    {
     "name": "stdout",
     "output_type": "stream",
     "text": [
      "       bedrooms  bathrooms  sqft_living  sqft_lot  floors     price\n",
      "0             3       1.00         1180      5650     1.0  221900.0\n",
      "1             3       2.25         2570      7242     2.0  538000.0\n",
      "2             2       1.00          770     10000     1.0  180000.0\n",
      "3             4       3.00         1960      5000     1.0  604000.0\n",
      "4             3       2.00         1680      8080     1.0  510000.0\n",
      "...         ...        ...          ...       ...     ...       ...\n",
      "21608         3       2.50         1530      1131     3.0  360000.0\n",
      "21609         4       2.50         2310      5813     2.0  400000.0\n",
      "21610         2       0.75         1020      1350     2.0  402101.0\n",
      "21611         3       2.50         1600      2388     2.0  400000.0\n",
      "21612         2       0.75         1020      1076     2.0  325000.0\n",
      "\n",
      "[21613 rows x 6 columns]\n"
     ]
    }
   ],
   "source": [
    "columns = ['bedrooms', 'bathrooms', 'sqft_living', 'sqft_lot', 'floors', 'price']\n",
    "df = df.loc[:, columns]\n",
    "print(df)"
   ]
  },
  {
   "cell_type": "code",
   "execution_count": 4,
   "id": "a18c2ea0",
   "metadata": {},
   "outputs": [
    {
     "name": "stdout",
     "output_type": "stream",
     "text": [
      "       bedrooms  bathrooms  sqft_living  sqft_lot  floors\n",
      "0             3       1.00         1180      5650     1.0\n",
      "1             3       2.25         2570      7242     2.0\n",
      "2             2       1.00          770     10000     1.0\n",
      "3             4       3.00         1960      5000     1.0\n",
      "4             3       2.00         1680      8080     1.0\n",
      "...         ...        ...          ...       ...     ...\n",
      "21608         3       2.50         1530      1131     3.0\n",
      "21609         4       2.50         2310      5813     2.0\n",
      "21610         2       0.75         1020      1350     2.0\n",
      "21611         3       2.50         1600      2388     2.0\n",
      "21612         2       0.75         1020      1076     2.0\n",
      "\n",
      "[21613 rows x 5 columns]\n",
      "          price\n",
      "0      221900.0\n",
      "1      538000.0\n",
      "2      180000.0\n",
      "3      604000.0\n",
      "4      510000.0\n",
      "...         ...\n",
      "21608  360000.0\n",
      "21609  400000.0\n",
      "21610  402101.0\n",
      "21611  400000.0\n",
      "21612  325000.0\n",
      "\n",
      "[21613 rows x 1 columns]\n"
     ]
    }
   ],
   "source": [
    "features = ['bedrooms', 'bathrooms', 'sqft_living', 'sqft_lot', 'floors']\n",
    "target = ['price']\n",
    "x_data = df.loc[:, features]\n",
    "y_data = df.loc[:, target]\n",
    "print(x_data)\n",
    "print(y_data)"
   ]
  },
  {
   "cell_type": "markdown",
   "id": "5424b5d7",
   "metadata": {},
   "source": [
    "### 데이터 나누기 train test"
   ]
  },
  {
   "cell_type": "code",
   "execution_count": 5,
   "id": "16b23c64",
   "metadata": {},
   "outputs": [
    {
     "name": "stdout",
     "output_type": "stream",
     "text": [
      "---------변경되기 전 데이터 양---------\n",
      "x_data, y_data : (21613, 5), (21613, 1)\n",
      "---------변경된 후 데이터 양---------\n",
      "X_train, y_train : (17290, 5), (17290, 1)\n",
      "X_test, X_test : (2161, 5), (2161, 5)\n",
      "---------Test, Val 나눈 후 데이터 양---------\n",
      "X_train, y_train : (17290, 5), (17290, 1)\n",
      "X_test, y_test : (2161, 5), (2161, 1)\n",
      "y_test, y_val : (2162, 5), (2162, 1)\n"
     ]
    }
   ],
   "source": [
    "X_train, X_test, y_train, y_test = train_test_split(x_data,y_data, random_state=777, test_size=0.2)\n",
    "X_test, X_val, y_test, y_val = train_test_split(X_test,y_test, random_state=777, test_size=0.5)\n",
    "\n",
    "print(\"---------변경되기 전 데이터 양---------\")\n",
    "print(f\"x_data, y_data : {x_data.shape}, {y_data.shape}\")\n",
    "print(\"---------변경된 후 데이터 양---------\")\n",
    "print(f\"X_train, y_train : {X_train.shape}, {y_train.shape}\")\n",
    "print(f\"X_test, X_test : {X_test.shape}, {X_test.shape}\")\n",
    "print(\"---------Test, Val 나눈 후 데이터 양---------\")\n",
    "print(f\"X_train, y_train : {X_train.shape}, {y_train.shape}\")\n",
    "print(f\"X_test, y_test : {X_test.shape}, {y_test.shape}\")\n",
    "print(f\"y_test, y_val : {X_val.shape}, {y_val.shape}\")"
   ]
  }
 ],
 "metadata": {
  "kernelspec": {
   "display_name": "AI",
   "language": "python",
   "name": "ai"
  },
  "language_info": {
   "codemirror_mode": {
    "name": "ipython",
    "version": 3
   },
   "file_extension": ".py",
   "mimetype": "text/x-python",
   "name": "python",
   "nbconvert_exporter": "python",
   "pygments_lexer": "ipython3",
   "version": "3.8.16"
  }
 },
 "nbformat": 4,
 "nbformat_minor": 5
}
