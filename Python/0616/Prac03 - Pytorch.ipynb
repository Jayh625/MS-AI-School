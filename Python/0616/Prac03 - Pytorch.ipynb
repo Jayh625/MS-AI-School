{
 "cells": [
  {
   "cell_type": "markdown",
   "id": "d5331d3e",
   "metadata": {},
   "source": [
    "## 텐서 기본 실습"
   ]
  },
  {
   "cell_type": "code",
   "execution_count": 1,
   "id": "5d832070",
   "metadata": {},
   "outputs": [],
   "source": [
    "import torch\n",
    "import numpy as np"
   ]
  },
  {
   "cell_type": "markdown",
   "id": "ba399215",
   "metadata": {},
   "source": [
    "### 텐서 초기화하기 데이터로 부터 직접 텐서 생성 가능"
   ]
  },
  {
   "cell_type": "code",
   "execution_count": 2,
   "id": "7add1da4",
   "metadata": {},
   "outputs": [
    {
     "name": "stdout",
     "output_type": "stream",
     "text": [
      "tensor([[1, 2],\n",
      "        [3, 4]])\n",
      "tensor([[1, 2],\n",
      "        [3, 4]], dtype=torch.int32)\n"
     ]
    }
   ],
   "source": [
    "# 1. torch 이용해서 만든 텐서\n",
    "data = [[1,2], [3,4]]\n",
    "x_data = torch.tensor(data)\n",
    "print(x_data)\n",
    "\n",
    "# 2. Numpy -> torch tensor\n",
    "np_array = np.array(data)\n",
    "x_np = torch.from_numpy(np_array)\n",
    "print(x_np)"
   ]
  },
  {
   "cell_type": "markdown",
   "id": "b8e9d60f",
   "metadata": {},
   "source": [
    "torch.tensor()는 입력 텐서를 복사하여 새로운 텐서를 만듭니다. 이 함수는 항상 새로운 메모리를 할당하므로, 원본 데이터와의 메모리 공유가 이루어지지 않습니다.\n",
    "\n",
    "torch.from_numpy() 함수는 NumPy 배열을 PyTorch 텐서로 변환할 때, 원본 데이터와의 메모리 공유를 유지합니다."
   ]
  },
  {
   "cell_type": "code",
   "execution_count": 3,
   "id": "033f42a9",
   "metadata": {},
   "outputs": [
    {
     "name": "stdout",
     "output_type": "stream",
     "text": [
      "Ones Tersor :\n",
      "tensor([[1, 1],\n",
      "        [1, 1]])\n",
      "Random Tersor :\n",
      "tensor([[0.1853, 0.9436],\n",
      "        [0.2641, 0.6559]])\n"
     ]
    }
   ],
   "source": [
    "x_ones = torch.ones_like(x_data)\n",
    "print(f\"Ones Tersor :\\n{x_ones}\")\n",
    "# torch.ones\n",
    "\n",
    "x_rand = torch.rand_like(x_data, dtype=torch.float) # x_data의 속성을 덮어씁니다\n",
    "print(f\"Random Tersor :\\n{x_rand}\")"
   ]
  },
  {
   "cell_type": "markdown",
   "id": "3b5fccec",
   "metadata": {},
   "source": [
    "torch.ones_like()주어진 입력 텐서와 동일한 크기의 텐서를 생성하고 모든 요소를 1로 체우면됩니다. \n",
    "\n",
    "torch.rand_like() 주어진 입력 텐서와 동일한 크기의 텐서를 생성하고 모든 요소를 랜덤한 값으로 채웁니다. 그리고 타입 지정하면 그 타입으로 변경됩니다.\n",
    "- 0과 1사이의 랜덤한 값으로 초기화되고 데이터 타입 유형은 dtype=torch.float 지정됩니다"
   ]
  },
  {
   "cell_type": "code",
   "execution_count": 4,
   "id": "783b4b32",
   "metadata": {
    "scrolled": false
   },
   "outputs": [
    {
     "name": "stdout",
     "output_type": "stream",
     "text": [
      "rand_tensor :\n",
      "tensor([[7.3489, 5.4292, 3.3894, 8.3972, 4.1824, 0.5803],\n",
      "        [0.9017, 5.7361, 3.8965, 7.2810, 9.7611, 5.3915],\n",
      "        [0.8479, 9.5858, 4.5263, 3.2519, 0.4882, 6.5132],\n",
      "        [7.1961, 4.3419, 7.7993, 1.8761, 0.2653, 0.8850],\n",
      "        [6.8185, 5.2260, 6.4428, 1.6589, 5.6189, 4.0293]])\n",
      "ones_tensor :\n",
      "tensor([[1., 1., 1., 1., 1., 1.],\n",
      "        [1., 1., 1., 1., 1., 1.],\n",
      "        [1., 1., 1., 1., 1., 1.],\n",
      "        [1., 1., 1., 1., 1., 1.],\n",
      "        [1., 1., 1., 1., 1., 1.]])\n",
      "zeros_tensor :\n",
      "tensor([[0., 0., 0., 0., 0., 0.],\n",
      "        [0., 0., 0., 0., 0., 0.],\n",
      "        [0., 0., 0., 0., 0., 0.],\n",
      "        [0., 0., 0., 0., 0., 0.],\n",
      "        [0., 0., 0., 0., 0., 0.]])\n",
      "tensor([[9.4456, 9.6613, 7.2530, 9.3957, 8.1881, 7.0195],\n",
      "        [7.0727, 7.7797, 8.4044, 8.1727, 7.3259, 8.5543],\n",
      "        [7.5623, 6.6188, 7.8099, 7.9941, 8.1740, 6.3612],\n",
      "        [6.0091, 8.7509, 8.7636, 6.3965, 6.4634, 7.4409],\n",
      "        [7.5727, 7.8434, 7.6229, 7.5955, 9.4602, 6.0472]])\n"
     ]
    }
   ],
   "source": [
    "# 무작위 또는 상수 값을 사용하기\n",
    "shape = (5,6,)\n",
    "rand_tensor = torch.rand(shape) * 10 # 0 - 10 \n",
    "ones_tensor = torch.ones(shape)\n",
    "zeros_tensor = torch.zeros(shape)\n",
    "\n",
    "print(f\"rand_tensor :\\n{rand_tensor}\")\n",
    "print(f\"ones_tensor :\\n{ones_tensor}\")\n",
    "print(f\"zeros_tensor :\\n{zeros_tensor}\")\n",
    "\n",
    "# 유효 범위를 최소값 얼마부터 ~ 최대값 얼마까지 6 ~ 10\n",
    "shape_temp = (5,6)\n",
    "min_val = 6\n",
    "max_val = 10\n",
    "rand_tensor_temp = torch.rand(shape_temp) * (max_val - min_val) + min_val\n",
    "print(rand_tensor_temp)"
   ]
  },
  {
   "cell_type": "markdown",
   "id": "227ba61c",
   "metadata": {},
   "source": [
    "### 텐서 속성"
   ]
  },
  {
   "cell_type": "code",
   "execution_count": 5,
   "id": "86140d6b",
   "metadata": {},
   "outputs": [
    {
     "name": "stdout",
     "output_type": "stream",
     "text": [
      "cpu\n",
      "tensor([[0.2111, 0.4646, 0.2280, 0.5362],\n",
      "        [0.1005, 0.9986, 0.5317, 0.1268],\n",
      "        [0.9311, 0.9070, 0.3650, 0.4069]])\n",
      "Shape of tensor : torch.Size([3, 4])\n",
      "Data type of tensor : torch.float32\n",
      "Device tensor is stored on on : cpu\n",
      "Dimension of tensor : 2\n"
     ]
    }
   ],
   "source": [
    "tensor_val = torch.rand(3,4)\n",
    "\n",
    "# 디바이스 정보 가져오기\n",
    "device = 'cuda' if torch.cuda.is_available() else 'cpu'\n",
    "print(device)\n",
    "\n",
    "print(tensor_val)\n",
    "print(f\"Shape of tensor : {tensor_val.shape}\")\n",
    "print(f\"Data type of tensor : {tensor_val.dtype}\")\n",
    "print(f\"Device tensor is stored on on : {tensor_val.device}\")\n",
    "print(f\"Dimension of tensor : {tensor_val.dim()}\")"
   ]
  },
  {
   "cell_type": "markdown",
   "id": "c778ef7c",
   "metadata": {},
   "source": [
    "tensor_val.to('cuda')\n",
    "\n",
    "디바이스를 변경하려면 to() 메서드를 사용가능, 새로운 디바이스로 텐서를 이동시킨다"
   ]
  },
  {
   "cell_type": "markdown",
   "id": "269d9e3f",
   "metadata": {},
   "source": [
    "### 표준 인덱싱과 슬라이싱"
   ]
  },
  {
   "cell_type": "code",
   "execution_count": 6,
   "id": "ef17d301",
   "metadata": {},
   "outputs": [
    {
     "name": "stdout",
     "output_type": "stream",
     "text": [
      "tensor([[1., 1., 1., 0.],\n",
      "        [1., 1., 1., 0.],\n",
      "        [1., 1., 1., 0.],\n",
      "        [1., 1., 1., 0.]])\n"
     ]
    }
   ],
   "source": [
    "tensor_1 = torch.ones(4,4)\n",
    "tensor_1[:,3] = 0\n",
    "\n",
    "tensor_2 = torch.ones(4,4)\n",
    "tensor_2[:,1] = 2\n",
    "print(tensor_1)"
   ]
  },
  {
   "cell_type": "markdown",
   "id": "889d5137",
   "metadata": {},
   "source": [
    "### 텐서 합치기"
   ]
  },
  {
   "cell_type": "code",
   "execution_count": 7,
   "id": "9e54e3bf",
   "metadata": {},
   "outputs": [
    {
     "name": "stdout",
     "output_type": "stream",
     "text": [
      "tensor([[1., 1., 1., 0., 1., 1., 1., 0.],\n",
      "        [1., 1., 1., 0., 1., 1., 1., 0.],\n",
      "        [1., 1., 1., 0., 1., 1., 1., 0.],\n",
      "        [1., 1., 1., 0., 1., 1., 1., 0.]])\n"
     ]
    }
   ],
   "source": [
    "tensor = (3,4)\n",
    "t1 = torch.cat([tensor_1, tensor_1], dim=1)\n",
    "print(t1)"
   ]
  },
  {
   "cell_type": "code",
   "execution_count": 8,
   "id": "ea9709dc",
   "metadata": {},
   "outputs": [
    {
     "name": "stdout",
     "output_type": "stream",
     "text": [
      "tensor([[1., 1., 1., 0.],\n",
      "        [1., 1., 1., 0.],\n",
      "        [1., 1., 1., 0.],\n",
      "        [1., 1., 1., 0.]])\n",
      "tensor([[1., 2., 1., 0.],\n",
      "        [1., 2., 1., 0.],\n",
      "        [1., 2., 1., 0.],\n",
      "        [1., 2., 1., 0.]])\n"
     ]
    }
   ],
   "source": [
    "t_mult = tensor_1.mul(tensor_1)\n",
    "print(t_mult)\n",
    "print(tensor_1 * tensor_2)"
   ]
  },
  {
   "cell_type": "markdown",
   "id": "4f89b57d",
   "metadata": {},
   "source": [
    "### 행렬곱"
   ]
  },
  {
   "cell_type": "code",
   "execution_count": 9,
   "id": "db8ccbc9",
   "metadata": {},
   "outputs": [
    {
     "name": "stdout",
     "output_type": "stream",
     "text": [
      "tensor([[1., 2., 1., 1.],\n",
      "        [1., 2., 1., 1.],\n",
      "        [1., 2., 1., 1.],\n",
      "        [1., 2., 1., 1.]])\n",
      "tensor([[7., 7., 7., 7.],\n",
      "        [7., 7., 7., 7.],\n",
      "        [7., 7., 7., 7.],\n",
      "        [7., 7., 7., 7.]])\n",
      "tensor([[7., 7., 7., 7.],\n",
      "        [7., 7., 7., 7.],\n",
      "        [7., 7., 7., 7.],\n",
      "        [7., 7., 7., 7.]])\n"
     ]
    }
   ],
   "source": [
    "print(tensor_2)\n",
    "print(tensor_2 @ tensor_2.T)\n",
    "print(tensor_2.matmul(tensor_2.T))"
   ]
  },
  {
   "cell_type": "code",
   "execution_count": 10,
   "id": "afb98a5b",
   "metadata": {},
   "outputs": [
    {
     "name": "stdout",
     "output_type": "stream",
     "text": [
      "tensor([1., 1., 1., 1., 1.])\n",
      "[1. 1. 1. 1. 1.]\n",
      "tensor([2., 2., 2., 2., 2.])\n",
      "[2. 2. 2. 2. 2.]\n"
     ]
    }
   ],
   "source": [
    "t = torch.ones(5)\n",
    "print(t)\n",
    "n = t.numpy()\n",
    "print(n)\n",
    "\n",
    "t.add_(1)\n",
    "print(t)\n",
    "print(n)"
   ]
  },
  {
   "cell_type": "markdown",
   "id": "3c5070cb",
   "metadata": {},
   "source": [
    "### 뷰(View) - 원소의 수를 유지하면서 텐서의 크기 변경"
   ]
  },
  {
   "cell_type": "markdown",
   "id": "bc112f1d",
   "metadata": {},
   "source": [
    "파이토치 텐서의 뷰는 넘파이의 Reshape과 같은 역할\n",
    "\n",
    "Reshape > 텐서의 크기를 변경해주는 역할\n",
    "\n",
    "view() 메서드를 사용하여 텐서의 차원을 변경하면, ->  데이터를 복사하여 새로운 텐서를 생성하고  이 새로운 텐서는 원래 텐서와 메모리를 공유안함 !!"
   ]
  },
  {
   "cell_type": "code",
   "execution_count": 11,
   "id": "3ff3a252",
   "metadata": {},
   "outputs": [
    {
     "name": "stdout",
     "output_type": "stream",
     "text": [
      "tensor([[[ 0.,  1.,  2.],\n",
      "         [ 3.,  4.,  5.]],\n",
      "\n",
      "        [[ 6.,  7.,  8.],\n",
      "         [ 9., 10., 11.]]])\n",
      "torch.Size([2, 2, 3])\n",
      "3\n",
      "tensor([[ 0.,  1.,  2.],\n",
      "        [ 3.,  4.,  5.],\n",
      "        [ 6.,  7.,  8.],\n",
      "        [ 9., 10., 11.]])\n",
      "torch.Size([4, 3])\n"
     ]
    }
   ],
   "source": [
    "# 3차원 데이터 생성\n",
    "t_temp = np.array([[[0,1,2], [3,4,5]], [[6,7,8], [9,10,11]]])\n",
    "ft = torch.FloatTensor(t_temp)\n",
    "print(ft)\n",
    "print(ft.shape)\n",
    "print(ft.dim())\n",
    "\n",
    "# ft view -> 2차원 텐서로 변경\n",
    "# -1 : 알아서 바꿔줘, 길이는 3을 가지고\n",
    "print(ft.view([-1,3]))\n",
    "print(ft.view([-1,3]).shape)"
   ]
  },
  {
   "cell_type": "code",
   "execution_count": 12,
   "id": "61142e74",
   "metadata": {},
   "outputs": [
    {
     "name": "stdout",
     "output_type": "stream",
     "text": [
      "tensor([[[ 0.,  1.,  2.]],\n",
      "\n",
      "        [[ 3.,  4.,  5.]],\n",
      "\n",
      "        [[ 6.,  7.,  8.]],\n",
      "\n",
      "        [[ 9., 10., 11.]]])\n",
      "torch.Size([4, 1, 3])\n"
     ]
    }
   ],
   "source": [
    "print(ft.view([-1,1,3]))\n",
    "print(ft.view([-1,1,3]).shape)"
   ]
  },
  {
   "cell_type": "code",
   "execution_count": 13,
   "id": "958717c9",
   "metadata": {},
   "outputs": [
    {
     "name": "stdout",
     "output_type": "stream",
     "text": [
      "tensor([[[ 0.,  1.,  2.]],\n",
      "\n",
      "        [[ 3.,  4.,  5.]],\n",
      "\n",
      "        [[ 6.,  7.,  8.]],\n",
      "\n",
      "        [[ 9., 10., 11.]]])\n",
      "torch.Size([4, 1, 3])\n"
     ]
    }
   ],
   "source": [
    "print(ft.reshape([-1,1,3]))\n",
    "print(ft.reshape([-1,1,3]).shape)"
   ]
  },
  {
   "cell_type": "markdown",
   "id": "c5226755",
   "metadata": {},
   "source": [
    "### 스퀴즈"
   ]
  },
  {
   "cell_type": "markdown",
   "id": "51d66b2b",
   "metadata": {},
   "source": [
    "스퀴즈 -> 1차원을 제거\n",
    "\n",
    "스퀴즈는 차원이 1인 경우에는 해당 차원을 제거합니다\n",
    "\n",
    "실습 3x1 크기를 가지는 2차원 텐서 생성"
   ]
  },
  {
   "cell_type": "code",
   "execution_count": 14,
   "id": "0d2b527e",
   "metadata": {},
   "outputs": [
    {
     "name": "stdout",
     "output_type": "stream",
     "text": [
      "tensor([[0.],\n",
      "        [1.],\n",
      "        [2.]])\n",
      "torch.Size([3, 1])\n"
     ]
    }
   ],
   "source": [
    "ft = torch.FloatTensor(([0], [1], [2]))\n",
    "print(ft)\n",
    "print(ft.shape)"
   ]
  },
  {
   "cell_type": "code",
   "execution_count": 15,
   "id": "051c66ba",
   "metadata": {},
   "outputs": [
    {
     "name": "stdout",
     "output_type": "stream",
     "text": [
      "tensor([0., 1., 2.])\n",
      "torch.Size([3])\n"
     ]
    }
   ],
   "source": [
    "print(ft.squeeze())\n",
    "print(ft.squeeze().shape)"
   ]
  },
  {
   "cell_type": "markdown",
   "id": "1e497a85",
   "metadata": {},
   "source": [
    "### 언스퀴즈"
   ]
  },
  {
   "cell_type": "markdown",
   "id": "2194d0ce",
   "metadata": {},
   "source": [
    "언스퀴즈 -> 특정 위치에서 1인 차원 추가"
   ]
  },
  {
   "cell_type": "code",
   "execution_count": 16,
   "id": "7d6d41e1",
   "metadata": {},
   "outputs": [
    {
     "name": "stdout",
     "output_type": "stream",
     "text": [
      "torch.Size([3])\n"
     ]
    }
   ],
   "source": [
    "ft_temp = torch.Tensor([0,1,2])\n",
    "print(ft_temp.shape)"
   ]
  },
  {
   "cell_type": "code",
   "execution_count": 17,
   "id": "a8705bea",
   "metadata": {},
   "outputs": [
    {
     "name": "stdout",
     "output_type": "stream",
     "text": [
      "tensor([[0., 1., 2.]])\n",
      "torch.Size([1, 3])\n"
     ]
    }
   ],
   "source": [
    "# 첫번째 차원에서 1차원 추가\n",
    "# 인덱스 0\n",
    "print(ft_temp.unsqueeze(0))\n",
    "print(ft_temp.unsqueeze(0).shape)"
   ]
  },
  {
   "cell_type": "code",
   "execution_count": 18,
   "id": "3a4fcaff",
   "metadata": {},
   "outputs": [
    {
     "name": "stdout",
     "output_type": "stream",
     "text": [
      "tensor([[0., 1., 2.]])\n",
      "torch.Size([1, 3])\n"
     ]
    }
   ],
   "source": [
    "print(ft_temp.view(1,-1))\n",
    "print(ft_temp.view(1,-1).shape)"
   ]
  }
 ],
 "metadata": {
  "kernelspec": {
   "display_name": "AI",
   "language": "python",
   "name": "ai"
  },
  "language_info": {
   "codemirror_mode": {
    "name": "ipython",
    "version": 3
   },
   "file_extension": ".py",
   "mimetype": "text/x-python",
   "name": "python",
   "nbconvert_exporter": "python",
   "pygments_lexer": "ipython3",
   "version": "3.8.16"
  }
 },
 "nbformat": 4,
 "nbformat_minor": 5
}
