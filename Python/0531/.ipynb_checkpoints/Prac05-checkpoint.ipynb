{
 "cells": [
  {
   "cell_type": "markdown",
   "id": "4d4d2b24",
   "metadata": {},
   "source": [
    "## 트랜드 실습"
   ]
  },
  {
   "cell_type": "code",
   "execution_count": 1,
   "id": "bb7b4b8f",
   "metadata": {},
   "outputs": [],
   "source": [
    "import pandas as pd\n",
    "import matplotlib.pyplot as plt\n",
    "from statsmodels.tsa.seasonal import seasonal_decompose"
   ]
  },
  {
   "cell_type": "markdown",
   "id": "36b06a4e",
   "metadata": {},
   "source": [
    "### 시계열 데이터, 프레임 생성"
   ]
  },
  {
   "cell_type": "code",
   "execution_count": 2,
   "id": "e2f6eb3b",
   "metadata": {},
   "outputs": [
    {
     "data": {
      "text/html": [
       "<div>\n",
       "<style scoped>\n",
       "    .dataframe tbody tr th:only-of-type {\n",
       "        vertical-align: middle;\n",
       "    }\n",
       "\n",
       "    .dataframe tbody tr th {\n",
       "        vertical-align: top;\n",
       "    }\n",
       "\n",
       "    .dataframe thead th {\n",
       "        text-align: right;\n",
       "    }\n",
       "</style>\n",
       "<table border=\"1\" class=\"dataframe\">\n",
       "  <thead>\n",
       "    <tr style=\"text-align: right;\">\n",
       "      <th></th>\n",
       "      <th>Date</th>\n",
       "      <th>Value</th>\n",
       "    </tr>\n",
       "  </thead>\n",
       "  <tbody>\n",
       "    <tr>\n",
       "      <th>0</th>\n",
       "      <td>2023-01-01</td>\n",
       "      <td>10</td>\n",
       "    </tr>\n",
       "    <tr>\n",
       "      <th>1</th>\n",
       "      <td>2023-01-02</td>\n",
       "      <td>12</td>\n",
       "    </tr>\n",
       "    <tr>\n",
       "      <th>2</th>\n",
       "      <td>2023-01-03</td>\n",
       "      <td>11</td>\n",
       "    </tr>\n",
       "    <tr>\n",
       "      <th>3</th>\n",
       "      <td>2023-01-04</td>\n",
       "      <td>15</td>\n",
       "    </tr>\n",
       "    <tr>\n",
       "      <th>4</th>\n",
       "      <td>2023-01-05</td>\n",
       "      <td>9</td>\n",
       "    </tr>\n",
       "    <tr>\n",
       "      <th>...</th>\n",
       "      <td>...</td>\n",
       "      <td>...</td>\n",
       "    </tr>\n",
       "    <tr>\n",
       "      <th>95</th>\n",
       "      <td>2023-04-06</td>\n",
       "      <td>13</td>\n",
       "    </tr>\n",
       "    <tr>\n",
       "      <th>96</th>\n",
       "      <td>2023-04-07</td>\n",
       "      <td>8</td>\n",
       "    </tr>\n",
       "    <tr>\n",
       "      <th>97</th>\n",
       "      <td>2023-04-08</td>\n",
       "      <td>14</td>\n",
       "    </tr>\n",
       "    <tr>\n",
       "      <th>98</th>\n",
       "      <td>2023-04-09</td>\n",
       "      <td>10</td>\n",
       "    </tr>\n",
       "    <tr>\n",
       "      <th>99</th>\n",
       "      <td>2023-04-10</td>\n",
       "      <td>16</td>\n",
       "    </tr>\n",
       "  </tbody>\n",
       "</table>\n",
       "<p>100 rows × 2 columns</p>\n",
       "</div>"
      ],
      "text/plain": [
       "         Date  Value\n",
       "0  2023-01-01     10\n",
       "1  2023-01-02     12\n",
       "2  2023-01-03     11\n",
       "3  2023-01-04     15\n",
       "4  2023-01-05      9\n",
       "..        ...    ...\n",
       "95 2023-04-06     13\n",
       "96 2023-04-07      8\n",
       "97 2023-04-08     14\n",
       "98 2023-04-09     10\n",
       "99 2023-04-10     16\n",
       "\n",
       "[100 rows x 2 columns]"
      ]
     },
     "execution_count": 2,
     "metadata": {},
     "output_type": "execute_result"
    }
   ],
   "source": [
    "# 시계열 데이터 생성 \n",
    "dates = pd.date_range(start='2023-01-01', periods=100, freq='D')\n",
    "values = [10,12,11,15,9,13,8,14,10,16] * 10\n",
    "\n",
    "# 데이터 프레임 생성\n",
    "data = pd.DataFrame({\n",
    "    'Date' : dates,\n",
    "    'Value' : values\n",
    "})\n",
    "data"
   ]
  },
  {
   "cell_type": "markdown",
   "id": "a4445399",
   "metadata": {},
   "source": [
    "### 주기 설정, 주기성 분해"
   ]
  },
  {
   "cell_type": "code",
   "execution_count": 3,
   "id": "1d9ce2bd",
   "metadata": {},
   "outputs": [
    {
     "name": "stdout",
     "output_type": "stream",
     "text": [
      "0           NaN\n",
      "1           NaN\n",
      "2           NaN\n",
      "3     11.142857\n",
      "4     11.714286\n",
      "        ...    \n",
      "95    11.428571\n",
      "96    12.142857\n",
      "97          NaN\n",
      "98          NaN\n",
      "99          NaN\n",
      "Name: trend, Length: 100, dtype: float64\n"
     ]
    }
   ],
   "source": [
    "period = 7 # 이는 데이터가 7일 간격으로 반복되는 패턴을 가지고 있다는 가정\n",
    "\n",
    "# 주기성 분해\n",
    "result = seasonal_decompose(data['Value'], model='additive', period=period)"
   ]
  },
  {
   "cell_type": "code",
   "execution_count": null,
   "id": "db292415",
   "metadata": {},
   "outputs": [],
   "source": [
    "# 추세 계산\n",
    "trend = result.trend\n",
    "\n",
    " \n",
    "\n",
    "# 시계열 데이터 시각화\n",
    "plt.plot(data['Date'], data['Value'], label='Original')\n",
    "plt.plot(data['Date'], trend, label='Trend')\n",
    "plt.xlabel('Date')\n",
    "plt.ylabel('Value')\n",
    "plt.title('Trend Extraction in Time Series Data')\n",
    "plt.legend()\n",
    "plt.show()"
   ]
  }
 ],
 "metadata": {
  "kernelspec": {
   "display_name": "AI",
   "language": "python",
   "name": "ai"
  },
  "language_info": {
   "codemirror_mode": {
    "name": "ipython",
    "version": 3
   },
   "file_extension": ".py",
   "mimetype": "text/x-python",
   "name": "python",
   "nbconvert_exporter": "python",
   "pygments_lexer": "ipython3",
   "version": "3.8.16"
  }
 },
 "nbformat": 4,
 "nbformat_minor": 5
}
