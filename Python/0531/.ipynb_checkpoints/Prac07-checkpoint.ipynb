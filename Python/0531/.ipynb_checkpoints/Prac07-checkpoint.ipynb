{
 "cells": [
  {
   "cell_type": "markdown",
   "id": "dd05793e",
   "metadata": {},
   "source": [
    "## 시계열 데이터를 활용하여 Min-Max 정규화 적용하는 실습"
   ]
  },
  {
   "cell_type": "code",
   "execution_count": 1,
   "id": "98ec2fbb",
   "metadata": {},
   "outputs": [],
   "source": [
    "import pandas as pd\n",
    "import numpy as np"
   ]
  },
  {
   "cell_type": "code",
   "execution_count": 4,
   "id": "3ab38d55",
   "metadata": {},
   "outputs": [
    {
     "name": "stdout",
     "output_type": "stream",
     "text": [
      "        Date  Value\n",
      "0 2023-01-01     38\n",
      "1 2023-01-02     74\n",
      "2 2023-01-03     57\n",
      "3 2023-01-04     65\n",
      "4 2023-01-05     15\n",
      "0 99\n",
      "        Date  Value_Nomalized\n",
      "0 2023-01-01         0.383838\n",
      "1 2023-01-02         0.747475\n",
      "2 2023-01-03         0.575758\n",
      "3 2023-01-04         0.656566\n",
      "4 2023-01-05         0.151515\n"
     ]
    }
   ],
   "source": [
    "# 시계열 데이터\n",
    "dates = pd.date_range(start='2023-01-01', periods=100, freq='D')\n",
    "values = np.random.randint(0, 100, size=100)\n",
    "\n",
    "# 데이터 프레임\n",
    "data = pd.DataFrame({\n",
    "    'Date' : dates,\n",
    "    'Value' : values\n",
    "})\n",
    "print(data.head())\n",
    "\n",
    "# Min-Max 정규화\n",
    "min_val = data['Value'].min()\n",
    "max_val = data['Value'].max()\n",
    "print(min_val, max_val)\n",
    "data['Value_Nomalized'] = (data['Value'] - min_val) / (max_val - min_val)\n",
    "# 공식 -> x_new = (x - min) / (max - min)\n",
    "\n",
    "# 정규화 완료된 데이터 확인\n",
    "print(data[['Date', 'Value_Nomalized']].head())"
   ]
  }
 ],
 "metadata": {
  "kernelspec": {
   "display_name": "AI",
   "language": "python",
   "name": "ai"
  },
  "language_info": {
   "codemirror_mode": {
    "name": "ipython",
    "version": 3
   },
   "file_extension": ".py",
   "mimetype": "text/x-python",
   "name": "python",
   "nbconvert_exporter": "python",
   "pygments_lexer": "ipython3",
   "version": "3.8.16"
  }
 },
 "nbformat": 4,
 "nbformat_minor": 5
}
