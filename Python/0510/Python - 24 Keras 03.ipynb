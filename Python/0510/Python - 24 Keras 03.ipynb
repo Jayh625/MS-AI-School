{
  "nbformat": 4,
  "nbformat_minor": 0,
  "metadata": {
    "colab": {
      "provenance": []
    },
    "kernelspec": {
      "name": "python3",
      "display_name": "Python 3"
    },
    "language_info": {
      "name": "python"
    }
  },
  "cells": [
    {
      "cell_type": "code",
      "source": [
        "import pandas as pd\n",
        "import numpy as np\n",
        "import seaborn as sns\n",
        "import matplotlib.pyplot as plt\n",
        "\n",
        "from keras.datasets import boston_housing\n",
        "from keras import models\n",
        "from keras import layers"
      ],
      "metadata": {
        "id": "XEFH6h71dyHO"
      },
      "execution_count": 6,
      "outputs": []
    },
    {
      "cell_type": "code",
      "execution_count": 2,
      "metadata": {
        "id": "tmV4rqdddJ7C"
      },
      "outputs": [],
      "source": [
        "# 데이터를 가져오는 부분 \n",
        "(train_data, train_labels), (test_data, test_labels) = boston_housing.load_data()"
      ]
    },
    {
      "cell_type": "code",
      "source": [
        "print(train_data.shape, test_data.shape)"
      ],
      "metadata": {
        "colab": {
          "base_uri": "https://localhost:8080/"
        },
        "id": "06P9gW44eElQ",
        "outputId": "4fe966c3-77b4-4923-d1d0-80a1f29b3dbd"
      },
      "execution_count": 3,
      "outputs": [
        {
          "output_type": "stream",
          "name": "stdout",
          "text": [
            "(404, 13) (102, 13)\n"
          ]
        }
      ]
    },
    {
      "cell_type": "code",
      "source": [
        "print(train_data[0])"
      ],
      "metadata": {
        "colab": {
          "base_uri": "https://localhost:8080/"
        },
        "id": "tsf2V_K1ePhV",
        "outputId": "bb76af26-03f0-437d-fddf-e54108af8e51"
      },
      "execution_count": 4,
      "outputs": [
        {
          "output_type": "stream",
          "name": "stdout",
          "text": [
            "[  1.23247   0.        8.14      0.        0.538     6.142    91.7\n",
            "   3.9769    4.      307.       21.      396.9      18.72   ]\n"
          ]
        }
      ]
    },
    {
      "cell_type": "code",
      "source": [
        "# 데이터 전처리(Scaling)\n",
        "mean = train_data.mean(axis=0)\n",
        "train_data -= mean\n",
        "std = train_data.std(axis=0)\n",
        "train_data /= std\n",
        "train_data[0]"
      ],
      "metadata": {
        "colab": {
          "base_uri": "https://localhost:8080/"
        },
        "id": "whbwyO0tfPk9",
        "outputId": "78501fce-e2ac-418f-ba15-5b57c435b392"
      },
      "execution_count": 5,
      "outputs": [
        {
          "output_type": "execute_result",
          "data": {
            "text/plain": [
              "array([-0.27224633, -0.48361547, -0.43576161, -0.25683275, -0.1652266 ,\n",
              "       -0.1764426 ,  0.81306188,  0.1166983 , -0.62624905, -0.59517003,\n",
              "        1.14850044,  0.44807713,  0.8252202 ])"
            ]
          },
          "metadata": {},
          "execution_count": 5
        }
      ]
    },
    {
      "cell_type": "code",
      "source": [
        "# 모델의 구성\n",
        "def build_model():\n",
        "  model = models.Sequential()\n",
        "  model.add(layers.Dense(64, activation='relu', input_shape=(train_data.shape[1],)))\n",
        "  model.add(layers.Dense(64, activation='relu'))\n",
        "  model.add(layers.Dense(1))\n",
        "  model.compile(optimizer='rmsprop', loss='mse', metrics=['mse'])\n",
        "  return model"
      ],
      "metadata": {
        "id": "0kADh1p2fX4M"
      },
      "execution_count": 26,
      "outputs": []
    },
    {
      "cell_type": "code",
      "source": [
        "# K-Fold Cross Validation\n",
        "k = 4                                       # folder 개수\n",
        "num_val_samples = len(train_data) // k      # 한 folder의 데이터 수 \n",
        "all_scores = []\n",
        "\n",
        "for i in range(k):\n",
        "  print('처리중인 폴드 #', i)\n",
        "\n",
        "  # 검증 데이터의 준비 \n",
        "  val_data = train_data[i * num_val_samples: (i + 1) * num_val_samples]\n",
        "  val_labels = train_labels[i * num_val_samples: (i + 1) * num_val_samples]\n",
        "\n",
        "  # 학습 데이터의 준비\n",
        "  data1 = train_data[:i * num_val_samples]\n",
        "  data2 = train_data[(i+1) * num_val_samples :]\n",
        "  data1_labels = train_labels[:i * num_val_samples]\n",
        "  data2_labels = train_labels[(i+1) * num_val_samples :]\n",
        "\n",
        "  partial_train_data = np.concatenate([data1, data2], axis=0)\n",
        "  partial_train_labels = np.concatenate([data1_labels, data2_labels], axis=0)\n",
        "\n",
        "  # 모델의 학습\n",
        "  model = build_model()\n",
        "  model.summary()\n",
        "\n",
        "  model.fit(partial_train_data, partial_train_labels, epochs=500, batch_size=128, verbose=0)\n",
        "\n",
        "  # 모델의 검증\n",
        "  val_mse, val_mae = model.evaluate(val_data, val_labels)\n",
        "  print(val_mse, val_mae)\n",
        "  all_scores.append(val_mae)"
      ],
      "metadata": {
        "colab": {
          "base_uri": "https://localhost:8080/"
        },
        "id": "30DXz2DWiTO8",
        "outputId": "09bacf3f-0d93-4c72-82f0-bd577b86695b"
      },
      "execution_count": 37,
      "outputs": [
        {
          "output_type": "stream",
          "name": "stdout",
          "text": [
            "처리중인 폴드 # 0\n",
            "Model: \"sequential_20\"\n",
            "_________________________________________________________________\n",
            " Layer (type)                Output Shape              Param #   \n",
            "=================================================================\n",
            " dense_58 (Dense)            (None, 64)                896       \n",
            "                                                                 \n",
            " dense_59 (Dense)            (None, 64)                4160      \n",
            "                                                                 \n",
            " dense_60 (Dense)            (None, 1)                 65        \n",
            "                                                                 \n",
            "=================================================================\n",
            "Total params: 5,121\n",
            "Trainable params: 5,121\n",
            "Non-trainable params: 0\n",
            "_________________________________________________________________\n",
            "4/4 [==============================] - 0s 4ms/step - loss: 7.6985 - mse: 7.6985\n",
            "7.698540210723877 7.698540210723877\n",
            "처리중인 폴드 # 1\n",
            "Model: \"sequential_21\"\n",
            "_________________________________________________________________\n",
            " Layer (type)                Output Shape              Param #   \n",
            "=================================================================\n",
            " dense_61 (Dense)            (None, 64)                896       \n",
            "                                                                 \n",
            " dense_62 (Dense)            (None, 64)                4160      \n",
            "                                                                 \n",
            " dense_63 (Dense)            (None, 1)                 65        \n",
            "                                                                 \n",
            "=================================================================\n",
            "Total params: 5,121\n",
            "Trainable params: 5,121\n",
            "Non-trainable params: 0\n",
            "_________________________________________________________________\n",
            "4/4 [==============================] - 0s 4ms/step - loss: 11.0436 - mse: 11.0436\n",
            "11.043606758117676 11.043606758117676\n",
            "처리중인 폴드 # 2\n",
            "Model: \"sequential_22\"\n",
            "_________________________________________________________________\n",
            " Layer (type)                Output Shape              Param #   \n",
            "=================================================================\n",
            " dense_64 (Dense)            (None, 64)                896       \n",
            "                                                                 \n",
            " dense_65 (Dense)            (None, 64)                4160      \n",
            "                                                                 \n",
            " dense_66 (Dense)            (None, 1)                 65        \n",
            "                                                                 \n",
            "=================================================================\n",
            "Total params: 5,121\n",
            "Trainable params: 5,121\n",
            "Non-trainable params: 0\n",
            "_________________________________________________________________\n",
            "4/4 [==============================] - 0s 4ms/step - loss: 14.3554 - mse: 14.3554\n",
            "14.355372428894043 14.355372428894043\n",
            "처리중인 폴드 # 3\n",
            "Model: \"sequential_23\"\n",
            "_________________________________________________________________\n",
            " Layer (type)                Output Shape              Param #   \n",
            "=================================================================\n",
            " dense_67 (Dense)            (None, 64)                896       \n",
            "                                                                 \n",
            " dense_68 (Dense)            (None, 64)                4160      \n",
            "                                                                 \n",
            " dense_69 (Dense)            (None, 1)                 65        \n",
            "                                                                 \n",
            "=================================================================\n",
            "Total params: 5,121\n",
            "Trainable params: 5,121\n",
            "Non-trainable params: 0\n",
            "_________________________________________________________________\n",
            "4/4 [==============================] - 0s 4ms/step - loss: 10.9967 - mse: 10.9967\n",
            "10.996671676635742 10.996671676635742\n"
          ]
        }
      ]
    },
    {
      "cell_type": "code",
      "source": [
        "np.mean(all_scores)"
      ],
      "metadata": {
        "colab": {
          "base_uri": "https://localhost:8080/"
        },
        "id": "-SGdbAWs9wIA",
        "outputId": "771c3904-95c9-4152-c51a-23068bdb85c0"
      },
      "execution_count": 38,
      "outputs": [
        {
          "output_type": "execute_result",
          "data": {
            "text/plain": [
              "11.023547768592834"
            ]
          },
          "metadata": {},
          "execution_count": 38
        }
      ]
    }
  ]
}