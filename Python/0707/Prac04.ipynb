{
 "cells": [
  {
   "cell_type": "markdown",
   "metadata": {},
   "source": [
    "### 두 개의 세그멘테이션(분할) 결과를 비교하여 유사성을 측정"
   ]
  },
  {
   "cell_type": "code",
   "execution_count": 1,
   "metadata": {},
   "outputs": [],
   "source": [
    "import numpy as np \n",
    "import matplotlib.pyplot as plt"
   ]
  },
  {
   "cell_type": "markdown",
   "metadata": {},
   "source": [
    "#### 두개의 세그멘테이션(분할) 유사성 측정 함수"
   ]
  },
  {
   "cell_type": "code",
   "execution_count": 2,
   "metadata": {},
   "outputs": [],
   "source": [
    "def dice_coefficient(pred_mask, true_mask) :\n",
    "    intersection = np.logical_and(pred_mask, true_mask)\n",
    "    dice = (2.0 * intersection.sum()) / (pred_mask.sum() + true_mask.sum())\n",
    "    return dice"
   ]
  },
  {
   "cell_type": "markdown",
   "metadata": {},
   "source": [
    "#### 시각화"
   ]
  },
  {
   "cell_type": "code",
   "execution_count": 3,
   "metadata": {},
   "outputs": [],
   "source": [
    "def plot_masks(pred_mask, true_mask) :\n",
    "    plt.subplot(1,2,1)\n",
    "    plt.imshow(pred_mask, cmap='gray')\n",
    "    plt.subplot(1,2,2)\n",
    "    plt.imshow(true_mask, cmap='gray')\n",
    "    plt.show()"
   ]
  },
  {
   "cell_type": "markdown",
   "metadata": {},
   "source": [
    "#### 데이터 생성"
   ]
  },
  {
   "cell_type": "code",
   "execution_count": 4,
   "metadata": {},
   "outputs": [],
   "source": [
    "pred_mask = np.array([[0,1,1,0],\n",
    "                      [1,1,0,0],\n",
    "                      [0,1,1,1]])\n",
    "true_mask = np.array([[1,1,0,0],\n",
    "                      [1,0,0,0],\n",
    "                      [0,1,1,1]])"
   ]
  },
  {
   "cell_type": "markdown",
   "metadata": {},
   "source": [
    "#### 계산 진행"
   ]
  },
  {
   "cell_type": "code",
   "execution_count": 5,
   "metadata": {},
   "outputs": [
    {
     "name": "stdout",
     "output_type": "stream",
     "text": [
      "Dice Coefficient : 0.7692307692307693\n"
     ]
    }
   ],
   "source": [
    "dice = dice_coefficient(pred_mask, true_mask)\n",
    "print(f\"Dice Coefficient : {dice}\")"
   ]
  }
 ],
 "metadata": {
  "kernelspec": {
   "display_name": "Pytorch",
   "language": "python",
   "name": "python3"
  },
  "language_info": {
   "codemirror_mode": {
    "name": "ipython",
    "version": 3
   },
   "file_extension": ".py",
   "mimetype": "text/x-python",
   "name": "python",
   "nbconvert_exporter": "python",
   "pygments_lexer": "ipython3",
   "version": "3.8.16"
  },
  "orig_nbformat": 4
 },
 "nbformat": 4,
 "nbformat_minor": 2
}
