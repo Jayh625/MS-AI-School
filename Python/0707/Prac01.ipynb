{
 "cells": [
  {
   "cell_type": "markdown",
   "metadata": {},
   "source": [
    "### Precision 정밀도 실습"
   ]
  },
  {
   "cell_type": "code",
   "execution_count": 1,
   "metadata": {},
   "outputs": [],
   "source": [
    "from sklearn.metrics import precision_score"
   ]
  },
  {
   "cell_type": "code",
   "execution_count": 2,
   "metadata": {},
   "outputs": [
    {
     "name": "stdout",
     "output_type": "stream",
     "text": [
      "Precision : 0.7142857142857143\n"
     ]
    }
   ],
   "source": [
    "# 실제 레이블 \n",
    "actual_labels = [1,0,0,1,1,0,1,1,0,0,1]\n",
    "# 예측 레이블\n",
    "predicted_labels = [1,1,0,0,1,0,1,1,0,1,1]\n",
    "\n",
    "acc = precision_score(actual_labels, predicted_labels)\n",
    "print(f\"Precision : {acc}\")"
   ]
  }
 ],
 "metadata": {
  "kernelspec": {
   "display_name": "Pytorch",
   "language": "python",
   "name": "python3"
  },
  "language_info": {
   "codemirror_mode": {
    "name": "ipython",
    "version": 3
   },
   "file_extension": ".py",
   "mimetype": "text/x-python",
   "name": "python",
   "nbconvert_exporter": "python",
   "pygments_lexer": "ipython3",
   "version": "3.8.16"
  },
  "orig_nbformat": 4
 },
 "nbformat": 4,
 "nbformat_minor": 2
}
