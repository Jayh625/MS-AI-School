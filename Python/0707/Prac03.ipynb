{
 "cells": [
  {
   "cell_type": "markdown",
   "metadata": {},
   "source": [
    "### IOU 실습"
   ]
  },
  {
   "cell_type": "code",
   "execution_count": 1,
   "metadata": {},
   "outputs": [],
   "source": [
    "def calculate_iou(bbox1, bbox2) :\n",
    "    \"\"\"\n",
    "    bbox1 [x1,y1,x2,y2]\n",
    "    bbox2 [x1,y1,x2,y2]\n",
    "    \"\"\"\n",
    "    # 각 영역의 좌표 추출\n",
    "    x1_1, y1_1, x2_1, y2_1 = bbox1\n",
    "    x1_2, y1_2, x2_2, y2_2 = bbox2\n",
    "    x_left = max(x1_1, x1_2)\n",
    "    y_top = max(y1_1, y1_2)\n",
    "    x_right = min(x2_1, x2_2)\n",
    "    y_bottom = min(y2_1, y2_2)\n",
    "\n",
    "    # 교차 영역의 넓이 계산\n",
    "    area = max(0, x_right - x_left + 1) * max(0, y_bottom - y_top + 1)\n",
    "\n",
    "    # 각 영역의 넓이를 계산\n",
    "    bbox1_area = (x2_1 - x1_1 + 1) * (y1_2 - y1_1 +1)\n",
    "    bbox2_area = (x2_2 - x1_2 + 1) * (y2_2 - y1_2 +1)\n",
    "\n",
    "    # IOU 계산하기 \n",
    "    iou = area / (bbox1_area + bbox2_area - area)\n",
    "    return iou"
   ]
  },
  {
   "cell_type": "code",
   "execution_count": 2,
   "metadata": {},
   "outputs": [
    {
     "name": "stdout",
     "output_type": "stream",
     "text": [
      "IOU : 0.4519434699014886\n"
     ]
    }
   ],
   "source": [
    "bbox1 = [100,100,300,300]\n",
    "bbox2 = [150,150,400,400]\n",
    "iou = calculate_iou(bbox1, bbox2)\n",
    "print(f\"IOU : {iou}\")"
   ]
  }
 ],
 "metadata": {
  "kernelspec": {
   "display_name": "Pytorch",
   "language": "python",
   "name": "python3"
  },
  "language_info": {
   "codemirror_mode": {
    "name": "ipython",
    "version": 3
   },
   "file_extension": ".py",
   "mimetype": "text/x-python",
   "name": "python",
   "nbconvert_exporter": "python",
   "pygments_lexer": "ipython3",
   "version": "3.8.16"
  },
  "orig_nbformat": 4
 },
 "nbformat": 4,
 "nbformat_minor": 2
}
