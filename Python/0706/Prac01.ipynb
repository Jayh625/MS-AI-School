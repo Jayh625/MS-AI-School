{
 "cells": [
  {
   "attachments": {},
   "cell_type": "markdown",
   "metadata": {},
   "source": [
    "### 드롭아웃 적용 여부 차이 비교 실습"
   ]
  },
  {
   "cell_type": "code",
   "execution_count": 1,
   "metadata": {},
   "outputs": [],
   "source": [
    "import torch\n",
    "import torch.nn as nn\n",
    "import torch.optim as optim\n",
    "import torchvision.datasets as datasets\n",
    "import torchvision.transforms as transforms\n",
    "from torch.utils.data import DataLoader"
   ]
  },
  {
   "attachments": {},
   "cell_type": "markdown",
   "metadata": {},
   "source": [
    "#### 드롭아웃 적용한 신경망 모델 정의"
   ]
  },
  {
   "cell_type": "code",
   "execution_count": 2,
   "metadata": {},
   "outputs": [],
   "source": [
    "class DropoutNet(nn.Module):\n",
    "    def __init__(self) :\n",
    "        super(DropoutNet, self).__init__()\n",
    "        # 사용할 데이터 크기가 28x28 -> 784 1차원\n",
    "        self.fc1 = nn.Linear(784, 500)\n",
    "        self.dropout = nn.Dropout(p=0.5) # p=0.5, 50%\n",
    "        self.fc2 = nn.Linear(500, 10)\n",
    "\n",
    "    def forward(self, x) :\n",
    "        x = x.view(x.size(0), -1) # 입력 데이터 크기 조절 -> 1차원으로 펼침\n",
    "        x = torch.relu(self.fc1(x)) # self.fc1(x) -> relu 적용\n",
    "        x = self.dropout(x)\n",
    "        x = self.fc2(x)\n",
    "        return x"
   ]
  },
  {
   "attachments": {},
   "cell_type": "markdown",
   "metadata": {},
   "source": [
    "#### 드롭아웃 적용하지 않은 신경망 모델 정의"
   ]
  },
  {
   "cell_type": "code",
   "execution_count": 3,
   "metadata": {},
   "outputs": [],
   "source": [
    "class NonDropoutNet(nn.Module) :\n",
    "    def __init__(self) :\n",
    "        super(NonDropoutNet, self).__init__()\n",
    "        self.fc1 = nn.Linear(784, 500)\n",
    "        self.fc2 = nn.Linear(500, 10)\n",
    "\n",
    "    def forward(self, x) :\n",
    "        x = x.view(x.size(0), -1) \n",
    "        x = torch.relu(self.fc1(x)) \n",
    "        x = self.fc2(x)\n",
    "        return x"
   ]
  },
  {
   "attachments": {},
   "cell_type": "markdown",
   "metadata": {},
   "source": [
    "#### MNIST 데이터셋 로드 및 전처리"
   ]
  },
  {
   "cell_type": "code",
   "execution_count": 4,
   "metadata": {},
   "outputs": [],
   "source": [
    "train_transform = transforms.Compose([\n",
    "    # transforms.AutoAugment(),\n",
    "    transforms.ToTensor(),\n",
    "    transforms.Normalize((0.5,), (0.3,))\n",
    "])\n",
    "\n",
    "test_transform = transforms.Compose([\n",
    "    transforms.ToTensor(),\n",
    "    transforms.Normalize((0.5,), (0.3,))\n",
    "])\n",
    "\n",
    "train_dataset = datasets.MNIST(root='./data', train=True, download=False, transform=train_transform)\n",
    "test_dataset = datasets.MNIST(root='./data', train=False, download=False, transform=test_transform)\n",
    "\n",
    "train_loader = DataLoader(train_dataset, batch_size=64, shuffle=True)\n",
    "test_loader = DataLoader(test_dataset, batch_size=64, shuffle=False)"
   ]
  },
  {
   "attachments": {},
   "cell_type": "markdown",
   "metadata": {},
   "source": [
    "#### 드롭아웃 적용 모델 초기화, loss, 옵티마이저 정의"
   ]
  },
  {
   "cell_type": "code",
   "execution_count": 5,
   "metadata": {},
   "outputs": [
    {
     "name": "stdout",
     "output_type": "stream",
     "text": [
      "DropoutNet(\n",
      "  (fc1): Linear(in_features=784, out_features=500, bias=True)\n",
      "  (dropout): Dropout(p=0.5, inplace=False)\n",
      "  (fc2): Linear(in_features=500, out_features=10, bias=True)\n",
      ")\n"
     ]
    }
   ],
   "source": [
    "# 드롭아웃 적용 모델 초기화\n",
    "dropout_model = DropoutNet()\n",
    "print(dropout_model)\n",
    "\n",
    "# loss 함수, 옵티마이저 설정\n",
    "dropout_criterion = nn.CrossEntropyLoss()\n",
    "dropout_optimizer = optim.SGD(dropout_model.parameters(), lr=0.001)"
   ]
  },
  {
   "attachments": {},
   "cell_type": "markdown",
   "metadata": {},
   "source": [
    "#### 드롭아웃 적용 모델 학습, 평가 정의"
   ]
  },
  {
   "cell_type": "code",
   "execution_count": 6,
   "metadata": {},
   "outputs": [
    {
     "name": "stdout",
     "output_type": "stream",
     "text": [
      "드롭아웃 적용 모델 정확도 : 91.22\n"
     ]
    }
   ],
   "source": [
    "# 드롭아웃 적용 모델 학습 코드\n",
    "for epoch in range(10) :\n",
    "    # Train 모드 선언\n",
    "    dropout_model.train() \n",
    "    for images, labels in train_loader :\n",
    "        dropout_optimizer.zero_grad()\n",
    "        dropout_output = dropout_model(images)\n",
    "        dropout_loss = dropout_criterion(dropout_output, labels)\n",
    "        dropout_loss.backward()\n",
    "        dropout_optimizer.step()\n",
    "\n",
    "# 드롭아웃 적용 모델 평가 코드\n",
    "dropout_model.eval()\n",
    "with torch.no_grad() :\n",
    "    dropout_correct = 0 \n",
    "    dropout_total = 0 \n",
    "    for images, labels in test_loader :\n",
    "        test_out = dropout_model(images)\n",
    "        _, dropout_predict = torch.max(test_out.data, 1)\n",
    "        dropout_total += images.size(0)\n",
    "        dropout_correct += (dropout_predict == labels).sum().item()\n",
    "    print(f\"드롭아웃 적용 모델 정확도 : {(100 * dropout_correct / dropout_total):.2f}\")"
   ]
  },
  {
   "attachments": {},
   "cell_type": "markdown",
   "metadata": {},
   "source": [
    "#### 드롭아웃 적용되지 않은 모델 학습 평가 정의"
   ]
  },
  {
   "cell_type": "code",
   "execution_count": 7,
   "metadata": {},
   "outputs": [
    {
     "name": "stdout",
     "output_type": "stream",
     "text": [
      "드롭아웃 적용 모델 정확도 : 91.23\n"
     ]
    }
   ],
   "source": [
    "# 모델 호출\n",
    "non_dropout_model = NonDropoutNet()\n",
    "\n",
    "# 옵티마이저 loss function 정의\n",
    "non_dropout_criterion = nn.CrossEntropyLoss()\n",
    "non_dropout_optimizer = optim.SGD(non_dropout_model.parameters(), lr=0.001)\n",
    "\n",
    "# 드롭아웃 적용되지 않은 모델 학습\n",
    "for epoch in range(10) :\n",
    "    non_dropout_model.train()\n",
    "    for images, labels in train_loader :\n",
    "        non_dropout_optimizer.zero_grad()\n",
    "        non_dropout_output = non_dropout_model(images)\n",
    "        non_dropout_loss = non_dropout_criterion(non_dropout_output, labels)\n",
    "        non_dropout_loss.backward()\n",
    "        non_dropout_optimizer.step()\n",
    "\n",
    "# 드롭아웃 적용하지 않은 모델 평가\n",
    "non_dropout_model.eval()\n",
    "with torch.no_grad() :\n",
    "    non_dropout_correct = 0 \n",
    "    non_dropout_total = 0\n",
    "    for images, labels in test_loader :\n",
    "        non_dropout_out = non_dropout_model(images)\n",
    "        _, non_dropout_predict = torch.max(non_dropout_out.data, 1)\n",
    "        non_dropout_total += images.size(0)\n",
    "        non_dropout_correct += (non_dropout_predict == labels).sum().item()\n",
    "    print(f\"드롭아웃 적용 모델 정확도 : {(100 * non_dropout_correct / non_dropout_total):.2f}\")"
   ]
  }
 ],
 "metadata": {
  "kernelspec": {
   "display_name": "Pytorch",
   "language": "python",
   "name": "python3"
  },
  "language_info": {
   "codemirror_mode": {
    "name": "ipython",
    "version": 3
   },
   "file_extension": ".py",
   "mimetype": "text/x-python",
   "name": "python",
   "nbconvert_exporter": "python",
   "pygments_lexer": "ipython3",
   "version": "3.8.16"
  },
  "orig_nbformat": 4
 },
 "nbformat": 4,
 "nbformat_minor": 2
}
