{
 "cells": [
  {
   "cell_type": "code",
   "execution_count": 1,
   "id": "ce03a1e5",
   "metadata": {},
   "outputs": [],
   "source": [
    "import pandas as pd\n",
    "import numpy as np\n",
    "import seaborn as sns\n",
    "import matplotlib.pyplot as plt\n",
    "from scipy import stats"
   ]
  },
  {
   "cell_type": "code",
   "execution_count": 2,
   "id": "f973c977",
   "metadata": {},
   "outputs": [],
   "source": [
    "np.random.seed(42)\n",
    "\n",
    "# 모수 검정용 데이터 생성\n",
    "n = 100\n",
    "mu1, mu2 = 0,0.5\n",
    "sigma = 1\n",
    "data1 = np.random.normal(mu1, sigma, n)\n",
    "data2 = np.random.normal(mu2, sigma, n)\n",
    "\n",
    "# 비모수 검정용 데이터 생성\n",
    "m = 30\n",
    "data3 = np.random.uniform(0, 1, m)\n",
    "data4 = np.random.uniform(0.5, 1.5, m)"
   ]
  },
  {
   "cell_type": "code",
   "execution_count": 3,
   "id": "3771a7c9",
   "metadata": {},
   "outputs": [
    {
     "name": "stdout",
     "output_type": "stream",
     "text": [
      "-4.754695943505288 3.819135262679343e-06\n"
     ]
    }
   ],
   "source": [
    "# 데이터 생성 완료 -> 모수 검정 실시\n",
    "t_stat, p_val = stats.ttest_ind(data1, data2)\n",
    "print(t_stat, p_val)"
   ]
  },
  {
   "cell_type": "code",
   "execution_count": 4,
   "id": "b9a129ba",
   "metadata": {},
   "outputs": [
    {
     "name": "stdout",
     "output_type": "stream",
     "text": [
      "145.0 6.7362128931226e-06\n"
     ]
    }
   ],
   "source": [
    "# 데이터 생성 완료 -> 비모수 검정 실시\n",
    "u_stat, p_val = stats.mannwhitneyu(data3, data4)\n",
    "print(u_stat, p_val)"
   ]
  }
 ],
 "metadata": {
  "kernelspec": {
   "display_name": "AI",
   "language": "python",
   "name": "ai"
  },
  "language_info": {
   "codemirror_mode": {
    "name": "ipython",
    "version": 3
   },
   "file_extension": ".py",
   "mimetype": "text/x-python",
   "name": "python",
   "nbconvert_exporter": "python",
   "pygments_lexer": "ipython3",
   "version": "3.8.16"
  }
 },
 "nbformat": 4,
 "nbformat_minor": 5
}
