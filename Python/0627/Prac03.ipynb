{
 "cells": [
  {
   "attachments": {},
   "cell_type": "markdown",
   "metadata": {},
   "source": [
    "### 로지스틱 회귀의 결정 경계 실습"
   ]
  },
  {
   "cell_type": "code",
   "execution_count": 1,
   "metadata": {},
   "outputs": [],
   "source": [
    "import torch\n",
    "import torch.nn.functional as F\n",
    "import numpy as np\n",
    "import matplotlib.pyplot as plt"
   ]
  },
  {
   "cell_type": "code",
   "execution_count": 2,
   "metadata": {},
   "outputs": [
    {
     "name": "stdout",
     "output_type": "stream",
     "text": [
      "tensor([[-2.7565e-01, -4.7730e-01],\n",
      "        [-1.0861e+00,  3.2101e-01],\n",
      "        [ 4.2234e-01,  2.2458e-01],\n",
      "        [-1.3429e+00,  4.1341e-01],\n",
      "        [ 1.3204e+00,  7.9091e-01],\n",
      "        [ 1.1767e+00,  8.1873e-01],\n",
      "        [ 6.9534e-01,  1.0406e+00],\n",
      "        [ 7.8512e-01, -6.1896e-02],\n",
      "        [ 8.8756e-01,  1.2935e+00],\n",
      "        [ 7.0926e-01, -9.0024e-01],\n",
      "        [ 3.9039e-01,  9.4057e-01],\n",
      "        [ 1.5755e+00,  8.7808e-01],\n",
      "        [-9.8657e-01,  7.4925e-01],\n",
      "        [ 1.7284e+00,  1.9749e+00],\n",
      "        [-1.6127e-01,  5.4775e-01],\n",
      "        [-2.4468e-01,  7.9068e-01],\n",
      "        [ 3.4270e-01, -1.6731e-01],\n",
      "        [ 1.1422e+00,  6.0920e-01],\n",
      "        [ 2.1968e-01,  9.8741e-01],\n",
      "        [ 7.5370e-01, -3.8777e-01],\n",
      "        [-1.5691e+00, -6.5202e-01],\n",
      "        [ 1.3182e+00,  1.8205e-01],\n",
      "        [-3.7090e-01,  6.7890e-01],\n",
      "        [ 3.6798e-01,  3.1152e-01],\n",
      "        [-1.6956e+00, -1.2575e+00],\n",
      "        [ 1.1762e+00,  1.0300e-01],\n",
      "        [-2.8502e-01, -8.1211e-01],\n",
      "        [ 9.4583e-01, -4.0354e-01],\n",
      "        [ 5.7709e-01,  1.9868e+00],\n",
      "        [ 9.1804e-01, -1.1101e+00],\n",
      "        [-1.6680e+00,  1.5135e+00],\n",
      "        [-1.1248e+00,  1.0417e-01],\n",
      "        [-5.4911e-02, -1.4650e+00],\n",
      "        [ 2.0529e+00, -9.6051e-01],\n",
      "        [-1.7155e+00, -2.1444e-01],\n",
      "        [ 1.0967e-01, -2.0872e-02],\n",
      "        [ 6.3763e-02,  8.3431e-01],\n",
      "        [ 3.1690e-01, -1.6239e+00],\n",
      "        [-1.2369e+00, -2.9822e-01],\n",
      "        [ 6.0878e-02, -5.7969e-01],\n",
      "        [ 1.3792e+00, -1.8125e-01],\n",
      "        [-8.8560e-02,  1.0913e+00],\n",
      "        [ 1.7354e+00, -7.1445e-01],\n",
      "        [-1.1519e+00,  5.0436e-01],\n",
      "        [-3.8272e-01, -7.8052e-02],\n",
      "        [-8.8524e-01,  6.9811e-01],\n",
      "        [-6.9565e-01,  1.4082e+00],\n",
      "        [-2.8223e-01, -4.3480e-01],\n",
      "        [ 3.5666e-01,  1.8000e+00],\n",
      "        [-8.0950e-01,  1.3587e+00],\n",
      "        [ 8.7311e-01, -2.0000e-01],\n",
      "        [ 1.2634e+00,  6.2437e-01],\n",
      "        [-2.5683e+00, -5.3294e-01],\n",
      "        [ 8.6808e-02,  5.3594e-01],\n",
      "        [ 8.0603e-01,  4.0312e-01],\n",
      "        [-7.9815e-01, -2.7236e-02],\n",
      "        [ 8.4873e-01,  9.1265e-01],\n",
      "        [ 4.5754e-01,  2.5157e-02],\n",
      "        [-6.7969e-01, -3.1985e-01],\n",
      "        [-1.2047e+00, -1.1954e+00],\n",
      "        [-2.2214e+00, -1.3216e+00],\n",
      "        [ 7.9453e-01,  6.3003e-01],\n",
      "        [-7.9262e-01,  2.7375e-01],\n",
      "        [ 6.9718e-01, -2.0406e-01],\n",
      "        [-3.2823e-01, -5.1604e-01],\n",
      "        [ 1.1482e+00, -1.2519e+00],\n",
      "        [-1.1781e+00,  6.0928e-01],\n",
      "        [ 1.1521e+00, -9.0782e-02],\n",
      "        [ 5.7365e-02,  1.4036e+00],\n",
      "        [ 1.1093e+00,  5.5289e-01],\n",
      "        [ 1.9153e-02,  5.7328e-01],\n",
      "        [-1.3207e+00,  8.6374e-02],\n",
      "        [ 1.3724e+00, -1.0218e+00],\n",
      "        [ 8.6376e-01,  1.8102e+00],\n",
      "        [-5.1929e-02,  9.9003e-01],\n",
      "        [-4.7141e-01,  1.1050e+00],\n",
      "        [ 1.0701e-01,  8.2667e-01],\n",
      "        [-2.1021e+00,  1.3851e+00],\n",
      "        [-1.9944e+00,  1.1815e+00],\n",
      "        [ 2.4180e-01, -2.0163e+00],\n",
      "        [-8.0722e-01,  1.1976e-01],\n",
      "        [ 1.9075e-01, -3.2022e+00],\n",
      "        [-8.8823e-01, -1.5320e+00],\n",
      "        [ 2.9167e-01, -1.4257e+00],\n",
      "        [-2.0787e+00, -7.8009e-01],\n",
      "        [-1.0128e+00, -1.3725e-01],\n",
      "        [ 4.2590e-01,  5.9185e-01],\n",
      "        [-1.7376e-01, -3.4300e-01],\n",
      "        [-3.6454e-01, -7.0499e-02],\n",
      "        [-4.8016e-01,  1.4885e+00],\n",
      "        [-1.6784e+00,  9.4613e-01],\n",
      "        [ 1.7098e+00, -3.1448e-01],\n",
      "        [ 2.1001e+00,  2.0039e+00],\n",
      "        [-1.5910e-01,  9.1157e-01],\n",
      "        [-7.9492e-01, -7.4722e-01],\n",
      "        [-9.1122e-01, -1.0267e+00],\n",
      "        [ 1.1491e-02,  5.6442e-01],\n",
      "        [ 1.3908e+00,  1.3635e-03],\n",
      "        [-2.5687e+00, -1.5900e-01],\n",
      "        [-3.8581e-01, -1.7095e+00]]) tensor([0., 0., 0., 0., 1., 1., 1., 0., 1., 0., 0., 1., 0., 1., 0., 0., 0., 1.,\n",
      "        0., 0., 0., 0., 0., 0., 0., 0., 0., 0., 1., 0., 0., 0., 0., 0., 0., 0.,\n",
      "        0., 0., 0., 0., 0., 0., 0., 0., 0., 0., 0., 0., 0., 0., 0., 1., 0., 0.,\n",
      "        0., 0., 1., 0., 0., 0., 0., 1., 0., 0., 0., 0., 0., 0., 0., 1., 0., 0.,\n",
      "        0., 1., 0., 0., 0., 0., 0., 0., 0., 0., 0., 0., 0., 0., 0., 0., 0., 0.,\n",
      "        0., 0., 1., 0., 0., 0., 0., 0., 0., 0.])\n"
     ]
    }
   ],
   "source": [
    "x = torch.randn(100, 2)\n",
    "y = ((x[:,0] > 0.5) & (x[:, 1] > 0.5)).float()\n",
    "\n",
    "print(x,y)"
   ]
  },
  {
   "cell_type": "code",
   "execution_count": 3,
   "metadata": {},
   "outputs": [
    {
     "name": "stdout",
     "output_type": "stream",
     "text": [
      "LogisticRegression(\n",
      "  (linear): Linear(in_features=2, out_features=1, bias=True)\n",
      ")\n"
     ]
    }
   ],
   "source": [
    "class LogisticRegression(torch.nn.Module):\n",
    "    def __init__(self, input_dim, output_dim) :\n",
    "        super(LogisticRegression, self).__init__()\n",
    "        self.linear = torch.nn.Linear(input_dim, output_dim)\n",
    "    \n",
    "    def forward(self, x):\n",
    "        out = self.linear(x)\n",
    "        return F.sigmoid(out)\n",
    "\n",
    "model = LogisticRegression(input_dim=2, output_dim=1)\n",
    "print(model)"
   ]
  },
  {
   "attachments": {},
   "cell_type": "markdown",
   "metadata": {},
   "source": [
    "#### 모델 학습, 결정 경계 그리기"
   ]
  },
  {
   "cell_type": "code",
   "execution_count": 4,
   "metadata": {},
   "outputs": [
    {
     "name": "stderr",
     "output_type": "stream",
     "text": [
      "c:\\Users\\Jay\\anaconda3\\envs\\Pytorch\\lib\\site-packages\\torch\\nn\\functional.py:1806: UserWarning: nn.functional.sigmoid is deprecated. Use torch.sigmoid instead.\n",
      "  warnings.warn(\"nn.functional.sigmoid is deprecated. Use torch.sigmoid instead.\")\n"
     ]
    },
    {
     "data": {
      "image/png": "[encoded data removed]",
      "text/plain": [
       "<Figure size 640x480 with 1 Axes>"
      ]
     },
     "metadata": {},
     "output_type": "display_data"
    }
   ],
   "source": [
    "criterion = torch.nn.BCELoss()\n",
    "optimizer = torch.optim.SGD(model.parameters(), lr=0.01)\n",
    "\n",
    "for epoch in range(1000) :\n",
    "    y_pred = model(x)\n",
    "    loss = criterion(y_pred.squeeze(), y)\n",
    "    optimizer.zero_grad()\n",
    "    loss.backward()\n",
    "    optimizer.step()\n",
    "\n",
    "# 결정 경계 그리기\n",
    "plt.scatter(x[:,0], x[:,1], c=y)\n",
    "x_min, x_max = plt.xlim()\n",
    "y_min, y_max = plt.ylim()\n",
    "\n",
    "xx, yy = np.meshgrid(np.linspace(x_min, x_max, 100), np.linspace(y_min, y_max, 100))\n",
    "\"\"\"\n",
    "np.meshgrid() : x, y 좌표를 기반으로 격자 포인트 생성\n",
    "xx, yy : 2차원 배열을 가집니다\n",
    "\"\"\"\n",
    "z = model(torch.tensor(np.c_[xx.ravel(), yy.ravel()], dtype = torch.float32)).detach().numpy()\n",
    "\"\"\"\n",
    "xx yy -> np.c_[] : xx yy 연결 -> torch.tensor 변경하고 ravel() -> 2차원 배열 1차원 평면화 \n",
    "-> 변환된 입력 -> 모델 전달 -> .detach().numpy() 예측값을 넘파이 형태로 변환 -> z 저장\n",
    "\"\"\"\n",
    "z = z.reshape(xx.shape)\n",
    "plt.contour(xx, yy, z, levels=[0.5], colors='r')\n",
    "\"\"\"\n",
    "plt.contoru() : xx, yy 격자에 대응하는 결정경계 그리는 함수\n",
    "\"\"\"\n",
    "plt.show()"
   ]
  }
 ],
 "metadata": {
  "kernelspec": {
   "display_name": "Pytorch",
   "language": "python",
   "name": "python3"
  },
  "language_info": {
   "codemirror_mode": {
    "name": "ipython",
    "version": 3
   },
   "file_extension": ".py",
   "mimetype": "text/x-python",
   "name": "python",
   "nbconvert_exporter": "python",
   "pygments_lexer": "ipython3",
   "version": "3.8.16"
  },
  "orig_nbformat": 4
 },
 "nbformat": 4,
 "nbformat_minor": 2
}
