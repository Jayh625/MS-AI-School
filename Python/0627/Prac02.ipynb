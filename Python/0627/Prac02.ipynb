{
 "cells": [
  {
   "attachments": {},
   "cell_type": "markdown",
   "metadata": {},
   "source": [
    "### 로지스틱 회귀 앙상블 실습"
   ]
  },
  {
   "cell_type": "code",
   "execution_count": 1,
   "metadata": {},
   "outputs": [],
   "source": [
    "import torch\n",
    "import torch.nn as nn\n",
    "import torch.optim as optim\n",
    "\n",
    "from torch.utils.data import DataLoader\n",
    "from torchvision.datasets import FashionMNIST\n",
    "from torchvision.transforms import ToTensor\n",
    "from sklearn.model_selection import train_test_split\n",
    "from sklearn.metrics import accuracy_score"
   ]
  },
  {
   "attachments": {},
   "cell_type": "markdown",
   "metadata": {},
   "source": [
    "#### 데이터셋, 데이터 로더 생성"
   ]
  },
  {
   "cell_type": "code",
   "execution_count": 2,
   "metadata": {},
   "outputs": [],
   "source": [
    "dataset = FashionMNIST(root='./data', train=True, transform=ToTensor(), download=False)\n",
    "train_set, val_set = train_test_split(dataset, test_size=0.1, random_state=777)\n",
    "\n",
    "train_loader = DataLoader(train_set, batch_size=100, shuffle=True)\n",
    "test_loader = DataLoader(val_set, batch_size=100, shuffle=True)"
   ]
  },
  {
   "attachments": {},
   "cell_type": "markdown",
   "metadata": {},
   "source": [
    "#### 모델 선언"
   ]
  },
  {
   "cell_type": "code",
   "execution_count": 3,
   "metadata": {},
   "outputs": [],
   "source": [
    "class LogisticRegression(nn.Module) :\n",
    "    def __init__(self, input_size, num_classes) :\n",
    "        super(LogisticRegression, self).__init__()\n",
    "        self.linear = nn.Linear(input_size, num_classes)\n",
    "    \n",
    "    def forward(self, x) :\n",
    "        out = self.linear(x)\n",
    "        return out"
   ]
  },
  {
   "attachments": {},
   "cell_type": "markdown",
   "metadata": {},
   "source": [
    "#### 하이퍼 파라미터 설정"
   ]
  },
  {
   "cell_type": "code",
   "execution_count": 4,
   "metadata": {},
   "outputs": [],
   "source": [
    "input_size = 28 * 28\n",
    "num_classes = 10\n",
    "num_epoch = 100\n",
    "lr = 0.001\n",
    "num_models = 5 # 앙상블에 사용할 모델 개수"
   ]
  },
  {
   "attachments": {},
   "cell_type": "markdown",
   "metadata": {},
   "source": [
    "#### 앙상블"
   ]
  },
  {
   "cell_type": "code",
   "execution_count": 5,
   "metadata": {},
   "outputs": [
    {
     "name": "stdout",
     "output_type": "stream",
     "text": [
      "[LogisticRegression(\n",
      "  (linear): Linear(in_features=784, out_features=10, bias=True)\n",
      "), LogisticRegression(\n",
      "  (linear): Linear(in_features=784, out_features=10, bias=True)\n",
      "), LogisticRegression(\n",
      "  (linear): Linear(in_features=784, out_features=10, bias=True)\n",
      "), LogisticRegression(\n",
      "  (linear): Linear(in_features=784, out_features=10, bias=True)\n",
      "), LogisticRegression(\n",
      "  (linear): Linear(in_features=784, out_features=10, bias=True)\n",
      ")]\n"
     ]
    }
   ],
   "source": [
    "models = [LogisticRegression(input_size, num_classes) for _ in range(num_models)]\n",
    "print(models)"
   ]
  },
  {
   "attachments": {},
   "cell_type": "markdown",
   "metadata": {},
   "source": [
    "#### 모델, 손실 함수, 옵티마이저 정의"
   ]
  },
  {
   "cell_type": "code",
   "execution_count": 6,
   "metadata": {},
   "outputs": [
    {
     "name": "stdout",
     "output_type": "stream",
     "text": [
      "[SGD (\n",
      "Parameter Group 0\n",
      "    dampening: 0\n",
      "    lr: 0.001\n",
      "    momentum: 0\n",
      "    nesterov: False\n",
      "    weight_decay: 0\n",
      "), SGD (\n",
      "Parameter Group 0\n",
      "    dampening: 0\n",
      "    lr: 0.001\n",
      "    momentum: 0\n",
      "    nesterov: False\n",
      "    weight_decay: 0\n",
      "), SGD (\n",
      "Parameter Group 0\n",
      "    dampening: 0\n",
      "    lr: 0.001\n",
      "    momentum: 0\n",
      "    nesterov: False\n",
      "    weight_decay: 0\n",
      "), SGD (\n",
      "Parameter Group 0\n",
      "    dampening: 0\n",
      "    lr: 0.001\n",
      "    momentum: 0\n",
      "    nesterov: False\n",
      "    weight_decay: 0\n",
      "), SGD (\n",
      "Parameter Group 0\n",
      "    dampening: 0\n",
      "    lr: 0.001\n",
      "    momentum: 0\n",
      "    nesterov: False\n",
      "    weight_decay: 0\n",
      ")]\n"
     ]
    }
   ],
   "source": [
    "criterion = nn.CrossEntropyLoss()\n",
    "optimizers = [optim.SGD(model.parameters(), lr=lr) for model in models]\n",
    "print(optimizers)\n"
   ]
  },
  {
   "attachments": {},
   "cell_type": "markdown",
   "metadata": {},
   "source": [
    "#### train loop"
   ]
  },
  {
   "cell_type": "code",
   "execution_count": 7,
   "metadata": {},
   "outputs": [
    {
     "name": "stdout",
     "output_type": "stream",
     "text": [
      "Epoch [1/100], Val acc : 46.60\n",
      "Epoch [2/100], Val acc : 53.40\n",
      "Epoch [3/100], Val acc : 58.68\n",
      "Epoch [4/100], Val acc : 62.82\n",
      "Epoch [5/100], Val acc : 65.48\n",
      "Epoch [6/100], Val acc : 67.70\n",
      "Epoch [7/100], Val acc : 69.10\n",
      "Epoch [8/100], Val acc : 70.23\n",
      "Epoch [9/100], Val acc : 71.03\n",
      "Epoch [10/100], Val acc : 72.15\n",
      "Epoch [11/100], Val acc : 72.75\n",
      "Epoch [12/100], Val acc : 73.35\n",
      "Epoch [13/100], Val acc : 74.00\n",
      "Epoch [14/100], Val acc : 74.05\n",
      "Epoch [15/100], Val acc : 74.32\n",
      "Epoch [16/100], Val acc : 74.92\n",
      "Epoch [17/100], Val acc : 74.98\n",
      "Epoch [18/100], Val acc : 75.08\n",
      "Epoch [19/100], Val acc : 75.43\n",
      "Epoch [20/100], Val acc : 75.67\n",
      "Epoch [21/100], Val acc : 75.87\n",
      "Epoch [22/100], Val acc : 75.97\n",
      "Epoch [23/100], Val acc : 76.10\n",
      "Epoch [24/100], Val acc : 76.42\n",
      "Epoch [25/100], Val acc : 76.60\n",
      "Epoch [26/100], Val acc : 76.78\n",
      "Epoch [27/100], Val acc : 77.02\n",
      "Epoch [28/100], Val acc : 77.12\n",
      "Epoch [29/100], Val acc : 77.18\n",
      "Epoch [30/100], Val acc : 77.45\n",
      "Epoch [31/100], Val acc : 77.60\n",
      "Epoch [32/100], Val acc : 77.75\n",
      "Epoch [33/100], Val acc : 77.77\n",
      "Epoch [34/100], Val acc : 77.92\n",
      "Epoch [35/100], Val acc : 77.98\n",
      "Epoch [36/100], Val acc : 78.07\n",
      "Epoch [37/100], Val acc : 78.10\n",
      "Epoch [38/100], Val acc : 78.32\n",
      "Epoch [39/100], Val acc : 78.47\n",
      "Epoch [40/100], Val acc : 78.22\n",
      "Epoch [41/100], Val acc : 78.48\n",
      "Epoch [42/100], Val acc : 78.58\n",
      "Epoch [43/100], Val acc : 78.50\n",
      "Epoch [44/100], Val acc : 78.63\n",
      "Epoch [45/100], Val acc : 78.72\n",
      "Epoch [46/100], Val acc : 78.82\n",
      "Epoch [47/100], Val acc : 78.87\n",
      "Epoch [48/100], Val acc : 79.02\n",
      "Epoch [49/100], Val acc : 78.97\n",
      "Epoch [50/100], Val acc : 78.97\n",
      "Epoch [51/100], Val acc : 79.00\n",
      "Epoch [52/100], Val acc : 79.08\n",
      "Epoch [53/100], Val acc : 79.03\n",
      "Epoch [54/100], Val acc : 79.27\n",
      "Epoch [55/100], Val acc : 79.10\n",
      "Epoch [56/100], Val acc : 79.08\n",
      "Epoch [57/100], Val acc : 79.35\n",
      "Epoch [58/100], Val acc : 79.33\n",
      "Epoch [59/100], Val acc : 79.37\n",
      "Epoch [60/100], Val acc : 79.42\n",
      "Epoch [61/100], Val acc : 79.42\n",
      "Epoch [62/100], Val acc : 79.57\n",
      "Epoch [63/100], Val acc : 79.43\n",
      "Epoch [64/100], Val acc : 79.67\n",
      "Epoch [65/100], Val acc : 79.47\n",
      "Epoch [66/100], Val acc : 79.57\n",
      "Epoch [67/100], Val acc : 79.57\n",
      "Epoch [68/100], Val acc : 79.75\n",
      "Epoch [69/100], Val acc : 79.80\n",
      "Epoch [70/100], Val acc : 79.87\n",
      "Epoch [71/100], Val acc : 79.82\n",
      "Epoch [72/100], Val acc : 79.85\n",
      "Epoch [73/100], Val acc : 80.00\n",
      "Epoch [74/100], Val acc : 79.90\n",
      "Epoch [75/100], Val acc : 80.02\n",
      "Epoch [76/100], Val acc : 80.07\n",
      "Epoch [77/100], Val acc : 80.10\n",
      "Epoch [78/100], Val acc : 80.03\n",
      "Epoch [79/100], Val acc : 80.33\n",
      "Epoch [80/100], Val acc : 80.05\n",
      "Epoch [81/100], Val acc : 80.13\n",
      "Epoch [82/100], Val acc : 80.27\n",
      "Epoch [83/100], Val acc : 80.27\n",
      "Epoch [84/100], Val acc : 80.28\n",
      "Epoch [85/100], Val acc : 80.40\n",
      "Epoch [86/100], Val acc : 80.37\n",
      "Epoch [87/100], Val acc : 80.28\n",
      "Epoch [88/100], Val acc : 80.48\n",
      "Epoch [89/100], Val acc : 80.63\n",
      "Epoch [90/100], Val acc : 80.50\n",
      "Epoch [91/100], Val acc : 80.57\n",
      "Epoch [92/100], Val acc : 80.63\n",
      "Epoch [93/100], Val acc : 80.70\n",
      "Epoch [94/100], Val acc : 80.82\n",
      "Epoch [95/100], Val acc : 80.83\n",
      "Epoch [96/100], Val acc : 80.88\n",
      "Epoch [97/100], Val acc : 80.72\n",
      "Epoch [98/100], Val acc : 80.92\n",
      "Epoch [99/100], Val acc : 80.77\n",
      "Epoch [100/100], Val acc : 80.95\n"
     ]
    }
   ],
   "source": [
    "for epoch in range(num_epoch):\n",
    "    for i, (images, labels) in enumerate(train_loader):\n",
    "        # 데이터 로드\n",
    "        images = images.reshape(-1, input_size)\n",
    "        labels = labels\n",
    "\n",
    "        # 순전파 및 손실 계산\n",
    "        for j in range(num_models) :\n",
    "            outputs = models[j](images)\n",
    "            loss = criterion(outputs, labels)\n",
    "        \n",
    "        # 역전파 및 가중치 업데이트\n",
    "        optimizers[j].zero_grad()\n",
    "        loss.backward()\n",
    "        optimizers[j].step()\n",
    "\n",
    "    # 검증 코드 추가\n",
    "    with torch.no_grad() :\n",
    "        total, correct = 0, 0\n",
    "        for images, labels in test_loader :\n",
    "            images = images.reshape(-1, input_size)\n",
    "            # 이미지 배치에 대한 출력 텐서 초기화 -> 후속 단계에서 이미지에 대한 예측값 업데이트 가능\n",
    "            outputs = torch.zeros(images.size()[0], num_classes)\n",
    "\n",
    "            # 앙상블 모델의 예측값 더하기\n",
    "            for j in range(num_models):\n",
    "                outputs += models[j](images)\n",
    "            \n",
    "            _, predicted = torch.max(outputs.data, 1)\n",
    "            total += labels.size(0)\n",
    "            correct += (predicted == labels).sum().item()\n",
    "        \n",
    "        val_acc = 100 * correct / total\n",
    "        print(f\"Epoch [{epoch+1}/{num_epoch}], Val acc : {val_acc:.2f}\")"
   ]
  }
 ],
 "metadata": {
  "kernelspec": {
   "display_name": "Pytorch",
   "language": "python",
   "name": "python3"
  },
  "language_info": {
   "codemirror_mode": {
    "name": "ipython",
    "version": 3
   },
   "file_extension": ".py",
   "mimetype": "text/x-python",
   "name": "python",
   "nbconvert_exporter": "python",
   "pygments_lexer": "ipython3",
   "version": "3.8.16"
  },
  "orig_nbformat": 4
 },
 "nbformat": 4,
 "nbformat_minor": 2
}
