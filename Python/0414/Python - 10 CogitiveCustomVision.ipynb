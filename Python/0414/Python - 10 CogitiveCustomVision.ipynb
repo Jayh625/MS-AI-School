{
  "cells": [
    {
      "cell_type": "code",
      "execution_count": 1,
      "metadata": {
        "colab": {
          "base_uri": "https://localhost:8080/"
        },
        "id": "4llkdyYiY0yb",
        "outputId": "8b70a1eb-7f31-4c0f-e91e-27f12b4efeab"
      },
      "outputs": [
        {
          "name": "stdout",
          "output_type": "stream",
          "text": [
            "Looking in indexes: https://pypi.org/simple, https://us-python.pkg.dev/colab-wheels/public/simple/\n",
            "Requirement already satisfied: azure-cognitiveservices-vision-customvision in /usr/local/lib/python3.9/dist-packages (3.1.0)\n",
            "Requirement already satisfied: msrest>=0.5.0 in /usr/local/lib/python3.9/dist-packages (from azure-cognitiveservices-vision-customvision) (0.7.1)\n",
            "Requirement already satisfied: azure-common~=1.1 in /usr/local/lib/python3.9/dist-packages (from azure-cognitiveservices-vision-customvision) (1.1.28)\n",
            "Requirement already satisfied: isodate>=0.6.0 in /usr/local/lib/python3.9/dist-packages (from msrest>=0.5.0->azure-cognitiveservices-vision-customvision) (0.6.1)\n",
            "Requirement already satisfied: requests-oauthlib>=0.5.0 in /usr/local/lib/python3.9/dist-packages (from msrest>=0.5.0->azure-cognitiveservices-vision-customvision) (1.3.1)\n",
            "Requirement already satisfied: certifi>=2017.4.17 in /usr/local/lib/python3.9/dist-packages (from msrest>=0.5.0->azure-cognitiveservices-vision-customvision) (2022.12.7)\n",
            "Requirement already satisfied: azure-core>=1.24.0 in /usr/local/lib/python3.9/dist-packages (from msrest>=0.5.0->azure-cognitiveservices-vision-customvision) (1.26.4)\n",
            "Requirement already satisfied: requests~=2.16 in /usr/local/lib/python3.9/dist-packages (from msrest>=0.5.0->azure-cognitiveservices-vision-customvision) (2.27.1)\n",
            "Requirement already satisfied: typing-extensions>=4.3.0 in /usr/local/lib/python3.9/dist-packages (from azure-core>=1.24.0->msrest>=0.5.0->azure-cognitiveservices-vision-customvision) (4.5.0)\n",
            "Requirement already satisfied: six>=1.11.0 in /usr/local/lib/python3.9/dist-packages (from azure-core>=1.24.0->msrest>=0.5.0->azure-cognitiveservices-vision-customvision) (1.16.0)\n",
            "Requirement already satisfied: idna<4,>=2.5 in /usr/local/lib/python3.9/dist-packages (from requests~=2.16->msrest>=0.5.0->azure-cognitiveservices-vision-customvision) (3.4)\n",
            "Requirement already satisfied: urllib3<1.27,>=1.21.1 in /usr/local/lib/python3.9/dist-packages (from requests~=2.16->msrest>=0.5.0->azure-cognitiveservices-vision-customvision) (1.26.15)\n",
            "Requirement already satisfied: charset-normalizer~=2.0.0 in /usr/local/lib/python3.9/dist-packages (from requests~=2.16->msrest>=0.5.0->azure-cognitiveservices-vision-customvision) (2.0.12)\n",
            "Requirement already satisfied: oauthlib>=3.0.0 in /usr/local/lib/python3.9/dist-packages (from requests-oauthlib>=0.5.0->msrest>=0.5.0->azure-cognitiveservices-vision-customvision) (3.2.2)\n"
          ]
        }
      ],
      "source": [
        "pip install azure-cognitiveservices-vision-customvision"
      ]
    },
    {
      "cell_type": "code",
      "execution_count": 2,
      "metadata": {
        "id": "8aAtH0PNZpOc"
      },
      "outputs": [],
      "source": [
        "from azure.cognitiveservices.vision.customvision.training import CustomVisionTrainingClient\n",
        "from azure.cognitiveservices.vision.customvision.training.models import ImageFileCreateEntry\n",
        "from msrest.authentication import ApiKeyCredentials"
      ]
    },
    {
      "cell_type": "code",
      "execution_count": 3,
      "metadata": {
        "id": "cpxuLCsTbMLE"
      },
      "outputs": [],
      "source": [
        "endpoint = ''\n",
        "training_key = ''"
      ]
    },
    {
      "cell_type": "code",
      "execution_count": 4,
      "metadata": {
        "id": "9uTHk1ZScwTc"
      },
      "outputs": [],
      "source": [
        "publish_iteration_name = 'GreatWallModel_92'\n",
        "credentials = ApiKeyCredentials(in_headers={'Training-key': training_key})"
      ]
    },
    {
      "cell_type": "code",
      "execution_count": 5,
      "metadata": {
        "id": "SXniNYDndXP7"
      },
      "outputs": [],
      "source": [
        "trainer = CustomVisionTrainingClient(endpoint, credentials)"
      ]
    },
    {
      "cell_type": "code",
      "execution_count": 6,
      "metadata": {
        "colab": {
          "base_uri": "https://localhost:8080/"
        },
        "id": "Q4z6TIDtfbnT",
        "outputId": "9cd40221-e2bd-4e35-aa8c-8036875c2137"
      },
      "outputs": [
        {
          "name": "stdout",
          "output_type": "stream",
          "text": [
            "Creating project...\n"
          ]
        }
      ],
      "source": [
        "# Create a new project\n",
        "print(\"Creating project...\")\n",
        "project_name = 'GreatWall_92'\n",
        "project = trainer.create_project(project_name)"
      ]
    },
    {
      "cell_type": "code",
      "execution_count": 7,
      "metadata": {
        "id": "DrNC2CbFfp5W"
      },
      "outputs": [],
      "source": [
        "Black_Bean_Noodle_tag = trainer.create_tag(project.id, 'Black_Bean_Noodle')\n",
        "Spicy_Seafood_Noodle_Soup_tag = trainer.create_tag(project.id, 'Spicy_Seafood_Noodle_Soup')\n",
        "Sweet_and_Sour_Pork_tag = trainer.create_tag(project.id, 'Sweet_and_Sour_Pork')"
      ]
    },
    {
      "cell_type": "code",
      "execution_count": 8,
      "metadata": {
        "colab": {
          "base_uri": "https://localhost:8080/"
        },
        "id": "-l4UyOGLhwB-",
        "outputId": "5acb0501-e978-408a-8722-bf4244fc79ae"
      },
      "outputs": [
        {
          "name": "stdout",
          "output_type": "stream",
          "text": [
            "Training...\n",
            "Training status: Training\n",
            "Waiting 10 seconds...\n",
            "Training status: Training\n",
            "Waiting 10 seconds...\n",
            "Training status: Training\n",
            "Waiting 10 seconds...\n",
            "Training status: Training\n",
            "Waiting 10 seconds...\n",
            "Training status: Training\n",
            "Waiting 10 seconds...\n",
            "Training status: Training\n",
            "Waiting 10 seconds...\n",
            "Training status: Training\n",
            "Waiting 10 seconds...\n",
            "Training status: Training\n",
            "Waiting 10 seconds...\n",
            "Training status: Training\n",
            "Waiting 10 seconds...\n",
            "Training status: Training\n",
            "Waiting 10 seconds...\n",
            "Training status: Training\n",
            "Waiting 10 seconds...\n",
            "Training status: Training\n",
            "Waiting 10 seconds...\n",
            "Training status: Training\n",
            "Waiting 10 seconds...\n",
            "Training status: Training\n",
            "Waiting 10 seconds...\n",
            "Training status: Training\n",
            "Waiting 10 seconds...\n",
            "Training status: Training\n",
            "Waiting 10 seconds...\n",
            "Training status: Training\n",
            "Waiting 10 seconds...\n",
            "Training status: Training\n",
            "Waiting 10 seconds...\n",
            "Training status: Training\n",
            "Waiting 10 seconds...\n",
            "Training status: Training\n",
            "Waiting 10 seconds...\n",
            "Training status: Training\n",
            "Waiting 10 seconds...\n",
            "Training status: Training\n",
            "Waiting 10 seconds...\n",
            "Training status: Training\n",
            "Waiting 10 seconds...\n",
            "Training status: Training\n",
            "Waiting 10 seconds...\n",
            "Training status: Training\n",
            "Waiting 10 seconds...\n",
            "Training status: Training\n",
            "Waiting 10 seconds...\n",
            "Training status: Completed\n",
            "Waiting 10 seconds...\n"
          ]
        }
      ],
      "source": [
        "# 학습의 시작\n",
        "import time\n",
        "\n",
        "print('Training...')\n",
        "iteration = trainer.train_project(project.id)\n",
        "while (iteration.status != 'Completed'):\n",
        "  iteration = trainer.get_iteration(project.id, iteration.id)\n",
        "  print('Training status: ' + iteration.status)\n",
        "  print('Waiting 10 seconds...')\n",
        "  time.sleep(10)"
      ]
    },
    {
      "cell_type": "code",
      "execution_count": 13,
      "metadata": {
        "id": "8_bcCycdpS6a"
      },
      "outputs": [],
      "source": [
        "# 예측, 추론하는 부분\n",
        "from azure.cognitiveservices.vision.customvision.prediction import CustomVisionPredictionClient"
      ]
    },
    {
      "cell_type": "code",
      "execution_count": 14,
      "metadata": {
        "id": "HIWzbBwm1nSJ"
      },
      "outputs": [],
      "source": [
        "prediction_key = ''\n",
        "prediction_endpoint = ''\n",
        "prediction_credential = ApiKeyCredentials(in_headers={'Prediction-key': prediction_key})"
      ]
    },
    {
      "cell_type": "code",
      "execution_count": 17,
      "metadata": {
        "id": "Bl7IeRU33BB5"
      },
      "outputs": [],
      "source": [
        "# 예측 리소스의 생성 \n",
        "predictor = CustomVisionPredictionClient(prediction_endpoint, \n",
        "                                         prediction_credential)"
      ]
    },
    {
      "cell_type": "code",
      "execution_count": 18,
      "metadata": {
        "id": "SH4ChC2l3gdl"
      },
      "outputs": [],
      "source": [
        "target_image_url = 'https://encrypted-tbn0.gstatic.com/images?q=tbn:ANd9GcS0MbeleUFFbw_96LrF1x3PQlHCRJ19_PFi8Q&usqp=CAU'\n",
        "result = predictor.classify_image_url(project.id, \n",
        "                             'Iteration1', \n",
        "                             target_image_url)"
      ]
    },
    {
      "cell_type": "code",
      "execution_count": 19,
      "metadata": {
        "colab": {
          "base_uri": "https://localhost:8080/"
        },
        "id": "mvtvXpme4uet",
        "outputId": "2f91f08e-c4f1-4849-9ee8-678d095f602e"
      },
      "outputs": [
        {
          "name": "stdout",
          "output_type": "stream",
          "text": [
            "\tBlack_Bean_Noodle: 99.67%\n",
            "\tSpicy_Seafood_Noodle_Soup: 2.32%\n",
            "\tSweet_and_Sour_Pork: 0.00%\n"
          ]
        }
      ],
      "source": [
        "for prediction in result.predictions:\n",
        "  print('\\t' + prediction.tag_name + \n",
        "        ': {0:.2f}%'.format(prediction.probability * 100))"
      ]
    }
  ],
  "metadata": {
    "colab": {
      "provenance": []
    },
    "kernelspec": {
      "display_name": "Python 3",
      "name": "python3"
    },
    "language_info": {
      "name": "python"
    }
  },
  "nbformat": 4,
  "nbformat_minor": 0
}
