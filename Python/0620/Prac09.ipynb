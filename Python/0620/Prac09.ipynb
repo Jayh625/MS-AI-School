{
 "cells": [
  {
   "cell_type": "markdown",
   "id": "c1d5a653",
   "metadata": {},
   "source": [
    "## GTZAN Dataset image 프로세싱 - 비율 유지하고 리사이즈 작업 진행하기"
   ]
  },
  {
   "cell_type": "code",
   "execution_count": 1,
   "id": "f0904a9e",
   "metadata": {},
   "outputs": [],
   "source": [
    "from PIL import Image\n",
    "import os \n",
    "import glob"
   ]
  },
  {
   "cell_type": "code",
   "execution_count": 2,
   "id": "982295a7",
   "metadata": {},
   "outputs": [
    {
     "name": "stderr",
     "output_type": "stream",
     "text": [
      "C:\\Users\\Jay\\AppData\\Local\\Temp\\ipykernel_3004\\914914611.py:16: DeprecationWarning: ANTIALIAS is deprecated and will be removed in Pillow 10 (2023-07-01). Use LANCZOS or Resampling.LANCZOS instead.\n",
      "  img = img.resize((new_size[0], new_size[1]), Image.ANTIALIAS)\n"
     ]
    }
   ],
   "source": [
    "def expend2square(pil_image, background_color):\n",
    "    width, height = pil_image.size\n",
    "    if width == height:\n",
    "        return pil_image\n",
    "    elif width > height :\n",
    "        result = Image.new(pil_image.mode, (width, width), background_color)\n",
    "        result.paste(pil_image, (0, (width-height) // 2))\n",
    "        return result\n",
    "    else:\n",
    "        result = Image.new(pil_image.mode, (height, height), background_color)\n",
    "        result.paste(pil_image, ((height-width) // 2, 0))\n",
    "        return result \n",
    "    \n",
    "def resize_with_padding(pil_image, new_size, background_color):\n",
    "    img = expend2square(pil_image, background_color)\n",
    "    img = img.resize((new_size[0], new_size[1]), Image.ANTIALIAS)\n",
    "    return img\n",
    "\n",
    "img_path_list = glob.glob(os.path.join(\"./data/\", \"*.png\"))\n",
    "os.makedirs(\"./resized_imgs\", exist_ok=True)\n",
    "for i, img_path in enumerate(img_path_list):\n",
    "    img = Image.open(img_path)\n",
    "    img_new = resize_with_padding(img, (255,255), (0,0,0))\n",
    "    save_file_name = f\"./resized_imgs/{str(i).zfill(4)}_resize_img.png\"\n",
    "    img_new.save(save_file_name, \"png\")\n",
    "    "
   ]
  }
 ],
 "metadata": {
  "kernelspec": {
   "display_name": "AI",
   "language": "python",
   "name": "ai"
  },
  "language_info": {
   "codemirror_mode": {
    "name": "ipython",
    "version": 3
   },
   "file_extension": ".py",
   "mimetype": "text/x-python",
   "name": "python",
   "nbconvert_exporter": "python",
   "pygments_lexer": "ipython3",
   "version": "3.8.16"
  }
 },
 "nbformat": 4,
 "nbformat_minor": 5
}
