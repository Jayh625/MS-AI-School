{
 "cells": [
  {
   "cell_type": "markdown",
   "id": "d3a275e0",
   "metadata": {},
   "source": [
    "## 단일 객체 저장 및 불러오기"
   ]
  },
  {
   "cell_type": "code",
   "execution_count": 1,
   "id": "7fbbba53",
   "metadata": {},
   "outputs": [],
   "source": [
    "import numpy as np\n",
    "import os"
   ]
  },
  {
   "cell_type": "code",
   "execution_count": 2,
   "id": "a95a3dcb",
   "metadata": {},
   "outputs": [
    {
     "name": "stdout",
     "output_type": "stream",
     "text": [
      "[1 2 3 4 5 6 7 8 9]\n"
     ]
    }
   ],
   "source": [
    "# 단일 객체 생성\n",
    "array = np.arange(1,10)\n",
    "print(array)"
   ]
  },
  {
   "cell_type": "markdown",
   "id": "c5053dc4",
   "metadata": {},
   "source": [
    "### numpy 형태로 저장"
   ]
  },
  {
   "cell_type": "code",
   "execution_count": 3,
   "id": "699b40b3",
   "metadata": {},
   "outputs": [],
   "source": [
    "os.makedirs('./data', exist_ok=True)\n",
    "np.save('./data/save.npy', array)"
   ]
  },
  {
   "cell_type": "markdown",
   "id": "5a435bdd",
   "metadata": {},
   "source": [
    "### numpy 데이터 불러오기"
   ]
  },
  {
   "cell_type": "code",
   "execution_count": 4,
   "id": "2f685643",
   "metadata": {},
   "outputs": [
    {
     "name": "stdout",
     "output_type": "stream",
     "text": [
      "[1 2 3 4 5 6 7 8 9]\n"
     ]
    }
   ],
   "source": [
    "result = np.load(\"./data/save.npy\")\n",
    "print(result)"
   ]
  },
  {
   "cell_type": "markdown",
   "id": "74b12c2d",
   "metadata": {},
   "source": [
    "### 복수 객체 저장 및 불러오기"
   ]
  },
  {
   "cell_type": "code",
   "execution_count": 5,
   "id": "d6531eb3",
   "metadata": {},
   "outputs": [],
   "source": [
    "# 복수 객체 생성\n",
    "array01 = np.arange(0,10)\n",
    "array02 = np.arange(10,20)\n",
    "array03 = np.arange(20,30)"
   ]
  },
  {
   "cell_type": "markdown",
   "id": "8cf5a7fe",
   "metadata": {},
   "source": [
    "#### numpy 저장"
   ]
  },
  {
   "cell_type": "code",
   "execution_count": 6,
   "id": "e9717615",
   "metadata": {},
   "outputs": [],
   "source": [
    "np.savez('./data/mul_save.npz', array1=array01, array2=array02, array3=array03)"
   ]
  },
  {
   "cell_type": "markdown",
   "id": "c146d980",
   "metadata": {},
   "source": [
    "#### numpy 불러오기"
   ]
  },
  {
   "cell_type": "code",
   "execution_count": 7,
   "id": "9df0cb2d",
   "metadata": {},
   "outputs": [
    {
     "name": "stdout",
     "output_type": "stream",
     "text": [
      "[0 1 2 3 4 5 6 7 8 9]\n",
      "[10 11 12 13 14 15 16 17 18 19]\n",
      "[20 21 22 23 24 25 26 27 28 29]\n"
     ]
    }
   ],
   "source": [
    "data = np.load('./data/mul_save.npz')\n",
    "result01 = data['array1']\n",
    "result02 = data['array2']\n",
    "result03 = data['array3']\n",
    "print(result01)\n",
    "print(result02)\n",
    "print(result03)"
   ]
  }
 ],
 "metadata": {
  "kernelspec": {
   "display_name": "AI",
   "language": "python",
   "name": "ai"
  },
  "language_info": {
   "codemirror_mode": {
    "name": "ipython",
    "version": 3
   },
   "file_extension": ".py",
   "mimetype": "text/x-python",
   "name": "python",
   "nbconvert_exporter": "python",
   "pygments_lexer": "ipython3",
   "version": "3.8.16"
  }
 },
 "nbformat": 4,
 "nbformat_minor": 5
}
