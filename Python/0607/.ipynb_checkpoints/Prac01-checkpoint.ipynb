{
 "cells": [
  {
   "cell_type": "markdown",
   "id": "e1fb6645",
   "metadata": {},
   "source": [
    "## 날짜 데이터를 여러 특성으로 분할\n",
    "- 날짜와 시간의 열로부터 년 월 일 시 분에 해당하는 특성을 만들기 "
   ]
  },
  {
   "cell_type": "code",
   "execution_count": 1,
   "id": "c33c5c7d",
   "metadata": {},
   "outputs": [],
   "source": [
    "import pandas as pd\n",
    "import numpy as np"
   ]
  },
  {
   "cell_type": "code",
   "execution_count": 2,
   "id": "e623e5d3",
   "metadata": {},
   "outputs": [
    {
     "name": "stdout",
     "output_type": "stream",
     "text": [
      "        date\n",
      "0 2023-01-31\n",
      "1 2023-02-28\n",
      "2 2023-03-31\n",
      "3 2023-04-30\n",
      "4 2023-05-31\n",
      "5 2023-06-30\n",
      "6 2023-07-31\n",
      "7 2023-08-31\n",
      "8 2023-09-30\n",
      "9 2023-10-31\n"
     ]
    }
   ],
   "source": [
    "dateframe = pd.DataFrame()\n",
    "\n",
    "# 5개의 날짜 만들기 \n",
    "dateframe['date'] = pd.date_range('1/1/2023', periods=10, freq='M')\n",
    "print(dateframe)"
   ]
  },
  {
   "cell_type": "markdown",
   "id": "115ef48d",
   "metadata": {},
   "source": [
    "### 년 월 일 시 분에 대한 특성 만들기"
   ]
  },
  {
   "cell_type": "code",
   "execution_count": 3,
   "id": "0163af2d",
   "metadata": {},
   "outputs": [
    {
     "name": "stdout",
     "output_type": "stream",
     "text": [
      "        date  year  month  day  hour  minute\n",
      "0 2023-01-31  2023      1   31     0       0\n",
      "1 2023-02-28  2023      2   28     0       0\n",
      "2 2023-03-31  2023      3   31     0       0\n",
      "3 2023-04-30  2023      4   30     0       0\n",
      "4 2023-05-31  2023      5   31     0       0\n",
      "5 2023-06-30  2023      6   30     0       0\n",
      "6 2023-07-31  2023      7   31     0       0\n",
      "7 2023-08-31  2023      8   31     0       0\n",
      "8 2023-09-30  2023      9   30     0       0\n",
      "9 2023-10-31  2023     10   31     0       0\n"
     ]
    }
   ],
   "source": [
    "dateframe['year'] = dateframe['date'].dt.year\n",
    "dateframe['month'] = dateframe['date'].dt.month\n",
    "dateframe['day'] = dateframe['date'].dt.day\n",
    "dateframe['hour'] = dateframe['date'].dt.hour\n",
    "dateframe['minute'] = dateframe['date'].dt.minute\n",
    "print(dateframe)"
   ]
  },
  {
   "cell_type": "markdown",
   "id": "a658eccf",
   "metadata": {},
   "source": [
    "### 날짜 간의 차이 계산\n",
    "- 판다스의 Timestamp 데이터 타입을 사용하면 두 지점 사이의 시간 변화를 기록한 특성을 계산"
   ]
  },
  {
   "cell_type": "code",
   "execution_count": 4,
   "id": "34e8cc27",
   "metadata": {},
   "outputs": [
    {
     "name": "stdout",
     "output_type": "stream",
     "text": [
      "     Arrived       Left\n",
      "0 2023-01-01 2023-01-01\n",
      "1 2023-01-04 2023-01-06\n"
     ]
    }
   ],
   "source": [
    "date_frame = pd.DataFrame()\n",
    "date_frame['Arrived'] = [pd.Timestamp('01-01-2023'), pd.Timestamp('01-04-2023')]\n",
    "date_frame['Left'] = [pd.Timestamp('01-01-2023'), pd.Timestamp('01-06-2023')]\n",
    "print(date_frame)"
   ]
  },
  {
   "cell_type": "code",
   "execution_count": 5,
   "id": "7b8eaf1d",
   "metadata": {},
   "outputs": [
    {
     "data": {
      "text/plain": [
       "0    0\n",
       "1    2\n",
       "dtype: int64"
      ]
     },
     "execution_count": 5,
     "metadata": {},
     "output_type": "execute_result"
    }
   ],
   "source": [
    "# 특성 사이의 차이를 계산\n",
    "date_frame['Left'] - date_frame['Arrived']\n",
    "pd.Series(delta.days for delta in (date_frame['Left'] - date_frame['Arrived']))"
   ]
  },
  {
   "cell_type": "markdown",
   "id": "1172df5b",
   "metadata": {},
   "source": [
    "### 시차 특성\n",
    "- 판다스의 Shift를 사용하여 n기간만큼 차이가 나는 시차 특성을 만들기"
   ]
  },
  {
   "cell_type": "code",
   "execution_count": 6,
   "id": "077fefb6",
   "metadata": {},
   "outputs": [
    {
     "name": "stdout",
     "output_type": "stream",
     "text": [
      "       dates  stock_price  previous_days_stock_price\n",
      "0 2023-01-01          1.1                        NaN\n",
      "1 2023-01-02          2.2                        NaN\n",
      "2 2023-01-03          3.3                        NaN\n",
      "3 2023-01-04          4.4                        1.1\n",
      "4 2023-01-05          5.5                        2.2\n"
     ]
    }
   ],
   "source": [
    "date_frame_temp = pd.DataFrame()\n",
    "\n",
    "# 날짜 데이터 생성\n",
    "date_frame_temp['dates'] = pd.date_range('1/1/2023', periods=5, freq='D')\n",
    "date_frame_temp['stock_price'] = [1.1, 2.2, 3.3, 4.4, 5.5]\n",
    "date_frame_temp['previous_days_stock_price'] = date_frame_temp['stock_price'].shift(3)\n",
    "print(date_frame_temp)"
   ]
  },
  {
   "cell_type": "markdown",
   "id": "ee03d47e",
   "metadata": {},
   "source": [
    "### 이동 시간 윈도 사용"
   ]
  },
  {
   "cell_type": "code",
   "execution_count": 7,
   "id": "32e97c78",
   "metadata": {},
   "outputs": [
    {
     "name": "stdout",
     "output_type": "stream",
     "text": [
      "            Stock_price\n",
      "2023-01-31            1\n",
      "2023-02-28            2\n",
      "2023-03-31            3\n",
      "2023-04-30            4\n",
      "2023-05-31            5\n"
     ]
    }
   ],
   "source": [
    "time_index = pd.date_range('01/01/2023', periods=5, freq='M')\n",
    "date_frame01 = pd.DataFrame(index=time_index)\n",
    "date_frame01['Stock_price'] = [1,2,3,4,5]\n",
    "print(date_frame01)"
   ]
  },
  {
   "cell_type": "code",
   "execution_count": 8,
   "id": "033b4a75",
   "metadata": {},
   "outputs": [
    {
     "name": "stdout",
     "output_type": "stream",
     "text": [
      "            Stock_price\n",
      "2023-01-31            1\n",
      "2023-02-28            2\n",
      "2023-03-31            3\n",
      "2023-04-30            4\n",
      "2023-05-31            5\n"
     ]
    }
   ],
   "source": [
    "# 이동 평균 계산\n",
    "date_frame01.rolling(window=4).mean()\n",
    "date_frame01.ewm(alpha=0.5).mean()\n",
    "print(date_frame01)"
   ]
  },
  {
   "cell_type": "markdown",
   "id": "2fcea663",
   "metadata": {},
   "source": [
    "### 시계열 데이터에서 누락된 값 처리"
   ]
  },
  {
   "cell_type": "code",
   "execution_count": 9,
   "id": "53baaa49",
   "metadata": {},
   "outputs": [
    {
     "name": "stdout",
     "output_type": "stream",
     "text": [
      "Empty DataFrame\n",
      "Columns: []\n",
      "Index: [2023-01-31 00:00:00, 2023-02-28 00:00:00, 2023-03-31 00:00:00, 2023-04-30 00:00:00, 2023-05-31 00:00:00]\n"
     ]
    }
   ],
   "source": [
    "time_index = pd.date_range('01/01/2023', periods=5, freq='M')\n",
    "date_frame02 = pd.DataFrame(index=time_index)\n",
    "print(date_frame02)"
   ]
  },
  {
   "cell_type": "code",
   "execution_count": 10,
   "id": "fad0028b",
   "metadata": {},
   "outputs": [
    {
     "name": "stdout",
     "output_type": "stream",
     "text": [
      "            Sales\n",
      "2023-01-31    1.0\n",
      "2023-02-28    2.0\n",
      "2023-03-31    4.0\n",
      "2023-04-30    NaN\n",
      "2023-05-31    8.0\n",
      "            Sales\n",
      "2023-01-31    1.0\n",
      "2023-02-28    2.0\n",
      "2023-03-31    NaN\n",
      "2023-04-30    6.0\n",
      "2023-05-31    8.0\n"
     ]
    }
   ],
   "source": [
    "date_frame02['Sales'] = [1.0, 2.0, np.nan, np.nan, 8.0] # 누락값 있는 특성 생성\n",
    "date_frame02.interpolate() # 누락된 값 보간 \n",
    "date_frame02.ffill() # 압쪽으로 채우기\n",
    "date_frame02.bfill() # 뒤쪽으로 채우기\n",
    "date_frame02.interpolate(method='quadratic') # 비선형의 경우 보간 방법\n",
    "print(date_frame02.interpolate(limit=1, limit_direction='forward'))\n",
    "print(date_frame02.interpolate(limit=1, limit_direction='backward'))"
   ]
  }
 ],
 "metadata": {
  "kernelspec": {
   "display_name": "AI",
   "language": "python",
   "name": "ai"
  },
  "language_info": {
   "codemirror_mode": {
    "name": "ipython",
    "version": 3
   },
   "file_extension": ".py",
   "mimetype": "text/x-python",
   "name": "python",
   "nbconvert_exporter": "python",
   "pygments_lexer": "ipython3",
   "version": "3.8.16"
  }
 },
 "nbformat": 4,
 "nbformat_minor": 5
}
