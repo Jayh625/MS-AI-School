{
 "cells": [
  {
   "cell_type": "markdown",
   "id": "84be3749",
   "metadata": {},
   "source": [
    "## Numpy를 사용하여 이미지 저장 시 효율 비교"
   ]
  },
  {
   "cell_type": "code",
   "execution_count": 1,
   "id": "edd71b5d",
   "metadata": {},
   "outputs": [],
   "source": [
    "import pandas as np\n",
    "import numpy as np\n",
    "import matplotlib.pyplot as plt\n",
    "from PIL import Image\n",
    "import os"
   ]
  },
  {
   "cell_type": "code",
   "execution_count": 2,
   "id": "9adc4bcb",
   "metadata": {},
   "outputs": [
    {
     "name": "stdout",
     "output_type": "stream",
     "text": [
      "<PIL.Image.Image image mode=L size=310x162 at 0x236A30BF490>\n"
     ]
    }
   ],
   "source": [
    "# 이미지 불러오기\n",
    "img = Image.open('./data/cat.png').convert('L') # 그레이 스케일 변환\n",
    "print(img)"
   ]
  },
  {
   "cell_type": "code",
   "execution_count": 3,
   "id": "04ec92ab",
   "metadata": {},
   "outputs": [
    {
     "name": "stdout",
     "output_type": "stream",
     "text": [
      "[[222 222 222 ... 169 169 169]\n",
      " [223 223 223 ... 168 168 168]\n",
      " [223 223 223 ... 165 165 165]\n",
      " ...\n",
      " [219 219 222 ... 235 234 234]\n",
      " [221 222 224 ... 236 236 235]\n",
      " [221 222 224 ... 236 236 235]]\n"
     ]
    }
   ],
   "source": [
    "img_array = np.array(img)\n",
    "print(img_array)"
   ]
  },
  {
   "cell_type": "code",
   "execution_count": 4,
   "id": "ffa82a36",
   "metadata": {},
   "outputs": [],
   "source": [
    "np.save('./data/pil_image.npy', img_array)"
   ]
  },
  {
   "cell_type": "code",
   "execution_count": 5,
   "id": "7c2a5b67",
   "metadata": {},
   "outputs": [
    {
     "name": "stdout",
     "output_type": "stream",
     "text": [
      "[[222 222 222 ... 169 169 169]\n",
      " [223 223 223 ... 168 168 168]\n",
      " [223 223 223 ... 165 165 165]\n",
      " ...\n",
      " [219 219 222 ... 235 234 234]\n",
      " [221 222 224 ... 236 236 235]\n",
      " [221 222 224 ... 236 236 235]]\n"
     ]
    }
   ],
   "source": [
    "img_array1 = np.load('./data/pil_image.npy')\n",
    "print(img_array1)"
   ]
  },
  {
   "cell_type": "code",
   "execution_count": 6,
   "id": "407131e8",
   "metadata": {},
   "outputs": [],
   "source": [
    "# 다시 PIL 이미지로 변환\n",
    "img = Image.fromarray(np.uint8(img_array1))\n",
    "img.save('./data/image_numpy.png')"
   ]
  },
  {
   "cell_type": "code",
   "execution_count": 7,
   "id": "1c1539dc",
   "metadata": {},
   "outputs": [
    {
     "name": "stdout",
     "output_type": "stream",
     "text": [
      "50348 26813\n"
     ]
    }
   ],
   "source": [
    "np_save_size = os.path.getsize('./data/pil_image.npy')\n",
    "pil_save_size = os.path.getsize('./data/image_numpy.png')\n",
    "print(np_save_size, pil_save_size)"
   ]
  }
 ],
 "metadata": {
  "kernelspec": {
   "display_name": "AI",
   "language": "python",
   "name": "ai"
  },
  "language_info": {
   "codemirror_mode": {
    "name": "ipython",
    "version": 3
   },
   "file_extension": ".py",
   "mimetype": "text/x-python",
   "name": "python",
   "nbconvert_exporter": "python",
   "pygments_lexer": "ipython3",
   "version": "3.8.16"
  }
 },
 "nbformat": 4,
 "nbformat_minor": 5
}
