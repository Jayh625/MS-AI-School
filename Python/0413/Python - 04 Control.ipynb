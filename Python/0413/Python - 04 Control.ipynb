{
  "nbformat": 4,
  "nbformat_minor": 0,
  "metadata": {
    "colab": {
      "provenance": []
    },
    "kernelspec": {
      "name": "python3",
      "display_name": "Python 3"
    },
    "language_info": {
      "name": "python"
    }
  },
  "cells": [
    {
      "cell_type": "code",
      "execution_count": 1,
      "metadata": {
        "id": "TP8Co3F0kDcC",
        "colab": {
          "base_uri": "https://localhost:8080/"
        },
        "outputId": "37bedcf9-c7e9-4142-f436-2b38c83aa200"
      },
      "outputs": [
        {
          "output_type": "stream",
          "name": "stdout",
          "text": [
            "value is bigger than 5\n"
          ]
        }
      ],
      "source": [
        "# 조건에 따라서 다른 결과를 얻기 위해서 사용하는 것\n",
        "value = 10\n",
        "if value > 5 :\n",
        "  print(\"value is bigger than 5\")"
      ]
    },
    {
      "cell_type": "code",
      "source": [
        "money = 10 \n",
        "if money > 100:\n",
        "  item = 'apple'\n",
        "else:\n",
        "  item = 'banana'\n",
        "\n",
        "print(item)"
      ],
      "metadata": {
        "colab": {
          "base_uri": "https://localhost:8080/"
        },
        "id": "pc1AAmMRkhn4",
        "outputId": "af27c0b1-0f42-4d61-a4e6-322cce28a93d"
      },
      "execution_count": 2,
      "outputs": [
        {
          "output_type": "stream",
          "name": "stdout",
          "text": [
            "banana\n"
          ]
        }
      ]
    },
    {
      "cell_type": "code",
      "source": [
        "score = int(input('Input your scroe : '))\n",
        "if 90 <= score <= 100:\n",
        "  grade = 'A'\n",
        "elif 80 <= score < 90:\n",
        "  grade = 'B'\n",
        "elif 70 <= score < 80:\n",
        "  grade = 'C'\n",
        "elif 60 <= score < 70:\n",
        "  grade = 'D'\n",
        "else: \n",
        "  grade = 'F'\n",
        "print(\"Your score is \" + str(score) + \"\\nYour grade is \"+ grade)"
      ],
      "metadata": {
        "colab": {
          "base_uri": "https://localhost:8080/"
        },
        "id": "tuZs8NiilM8q",
        "outputId": "e616b561-9a64-4cf3-80b8-5077f85ddb2a"
      },
      "execution_count": 3,
      "outputs": [
        {
          "output_type": "stream",
          "name": "stdout",
          "text": [
            "Input your scroe : 100\n",
            "Your score is 100\n",
            "Your grade is A\n"
          ]
        }
      ]
    },
    {
      "cell_type": "code",
      "source": [
        "# 조건식의 참과 거짓\n",
        "print(bool(True))\n",
        "print(bool(False))\n",
        "print(bool(123))\n",
        "print(bool(0))\n",
        "print(bool(-1))\n",
        "print(bool('apple'))\n",
        "print(bool(''))\n",
        "print(bool())"
      ],
      "metadata": {
        "colab": {
          "base_uri": "https://localhost:8080/"
        },
        "id": "cpI1gKrblS08",
        "outputId": "f3ce4952-8f7b-4bf1-d2c4-11123724bc6d"
      },
      "execution_count": 4,
      "outputs": [
        {
          "output_type": "stream",
          "name": "stdout",
          "text": [
            "True\n",
            "False\n",
            "True\n",
            "False\n",
            "True\n",
            "True\n",
            "False\n",
            "False\n"
          ]
        }
      ]
    },
    {
      "cell_type": "code",
      "source": [
        "# 반복문(while)\n",
        "value = 5\n",
        "while value > 0:\n",
        "  print(value)\n",
        "  value -= 1\n"
      ],
      "metadata": {
        "colab": {
          "base_uri": "https://localhost:8080/"
        },
        "id": "u4gLrFxdnGeb",
        "outputId": "d6e38287-5250-40e7-c477-f25bcda74d2e"
      },
      "execution_count": 5,
      "outputs": [
        {
          "output_type": "stream",
          "name": "stdout",
          "text": [
            "5\n",
            "4\n",
            "3\n",
            "2\n",
            "1\n"
          ]
        }
      ]
    },
    {
      "cell_type": "code",
      "source": [
        "# 반복문(for)\n",
        "l = ['Apple', 100, 15.23]\n",
        "for i in l:\n",
        "  print(i)"
      ],
      "metadata": {
        "colab": {
          "base_uri": "https://localhost:8080/"
        },
        "id": "GSrF1tBYoFtc",
        "outputId": "4b57a57d-5331-4478-9378-c4db51e3ed10"
      },
      "execution_count": 6,
      "outputs": [
        {
          "output_type": "stream",
          "name": "stdout",
          "text": [
            "Apple\n",
            "100\n",
            "15.23\n"
          ]
        }
      ]
    },
    {
      "cell_type": "code",
      "source": [
        "loop1 = [2,3,4,5,6,7,8,9]\n",
        "loop2 = [1,2,3,4,5,6,7,8,9]\n",
        "for i in loop2:\n",
        "  print((\"2 * {} = {}\").format(i,i*2))\n",
        "  # print(\"2 * \" + str(i) + \" = \" + str(2*i))"
      ],
      "metadata": {
        "colab": {
          "base_uri": "https://localhost:8080/"
        },
        "id": "nR7Qk66Hoc9I",
        "outputId": "055abf27-4e2c-456c-eba0-1284a1969726"
      },
      "execution_count": 7,
      "outputs": [
        {
          "output_type": "stream",
          "name": "stdout",
          "text": [
            "2 * 1 = 2\n",
            "2 * 2 = 4\n",
            "2 * 3 = 6\n",
            "2 * 4 = 8\n",
            "2 * 5 = 10\n",
            "2 * 6 = 12\n",
            "2 * 7 = 14\n",
            "2 * 8 = 16\n",
            "2 * 9 = 18\n"
          ]
        }
      ]
    },
    {
      "cell_type": "code",
      "source": [
        "for i in loop1:\n",
        "  print(\"--{0}단 시작--\".format(i))\n",
        "  for j in loop2:\n",
        "    print((\"{0} * {1} = {2}\").format(i,j,i*j))  \n",
        "  "
      ],
      "metadata": {
        "colab": {
          "base_uri": "https://localhost:8080/"
        },
        "id": "Br-fwA7mpMe9",
        "outputId": "a58040b0-f37f-4a9b-d909-c4fc8d3a142d"
      },
      "execution_count": 8,
      "outputs": [
        {
          "output_type": "stream",
          "name": "stdout",
          "text": [
            "--2단 시작--\n",
            "2 * 1 = 2\n",
            "2 * 2 = 4\n",
            "2 * 3 = 6\n",
            "2 * 4 = 8\n",
            "2 * 5 = 10\n",
            "2 * 6 = 12\n",
            "2 * 7 = 14\n",
            "2 * 8 = 16\n",
            "2 * 9 = 18\n",
            "--3단 시작--\n",
            "3 * 1 = 3\n",
            "3 * 2 = 6\n",
            "3 * 3 = 9\n",
            "3 * 4 = 12\n",
            "3 * 5 = 15\n",
            "3 * 6 = 18\n",
            "3 * 7 = 21\n",
            "3 * 8 = 24\n",
            "3 * 9 = 27\n",
            "--4단 시작--\n",
            "4 * 1 = 4\n",
            "4 * 2 = 8\n",
            "4 * 3 = 12\n",
            "4 * 4 = 16\n",
            "4 * 5 = 20\n",
            "4 * 6 = 24\n",
            "4 * 7 = 28\n",
            "4 * 8 = 32\n",
            "4 * 9 = 36\n",
            "--5단 시작--\n",
            "5 * 1 = 5\n",
            "5 * 2 = 10\n",
            "5 * 3 = 15\n",
            "5 * 4 = 20\n",
            "5 * 5 = 25\n",
            "5 * 6 = 30\n",
            "5 * 7 = 35\n",
            "5 * 8 = 40\n",
            "5 * 9 = 45\n",
            "--6단 시작--\n",
            "6 * 1 = 6\n",
            "6 * 2 = 12\n",
            "6 * 3 = 18\n",
            "6 * 4 = 24\n",
            "6 * 5 = 30\n",
            "6 * 6 = 36\n",
            "6 * 7 = 42\n",
            "6 * 8 = 48\n",
            "6 * 9 = 54\n",
            "--7단 시작--\n",
            "7 * 1 = 7\n",
            "7 * 2 = 14\n",
            "7 * 3 = 21\n",
            "7 * 4 = 28\n",
            "7 * 5 = 35\n",
            "7 * 6 = 42\n",
            "7 * 7 = 49\n",
            "7 * 8 = 56\n",
            "7 * 9 = 63\n",
            "--8단 시작--\n",
            "8 * 1 = 8\n",
            "8 * 2 = 16\n",
            "8 * 3 = 24\n",
            "8 * 4 = 32\n",
            "8 * 5 = 40\n",
            "8 * 6 = 48\n",
            "8 * 7 = 56\n",
            "8 * 8 = 64\n",
            "8 * 9 = 72\n",
            "--9단 시작--\n",
            "9 * 1 = 9\n",
            "9 * 2 = 18\n",
            "9 * 3 = 27\n",
            "9 * 4 = 36\n",
            "9 * 5 = 45\n",
            "9 * 6 = 54\n",
            "9 * 7 = 63\n",
            "9 * 8 = 72\n",
            "9 * 9 = 81\n"
          ]
        }
      ]
    },
    {
      "cell_type": "code",
      "source": [
        "L = [1,2,3,4,5,6,7,8,9,10]"
      ],
      "metadata": {
        "id": "wu96s_cEpxrr"
      },
      "execution_count": 9,
      "outputs": []
    },
    {
      "cell_type": "code",
      "source": [
        "for i in L:\n",
        "  print('Item : {0}'.format(i))"
      ],
      "metadata": {
        "colab": {
          "base_uri": "https://localhost:8080/"
        },
        "id": "oXkcufUb9lmz",
        "outputId": "e6ce6810-8011-4b36-f98f-750fab74ba84"
      },
      "execution_count": 10,
      "outputs": [
        {
          "output_type": "stream",
          "name": "stdout",
          "text": [
            "Item : 1\n",
            "Item : 2\n",
            "Item : 3\n",
            "Item : 4\n",
            "Item : 5\n",
            "Item : 6\n",
            "Item : 7\n",
            "Item : 8\n",
            "Item : 9\n",
            "Item : 10\n"
          ]
        }
      ]
    },
    {
      "cell_type": "code",
      "source": [
        "# break문을 사용하면 반복문을 중간에 멈출 수 있습니다\n",
        "for i in L :\n",
        "  if i>5:\n",
        "    break\n",
        "  print('Item : {0}'.format(i))"
      ],
      "metadata": {
        "colab": {
          "base_uri": "https://localhost:8080/"
        },
        "id": "WpritR4D9sEm",
        "outputId": "3b664ad6-92d5-4263-9a10-45071c33b9fc"
      },
      "execution_count": 11,
      "outputs": [
        {
          "output_type": "stream",
          "name": "stdout",
          "text": [
            "Item : 1\n",
            "Item : 2\n",
            "Item : 3\n",
            "Item : 4\n",
            "Item : 5\n"
          ]
        }
      ]
    },
    {
      "cell_type": "code",
      "source": [
        "# continue문을 사용하면 해당 반복만 건너뛴다\n",
        "for i in L:\n",
        "  if i%2 == 0:\n",
        "    continue\n",
        "  print(\"Item : {0}\".format(i))"
      ],
      "metadata": {
        "colab": {
          "base_uri": "https://localhost:8080/"
        },
        "id": "wobotbj3-Ok7",
        "outputId": "d3752f2f-1e0c-46e3-fe35-58a6e2d595cb"
      },
      "execution_count": 12,
      "outputs": [
        {
          "output_type": "stream",
          "name": "stdout",
          "text": [
            "Item : 1\n",
            "Item : 3\n",
            "Item : 5\n",
            "Item : 7\n",
            "Item : 9\n"
          ]
        }
      ]
    },
    {
      "cell_type": "code",
      "source": [
        "# range 함수를 사용하면 특정 범위의 숫자를 생성할 수 있다 \n",
        "print(list(range(10)))\n",
        "print(list(range(5,10)))\n",
        "print(list(range(10,0,-1)))\n",
        "print(list(range(0,10,2)))\n",
        "print(list(range(1,10,2)))"
      ],
      "metadata": {
        "colab": {
          "base_uri": "https://localhost:8080/"
        },
        "id": "xLTW1zse--FJ",
        "outputId": "68a58d94-eaf7-4572-a870-ced857e48b35"
      },
      "execution_count": 13,
      "outputs": [
        {
          "output_type": "stream",
          "name": "stdout",
          "text": [
            "[0, 1, 2, 3, 4, 5, 6, 7, 8, 9]\n",
            "[5, 6, 7, 8, 9]\n",
            "[10, 9, 8, 7, 6, 5, 4, 3, 2, 1]\n",
            "[0, 2, 4, 6, 8]\n",
            "[1, 3, 5, 7, 9]\n"
          ]
        }
      ]
    },
    {
      "cell_type": "code",
      "source": [
        "L = ['Apple','Orange','Banana']\n",
        "for i in L:\n",
        "  print(i)"
      ],
      "metadata": {
        "colab": {
          "base_uri": "https://localhost:8080/"
        },
        "id": "zSxgdZoa_cY3",
        "outputId": "a31bda8f-ab63-4352-f4c0-f8703a510ef2"
      },
      "execution_count": 14,
      "outputs": [
        {
          "output_type": "stream",
          "name": "stdout",
          "text": [
            "Apple\n",
            "Orange\n",
            "Banana\n"
          ]
        }
      ]
    },
    {
      "cell_type": "code",
      "source": [
        "l = list(range(1,6))"
      ],
      "metadata": {
        "id": "PRIGUB1MAg9b"
      },
      "execution_count": 15,
      "outputs": []
    },
    {
      "cell_type": "code",
      "source": [
        "# list comprehension\n",
        "[i**2 for i in l]"
      ],
      "metadata": {
        "colab": {
          "base_uri": "https://localhost:8080/"
        },
        "id": "bPLnpbmbAwsc",
        "outputId": "2606047b-3c39-47e3-b5d3-83650d8f25ce"
      },
      "execution_count": 16,
      "outputs": [
        {
          "output_type": "execute_result",
          "data": {
            "text/plain": [
              "[1, 4, 9, 16, 25]"
            ]
          },
          "metadata": {},
          "execution_count": 16
        }
      ]
    }
  ]
}