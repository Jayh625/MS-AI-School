{
  "nbformat": 4,
  "nbformat_minor": 0,
  "metadata": {
    "colab": {
      "provenance": []
    },
    "kernelspec": {
      "name": "python3",
      "display_name": "Python 3"
    },
    "language_info": {
      "name": "python"
    }
  },
  "cells": [
    {
      "cell_type": "code",
      "execution_count": 1,
      "metadata": {
        "id": "8T-nintSFvaI"
      },
      "outputs": [],
      "source": [
        "# Class의  사용법\n",
        "class MyClass:\n",
        "  pass"
      ]
    },
    {
      "cell_type": "code",
      "source": [
        "print(MyClass)\n",
        "print(id(MyClass))"
      ],
      "metadata": {
        "colab": {
          "base_uri": "https://localhost:8080/"
        },
        "id": "oRjaYbSfGyxc",
        "outputId": "96779137-b235-4fd7-ffc9-be830a5c6b35"
      },
      "execution_count": 2,
      "outputs": [
        {
          "output_type": "stream",
          "name": "stdout",
          "text": [
            "<class '__main__.MyClass'>\n",
            "53526160\n"
          ]
        }
      ]
    },
    {
      "cell_type": "code",
      "source": [
        "class Person :\n",
        "  Name = 'Default Name'\n",
        "  def Print(self):\n",
        "    print(\"My Name is {0}\".format(self.Name))"
      ],
      "metadata": {
        "id": "m9Q1D9mHG3QT"
      },
      "execution_count": 3,
      "outputs": []
    },
    {
      "cell_type": "code",
      "source": [
        "p1 = Person()"
      ],
      "metadata": {
        "id": "jTD3EOKvLg-Q"
      },
      "execution_count": 4,
      "outputs": []
    },
    {
      "cell_type": "code",
      "source": [
        "p1.Name = '윤하'\n",
        "p1.Print()"
      ],
      "metadata": {
        "colab": {
          "base_uri": "https://localhost:8080/"
        },
        "id": "WfRkCAepMf39",
        "outputId": "d622b40f-d9ba-4c4f-fc47-e3b897321183"
      },
      "execution_count": 5,
      "outputs": [
        {
          "output_type": "stream",
          "name": "stdout",
          "text": [
            "My Name is 윤하\n"
          ]
        }
      ]
    },
    {
      "cell_type": "code",
      "source": [
        "p1 = Person()\n",
        "p2 = Person()"
      ],
      "metadata": {
        "id": "C8Sk6-NMMjIs"
      },
      "execution_count": 6,
      "outputs": []
    },
    {
      "cell_type": "code",
      "source": [
        "p1.Name = '윤하'\n",
        "p2.Name = '아이유'\n",
        "p1.Print()\n",
        "p2.Print()"
      ],
      "metadata": {
        "colab": {
          "base_uri": "https://localhost:8080/"
        },
        "id": "6bU-YGRTNMu6",
        "outputId": "d6b5fec6-54e5-43b9-9db9-7a41c2036b62"
      },
      "execution_count": 7,
      "outputs": [
        {
          "output_type": "stream",
          "name": "stdout",
          "text": [
            "My Name is 윤하\n",
            "My Name is 아이유\n"
          ]
        }
      ]
    },
    {
      "cell_type": "code",
      "source": [
        "Person.Title = 'New Title'"
      ],
      "metadata": {
        "id": "Jzm3YlOLNTHY"
      },
      "execution_count": 8,
      "outputs": []
    },
    {
      "cell_type": "code",
      "source": [
        "print(p1.Title)\n",
        "print(p2.Title)"
      ],
      "metadata": {
        "colab": {
          "base_uri": "https://localhost:8080/"
        },
        "id": "htf5H1-DN6PY",
        "outputId": "059873ac-b494-459e-f425-22730988ae1f"
      },
      "execution_count": 9,
      "outputs": [
        {
          "output_type": "stream",
          "name": "stdout",
          "text": [
            "New Title\n",
            "New Title\n"
          ]
        }
      ]
    },
    {
      "cell_type": "code",
      "source": [
        "p1.Age = 30"
      ],
      "metadata": {
        "id": "nt4p2IrbOajg"
      },
      "execution_count": 10,
      "outputs": []
    },
    {
      "cell_type": "code",
      "source": [
        "print(p1.Age)\n",
        "# print(p2.Age)"
      ],
      "metadata": {
        "colab": {
          "base_uri": "https://localhost:8080/"
        },
        "id": "4B0Q0Y_JOchg",
        "outputId": "66064658-44d9-410f-c448-affeaefcbb3d"
      },
      "execution_count": 11,
      "outputs": [
        {
          "output_type": "stream",
          "name": "stdout",
          "text": [
            "30\n"
          ]
        }
      ]
    },
    {
      "cell_type": "code",
      "source": [
        "# Class의 상속\n",
        "class Person:\n",
        "  pass"
      ],
      "metadata": {
        "id": "TpjBsV44OdjP"
      },
      "execution_count": 12,
      "outputs": []
    },
    {
      "cell_type": "code",
      "source": [
        "class Student(Person):\n",
        "  pass"
      ],
      "metadata": {
        "id": "IOfcLqhJPXTp"
      },
      "execution_count": 13,
      "outputs": []
    },
    {
      "cell_type": "code",
      "source": [
        "class Bird:\n",
        "  pass"
      ],
      "metadata": {
        "id": "MWdRIRkGPeQ4"
      },
      "execution_count": 14,
      "outputs": []
    },
    {
      "cell_type": "code",
      "source": [
        "p = Person()\n",
        "s = Student()"
      ],
      "metadata": {
        "id": "PnHAu0ozPnBr"
      },
      "execution_count": 15,
      "outputs": []
    },
    {
      "cell_type": "code",
      "source": [
        "# isinstance 인스턴스 관계를 확인하는 함수 \n",
        "# 상속관계에 있으면 속해 있다\n",
        "print(isinstance(p, Person))\n",
        "print(isinstance(s, Person))\n",
        "print(isinstance(s, object))\n",
        "print(isinstance(int, object)) "
      ],
      "metadata": {
        "colab": {
          "base_uri": "https://localhost:8080/"
        },
        "id": "s02faeZnQPg5",
        "outputId": "2d42aff5-53de-42d7-f5bb-8cbd2908b3da"
      },
      "execution_count": 16,
      "outputs": [
        {
          "output_type": "stream",
          "name": "stdout",
          "text": [
            "True\n",
            "True\n",
            "True\n",
            "True\n"
          ]
        }
      ]
    },
    {
      "cell_type": "code",
      "source": [
        "# 생성자 소멸자 메소드\n",
        "class MyClass:\n",
        "  def __init__(self):\n",
        "    print('class created')"
      ],
      "metadata": {
        "id": "K7_rvRTkQiIR"
      },
      "execution_count": 17,
      "outputs": []
    },
    {
      "cell_type": "code",
      "source": [
        "my = MyClass()\n",
        "del my "
      ],
      "metadata": {
        "colab": {
          "base_uri": "https://localhost:8080/"
        },
        "id": "FCuX-DHqR3DF",
        "outputId": "4d24224b-96bf-48cb-92c4-1b2db0e1127c"
      },
      "execution_count": 18,
      "outputs": [
        {
          "output_type": "stream",
          "name": "stdout",
          "text": [
            "class created\n"
          ]
        }
      ]
    },
    {
      "cell_type": "code",
      "source": [
        "class Person:\n",
        "  Name = ''\n",
        "  Age = 0\n",
        "  def __init__(self, name, age):\n",
        "    print(\"Class Created\")\n",
        "    self.Name = name\n",
        "    self.Age = age\n",
        "  def __del__(self):\n",
        "    print(\"Class Deleted\")\n",
        "  def Print(self):\n",
        "    print(self.Name)\n",
        "    print(self.Age)"
      ],
      "metadata": {
        "id": "qFCrTCMKR5sG"
      },
      "execution_count": 19,
      "outputs": []
    },
    {
      "cell_type": "code",
      "source": [
        "p = Person('아이유',30)\n",
        "p.Print()\n",
        "del p"
      ],
      "metadata": {
        "colab": {
          "base_uri": "https://localhost:8080/"
        },
        "id": "e7dCGO1HSvDx",
        "outputId": "d4127043-9ed2-4a5e-e98f-f3526b111379"
      },
      "execution_count": 20,
      "outputs": [
        {
          "output_type": "stream",
          "name": "stdout",
          "text": [
            "Class Created\n",
            "아이유\n",
            "30\n",
            "Class Deleted\n"
          ]
        }
      ]
    },
    {
      "cell_type": "code",
      "source": [
        "# 정적(Static) 메소드\n",
        "class CounterManager:\n",
        "  InsCount = 0\n",
        "  def __init__(self):\n",
        "    CounterManager.InsCount += 1\n",
        "  def PrintInstanceCount(): # 정적 메소드로 변환\n",
        "    print(\"Instance Count : {0}\".format(CounterManager.InsCount))\n",
        "  \n",
        "  StaticCount = staticmethod(PrintInstanceCount) # 정적메소드로 선언"
      ],
      "metadata": {
        "id": "dX9HcESVUq8G"
      },
      "execution_count": 21,
      "outputs": []
    },
    {
      "cell_type": "code",
      "source": [
        "a = CounterManager()\n",
        "b = CounterManager()\n",
        "c = CounterManager()"
      ],
      "metadata": {
        "id": "TFucceZGY-SW"
      },
      "execution_count": 22,
      "outputs": []
    },
    {
      "cell_type": "code",
      "source": [
        "CounterManager.PrintInstanceCount() # Class를 직접 사용하는 것은 금지"
      ],
      "metadata": {
        "colab": {
          "base_uri": "https://localhost:8080/"
        },
        "id": "PBmHqT4vZbvK",
        "outputId": "570d0d0d-42d0-4b5e-9d01-fde7339ab8a4"
      },
      "execution_count": 23,
      "outputs": [
        {
          "output_type": "stream",
          "name": "stdout",
          "text": [
            "Instance Count : 3\n"
          ]
        }
      ]
    },
    {
      "cell_type": "code",
      "source": [
        "p = CounterManager()\n",
        "p.StaticCount()"
      ],
      "metadata": {
        "colab": {
          "base_uri": "https://localhost:8080/"
        },
        "id": "g2r-0gPyZkdh",
        "outputId": "22c7f9a5-d260-4650-dced-3ef36b444bd9"
      },
      "execution_count": 24,
      "outputs": [
        {
          "output_type": "stream",
          "name": "stdout",
          "text": [
            "Instance Count : 4\n"
          ]
        }
      ]
    },
    {
      "cell_type": "code",
      "source": [
        "# 상속의 심화\n",
        "class Person:\n",
        "  def __init__(self, name, phone) :\n",
        "    self.Name = name\n",
        "    self.Phone = phone\n",
        "  def PrintInfo(self):\n",
        "    print(\"Info(Name : {0}, Phone : {1})\".format(self.Name, self.Phone))\n",
        "  def PrintPersonData(self):\n",
        "    print(\"Person(Name : {0}, Phone : {1})\".format(self.Name, self.Phone))"
      ],
      "metadata": {
        "id": "xZG4s8kXZ9zB"
      },
      "execution_count": 25,
      "outputs": []
    },
    {
      "cell_type": "code",
      "source": [
        "class Student(Person):\n",
        "  def __init__(self,name,phone,subject,studentID):\n",
        "    self.Name = name\n",
        "    self.Phone = phone\n",
        "    self.Subject = subject\n",
        "    self.StudentID = studentID  "
      ],
      "metadata": {
        "id": "V368m6uIcI1E"
      },
      "execution_count": 26,
      "outputs": []
    },
    {
      "cell_type": "code",
      "source": [
        "p = Person('박보검', '010-1111-1111')\n",
        "s = Student('아이유', '010-2222-2222','학생회장','0001')"
      ],
      "metadata": {
        "id": "GTb1fIWbczC6"
      },
      "execution_count": 27,
      "outputs": []
    },
    {
      "cell_type": "code",
      "source": [
        "print(p.__dict__)\n",
        "print(s.__dict__)"
      ],
      "metadata": {
        "colab": {
          "base_uri": "https://localhost:8080/"
        },
        "id": "tfSEtHvZdSF3",
        "outputId": "efaf645d-75d4-49f9-a023-11066b3e6709"
      },
      "execution_count": 28,
      "outputs": [
        {
          "output_type": "stream",
          "name": "stdout",
          "text": [
            "{'Name': '박보검', 'Phone': '010-1111-1111'}\n",
            "{'Name': '아이유', 'Phone': '010-2222-2222', 'Subject': '학생회장', 'StudentID': '0001'}\n"
          ]
        }
      ]
    },
    {
      "cell_type": "code",
      "source": [
        "s.PrintInfo()"
      ],
      "metadata": {
        "colab": {
          "base_uri": "https://localhost:8080/"
        },
        "id": "lto4zAK9dTkt",
        "outputId": "87c3887b-12d6-4ff9-9de5-ea6b59b02ef3"
      },
      "execution_count": 29,
      "outputs": [
        {
          "output_type": "stream",
          "name": "stdout",
          "text": [
            "Info(Name : 아이유, Phone : 010-2222-2222)\n"
          ]
        }
      ]
    },
    {
      "cell_type": "code",
      "source": [
        "# 상속관계를 확인\n",
        "print(issubclass(Student,Person))\n",
        "print(issubclass(Person,Student))"
      ],
      "metadata": {
        "colab": {
          "base_uri": "https://localhost:8080/"
        },
        "id": "tdyvnXOyepKq",
        "outputId": "aaf2bd82-3def-444f-ffbf-3005335b5e3e"
      },
      "execution_count": 30,
      "outputs": [
        {
          "output_type": "stream",
          "name": "stdout",
          "text": [
            "True\n",
            "False\n"
          ]
        }
      ]
    },
    {
      "cell_type": "code",
      "source": [
        "class Student(Person):\n",
        "  def __init__(self,name,phone,subject,studentID):\n",
        "    self.Name = name\n",
        "    self.Phone = phone\n",
        "    self.Subject = subject\n",
        "    self.StudentID = studentID  \n",
        "  def PrintStudentData(self):\n",
        "    print('Student(Name : {0}, StudentID : {1})'.format(self.Name, self.StudentID))\n",
        "  def PrintPersonData(self):\n",
        "    return (\"{0}님의 전공은 {1}입니다.\".format(self.Name, self.Subject))"
      ],
      "metadata": {
        "id": "jA9kemQWe94R"
      },
      "execution_count": 31,
      "outputs": []
    },
    {
      "cell_type": "code",
      "source": [
        "s = Student('민아', '010-2222-2222','Computer','0001')\n",
        "s.PrintStudentData()"
      ],
      "metadata": {
        "colab": {
          "base_uri": "https://localhost:8080/"
        },
        "id": "G9KFlPTRfkZn",
        "outputId": "3fa83a9b-49a9-4603-f7f8-a6167afaceb4"
      },
      "execution_count": 32,
      "outputs": [
        {
          "output_type": "stream",
          "name": "stdout",
          "text": [
            "Student(Name : 민아, StudentID : 0001)\n"
          ]
        }
      ]
    },
    {
      "cell_type": "code",
      "source": [
        "# 다중 상속\n",
        "class Tiger:\n",
        "  def Jump(self):\n",
        "    print('호랑이 점프')"
      ],
      "metadata": {
        "id": "DeVv47Goft-J"
      },
      "execution_count": 33,
      "outputs": []
    },
    {
      "cell_type": "code",
      "source": [
        "class Lion:\n",
        "  def Bite(self):\n",
        "    print('사자의 물기')"
      ],
      "metadata": {
        "id": "te5Z7XdgzRzT"
      },
      "execution_count": 34,
      "outputs": []
    },
    {
      "cell_type": "code",
      "source": [
        "class Liger(Tiger, Lion):\n",
        "  def Play(self):\n",
        "    print('라이거의 놀기')"
      ],
      "metadata": {
        "id": "bT6l0Ab3zuBl"
      },
      "execution_count": 35,
      "outputs": []
    },
    {
      "cell_type": "code",
      "source": [
        "l = Liger()\n",
        "l.Jump()\n",
        "l.Bite()\n",
        "l.Play()"
      ],
      "metadata": {
        "colab": {
          "base_uri": "https://localhost:8080/"
        },
        "id": "MRfjNnO5z2jB",
        "outputId": "9d17ecde-113f-43dc-e546-1b98166312d8"
      },
      "execution_count": 36,
      "outputs": [
        {
          "output_type": "stream",
          "name": "stdout",
          "text": [
            "호랑이 점프\n",
            "사자의 물기\n",
            "라이거의 놀기\n"
          ]
        }
      ]
    }
  ]
}