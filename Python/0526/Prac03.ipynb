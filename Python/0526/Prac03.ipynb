{
 "cells": [
  {
   "cell_type": "code",
   "execution_count": 1,
   "id": "f399401d",
   "metadata": {},
   "outputs": [],
   "source": [
    "import numpy as np\n",
    "import pandas as pd\n",
    "import matplotlib.pyplot as plt\n",
    "import os\n",
    "from scipy.stats import wilcoxon"
   ]
  },
  {
   "cell_type": "markdown",
   "id": "5c1d7459",
   "metadata": {},
   "source": [
    "### 정규분포를 따르기 않는 데이터 생성"
   ]
  },
  {
   "cell_type": "code",
   "execution_count": 2,
   "id": "03adedfb",
   "metadata": {},
   "outputs": [
    {
     "data": {
      "text/html": [
       "<div>\n",
       "<style scoped>\n",
       "    .dataframe tbody tr th:only-of-type {\n",
       "        vertical-align: middle;\n",
       "    }\n",
       "\n",
       "    .dataframe tbody tr th {\n",
       "        vertical-align: top;\n",
       "    }\n",
       "\n",
       "    .dataframe thead th {\n",
       "        text-align: right;\n",
       "    }\n",
       "</style>\n",
       "<table border=\"1\" class=\"dataframe\">\n",
       "  <thead>\n",
       "    <tr style=\"text-align: right;\">\n",
       "      <th></th>\n",
       "      <th>pre_treatment</th>\n",
       "      <th>post_treatment</th>\n",
       "    </tr>\n",
       "  </thead>\n",
       "  <tbody>\n",
       "    <tr>\n",
       "      <th>0</th>\n",
       "      <td>1.492520</td>\n",
       "      <td>2.170393</td>\n",
       "    </tr>\n",
       "    <tr>\n",
       "      <th>1</th>\n",
       "      <td>1.001071</td>\n",
       "      <td>2.141225</td>\n",
       "    </tr>\n",
       "    <tr>\n",
       "      <th>2</th>\n",
       "      <td>1.918940</td>\n",
       "      <td>2.847145</td>\n",
       "    </tr>\n",
       "    <tr>\n",
       "      <th>3</th>\n",
       "      <td>1.418867</td>\n",
       "      <td>2.990950</td>\n",
       "    </tr>\n",
       "    <tr>\n",
       "      <th>4</th>\n",
       "      <td>1.322154</td>\n",
       "      <td>2.942655</td>\n",
       "    </tr>\n",
       "    <tr>\n",
       "      <th>5</th>\n",
       "      <td>1.634269</td>\n",
       "      <td>2.010912</td>\n",
       "    </tr>\n",
       "    <tr>\n",
       "      <th>6</th>\n",
       "      <td>1.306194</td>\n",
       "      <td>2.451166</td>\n",
       "    </tr>\n",
       "    <tr>\n",
       "      <th>7</th>\n",
       "      <td>1.810480</td>\n",
       "      <td>2.511024</td>\n",
       "    </tr>\n",
       "    <tr>\n",
       "      <th>8</th>\n",
       "      <td>1.216153</td>\n",
       "      <td>2.514986</td>\n",
       "    </tr>\n",
       "    <tr>\n",
       "      <th>9</th>\n",
       "      <td>1.120883</td>\n",
       "      <td>2.938179</td>\n",
       "    </tr>\n",
       "    <tr>\n",
       "      <th>10</th>\n",
       "      <td>1.554122</td>\n",
       "      <td>2.108657</td>\n",
       "    </tr>\n",
       "    <tr>\n",
       "      <th>11</th>\n",
       "      <td>1.722599</td>\n",
       "      <td>2.930343</td>\n",
       "    </tr>\n",
       "    <tr>\n",
       "      <th>12</th>\n",
       "      <td>1.945009</td>\n",
       "      <td>2.882027</td>\n",
       "    </tr>\n",
       "    <tr>\n",
       "      <th>13</th>\n",
       "      <td>1.333033</td>\n",
       "      <td>2.160612</td>\n",
       "    </tr>\n",
       "    <tr>\n",
       "      <th>14</th>\n",
       "      <td>1.369470</td>\n",
       "      <td>2.614074</td>\n",
       "    </tr>\n",
       "    <tr>\n",
       "      <th>15</th>\n",
       "      <td>1.761372</td>\n",
       "      <td>2.025111</td>\n",
       "    </tr>\n",
       "    <tr>\n",
       "      <th>16</th>\n",
       "      <td>1.605515</td>\n",
       "      <td>2.513359</td>\n",
       "    </tr>\n",
       "    <tr>\n",
       "      <th>17</th>\n",
       "      <td>1.731109</td>\n",
       "      <td>2.988285</td>\n",
       "    </tr>\n",
       "    <tr>\n",
       "      <th>18</th>\n",
       "      <td>1.212110</td>\n",
       "      <td>2.425828</td>\n",
       "    </tr>\n",
       "    <tr>\n",
       "      <th>19</th>\n",
       "      <td>1.327707</td>\n",
       "      <td>2.861126</td>\n",
       "    </tr>\n",
       "  </tbody>\n",
       "</table>\n",
       "</div>"
      ],
      "text/plain": [
       "    pre_treatment  post_treatment\n",
       "0        1.492520        2.170393\n",
       "1        1.001071        2.141225\n",
       "2        1.918940        2.847145\n",
       "3        1.418867        2.990950\n",
       "4        1.322154        2.942655\n",
       "5        1.634269        2.010912\n",
       "6        1.306194        2.451166\n",
       "7        1.810480        2.511024\n",
       "8        1.216153        2.514986\n",
       "9        1.120883        2.938179\n",
       "10       1.554122        2.108657\n",
       "11       1.722599        2.930343\n",
       "12       1.945009        2.882027\n",
       "13       1.333033        2.160612\n",
       "14       1.369470        2.614074\n",
       "15       1.761372        2.025111\n",
       "16       1.605515        2.513359\n",
       "17       1.731109        2.988285\n",
       "18       1.212110        2.425828\n",
       "19       1.327707        2.861126"
      ]
     },
     "execution_count": 2,
     "metadata": {},
     "output_type": "execute_result"
    }
   ],
   "source": [
    "pre_treatment = np.random.rand(20) + 1\n",
    "post_treatment = np.random.rand(20) + 2\n",
    "\n",
    "# dataframe 생성\n",
    "data = pd.DataFrame({\n",
    "    \"pre_treatment\" : pre_treatment,\n",
    "    \"post_treatment\" : post_treatment\n",
    "})\n",
    "data"
   ]
  },
  {
   "cell_type": "code",
   "execution_count": 3,
   "id": "14c86f6c",
   "metadata": {},
   "outputs": [],
   "source": [
    "os.makedirs(\"./data\", exist_ok=True)\n",
    "data.to_csv(\"./data/non_normal_data.csv\", index=False, encoding='utf-8')"
   ]
  },
  {
   "cell_type": "code",
   "execution_count": 4,
   "id": "e9f77fd7",
   "metadata": {},
   "outputs": [
    {
     "name": "stdout",
     "output_type": "stream",
     "text": [
      "0.0 1.9073486328125e-06\n"
     ]
    }
   ],
   "source": [
    "# 데이터 가져오기\n",
    "data = pd.read_csv('./data/non_normal_data.csv')\n",
    "\n",
    "# 윌콕슨 부호 순위 검정 수행\n",
    "stat, p = wilcoxon(data['pre_treatment'], data['post_treatment'])\n",
    "print(stat, p)"
   ]
  },
  {
   "cell_type": "code",
   "execution_count": 5,
   "id": "a711d63a",
   "metadata": {},
   "outputs": [
    {
     "name": "stdout",
     "output_type": "stream",
     "text": [
      "Reject HO\n"
     ]
    }
   ],
   "source": [
    "if p > 0.05 : \n",
    "    print(\"Fail to reject HO\")\n",
    "else :\n",
    "    print(\"Reject HO\")"
   ]
  },
  {
   "cell_type": "code",
   "execution_count": 7,
   "id": "4f2423b3",
   "metadata": {},
   "outputs": [
    {
     "data": {
      "image/png": "[encoded data removed]",
      "text/plain": [
       "<Figure size 640x480 with 1 Axes>"
      ]
     },
     "metadata": {},
     "output_type": "display_data"
    }
   ],
   "source": [
    "# 분포 시각화\n",
    "fig, ax = plt.subplots()\n",
    "ax.hist(data['pre_treatment'], bins=10, alpha=0.5, label='Pre-treatment')\n",
    "ax.hist(data['post_treatment'], bins=10, alpha=0.5, label='Post-treatment')\n",
    "ax.set_title('Distribution of Pre-treatment and Post-treatment')\n",
    "ax.set_xlabel('Treatment Score')\n",
    "ax.set_ylabel('Frequency')\n",
    "plt.legend()\n",
    "plt.show()"
   ]
  },
  {
   "cell_type": "code",
   "execution_count": null,
   "id": "96053a26",
   "metadata": {},
   "outputs": [],
   "source": []
  }
 ],
 "metadata": {
  "kernelspec": {
   "display_name": "AI",
   "language": "python",
   "name": "ai"
  },
  "language_info": {
   "codemirror_mode": {
    "name": "ipython",
    "version": 3
   },
   "file_extension": ".py",
   "mimetype": "text/x-python",
   "name": "python",
   "nbconvert_exporter": "python",
   "pygments_lexer": "ipython3",
   "version": "3.8.16"
  }
 },
 "nbformat": 4,
 "nbformat_minor": 5
}
