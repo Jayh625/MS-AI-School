{
 "cells": [
  {
   "cell_type": "code",
   "execution_count": 1,
   "id": "f248ce18",
   "metadata": {},
   "outputs": [],
   "source": [
    "import numpy as np\n",
    "import pandas as pd\n",
    "from scipy.stats import mannwhitneyu\n",
    "from scipy import stats\n",
    "np.random.seed(42)"
   ]
  },
  {
   "cell_type": "code",
   "execution_count": 2,
   "id": "f9bb6bfb",
   "metadata": {},
   "outputs": [],
   "source": [
    "# 랜덤 데이터 생성\n",
    "group1 = np.random.normal(loc=6, scale=1.5, size=100)\n",
    "group2 = np.random.normal(loc=7, scale=1.5, size=100)\n",
    "\n",
    "# csv 저장\n",
    "data = pd.DataFrame({\n",
    "    'group1' : group1,\n",
    "    'group2' : group2\n",
    "})\n",
    "\n",
    "data.to_csv(\"./data/sleep_data.csv\", index=False, encoding='utf-8')"
   ]
  },
  {
   "cell_type": "code",
   "execution_count": 3,
   "id": "999704da",
   "metadata": {},
   "outputs": [
    {
     "data": {
      "text/html": [
       "<div>\n",
       "<style scoped>\n",
       "    .dataframe tbody tr th:only-of-type {\n",
       "        vertical-align: middle;\n",
       "    }\n",
       "\n",
       "    .dataframe tbody tr th {\n",
       "        vertical-align: top;\n",
       "    }\n",
       "\n",
       "    .dataframe thead th {\n",
       "        text-align: right;\n",
       "    }\n",
       "</style>\n",
       "<table border=\"1\" class=\"dataframe\">\n",
       "  <thead>\n",
       "    <tr style=\"text-align: right;\">\n",
       "      <th></th>\n",
       "      <th>group1</th>\n",
       "      <th>group2</th>\n",
       "    </tr>\n",
       "  </thead>\n",
       "  <tbody>\n",
       "    <tr>\n",
       "      <th>0</th>\n",
       "      <td>6.745071</td>\n",
       "      <td>4.876944</td>\n",
       "    </tr>\n",
       "    <tr>\n",
       "      <th>1</th>\n",
       "      <td>5.792604</td>\n",
       "      <td>6.369032</td>\n",
       "    </tr>\n",
       "    <tr>\n",
       "      <th>2</th>\n",
       "      <td>6.971533</td>\n",
       "      <td>6.485928</td>\n",
       "    </tr>\n",
       "    <tr>\n",
       "      <th>3</th>\n",
       "      <td>8.284545</td>\n",
       "      <td>5.796584</td>\n",
       "    </tr>\n",
       "    <tr>\n",
       "      <th>4</th>\n",
       "      <td>5.648770</td>\n",
       "      <td>6.758071</td>\n",
       "    </tr>\n",
       "    <tr>\n",
       "      <th>...</th>\n",
       "      <td>...</td>\n",
       "      <td>...</td>\n",
       "    </tr>\n",
       "    <tr>\n",
       "      <th>95</th>\n",
       "      <td>3.804728</td>\n",
       "      <td>7.577976</td>\n",
       "    </tr>\n",
       "    <tr>\n",
       "      <th>96</th>\n",
       "      <td>6.444180</td>\n",
       "      <td>5.674214</td>\n",
       "    </tr>\n",
       "    <tr>\n",
       "      <th>97</th>\n",
       "      <td>6.391583</td>\n",
       "      <td>7.230588</td>\n",
       "    </tr>\n",
       "    <tr>\n",
       "      <th>98</th>\n",
       "      <td>6.007670</td>\n",
       "      <td>7.087313</td>\n",
       "    </tr>\n",
       "    <tr>\n",
       "      <th>99</th>\n",
       "      <td>5.648119</td>\n",
       "      <td>5.285545</td>\n",
       "    </tr>\n",
       "  </tbody>\n",
       "</table>\n",
       "<p>100 rows × 2 columns</p>\n",
       "</div>"
      ],
      "text/plain": [
       "      group1    group2\n",
       "0   6.745071  4.876944\n",
       "1   5.792604  6.369032\n",
       "2   6.971533  6.485928\n",
       "3   8.284545  5.796584\n",
       "4   5.648770  6.758071\n",
       "..       ...       ...\n",
       "95  3.804728  7.577976\n",
       "96  6.444180  5.674214\n",
       "97  6.391583  7.230588\n",
       "98  6.007670  7.087313\n",
       "99  5.648119  5.285545\n",
       "\n",
       "[100 rows x 2 columns]"
      ]
     },
     "execution_count": 3,
     "metadata": {},
     "output_type": "execute_result"
    }
   ],
   "source": [
    "# csv 읽기\n",
    "sleep_data = pd.read_csv(\"./data/sleep_data.csv\")\n",
    "sleep_data"
   ]
  },
  {
   "cell_type": "code",
   "execution_count": 4,
   "id": "8aea8dc9",
   "metadata": {},
   "outputs": [],
   "source": [
    "group1_data = data['group1']\n",
    "group2_data = data['group2']"
   ]
  },
  {
   "cell_type": "code",
   "execution_count": 5,
   "id": "4f01f553",
   "metadata": {},
   "outputs": [
    {
     "name": "stdout",
     "output_type": "stream",
     "text": [
      "2834.0 1.2154388166891524e-07\n"
     ]
    }
   ],
   "source": [
    "# 멘-휘트니 검정 수행\n",
    "st, p_val = mannwhitneyu(group1_data, group2_data, alternative='two-sided')\n",
    "print(st, p_val)"
   ]
  },
  {
   "cell_type": "code",
   "execution_count": 6,
   "id": "a4fb2ac2",
   "metadata": {},
   "outputs": [
    {
     "name": "stdout",
     "output_type": "stream",
     "text": [
      "두 집단 간에는 유의한 차이가 있음\n"
     ]
    }
   ],
   "source": [
    "# 유의수준 0.05 가설검정\n",
    "if p_val < 0.05 :\n",
    "    print(\"두 집단 간에는 유의한 차이가 있음\")\n",
    "else :\n",
    "    print(\"두 집단 간에는 유의한 차이가 없음음\")"
   ]
  }
 ],
 "metadata": {
  "kernelspec": {
   "display_name": "AI",
   "language": "python",
   "name": "ai"
  },
  "language_info": {
   "codemirror_mode": {
    "name": "ipython",
    "version": 3
   },
   "file_extension": ".py",
   "mimetype": "text/x-python",
   "name": "python",
   "nbconvert_exporter": "python",
   "pygments_lexer": "ipython3",
   "version": "3.8.16"
  }
 },
 "nbformat": 4,
 "nbformat_minor": 5
}
