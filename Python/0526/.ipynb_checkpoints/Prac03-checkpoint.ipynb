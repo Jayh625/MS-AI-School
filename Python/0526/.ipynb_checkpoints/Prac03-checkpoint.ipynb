{
 "cells": [
  {
   "cell_type": "code",
   "execution_count": 4,
   "id": "f399401d",
   "metadata": {},
   "outputs": [],
   "source": [
    "import numpy as np\n",
    "import pandas as pd\n",
    "import matplotlib.pyplot as plt\n",
    "import os\n",
    "from scipy.stats import wilcoxon"
   ]
  },
  {
   "cell_type": "markdown",
   "id": "5c1d7459",
   "metadata": {},
   "source": [
    "### 정규분포를 따르기 않는 데이터 생성"
   ]
  },
  {
   "cell_type": "code",
   "execution_count": 2,
   "id": "03adedfb",
   "metadata": {},
   "outputs": [
    {
     "data": {
      "text/html": [
       "<div>\n",
       "<style scoped>\n",
       "    .dataframe tbody tr th:only-of-type {\n",
       "        vertical-align: middle;\n",
       "    }\n",
       "\n",
       "    .dataframe tbody tr th {\n",
       "        vertical-align: top;\n",
       "    }\n",
       "\n",
       "    .dataframe thead th {\n",
       "        text-align: right;\n",
       "    }\n",
       "</style>\n",
       "<table border=\"1\" class=\"dataframe\">\n",
       "  <thead>\n",
       "    <tr style=\"text-align: right;\">\n",
       "      <th></th>\n",
       "      <th>pre_treatment</th>\n",
       "      <th>post_treatment</th>\n",
       "    </tr>\n",
       "  </thead>\n",
       "  <tbody>\n",
       "    <tr>\n",
       "      <th>0</th>\n",
       "      <td>1.943481</td>\n",
       "      <td>2.280098</td>\n",
       "    </tr>\n",
       "    <tr>\n",
       "      <th>1</th>\n",
       "      <td>1.712076</td>\n",
       "      <td>2.405304</td>\n",
       "    </tr>\n",
       "    <tr>\n",
       "      <th>2</th>\n",
       "      <td>1.691271</td>\n",
       "      <td>2.743123</td>\n",
       "    </tr>\n",
       "    <tr>\n",
       "      <th>3</th>\n",
       "      <td>1.951453</td>\n",
       "      <td>2.377892</td>\n",
       "    </tr>\n",
       "    <tr>\n",
       "      <th>4</th>\n",
       "      <td>1.620025</td>\n",
       "      <td>2.574576</td>\n",
       "    </tr>\n",
       "    <tr>\n",
       "      <th>5</th>\n",
       "      <td>1.191047</td>\n",
       "      <td>2.421742</td>\n",
       "    </tr>\n",
       "    <tr>\n",
       "      <th>6</th>\n",
       "      <td>1.310014</td>\n",
       "      <td>2.620852</td>\n",
       "    </tr>\n",
       "    <tr>\n",
       "      <th>7</th>\n",
       "      <td>1.582430</td>\n",
       "      <td>2.028101</td>\n",
       "    </tr>\n",
       "    <tr>\n",
       "      <th>8</th>\n",
       "      <td>1.642073</td>\n",
       "      <td>2.421495</td>\n",
       "    </tr>\n",
       "    <tr>\n",
       "      <th>9</th>\n",
       "      <td>1.879663</td>\n",
       "      <td>2.250426</td>\n",
       "    </tr>\n",
       "    <tr>\n",
       "      <th>10</th>\n",
       "      <td>1.549861</td>\n",
       "      <td>2.695632</td>\n",
       "    </tr>\n",
       "    <tr>\n",
       "      <th>11</th>\n",
       "      <td>1.601116</td>\n",
       "      <td>2.021146</td>\n",
       "    </tr>\n",
       "    <tr>\n",
       "      <th>12</th>\n",
       "      <td>1.438116</td>\n",
       "      <td>2.229152</td>\n",
       "    </tr>\n",
       "    <tr>\n",
       "      <th>13</th>\n",
       "      <td>1.093093</td>\n",
       "      <td>2.587909</td>\n",
       "    </tr>\n",
       "    <tr>\n",
       "      <th>14</th>\n",
       "      <td>1.800532</td>\n",
       "      <td>2.037422</td>\n",
       "    </tr>\n",
       "    <tr>\n",
       "      <th>15</th>\n",
       "      <td>1.554455</td>\n",
       "      <td>2.631663</td>\n",
       "    </tr>\n",
       "    <tr>\n",
       "      <th>16</th>\n",
       "      <td>1.971960</td>\n",
       "      <td>2.632449</td>\n",
       "    </tr>\n",
       "    <tr>\n",
       "      <th>17</th>\n",
       "      <td>1.087898</td>\n",
       "      <td>2.099503</td>\n",
       "    </tr>\n",
       "    <tr>\n",
       "      <th>18</th>\n",
       "      <td>1.159513</td>\n",
       "      <td>2.122635</td>\n",
       "    </tr>\n",
       "    <tr>\n",
       "      <th>19</th>\n",
       "      <td>1.028126</td>\n",
       "      <td>2.825588</td>\n",
       "    </tr>\n",
       "  </tbody>\n",
       "</table>\n",
       "</div>"
      ],
      "text/plain": [
       "    pre_treatment  post_treatment\n",
       "0        1.943481        2.280098\n",
       "1        1.712076        2.405304\n",
       "2        1.691271        2.743123\n",
       "3        1.951453        2.377892\n",
       "4        1.620025        2.574576\n",
       "5        1.191047        2.421742\n",
       "6        1.310014        2.620852\n",
       "7        1.582430        2.028101\n",
       "8        1.642073        2.421495\n",
       "9        1.879663        2.250426\n",
       "10       1.549861        2.695632\n",
       "11       1.601116        2.021146\n",
       "12       1.438116        2.229152\n",
       "13       1.093093        2.587909\n",
       "14       1.800532        2.037422\n",
       "15       1.554455        2.631663\n",
       "16       1.971960        2.632449\n",
       "17       1.087898        2.099503\n",
       "18       1.159513        2.122635\n",
       "19       1.028126        2.825588"
      ]
     },
     "execution_count": 2,
     "metadata": {},
     "output_type": "execute_result"
    }
   ],
   "source": [
    "pre_treatment = np.random.rand(20) + 1\n",
    "post_treatment = np.random.rand(20) + 2\n",
    "\n",
    "# dataframe 생성\n",
    "data = pd.DataFrame({\n",
    "    \"pre_treatment\" : pre_treatment,\n",
    "    \"post_treatment\" : post_treatment\n",
    "})\n",
    "data"
   ]
  },
  {
   "cell_type": "code",
   "execution_count": 3,
   "id": "14c86f6c",
   "metadata": {},
   "outputs": [],
   "source": [
    "os.makedirs(\"./data\", exist_ok=True)\n",
    "data.to_csv(\"./data/non_normal_data.csv\", index=False, encoding='utf-8')"
   ]
  },
  {
   "cell_type": "code",
   "execution_count": 5,
   "id": "e9f77fd7",
   "metadata": {},
   "outputs": [
    {
     "name": "stdout",
     "output_type": "stream",
     "text": [
      "0.0 1.9073486328125e-06\n"
     ]
    }
   ],
   "source": [
    "# 데이터 가져오기\n",
    "data = pd.read_csv('./data/non_normal_data.csv')\n",
    "\n",
    "# 윌콕슨 부호 순위 검정 수행\n",
    "stat, p = wilcoxon(data['pre_treatment'], data['post_treatment'])\n",
    "print(stat, p)"
   ]
  },
  {
   "cell_type": "code",
   "execution_count": 6,
   "id": "64a499ca",
   "metadata": {},
   "outputs": [
    {
     "ename": "SyntaxError",
     "evalue": "invalid syntax (2358466458.py, line 1)",
     "output_type": "error",
     "traceback": [
      "\u001b[1;36m  Cell \u001b[1;32mIn[6], line 1\u001b[1;36m\u001b[0m\n\u001b[1;33m    if p > 0.05\u001b[0m\n\u001b[1;37m               ^\u001b[0m\n\u001b[1;31mSyntaxError\u001b[0m\u001b[1;31m:\u001b[0m invalid syntax\n"
     ]
    }
   ],
   "source": [
    "if p > 0.05 : \n",
    "    print(\"Fail to reject HO\")\n",
    "else :\n",
    "    print(\"Reject HO\")"
   ]
  },
  {
   "cell_type": "code",
   "execution_count": null,
   "id": "82d0eedb",
   "metadata": {},
   "outputs": [],
   "source": [
    "\"\""
   ]
  }
 ],
 "metadata": {
  "kernelspec": {
   "display_name": "AI",
   "language": "python",
   "name": "ai"
  },
  "language_info": {
   "codemirror_mode": {
    "name": "ipython",
    "version": 3
   },
   "file_extension": ".py",
   "mimetype": "text/x-python",
   "name": "python",
   "nbconvert_exporter": "python",
   "pygments_lexer": "ipython3",
   "version": "3.8.16"
  }
 },
 "nbformat": 4,
 "nbformat_minor": 5
}
