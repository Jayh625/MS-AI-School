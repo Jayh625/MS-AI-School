{
 "cells": [
  {
   "cell_type": "code",
   "execution_count": 1,
   "id": "e95b0b5b",
   "metadata": {},
   "outputs": [
    {
     "name": "stdout",
     "output_type": "stream",
     "text": [
      "sample 1 :\n",
      "statistic :  25.5\n",
      "p-value 0.845703125\n",
      "fail to reject HO\n",
      "sample 2 :\n",
      "statistic :  22.5\n",
      "p-value 0.6953125\n",
      "fail to reject HO\n",
      "sample 3 :\n",
      "statistic :  9.5\n",
      "p-value 0.064453125\n",
      "fail to reject HO\n",
      "sample 4 :\n",
      "statistic :  0.0\n",
      "p-value 0.001953125\n",
      "reject HO\n",
      "sample 5 :\n",
      "statistic :  23.5\n",
      "p-value 0.6953125\n",
      "fail to reject HO\n",
      "sample 6 :\n",
      "statistic :  19.5\n",
      "p-value 0.4921875\n",
      "fail to reject HO\n",
      "sample 7 :\n",
      "statistic :  7.0\n",
      "p-value 0.037109375\n",
      "reject HO\n",
      "sample 8 :\n",
      "statistic :  21.5\n",
      "p-value 0.556640625\n",
      "fail to reject HO\n",
      "sample 9 :\n",
      "statistic :  20.5\n",
      "p-value 0.4921875\n",
      "fail to reject HO\n",
      "sample 10 :\n",
      "statistic :  19.0\n",
      "p-value 0.431640625\n",
      "fail to reject HO\n",
      "Bonferroni\n",
      "sample : 1 : fail to reject HO\n",
      "sample : 2 : fail to reject HO\n",
      "sample : 3 : fail to reject HO\n",
      "sample : 4 : reject HO\n",
      "sample : 5 : fail to reject HO\n",
      "sample : 6 : fail to reject HO\n",
      "sample : 7 : fail to reject HO\n",
      "sample : 8 : fail to reject HO\n",
      "sample : 9 : fail to reject HO\n",
      "sample : 10 : fail to reject HO\n"
     ]
    }
   ],
   "source": [
    "import pandas as pd\n",
    "from scipy.stats import wilcoxon\n",
    "from statsmodels.stats.multitest import multipletests\n",
    "\n",
    "data = pd.read_csv(\"./data/treatment_data.csv\")\n",
    "p_values = []\n",
    "for i in range(10):\n",
    "    sample = data.sample(frac=0.5)\n",
    "    st, p = wilcoxon(sample['pre_treatment'], sample['post_treatment'])\n",
    "    print(\"sample\", i+1, ':')\n",
    "    print('statistic : ', st)\n",
    "    print('p-value', p)\n",
    "    p_values.append(p)\n",
    "    if p > 0.05 :\n",
    "        print(\"fail to reject HO\")\n",
    "    else :\n",
    "        print(\"reject HO\")\n",
    "\n",
    "alpha = 0.05\n",
    "rejects_bonf, corrected_p_bonf, _, _ = multipletests(p_values, alpha=alpha, method='bonferroni')\n",
    "print(\"Bonferroni\")\n",
    "for i in range(len(rejects_bonf)) :\n",
    "    if rejects_bonf[i] :\n",
    "        print(f\"sample : {i+1} : reject HO\" )\n",
    "    else :\n",
    "        print(f\"sample : {i+1} : fail to reject HO\")"
   ]
  },
  {
   "cell_type": "markdown",
   "id": "1bc9fe5b",
   "metadata": {},
   "source": [
    "- rejects_bonf: 각 가설에 대한 기각 여부를 나타내는 불리언 배열입니다. \n",
    "\n",
    "- rejects_bonf[i]는 i번째 가설이 기각되었는지 여부를 나타냅니다.\n",
    "\n",
    "- corrected_p_bonf: 보정된 p-값들의 배열입니다. \n",
    "\n",
    "- corrected_p_bonf[i]는 i번째 가설의 보정된 p-값을 나타냅니다."
   ]
  }
 ],
 "metadata": {
  "kernelspec": {
   "display_name": "AI",
   "language": "python",
   "name": "ai"
  },
  "language_info": {
   "codemirror_mode": {
    "name": "ipython",
    "version": 3
   },
   "file_extension": ".py",
   "mimetype": "text/x-python",
   "name": "python",
   "nbconvert_exporter": "python",
   "pygments_lexer": "ipython3",
   "version": "3.8.16"
  }
 },
 "nbformat": 4,
 "nbformat_minor": 5
}
