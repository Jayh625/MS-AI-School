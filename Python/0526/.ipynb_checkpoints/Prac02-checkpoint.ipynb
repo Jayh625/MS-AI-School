{
 "cells": [
  {
   "cell_type": "markdown",
   "id": "ddd555fc",
   "metadata": {},
   "source": [
    "#### 환자의 치료 전과 후를 비교하여 효과성을 평가하는 코드 실습\n",
    "#### 데이터 -> 랜덤 더미 데이터"
   ]
  },
  {
   "cell_type": "code",
   "execution_count": 1,
   "id": "990bf0e5",
   "metadata": {},
   "outputs": [],
   "source": [
    "import numpy as np\n",
    "import pandas as pd\n",
    "import seaborn as sns\n",
    "import matplotlib.pyplot as plt\n",
    "import os\n",
    "from scipy.stats import wilcoxon"
   ]
  },
  {
   "cell_type": "markdown",
   "id": "fdaf810b",
   "metadata": {},
   "source": [
    "### 치료전, 후 데이터 랜덤하게 생성"
   ]
  },
  {
   "cell_type": "code",
   "execution_count": 2,
   "id": "35b64e4e",
   "metadata": {},
   "outputs": [
    {
     "data": {
      "text/html": [
       "<div>\n",
       "<style scoped>\n",
       "    .dataframe tbody tr th:only-of-type {\n",
       "        vertical-align: middle;\n",
       "    }\n",
       "\n",
       "    .dataframe tbody tr th {\n",
       "        vertical-align: top;\n",
       "    }\n",
       "\n",
       "    .dataframe thead th {\n",
       "        text-align: right;\n",
       "    }\n",
       "</style>\n",
       "<table border=\"1\" class=\"dataframe\">\n",
       "  <thead>\n",
       "    <tr style=\"text-align: right;\">\n",
       "      <th></th>\n",
       "      <th>pre_treatment</th>\n",
       "      <th>post_treatment</th>\n",
       "    </tr>\n",
       "  </thead>\n",
       "  <tbody>\n",
       "    <tr>\n",
       "      <th>0</th>\n",
       "      <td>3</td>\n",
       "      <td>0</td>\n",
       "    </tr>\n",
       "    <tr>\n",
       "      <th>1</th>\n",
       "      <td>1</td>\n",
       "      <td>3</td>\n",
       "    </tr>\n",
       "    <tr>\n",
       "      <th>2</th>\n",
       "      <td>5</td>\n",
       "      <td>2</td>\n",
       "    </tr>\n",
       "    <tr>\n",
       "      <th>3</th>\n",
       "      <td>6</td>\n",
       "      <td>4</td>\n",
       "    </tr>\n",
       "    <tr>\n",
       "      <th>4</th>\n",
       "      <td>2</td>\n",
       "      <td>4</td>\n",
       "    </tr>\n",
       "    <tr>\n",
       "      <th>5</th>\n",
       "      <td>8</td>\n",
       "      <td>9</td>\n",
       "    </tr>\n",
       "    <tr>\n",
       "      <th>6</th>\n",
       "      <td>1</td>\n",
       "      <td>-1</td>\n",
       "    </tr>\n",
       "    <tr>\n",
       "      <th>7</th>\n",
       "      <td>7</td>\n",
       "      <td>4</td>\n",
       "    </tr>\n",
       "    <tr>\n",
       "      <th>8</th>\n",
       "      <td>5</td>\n",
       "      <td>7</td>\n",
       "    </tr>\n",
       "    <tr>\n",
       "      <th>9</th>\n",
       "      <td>7</td>\n",
       "      <td>6</td>\n",
       "    </tr>\n",
       "    <tr>\n",
       "      <th>10</th>\n",
       "      <td>7</td>\n",
       "      <td>8</td>\n",
       "    </tr>\n",
       "    <tr>\n",
       "      <th>11</th>\n",
       "      <td>5</td>\n",
       "      <td>6</td>\n",
       "    </tr>\n",
       "    <tr>\n",
       "      <th>12</th>\n",
       "      <td>1</td>\n",
       "      <td>4</td>\n",
       "    </tr>\n",
       "    <tr>\n",
       "      <th>13</th>\n",
       "      <td>1</td>\n",
       "      <td>3</td>\n",
       "    </tr>\n",
       "    <tr>\n",
       "      <th>14</th>\n",
       "      <td>3</td>\n",
       "      <td>4</td>\n",
       "    </tr>\n",
       "    <tr>\n",
       "      <th>15</th>\n",
       "      <td>8</td>\n",
       "      <td>6</td>\n",
       "    </tr>\n",
       "    <tr>\n",
       "      <th>16</th>\n",
       "      <td>1</td>\n",
       "      <td>2</td>\n",
       "    </tr>\n",
       "    <tr>\n",
       "      <th>17</th>\n",
       "      <td>7</td>\n",
       "      <td>9</td>\n",
       "    </tr>\n",
       "    <tr>\n",
       "      <th>18</th>\n",
       "      <td>2</td>\n",
       "      <td>5</td>\n",
       "    </tr>\n",
       "    <tr>\n",
       "      <th>19</th>\n",
       "      <td>8</td>\n",
       "      <td>10</td>\n",
       "    </tr>\n",
       "  </tbody>\n",
       "</table>\n",
       "</div>"
      ],
      "text/plain": [
       "    pre_treatment  post_treatment\n",
       "0               3               0\n",
       "1               1               3\n",
       "2               5               2\n",
       "3               6               4\n",
       "4               2               4\n",
       "5               8               9\n",
       "6               1              -1\n",
       "7               7               4\n",
       "8               5               7\n",
       "9               7               6\n",
       "10              7               8\n",
       "11              5               6\n",
       "12              1               4\n",
       "13              1               3\n",
       "14              3               4\n",
       "15              8               6\n",
       "16              1               2\n",
       "17              7               9\n",
       "18              2               5\n",
       "19              8              10"
      ]
     },
     "execution_count": 2,
     "metadata": {},
     "output_type": "execute_result"
    }
   ],
   "source": [
    "pre_treatment = np.random.randint(1,10, size=20)\n",
    "post_treatment = pre_treatment + np.random.randint(-3,4, size=20)\n",
    "\n",
    "# 데이터 프레임\n",
    "data = pd.DataFrame({\n",
    "    \"pre_treatment\" : pre_treatment,\n",
    "    \"post_treatment\" : post_treatment\n",
    "})\n",
    "data"
   ]
  },
  {
   "cell_type": "code",
   "execution_count": 3,
   "id": "17a846d2",
   "metadata": {},
   "outputs": [],
   "source": [
    "os.makedirs(\"./data\", exist_ok=True)\n",
    "data.to_csv(\"./data/treatment_data.csv\", index=False, encoding='utf-8')"
   ]
  },
  {
   "cell_type": "code",
   "execution_count": 4,
   "id": "9955cdf0",
   "metadata": {},
   "outputs": [
    {
     "name": "stdout",
     "output_type": "stream",
     "text": [
      "90.5 0.5958194732666016\n"
     ]
    }
   ],
   "source": [
    "data = pd.read_csv(\"./data/treatment_data.csv\")\n",
    "stat, p = wilcoxon(data['pre_treatment'], data['post_treatment'])\n",
    "print(stat, p)"
   ]
  },
  {
   "cell_type": "code",
   "execution_count": 5,
   "id": "37626438",
   "metadata": {},
   "outputs": [
    {
     "name": "stdout",
     "output_type": "stream",
     "text": [
      "Fail to reject HO\n"
     ]
    }
   ],
   "source": [
    "if p > 0.05 : \n",
    "    print(\"Fail to reject HO\")\n",
    "else : \n",
    "    print(\"Reject HO\")"
   ]
  },
  {
   "cell_type": "code",
   "execution_count": 6,
   "id": "979d33a5",
   "metadata": {},
   "outputs": [
    {
     "data": {
      "image/png": "[encoded data removed]",
      "text/plain": [
       "<Figure size 640x480 with 1 Axes>"
      ]
     },
     "metadata": {},
     "output_type": "display_data"
    },
    {
     "data": {
      "image/png": "[encoded data removed]",
      "text/plain": [
       "<Figure size 640x480 with 1 Axes>"
      ]
     },
     "metadata": {},
     "output_type": "display_data"
    }
   ],
   "source": [
    "# boxplot 그리기\n",
    "fig, ax = plt.subplots()\n",
    "data.boxplot(['pre_treatment', 'post_treatment'], ax=ax)\n",
    "ax.set_title('Boxplot of Pre-treatment and Post-treatment')\n",
    "ax.set_ylabel('Treatment Score')\n",
    "plt.show()\n",
    "\n",
    "# 두 변수의 차이에 대한 분포를 시각화\n",
    "fig, ax = plt.subplots()\n",
    "data['diff'] = data['post_treatment'] - data['pre_treatment']\n",
    "ax.hist(data['diff'], bins=10)\n",
    "ax.set_title('Distribution of Differences')\n",
    "ax.set_xlabel('Difference')\n",
    "ax.set_ylabel('Frequency')\n",
    "plt.show()"
   ]
  }
 ],
 "metadata": {
  "kernelspec": {
   "display_name": "AI",
   "language": "python",
   "name": "ai"
  },
  "language_info": {
   "codemirror_mode": {
    "name": "ipython",
    "version": 3
   },
   "file_extension": ".py",
   "mimetype": "text/x-python",
   "name": "python",
   "nbconvert_exporter": "python",
   "pygments_lexer": "ipython3",
   "version": "3.8.16"
  }
 },
 "nbformat": 4,
 "nbformat_minor": 5
}
