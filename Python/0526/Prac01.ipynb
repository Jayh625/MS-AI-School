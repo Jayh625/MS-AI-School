{
 "cells": [
  {
   "cell_type": "code",
   "execution_count": 1,
   "id": "872172dc",
   "metadata": {},
   "outputs": [],
   "source": [
    "import numpy as np\n",
    "from scipy.stats import wilcoxon"
   ]
  },
  {
   "cell_type": "markdown",
   "id": "c23eb286",
   "metadata": {},
   "source": [
    "#### 데이터 생성(2개 필요)"
   ]
  },
  {
   "cell_type": "code",
   "execution_count": 2,
   "id": "6eca1c67",
   "metadata": {},
   "outputs": [],
   "source": [
    "data1 = [20,25,30,35,40,45,50,55,60,65]\n",
    "data2 = [10,20,25,30,35,40,45,50,55,60]"
   ]
  },
  {
   "cell_type": "markdown",
   "id": "a2b7c177",
   "metadata": {},
   "source": [
    "#### 윌콕슨 부호 순위 검정 수행"
   ]
  },
  {
   "cell_type": "code",
   "execution_count": 3,
   "id": "ae7ee379",
   "metadata": {},
   "outputs": [
    {
     "name": "stdout",
     "output_type": "stream",
     "text": [
      "0.0 0.001953125\n"
     ]
    }
   ],
   "source": [
    "stat,p = wilcoxon(data1,data2)\n",
    "print(stat, p)\n",
    "# stat은 두 집단 간의 순위 차이를 나타내고, p는 윌콕슨 순위합 검정 결과에서 귀무가설을 기각할 수 있는 유의성을 나타냅니다"
   ]
  },
  {
   "cell_type": "markdown",
   "id": "00c9db3c",
   "metadata": {},
   "source": [
    "#### 귀무 가설 기각"
   ]
  },
  {
   "cell_type": "code",
   "execution_count": 4,
   "id": "8e1caec5",
   "metadata": {},
   "outputs": [
    {
     "name": "stdout",
     "output_type": "stream",
     "text": [
      "Reject HO\n"
     ]
    }
   ],
   "source": [
    "if p > 0.05 : \n",
    "    print(\"Fail to reject HO\")\n",
    "else : \n",
    "    print(\"Reject HO\")"
   ]
  }
 ],
 "metadata": {
  "kernelspec": {
   "display_name": "AI",
   "language": "python",
   "name": "ai"
  },
  "language_info": {
   "codemirror_mode": {
    "name": "ipython",
    "version": 3
   },
   "file_extension": ".py",
   "mimetype": "text/x-python",
   "name": "python",
   "nbconvert_exporter": "python",
   "pygments_lexer": "ipython3",
   "version": "3.8.16"
  }
 },
 "nbformat": 4,
 "nbformat_minor": 5
}
