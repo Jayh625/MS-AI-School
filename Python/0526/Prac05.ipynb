{
 "cells": [
  {
   "cell_type": "code",
   "execution_count": 1,
   "id": "2d91d142",
   "metadata": {},
   "outputs": [],
   "source": [
    "import pandas as pd\n",
    "import seaborn as sns\n",
    "import matplotlib.pyplot as plt\n",
    "from scipy.stats import wilcoxon"
   ]
  },
  {
   "cell_type": "code",
   "execution_count": 2,
   "id": "8227d77d",
   "metadata": {},
   "outputs": [
    {
     "name": "stdout",
     "output_type": "stream",
     "text": [
      "    pre_treatment  post_treatment\n",
      "0               3               0\n",
      "1               1               3\n",
      "2               5               2\n",
      "3               6               4\n",
      "4               2               4\n",
      "5               8               9\n",
      "6               1              -1\n",
      "7               7               4\n",
      "8               5               7\n",
      "9               7               6\n",
      "10              7               8\n",
      "11              5               6\n",
      "12              1               4\n",
      "13              1               3\n",
      "14              3               4\n",
      "15              8               6\n",
      "16              1               2\n",
      "17              7               9\n",
      "18              2               5\n",
      "19              8              10\n",
      "90.5 0.5958194732666016\n"
     ]
    }
   ],
   "source": [
    "# 데이터 불러오기\n",
    "data = pd.read_csv(\"./data/treatment_data.csv\")\n",
    "print(data)\n",
    "# 두 변수간의 차이 검정\n",
    "stat, p = wilcoxon(data['pre_treatment'], data['post_treatment'])\n",
    "print(stat,p)"
   ]
  },
  {
   "cell_type": "code",
   "execution_count": 3,
   "id": "4b4da28c",
   "metadata": {},
   "outputs": [
    {
     "name": "stdout",
     "output_type": "stream",
     "text": [
      "Smae distribution\n"
     ]
    },
    {
     "name": "stderr",
     "output_type": "stream",
     "text": [
      "C:\\Users\\Jay\\anaconda3\\envs\\AI\\lib\\site-packages\\seaborn\\categorical.py:166: FutureWarning: Setting a gradient palette using color= is deprecated and will be removed in version 0.13. Set `palette='dark:.3'` for same effect.\n",
      "  warnings.warn(msg, FutureWarning)\n"
     ]
    },
    {
     "data": {
      "image/png": "[encoded data removed]",
      "text/plain": [
       "<Figure size 640x480 with 1 Axes>"
      ]
     },
     "metadata": {},
     "output_type": "display_data"
    }
   ],
   "source": [
    "sns.boxplot(data=data[['pre_treatment','post_treatment']], palette='Set3')\n",
    "sns.stripplot(data=data[['pre_treatment','post_treatment']], color='.3', size=4)\n",
    "sns.despine(trim=True)\n",
    "if p > 0.05 : \n",
    "    print(\"Smae distribution\")\n",
    "else : \n",
    "    print(\"nDifferent distribution\")"
   ]
  }
 ],
 "metadata": {
  "kernelspec": {
   "display_name": "AI",
   "language": "python",
   "name": "ai"
  },
  "language_info": {
   "codemirror_mode": {
    "name": "ipython",
    "version": 3
   },
   "file_extension": ".py",
   "mimetype": "text/x-python",
   "name": "python",
   "nbconvert_exporter": "python",
   "pygments_lexer": "ipython3",
   "version": "3.8.16"
  }
 },
 "nbformat": 4,
 "nbformat_minor": 5
}
